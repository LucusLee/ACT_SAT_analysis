{
 "cells": [
  {
   "cell_type": "markdown",
   "metadata": {},
   "source": [
    "<img src=\"http://imgur.com/1ZcRyrc.png\" style=\"float: left; margin: 20px; height: 55px\">\n",
    "\n",
    "# Project 1: Standardized Test Analysis"
   ]
  },
  {
   "cell_type": "markdown",
   "metadata": {},
   "source": [
    "--- \n",
    "# Part 1\n",
    "\n",
    "Part 1 requires knowledge of basic Python.\n",
    "\n",
    "---"
   ]
  },
  {
   "cell_type": "markdown",
   "metadata": {},
   "source": [
    "## Problem Statement"
   ]
  },
  {
   "cell_type": "markdown",
   "metadata": {},
   "source": [
    "The new format for the SAT was released in March 2016. There have been several important changes such as 'a new scoring system', 'removal of penalization', 'reduction in number of questions', 'essay writing to be optional', etc. This project aims to explore the revised SAT performance as compared to ACT for the years 2017-2020 and if the changes have improved the participation rate for the standardization test."
   ]
  },
  {
   "cell_type": "markdown",
   "metadata": {},
   "source": [
    "### Contents:\n",
    "- [Background](#Background)\n",
    "- [Data Import & Cleaning](#Data-Import-and-Cleaning)\n",
    "- [Exploratory Data Analysis](#Exploratory-Data-Analysis)\n",
    "- [Data Visualization](#Visualize-the-Data)\n",
    "- [Conclusions and Recommendations](#Conclusions-and-Recommendations)"
   ]
  },
  {
   "cell_type": "markdown",
   "metadata": {},
   "source": [
    "## Background"
   ]
  },
  {
   "cell_type": "markdown",
   "metadata": {},
   "source": [
    "The SAT and ACT are standardized tests that many colleges and universities in the United States require for their admissions process. This score is used along with other materials such as grade point average (GPA) and essay responses to determine whether or not a potential student will be accepted to the university.\n",
    "\n",
    "The SAT has two sections of the test: Evidence-Based Reading and Writing and Math ([*source*](https://www.princetonreview.com/college/sat-sections)). The ACT has 4 sections: English, Mathematics, Reading, and Science, with an additional optional writing section ([*source*](https://www.act.org/content/act/en/products-and-services/the-act/scores/understanding-your-scores.html)). They have different score ranges, SAT:(400-600) and ACT: (1-36)\n",
    "* [SAT Score Range](https://en.wikipedia.org/wiki/SAT)\n",
    "* [ACT Score Range](https://en.wikipedia.org/wiki/ACT_(test))\n",
    "\n",
    "On March 5, 2014, the College Board announced its plan to redesign the SAT in order to link the exam more closely to the work high school students encounter in the classroom. The new exam was administered for the first time in March 2016. Some of the major changes were: an emphasis on the use of evidence to support answers, a shift away from obscure vocabulary to words that students are more likely to encounter in college and career, an optional essay, questions having four rather than five answer options, and the removal of penalty for wrong answers (rights-only scoring).The scope of mathematics content was narrowed to include fewer topics, including linear equations, ratios, and other precalculus topics. The essay score was separated from the final score, and institutions could choose whether or not to consider it. As a result of these changes, the highest score was returned to 1600. These modifications were the first major redesign to the structure of the test since 2005. As the test no longer deducts points for wrong answers, the numerical scores and the percentiles appeared to have increased after the new SAT was unveiled in 2016. However, this does not necessarily mean students came better prepared.\n",
    "\n",
    "To combat the perceived advantage of costly test preparation courses, the College Board announced a new partnership with Khan Academy to offer free online practice problems and instructional videos.\n",
    "\n",
    "* [SAT 2016 Changes](https://en.wikipedia.org/wiki/SAT#2016_changes,_including_the_return_to_a_1600-point_score)\n",
    "\n",
    "Many students and parents begin the college prep process by comparing the ACT and SAT tests. The SAT and ACT generally cover the same topics. Both ACT and SAT scores are used for college admissions decisions and awarding merit-based scholarships. Most colleges do not prefer one test over the other. Neither the SAT or ACT is harder than the other. Different students tend to do better on one test over the other.\n",
    "\n",
    "* [SAT vs ACT](https://www.princetonreview.com/college/sat-act)"
   ]
  },
  {
   "cell_type": "markdown",
   "metadata": {},
   "source": [
    "### Datasets used for this project\n",
    "\n",
    "* [`act_2017.csv`](./data/act_2017.csv): 2017 ACT Scores by State\n",
    "* [`act_2018.csv`](./data/act_2018.csv): 2018 ACT Scores by State\n",
    "* [`act_2019.csv`](./data/act_2019.csv): 2019 ACT Scores by State\n",
    "* [`act_2020.csv`](./data/act_2020.csv): 2020 ACT Scores by State\n",
    "* [`sat_2017.csv`](./data/sat_2017.csv): 2017 SAT Scores by State\n",
    "* [`sat_2018.csv`](./data/sat_2018.csv): 2018 SAT Scores by State\n",
    "* [`sat_2019.csv`](./data/sat_2019.csv): 2019 SAT Scores by State\n",
    "* [`sat_2020.csv`](./data/sat_2020.csv): 2020 SAT Scores by State"
   ]
  },
  {
   "cell_type": "markdown",
   "metadata": {},
   "source": [
    "### Outside Research"
   ]
  },
  {
   "cell_type": "markdown",
   "metadata": {},
   "source": [
    "There are several states that have made ACT/SAT mandatory as college admissiongs test are being used to meet national standards required of public school.\n",
    "\n",
    "These are the states that have mandatory requirements for individual tests:\n",
    "\n",
    "|ACT|SAT|\n",
    "|---|---|\n",
    "|Alabama|Colorado|\n",
    "|Arkansas|Connecticut|\n",
    "|Kentucky|Delaware|\n",
    "|Louisiana|Idaho|\n",
    "|Mississippi|Illinois|\n",
    "|Montana|Maine|\n",
    "|Nebraska|Michigan|\n",
    "|Nevada|New Hampshire|\n",
    "|North Carolina|Rhode Island|\n",
    "|North Dakota|West Virginia|\n",
    "|Utah||\n",
    "|Wisconsin|\n",
    "|Wyoming\n",
    "\n",
    "The listed state will be filtered during the some of participation rate related EDA.\n",
    "\n",
    "* [States that required the ACT or SAT](https://magoosh.com/hs/sat/states-that-require-the-act-or-sat/)\n",
    "* [List of statewide administration of ACT/SAT](https://www.ecs.org/wp-content/uploads/State-Information-Request_Use-of-ACT-SAT-and-PSAT-for-High-School-Testing-as-Required-by-ESSA.pdf)\n",
    "\n",
    "\n",
    "2016 SAT dataset was not chosen for this project because state reports contains information on students who took the old SAT or SAT subject tests at least once through January 2016, the last time the old SAT was administered.\n",
    "\n",
    "* [2016 SAT state reports containing both formats](https://reports.collegeboard.org/archive/sat-suite-program-results/2016/class-of-2016-results/state-reports)\n",
    "\n",
    "The average SAT score dipped for this year’s high school graduates, according to results released Tuesday, even as more students nationwide are taking the college admission exam through publicly funded testing during the school day.\n",
    "\n",
    "The class of 2019 scored an average of 531 on evidence-based reading and writing and 528 on math. Their combined 1059, out of a maximum 1600, was 9 points lower than what the previous class posted. But fluctuations in results are common when the population of test-takers is also in flux.\n",
    "\n",
    "That has been especially true for the SAT since a redesigned version of the three-hour exam was launched in 2016.\n",
    "\n",
    "* [Negative correlation for SAT scores and participation](https://www.washingtonpost.com/local/education/sat-scores-drop-for-2019-class-but-participation-rises-through-testing-in-schools/2019/09/23/332fc4d0-de11-11e9-8dc8-498eabc129a0_story.html)"
   ]
  },
  {
   "cell_type": "markdown",
   "metadata": {},
   "source": [
    "### Coding Challenges\n",
    "\n",
    "1. Manually calculate mean:\n",
    "\n",
    "    Write a function that takes in values and returns the mean of the values. Create a list of numbers that you test on your function to check to make sure your function works!\n",
    "    \n",
    "    *Note*: Do not use any mean methods built-in to any Python libraries to do this! This should be done without importing any additional libraries."
   ]
  },
  {
   "cell_type": "code",
   "execution_count": 1,
   "metadata": {},
   "outputs": [
    {
     "data": {
      "text/plain": [
       "9.8"
      ]
     },
     "execution_count": 1,
     "metadata": {},
     "output_type": "execute_result"
    }
   ],
   "source": [
    "# Code:\n",
    "\n",
    "def mean_calculator(values):\n",
    "    total_value = 0  # to initialize the count\n",
    "    for number in values: # iterate through individual value in the list of numbers \n",
    "        total_value += number # at the end of each iteration, the number of each iteration is added to the total value \n",
    "    return total_value/len(values) # mean is calculated using the total value divided by the number of elements once the iteration ends\n",
    "    \n",
    "\n",
    "\n",
    "mean_calculator([5, 6, 6, 7, 8, 8, 9, 13, 15, 21]) # testing a sample list for the functionality test "
   ]
  },
  {
   "cell_type": "markdown",
   "metadata": {},
   "source": [
    "2. Manually calculate standard deviation:\n",
    "\n",
    "    The formula for standard deviation is below:\n",
    "\n",
    "    $$\\sigma = \\sqrt{\\frac{1}{n}\\sum_{i=1}^n(x_i - \\mu)^2}$$\n",
    "\n",
    "    Where $x_i$ represents each value in the dataset, $\\mu$ represents the mean of all values in the dataset and $n$ represents the number of values in the dataset.\n",
    "\n",
    "    Write a function that takes in values and returns the standard deviation of the values using the formula above. Hint: use the function you wrote above to calculate the mean! Use the list of numbers you created above to test on your function.\n",
    "    \n",
    "    *Note*: Do not use any standard deviation methods built-in to any Python libraries to do this! This should be done without importing any additional libraries."
   ]
  },
  {
   "cell_type": "code",
   "execution_count": 2,
   "metadata": {},
   "outputs": [
    {
     "data": {
      "text/plain": [
       "4.791659420284375"
      ]
     },
     "execution_count": 2,
     "metadata": {},
     "output_type": "execute_result"
    }
   ],
   "source": [
    "# Code:\n",
    "\n",
    "def sd_calculator(values):\n",
    "    sum_values = 0 # to initialize the count\n",
    "    for num in values: #iterate through individual value in the list of numbers\n",
    "        sum_values += (num - mean_calculator(values))**2 # at the end of each interation, apply the result from the calculation\n",
    "    return (sum_values/len(values))**0.5 # once the iteration ends, return the sd by calculating the summed value divided by the number of elements followed by a square root \n",
    "sd_calculator([5, 6, 6, 7, 8, 8, 9, 13, 15, 21]) # testing a sample list for the functionality test "
   ]
  },
  {
   "cell_type": "markdown",
   "metadata": {},
   "source": [
    "3. Data cleaning function:\n",
    "    \n",
    "    Write a function that takes in a string that is a number and a percent symbol (ex. '50%', '30.5%', etc.) and converts this to a float that is the decimal approximation of the percent. For example, inputting '50%' in your function should return 0.5, '30.5%' should return 0.305, etc. Make sure to test your function to make sure it works!\n",
    "\n",
    "You will use these functions later on in the project!"
   ]
  },
  {
   "cell_type": "code",
   "execution_count": 3,
   "metadata": {},
   "outputs": [
    {
     "data": {
      "text/plain": [
       "0.305"
      ]
     },
     "execution_count": 3,
     "metadata": {},
     "output_type": "execute_result"
    }
   ],
   "source": [
    "# Code:\n",
    "\n",
    "def decimal_converter(percent):\n",
    "    try:\n",
    "        decimal = percent.replace('%','') # .replace() is a method which replaces specified phrase with another phrase \n",
    "        return float(decimal)/100 \n",
    "    except TypeError: # in the event the input faces a typeerror, use the following code\n",
    "        decimal = percent.str.replace('%','') # Replicates the replace function for DataFrames/Series\n",
    "        decimal = decimal.astype(float) #changing the type from str to int for arithmetic operations\n",
    "        return decimal/100\n",
    "decimal_converter('30.5%') # testing a sample list for the functionality test "
   ]
  },
  {
   "cell_type": "markdown",
   "metadata": {},
   "source": [
    "--- \n",
    "# Part 2\n",
    "\n",
    "Part 2 requires knowledge of Pandas, EDA, data cleaning, and data visualization.\n",
    "\n",
    "---"
   ]
  },
  {
   "cell_type": "markdown",
   "metadata": {},
   "source": [
    "*All libraries used should be added here*"
   ]
  },
  {
   "cell_type": "code",
   "execution_count": 4,
   "metadata": {},
   "outputs": [],
   "source": [
    "# Imports:\n",
    "\n",
    "import numpy as np\n",
    "import pandas as pd\n",
    "import matplotlib.pyplot as plt\n",
    "import seaborn as sns"
   ]
  },
  {
   "cell_type": "markdown",
   "metadata": {},
   "source": [
    "## Data Import and Cleaning"
   ]
  },
  {
   "cell_type": "markdown",
   "metadata": {},
   "source": [
    "### Data Import & Cleaning\n",
    "\n",
    "Import the datasets that you selected for this project and go through the following steps at a minimum. You are welcome to do further cleaning as you feel necessary:\n",
    "1. Display the data: print the first 5 rows of each dataframe to your Jupyter notebook.\n",
    "2. Check for missing values.\n",
    "3. Check for any obvious issues with the observations (keep in mind the minimum & maximum possible values for each test/subtest).\n",
    "4. Fix any errors you identified in steps 2-3.\n",
    "5. Display the data types of each feature.\n",
    "6. Fix any incorrect data types found in step 5.\n",
    "    - Fix any individual values preventing other columns from being the appropriate type.\n",
    "    - If your dataset has a column of percents (ex. '50%', '30.5%', etc.), use the function you wrote in Part 1 (coding challenges, number 3) to convert this to floats! *Hint*: use `.map()` or `.apply()`.\n",
    "7. Rename Columns.\n",
    "    - Column names should be all lowercase.\n",
    "    - Column names should not contain spaces (underscores will suffice--this allows for using the `df.column_name` method to access columns in addition to `df['column_name']`).\n",
    "    - Column names should be unique and informative.\n",
    "8. Drop unnecessary rows (if needed).\n",
    "9. Merge dataframes that can be merged.\n",
    "10. Perform any additional cleaning that you feel is necessary.\n",
    "11. Save your cleaned and merged dataframes as csv files."
   ]
  },
  {
   "cell_type": "markdown",
   "metadata": {},
   "source": [
    "### Importing and cleaning 2017 ACT data"
   ]
  },
  {
   "cell_type": "code",
   "execution_count": 5,
   "metadata": {},
   "outputs": [
    {
     "data": {
      "text/html": [
       "<div>\n",
       "<style scoped>\n",
       "    .dataframe tbody tr th:only-of-type {\n",
       "        vertical-align: middle;\n",
       "    }\n",
       "\n",
       "    .dataframe tbody tr th {\n",
       "        vertical-align: top;\n",
       "    }\n",
       "\n",
       "    .dataframe thead th {\n",
       "        text-align: right;\n",
       "    }\n",
       "</style>\n",
       "<table border=\"1\" class=\"dataframe\">\n",
       "  <thead>\n",
       "    <tr style=\"text-align: right;\">\n",
       "      <th></th>\n",
       "      <th>State</th>\n",
       "      <th>Participation</th>\n",
       "      <th>English</th>\n",
       "      <th>Math</th>\n",
       "      <th>Reading</th>\n",
       "      <th>Science</th>\n",
       "      <th>Composite</th>\n",
       "    </tr>\n",
       "  </thead>\n",
       "  <tbody>\n",
       "    <tr>\n",
       "      <th>0</th>\n",
       "      <td>National</td>\n",
       "      <td>60%</td>\n",
       "      <td>20.3</td>\n",
       "      <td>20.7</td>\n",
       "      <td>21.4</td>\n",
       "      <td>21.0</td>\n",
       "      <td>21.0</td>\n",
       "    </tr>\n",
       "    <tr>\n",
       "      <th>1</th>\n",
       "      <td>Alabama</td>\n",
       "      <td>100%</td>\n",
       "      <td>18.9</td>\n",
       "      <td>18.4</td>\n",
       "      <td>19.7</td>\n",
       "      <td>19.4</td>\n",
       "      <td>19.2</td>\n",
       "    </tr>\n",
       "    <tr>\n",
       "      <th>2</th>\n",
       "      <td>Alaska</td>\n",
       "      <td>65%</td>\n",
       "      <td>18.7</td>\n",
       "      <td>19.8</td>\n",
       "      <td>20.4</td>\n",
       "      <td>19.9</td>\n",
       "      <td>19.8</td>\n",
       "    </tr>\n",
       "    <tr>\n",
       "      <th>3</th>\n",
       "      <td>Arizona</td>\n",
       "      <td>62%</td>\n",
       "      <td>18.6</td>\n",
       "      <td>19.8</td>\n",
       "      <td>20.1</td>\n",
       "      <td>19.8</td>\n",
       "      <td>19.7</td>\n",
       "    </tr>\n",
       "    <tr>\n",
       "      <th>4</th>\n",
       "      <td>Arkansas</td>\n",
       "      <td>100%</td>\n",
       "      <td>18.9</td>\n",
       "      <td>19.0</td>\n",
       "      <td>19.7</td>\n",
       "      <td>19.5</td>\n",
       "      <td>19.4</td>\n",
       "    </tr>\n",
       "  </tbody>\n",
       "</table>\n",
       "</div>"
      ],
      "text/plain": [
       "      State Participation  English  Math  Reading  Science Composite\n",
       "0  National           60%     20.3  20.7     21.4     21.0      21.0\n",
       "1   Alabama          100%     18.9  18.4     19.7     19.4      19.2\n",
       "2    Alaska           65%     18.7  19.8     20.4     19.9      19.8\n",
       "3   Arizona           62%     18.6  19.8     20.1     19.8      19.7\n",
       "4  Arkansas          100%     18.9  19.0     19.7     19.5      19.4"
      ]
     },
     "execution_count": 5,
     "metadata": {},
     "output_type": "execute_result"
    }
   ],
   "source": [
    "# Importing ACT 2017 data set\n",
    "\n",
    "act_2017 = pd.read_csv(\"../data/act_2017.csv\")\n",
    "\n",
    "# Displaying the head of the data\n",
    "act_2017.head() "
   ]
  },
  {
   "cell_type": "code",
   "execution_count": 6,
   "metadata": {},
   "outputs": [
    {
     "data": {
      "text/plain": [
       "(52, 7)"
      ]
     },
     "execution_count": 6,
     "metadata": {},
     "output_type": "execute_result"
    }
   ],
   "source": [
    "act_2017.shape #checking the shape"
   ]
  },
  {
   "cell_type": "code",
   "execution_count": 7,
   "metadata": {},
   "outputs": [
    {
     "name": "stdout",
     "output_type": "stream",
     "text": [
      "<class 'pandas.core.frame.DataFrame'>\n",
      "RangeIndex: 52 entries, 0 to 51\n",
      "Data columns (total 7 columns):\n",
      " #   Column         Non-Null Count  Dtype  \n",
      "---  ------         --------------  -----  \n",
      " 0   State          52 non-null     object \n",
      " 1   Participation  52 non-null     object \n",
      " 2   English        52 non-null     float64\n",
      " 3   Math           52 non-null     float64\n",
      " 4   Reading        52 non-null     float64\n",
      " 5   Science        52 non-null     float64\n",
      " 6   Composite      52 non-null     object \n",
      "dtypes: float64(4), object(3)\n",
      "memory usage: 3.0+ KB\n"
     ]
    }
   ],
   "source": [
    "act_2017.info() \n",
    "# Checking the data types of the data\n",
    "# Noticed that the column 'Composite' was listed as object instead of float"
   ]
  },
  {
   "cell_type": "code",
   "execution_count": 8,
   "metadata": {},
   "outputs": [
    {
     "data": {
      "text/plain": [
       "array(['21.0', '19.2', '19.8', '19.7', '19.4', '22.8', '20.8', '25.2',\n",
       "       '24.1', '24.2', '21.4', '19.0', '22.3', '22.6', '21.9', '21.7',\n",
       "       '20.0', '19.5', '24.3', '23.6', '25.4', '21.5', '18.6', '20.4',\n",
       "       '20.3', '17.8', '25.5', '23.9', '19.1', '22.0', '21.8', '23.7',\n",
       "       '24.0', '18.7', '20.7', '23.8', '20.5', '20.2x'], dtype=object)"
      ]
     },
     "execution_count": 8,
     "metadata": {},
     "output_type": "execute_result"
    }
   ],
   "source": [
    "act_2017.Composite.unique()\n",
    "# Check the unique values to understand why the data type return as object\n",
    "# Found out that there is a value that consists of an alphabet"
   ]
  },
  {
   "cell_type": "code",
   "execution_count": 9,
   "metadata": {},
   "outputs": [
    {
     "data": {
      "text/plain": [
       "52"
      ]
     },
     "execution_count": 9,
     "metadata": {},
     "output_type": "execute_result"
    }
   ],
   "source": [
    "# Ensuring the total number to state, including National, is 52.\n",
    "act_2017.State.nunique()"
   ]
  },
  {
   "cell_type": "code",
   "execution_count": 10,
   "metadata": {},
   "outputs": [
    {
     "data": {
      "text/html": [
       "<div>\n",
       "<style scoped>\n",
       "    .dataframe tbody tr th:only-of-type {\n",
       "        vertical-align: middle;\n",
       "    }\n",
       "\n",
       "    .dataframe tbody tr th {\n",
       "        vertical-align: top;\n",
       "    }\n",
       "\n",
       "    .dataframe thead th {\n",
       "        text-align: right;\n",
       "    }\n",
       "</style>\n",
       "<table border=\"1\" class=\"dataframe\">\n",
       "  <thead>\n",
       "    <tr style=\"text-align: right;\">\n",
       "      <th></th>\n",
       "      <th>State</th>\n",
       "      <th>Participation</th>\n",
       "      <th>English</th>\n",
       "      <th>Math</th>\n",
       "      <th>Reading</th>\n",
       "      <th>Science</th>\n",
       "      <th>Composite</th>\n",
       "    </tr>\n",
       "  </thead>\n",
       "  <tbody>\n",
       "    <tr>\n",
       "      <th>51</th>\n",
       "      <td>Wyoming</td>\n",
       "      <td>100%</td>\n",
       "      <td>19.4</td>\n",
       "      <td>19.8</td>\n",
       "      <td>20.8</td>\n",
       "      <td>20.6</td>\n",
       "      <td>20.2x</td>\n",
       "    </tr>\n",
       "  </tbody>\n",
       "</table>\n",
       "</div>"
      ],
      "text/plain": [
       "      State Participation  English  Math  Reading  Science Composite\n",
       "51  Wyoming          100%     19.4  19.8     20.8     20.6     20.2x"
      ]
     },
     "execution_count": 10,
     "metadata": {},
     "output_type": "execute_result"
    }
   ],
   "source": [
    "# Finding out which row contains this value \n",
    "act_2017[act_2017.Composite == \"20.2x\"]"
   ]
  },
  {
   "cell_type": "code",
   "execution_count": 11,
   "metadata": {},
   "outputs": [
    {
     "data": {
      "text/plain": [
       "str"
      ]
     },
     "execution_count": 11,
     "metadata": {},
     "output_type": "execute_result"
    }
   ],
   "source": [
    "# Checking the type of the value\n",
    "type(act_2017.iloc[-1,-1])"
   ]
  },
  {
   "cell_type": "code",
   "execution_count": 12,
   "metadata": {},
   "outputs": [],
   "source": [
    "# replacing the alphabet and changing the data type of the column to be float \n",
    "act_2017.replace('20.2x','20.2',inplace=True)\n",
    "act_2017.Composite = act_2017.Composite.astype(float)"
   ]
  },
  {
   "cell_type": "code",
   "execution_count": 13,
   "metadata": {},
   "outputs": [
    {
     "data": {
      "text/html": [
       "<div>\n",
       "<style scoped>\n",
       "    .dataframe tbody tr th:only-of-type {\n",
       "        vertical-align: middle;\n",
       "    }\n",
       "\n",
       "    .dataframe tbody tr th {\n",
       "        vertical-align: top;\n",
       "    }\n",
       "\n",
       "    .dataframe thead th {\n",
       "        text-align: right;\n",
       "    }\n",
       "</style>\n",
       "<table border=\"1\" class=\"dataframe\">\n",
       "  <thead>\n",
       "    <tr style=\"text-align: right;\">\n",
       "      <th></th>\n",
       "      <th>state</th>\n",
       "      <th>act_participation_17</th>\n",
       "      <th>act_english_17</th>\n",
       "      <th>act_math_17</th>\n",
       "      <th>act_reading_17</th>\n",
       "      <th>act_science_17</th>\n",
       "      <th>act_total_average_17</th>\n",
       "    </tr>\n",
       "  </thead>\n",
       "  <tbody>\n",
       "    <tr>\n",
       "      <th>0</th>\n",
       "      <td>National</td>\n",
       "      <td>0.60</td>\n",
       "      <td>20.3</td>\n",
       "      <td>20.7</td>\n",
       "      <td>21.4</td>\n",
       "      <td>21.0</td>\n",
       "      <td>21.0</td>\n",
       "    </tr>\n",
       "    <tr>\n",
       "      <th>1</th>\n",
       "      <td>Alabama</td>\n",
       "      <td>1.00</td>\n",
       "      <td>18.9</td>\n",
       "      <td>18.4</td>\n",
       "      <td>19.7</td>\n",
       "      <td>19.4</td>\n",
       "      <td>19.2</td>\n",
       "    </tr>\n",
       "    <tr>\n",
       "      <th>2</th>\n",
       "      <td>Alaska</td>\n",
       "      <td>0.65</td>\n",
       "      <td>18.7</td>\n",
       "      <td>19.8</td>\n",
       "      <td>20.4</td>\n",
       "      <td>19.9</td>\n",
       "      <td>19.8</td>\n",
       "    </tr>\n",
       "    <tr>\n",
       "      <th>3</th>\n",
       "      <td>Arizona</td>\n",
       "      <td>0.62</td>\n",
       "      <td>18.6</td>\n",
       "      <td>19.8</td>\n",
       "      <td>20.1</td>\n",
       "      <td>19.8</td>\n",
       "      <td>19.7</td>\n",
       "    </tr>\n",
       "    <tr>\n",
       "      <th>4</th>\n",
       "      <td>Arkansas</td>\n",
       "      <td>1.00</td>\n",
       "      <td>18.9</td>\n",
       "      <td>19.0</td>\n",
       "      <td>19.7</td>\n",
       "      <td>19.5</td>\n",
       "      <td>19.4</td>\n",
       "    </tr>\n",
       "  </tbody>\n",
       "</table>\n",
       "</div>"
      ],
      "text/plain": [
       "      state  act_participation_17  act_english_17  act_math_17  \\\n",
       "0  National                  0.60            20.3         20.7   \n",
       "1   Alabama                  1.00            18.9         18.4   \n",
       "2    Alaska                  0.65            18.7         19.8   \n",
       "3   Arizona                  0.62            18.6         19.8   \n",
       "4  Arkansas                  1.00            18.9         19.0   \n",
       "\n",
       "   act_reading_17  act_science_17  act_total_average_17  \n",
       "0            21.4            21.0                  21.0  \n",
       "1            19.7            19.4                  19.2  \n",
       "2            20.4            19.9                  19.8  \n",
       "3            20.1            19.8                  19.7  \n",
       "4            19.7            19.5                  19.4  "
      ]
     },
     "execution_count": 13,
     "metadata": {},
     "output_type": "execute_result"
    }
   ],
   "source": [
    "# Applying the decimal converter to remove % from the data and convert them to decimal and float data type\n",
    "act_2017.Participation = act_2017.Participation.apply(decimal_converter)\n",
    "\n",
    "# lower casing the columns via list comprehension\n",
    "act_2017.columns = [column.lower() for column in act_2017.columns] \n",
    "\n",
    "# renaming the column name to be sat specifics for clarity\n",
    "act_2017.rename(columns = {'participation':'act_participation_17',\n",
    "                           'english':'act_english_17',\n",
    "                           'math':'act_math_17',\n",
    "                           'reading':'act_reading_17',\n",
    "                           'science':'act_science_17',\n",
    "                           'composite':'act_total_average_17'},inplace=True)\n",
    "\n",
    "\n",
    "# Checking if everything is inplace\n",
    "act_2017.head()"
   ]
  },
  {
   "cell_type": "code",
   "execution_count": 14,
   "metadata": {},
   "outputs": [
    {
     "name": "stdout",
     "output_type": "stream",
     "text": [
      "<class 'pandas.core.frame.DataFrame'>\n",
      "RangeIndex: 52 entries, 0 to 51\n",
      "Data columns (total 7 columns):\n",
      " #   Column                Non-Null Count  Dtype  \n",
      "---  ------                --------------  -----  \n",
      " 0   state                 52 non-null     object \n",
      " 1   act_participation_17  52 non-null     float64\n",
      " 2   act_english_17        52 non-null     float64\n",
      " 3   act_math_17           52 non-null     float64\n",
      " 4   act_reading_17        52 non-null     float64\n",
      " 5   act_science_17        52 non-null     float64\n",
      " 6   act_total_average_17  52 non-null     float64\n",
      "dtypes: float64(6), object(1)\n",
      "memory usage: 3.0+ KB\n"
     ]
    }
   ],
   "source": [
    "# Checking the data types\n",
    "act_2017.info()"
   ]
  },
  {
   "cell_type": "markdown",
   "metadata": {},
   "source": [
    "### Importing and cleaning SAT 2017 data"
   ]
  },
  {
   "cell_type": "code",
   "execution_count": 15,
   "metadata": {},
   "outputs": [
    {
     "data": {
      "text/html": [
       "<div>\n",
       "<style scoped>\n",
       "    .dataframe tbody tr th:only-of-type {\n",
       "        vertical-align: middle;\n",
       "    }\n",
       "\n",
       "    .dataframe tbody tr th {\n",
       "        vertical-align: top;\n",
       "    }\n",
       "\n",
       "    .dataframe thead th {\n",
       "        text-align: right;\n",
       "    }\n",
       "</style>\n",
       "<table border=\"1\" class=\"dataframe\">\n",
       "  <thead>\n",
       "    <tr style=\"text-align: right;\">\n",
       "      <th></th>\n",
       "      <th>State</th>\n",
       "      <th>Participation</th>\n",
       "      <th>Evidence-Based Reading and Writing</th>\n",
       "      <th>Math</th>\n",
       "      <th>Total</th>\n",
       "    </tr>\n",
       "  </thead>\n",
       "  <tbody>\n",
       "    <tr>\n",
       "      <th>0</th>\n",
       "      <td>Alabama</td>\n",
       "      <td>5%</td>\n",
       "      <td>593</td>\n",
       "      <td>572</td>\n",
       "      <td>1165</td>\n",
       "    </tr>\n",
       "    <tr>\n",
       "      <th>1</th>\n",
       "      <td>Alaska</td>\n",
       "      <td>38%</td>\n",
       "      <td>547</td>\n",
       "      <td>533</td>\n",
       "      <td>1080</td>\n",
       "    </tr>\n",
       "    <tr>\n",
       "      <th>2</th>\n",
       "      <td>Arizona</td>\n",
       "      <td>30%</td>\n",
       "      <td>563</td>\n",
       "      <td>553</td>\n",
       "      <td>1116</td>\n",
       "    </tr>\n",
       "    <tr>\n",
       "      <th>3</th>\n",
       "      <td>Arkansas</td>\n",
       "      <td>3%</td>\n",
       "      <td>614</td>\n",
       "      <td>594</td>\n",
       "      <td>1208</td>\n",
       "    </tr>\n",
       "    <tr>\n",
       "      <th>4</th>\n",
       "      <td>California</td>\n",
       "      <td>53%</td>\n",
       "      <td>531</td>\n",
       "      <td>524</td>\n",
       "      <td>1055</td>\n",
       "    </tr>\n",
       "  </tbody>\n",
       "</table>\n",
       "</div>"
      ],
      "text/plain": [
       "        State Participation  Evidence-Based Reading and Writing  Math  Total\n",
       "0     Alabama            5%                                 593   572   1165\n",
       "1      Alaska           38%                                 547   533   1080\n",
       "2     Arizona           30%                                 563   553   1116\n",
       "3    Arkansas            3%                                 614   594   1208\n",
       "4  California           53%                                 531   524   1055"
      ]
     },
     "execution_count": 15,
     "metadata": {},
     "output_type": "execute_result"
    }
   ],
   "source": [
    "# Importing the sat 2017 data set\n",
    "sat_2017 = pd.read_csv(\"../data/sat_2017.csv\")\n",
    "# Checking the head of the data set\n",
    "sat_2017.head()"
   ]
  },
  {
   "cell_type": "code",
   "execution_count": 16,
   "metadata": {},
   "outputs": [
    {
     "data": {
      "text/plain": [
       "(51, 5)"
      ]
     },
     "execution_count": 16,
     "metadata": {},
     "output_type": "execute_result"
    }
   ],
   "source": [
    "# Checking the shape to ensure that the rows are similar to the previous data set\n",
    "sat_2017.shape"
   ]
  },
  {
   "cell_type": "code",
   "execution_count": 17,
   "metadata": {},
   "outputs": [
    {
     "name": "stdout",
     "output_type": "stream",
     "text": [
      "<class 'pandas.core.frame.DataFrame'>\n",
      "RangeIndex: 51 entries, 0 to 50\n",
      "Data columns (total 5 columns):\n",
      " #   Column                              Non-Null Count  Dtype \n",
      "---  ------                              --------------  ----- \n",
      " 0   State                               51 non-null     object\n",
      " 1   Participation                       51 non-null     object\n",
      " 2   Evidence-Based Reading and Writing  51 non-null     int64 \n",
      " 3   Math                                51 non-null     int64 \n",
      " 4   Total                               51 non-null     int64 \n",
      "dtypes: int64(3), object(2)\n",
      "memory usage: 2.1+ KB\n"
     ]
    }
   ],
   "source": [
    "# Checking the data type\n",
    "sat_2017.info()"
   ]
  },
  {
   "cell_type": "code",
   "execution_count": 18,
   "metadata": {},
   "outputs": [
    {
     "data": {
      "text/plain": [
       "{'National'}"
      ]
     },
     "execution_count": 18,
     "metadata": {},
     "output_type": "execute_result"
    }
   ],
   "source": [
    "# checking for any missing row between ACT and SAT 2017 data and found National was missing for sat 2017 data set\n",
    "set(act_2017.state).symmetric_difference(sat_2017.State)"
   ]
  },
  {
   "cell_type": "code",
   "execution_count": 19,
   "metadata": {},
   "outputs": [
    {
     "data": {
      "text/html": [
       "<div>\n",
       "<style scoped>\n",
       "    .dataframe tbody tr th:only-of-type {\n",
       "        vertical-align: middle;\n",
       "    }\n",
       "\n",
       "    .dataframe tbody tr th {\n",
       "        vertical-align: top;\n",
       "    }\n",
       "\n",
       "    .dataframe thead th {\n",
       "        text-align: right;\n",
       "    }\n",
       "</style>\n",
       "<table border=\"1\" class=\"dataframe\">\n",
       "  <thead>\n",
       "    <tr style=\"text-align: right;\">\n",
       "      <th></th>\n",
       "      <th>act_participation_17</th>\n",
       "      <th>act_english_17</th>\n",
       "      <th>act_math_17</th>\n",
       "      <th>act_reading_17</th>\n",
       "      <th>act_science_17</th>\n",
       "      <th>act_total_average_17</th>\n",
       "    </tr>\n",
       "  </thead>\n",
       "  <tbody>\n",
       "    <tr>\n",
       "      <th>count</th>\n",
       "      <td>51.000000</td>\n",
       "      <td>51.000000</td>\n",
       "      <td>51.000000</td>\n",
       "      <td>51.000000</td>\n",
       "      <td>51.000000</td>\n",
       "      <td>51.000000</td>\n",
       "    </tr>\n",
       "    <tr>\n",
       "      <th>mean</th>\n",
       "      <td>0.652549</td>\n",
       "      <td>20.931373</td>\n",
       "      <td>21.182353</td>\n",
       "      <td>22.013725</td>\n",
       "      <td>21.041176</td>\n",
       "      <td>21.519608</td>\n",
       "    </tr>\n",
       "    <tr>\n",
       "      <th>std</th>\n",
       "      <td>0.321408</td>\n",
       "      <td>2.353677</td>\n",
       "      <td>1.981989</td>\n",
       "      <td>2.067271</td>\n",
       "      <td>3.182463</td>\n",
       "      <td>2.020695</td>\n",
       "    </tr>\n",
       "    <tr>\n",
       "      <th>min</th>\n",
       "      <td>0.080000</td>\n",
       "      <td>16.300000</td>\n",
       "      <td>18.000000</td>\n",
       "      <td>18.100000</td>\n",
       "      <td>2.300000</td>\n",
       "      <td>17.800000</td>\n",
       "    </tr>\n",
       "    <tr>\n",
       "      <th>25%</th>\n",
       "      <td>0.310000</td>\n",
       "      <td>19.000000</td>\n",
       "      <td>19.400000</td>\n",
       "      <td>20.450000</td>\n",
       "      <td>19.900000</td>\n",
       "      <td>19.800000</td>\n",
       "    </tr>\n",
       "    <tr>\n",
       "      <th>50%</th>\n",
       "      <td>0.690000</td>\n",
       "      <td>20.700000</td>\n",
       "      <td>20.900000</td>\n",
       "      <td>21.800000</td>\n",
       "      <td>21.300000</td>\n",
       "      <td>21.400000</td>\n",
       "    </tr>\n",
       "    <tr>\n",
       "      <th>75%</th>\n",
       "      <td>1.000000</td>\n",
       "      <td>23.300000</td>\n",
       "      <td>23.100000</td>\n",
       "      <td>24.150000</td>\n",
       "      <td>22.750000</td>\n",
       "      <td>23.600000</td>\n",
       "    </tr>\n",
       "    <tr>\n",
       "      <th>max</th>\n",
       "      <td>1.000000</td>\n",
       "      <td>25.500000</td>\n",
       "      <td>25.300000</td>\n",
       "      <td>26.000000</td>\n",
       "      <td>24.900000</td>\n",
       "      <td>25.500000</td>\n",
       "    </tr>\n",
       "  </tbody>\n",
       "</table>\n",
       "</div>"
      ],
      "text/plain": [
       "       act_participation_17  act_english_17  act_math_17  act_reading_17  \\\n",
       "count             51.000000       51.000000    51.000000       51.000000   \n",
       "mean               0.652549       20.931373    21.182353       22.013725   \n",
       "std                0.321408        2.353677     1.981989        2.067271   \n",
       "min                0.080000       16.300000    18.000000       18.100000   \n",
       "25%                0.310000       19.000000    19.400000       20.450000   \n",
       "50%                0.690000       20.700000    20.900000       21.800000   \n",
       "75%                1.000000       23.300000    23.100000       24.150000   \n",
       "max                1.000000       25.500000    25.300000       26.000000   \n",
       "\n",
       "       act_science_17  act_total_average_17  \n",
       "count       51.000000             51.000000  \n",
       "mean        21.041176             21.519608  \n",
       "std          3.182463              2.020695  \n",
       "min          2.300000             17.800000  \n",
       "25%         19.900000             19.800000  \n",
       "50%         21.300000             21.400000  \n",
       "75%         22.750000             23.600000  \n",
       "max         24.900000             25.500000  "
      ]
     },
     "execution_count": 19,
     "metadata": {},
     "output_type": "execute_result"
    }
   ],
   "source": [
    "# Checking if the ACT's national median equates to the national average from the data provided (Excluded the national values)\n",
    "act_2017.iloc[1:,].describe() "
   ]
  },
  {
   "cell_type": "code",
   "execution_count": 20,
   "metadata": {
    "scrolled": true
   },
   "outputs": [
    {
     "data": {
      "text/html": [
       "<div>\n",
       "<style scoped>\n",
       "    .dataframe tbody tr th:only-of-type {\n",
       "        vertical-align: middle;\n",
       "    }\n",
       "\n",
       "    .dataframe tbody tr th {\n",
       "        vertical-align: top;\n",
       "    }\n",
       "\n",
       "    .dataframe thead th {\n",
       "        text-align: right;\n",
       "    }\n",
       "</style>\n",
       "<table border=\"1\" class=\"dataframe\">\n",
       "  <thead>\n",
       "    <tr style=\"text-align: right;\">\n",
       "      <th></th>\n",
       "      <th>state</th>\n",
       "      <th>act_participation_17</th>\n",
       "      <th>act_english_17</th>\n",
       "      <th>act_math_17</th>\n",
       "      <th>act_reading_17</th>\n",
       "      <th>act_science_17</th>\n",
       "      <th>act_total_average_17</th>\n",
       "    </tr>\n",
       "  </thead>\n",
       "  <tbody>\n",
       "    <tr>\n",
       "      <th>0</th>\n",
       "      <td>National</td>\n",
       "      <td>0.6</td>\n",
       "      <td>20.3</td>\n",
       "      <td>20.7</td>\n",
       "      <td>21.4</td>\n",
       "      <td>21.0</td>\n",
       "      <td>21.0</td>\n",
       "    </tr>\n",
       "  </tbody>\n",
       "</table>\n",
       "</div>"
      ],
      "text/plain": [
       "      state  act_participation_17  act_english_17  act_math_17  \\\n",
       "0  National                   0.6            20.3         20.7   \n",
       "\n",
       "   act_reading_17  act_science_17  act_total_average_17  \n",
       "0            21.4            21.0                  21.0  "
      ]
     },
     "execution_count": 20,
     "metadata": {},
     "output_type": "execute_result"
    }
   ],
   "source": [
    "# comparing the data between what was calculated and given\n",
    "act_2017.head(1) "
   ]
  },
  {
   "cell_type": "code",
   "execution_count": 21,
   "metadata": {},
   "outputs": [
    {
     "data": {
      "text/html": [
       "<div>\n",
       "<style scoped>\n",
       "    .dataframe tbody tr th:only-of-type {\n",
       "        vertical-align: middle;\n",
       "    }\n",
       "\n",
       "    .dataframe tbody tr th {\n",
       "        vertical-align: top;\n",
       "    }\n",
       "\n",
       "    .dataframe thead th {\n",
       "        text-align: right;\n",
       "    }\n",
       "</style>\n",
       "<table border=\"1\" class=\"dataframe\">\n",
       "  <thead>\n",
       "    <tr style=\"text-align: right;\">\n",
       "      <th></th>\n",
       "      <th>Evidence-Based Reading and Writing</th>\n",
       "      <th>Math</th>\n",
       "      <th>Total</th>\n",
       "    </tr>\n",
       "  </thead>\n",
       "  <tbody>\n",
       "    <tr>\n",
       "      <th>count</th>\n",
       "      <td>51.000000</td>\n",
       "      <td>51.000000</td>\n",
       "      <td>51.000000</td>\n",
       "    </tr>\n",
       "    <tr>\n",
       "      <th>mean</th>\n",
       "      <td>569.117647</td>\n",
       "      <td>547.627451</td>\n",
       "      <td>1126.098039</td>\n",
       "    </tr>\n",
       "    <tr>\n",
       "      <th>std</th>\n",
       "      <td>45.666901</td>\n",
       "      <td>84.909119</td>\n",
       "      <td>92.494812</td>\n",
       "    </tr>\n",
       "    <tr>\n",
       "      <th>min</th>\n",
       "      <td>482.000000</td>\n",
       "      <td>52.000000</td>\n",
       "      <td>950.000000</td>\n",
       "    </tr>\n",
       "    <tr>\n",
       "      <th>25%</th>\n",
       "      <td>533.500000</td>\n",
       "      <td>522.000000</td>\n",
       "      <td>1055.500000</td>\n",
       "    </tr>\n",
       "    <tr>\n",
       "      <th>50%</th>\n",
       "      <td>559.000000</td>\n",
       "      <td>548.000000</td>\n",
       "      <td>1107.000000</td>\n",
       "    </tr>\n",
       "    <tr>\n",
       "      <th>75%</th>\n",
       "      <td>613.000000</td>\n",
       "      <td>599.000000</td>\n",
       "      <td>1212.000000</td>\n",
       "    </tr>\n",
       "    <tr>\n",
       "      <th>max</th>\n",
       "      <td>644.000000</td>\n",
       "      <td>651.000000</td>\n",
       "      <td>1295.000000</td>\n",
       "    </tr>\n",
       "  </tbody>\n",
       "</table>\n",
       "</div>"
      ],
      "text/plain": [
       "       Evidence-Based Reading and Writing        Math        Total\n",
       "count                           51.000000   51.000000    51.000000\n",
       "mean                           569.117647  547.627451  1126.098039\n",
       "std                             45.666901   84.909119    92.494812\n",
       "min                            482.000000   52.000000   950.000000\n",
       "25%                            533.500000  522.000000  1055.500000\n",
       "50%                            559.000000  548.000000  1107.000000\n",
       "75%                            613.000000  599.000000  1212.000000\n",
       "max                            644.000000  651.000000  1295.000000"
      ]
     },
     "execution_count": 21,
     "metadata": {},
     "output_type": "execute_result"
    }
   ],
   "source": [
    "# Unable to set National's Participation value as it is a object data type. \n",
    "# Therefore we shall convert the column to float first  \n",
    "sat_2017.describe()"
   ]
  },
  {
   "cell_type": "code",
   "execution_count": 22,
   "metadata": {},
   "outputs": [],
   "source": [
    "sat_2017.Participation = sat_2017.Participation.apply(decimal_converter) #converting the participation rate to decimal"
   ]
  },
  {
   "cell_type": "code",
   "execution_count": 23,
   "metadata": {},
   "outputs": [],
   "source": [
    "sat_2017.columns = [column.lower() for column in sat_2017.columns] #lower casing the headers"
   ]
  },
  {
   "cell_type": "code",
   "execution_count": 24,
   "metadata": {
    "scrolled": true
   },
   "outputs": [
    {
     "data": {
      "text/html": [
       "<div>\n",
       "<style scoped>\n",
       "    .dataframe tbody tr th:only-of-type {\n",
       "        vertical-align: middle;\n",
       "    }\n",
       "\n",
       "    .dataframe tbody tr th {\n",
       "        vertical-align: top;\n",
       "    }\n",
       "\n",
       "    .dataframe thead th {\n",
       "        text-align: right;\n",
       "    }\n",
       "</style>\n",
       "<table border=\"1\" class=\"dataframe\">\n",
       "  <thead>\n",
       "    <tr style=\"text-align: right;\">\n",
       "      <th></th>\n",
       "      <th>state</th>\n",
       "      <th>participation</th>\n",
       "      <th>evidence-based reading and writing</th>\n",
       "      <th>math</th>\n",
       "      <th>total</th>\n",
       "    </tr>\n",
       "  </thead>\n",
       "  <tbody>\n",
       "    <tr>\n",
       "      <th>0</th>\n",
       "      <td>Alabama</td>\n",
       "      <td>0.05</td>\n",
       "      <td>593</td>\n",
       "      <td>572</td>\n",
       "      <td>1165</td>\n",
       "    </tr>\n",
       "    <tr>\n",
       "      <th>1</th>\n",
       "      <td>Alaska</td>\n",
       "      <td>0.38</td>\n",
       "      <td>547</td>\n",
       "      <td>533</td>\n",
       "      <td>1080</td>\n",
       "    </tr>\n",
       "    <tr>\n",
       "      <th>2</th>\n",
       "      <td>Arizona</td>\n",
       "      <td>0.30</td>\n",
       "      <td>563</td>\n",
       "      <td>553</td>\n",
       "      <td>1116</td>\n",
       "    </tr>\n",
       "    <tr>\n",
       "      <th>3</th>\n",
       "      <td>Arkansas</td>\n",
       "      <td>0.03</td>\n",
       "      <td>614</td>\n",
       "      <td>594</td>\n",
       "      <td>1208</td>\n",
       "    </tr>\n",
       "    <tr>\n",
       "      <th>4</th>\n",
       "      <td>California</td>\n",
       "      <td>0.53</td>\n",
       "      <td>531</td>\n",
       "      <td>524</td>\n",
       "      <td>1055</td>\n",
       "    </tr>\n",
       "  </tbody>\n",
       "</table>\n",
       "</div>"
      ],
      "text/plain": [
       "        state  participation  evidence-based reading and writing  math  total\n",
       "0     Alabama           0.05                                 593   572   1165\n",
       "1      Alaska           0.38                                 547   533   1080\n",
       "2     Arizona           0.30                                 563   553   1116\n",
       "3    Arkansas           0.03                                 614   594   1208\n",
       "4  California           0.53                                 531   524   1055"
      ]
     },
     "execution_count": 24,
     "metadata": {},
     "output_type": "execute_result"
    }
   ],
   "source": [
    "sat_2017.head()"
   ]
  },
  {
   "cell_type": "code",
   "execution_count": 25,
   "metadata": {},
   "outputs": [
    {
     "data": {
      "text/html": [
       "<div>\n",
       "<style scoped>\n",
       "    .dataframe tbody tr th:only-of-type {\n",
       "        vertical-align: middle;\n",
       "    }\n",
       "\n",
       "    .dataframe tbody tr th {\n",
       "        vertical-align: top;\n",
       "    }\n",
       "\n",
       "    .dataframe thead th {\n",
       "        text-align: right;\n",
       "    }\n",
       "</style>\n",
       "<table border=\"1\" class=\"dataframe\">\n",
       "  <thead>\n",
       "    <tr style=\"text-align: right;\">\n",
       "      <th></th>\n",
       "      <th>participation</th>\n",
       "      <th>evidence-based reading and writing</th>\n",
       "      <th>math</th>\n",
       "      <th>total</th>\n",
       "    </tr>\n",
       "  </thead>\n",
       "  <tbody>\n",
       "    <tr>\n",
       "      <th>count</th>\n",
       "      <td>51.000000</td>\n",
       "      <td>51.000000</td>\n",
       "      <td>51.000000</td>\n",
       "      <td>51.000000</td>\n",
       "    </tr>\n",
       "    <tr>\n",
       "      <th>mean</th>\n",
       "      <td>0.398039</td>\n",
       "      <td>569.117647</td>\n",
       "      <td>547.627451</td>\n",
       "      <td>1126.098039</td>\n",
       "    </tr>\n",
       "    <tr>\n",
       "      <th>std</th>\n",
       "      <td>0.352766</td>\n",
       "      <td>45.666901</td>\n",
       "      <td>84.909119</td>\n",
       "      <td>92.494812</td>\n",
       "    </tr>\n",
       "    <tr>\n",
       "      <th>min</th>\n",
       "      <td>0.020000</td>\n",
       "      <td>482.000000</td>\n",
       "      <td>52.000000</td>\n",
       "      <td>950.000000</td>\n",
       "    </tr>\n",
       "    <tr>\n",
       "      <th>25%</th>\n",
       "      <td>0.040000</td>\n",
       "      <td>533.500000</td>\n",
       "      <td>522.000000</td>\n",
       "      <td>1055.500000</td>\n",
       "    </tr>\n",
       "    <tr>\n",
       "      <th>50%</th>\n",
       "      <td>0.380000</td>\n",
       "      <td>559.000000</td>\n",
       "      <td>548.000000</td>\n",
       "      <td>1107.000000</td>\n",
       "    </tr>\n",
       "    <tr>\n",
       "      <th>75%</th>\n",
       "      <td>0.660000</td>\n",
       "      <td>613.000000</td>\n",
       "      <td>599.000000</td>\n",
       "      <td>1212.000000</td>\n",
       "    </tr>\n",
       "    <tr>\n",
       "      <th>max</th>\n",
       "      <td>1.000000</td>\n",
       "      <td>644.000000</td>\n",
       "      <td>651.000000</td>\n",
       "      <td>1295.000000</td>\n",
       "    </tr>\n",
       "  </tbody>\n",
       "</table>\n",
       "</div>"
      ],
      "text/plain": [
       "       participation  evidence-based reading and writing        math  \\\n",
       "count      51.000000                           51.000000   51.000000   \n",
       "mean        0.398039                          569.117647  547.627451   \n",
       "std         0.352766                           45.666901   84.909119   \n",
       "min         0.020000                          482.000000   52.000000   \n",
       "25%         0.040000                          533.500000  522.000000   \n",
       "50%         0.380000                          559.000000  548.000000   \n",
       "75%         0.660000                          613.000000  599.000000   \n",
       "max         1.000000                          644.000000  651.000000   \n",
       "\n",
       "             total  \n",
       "count    51.000000  \n",
       "mean   1126.098039  \n",
       "std      92.494812  \n",
       "min     950.000000  \n",
       "25%    1055.500000  \n",
       "50%    1107.000000  \n",
       "75%    1212.000000  \n",
       "max    1295.000000  "
      ]
     },
     "execution_count": 25,
     "metadata": {},
     "output_type": "execute_result"
    }
   ],
   "source": [
    "sat_2017.describe()"
   ]
  },
  {
   "cell_type": "code",
   "execution_count": 26,
   "metadata": {},
   "outputs": [
    {
     "data": {
      "text/html": [
       "<div>\n",
       "<style scoped>\n",
       "    .dataframe tbody tr th:only-of-type {\n",
       "        vertical-align: middle;\n",
       "    }\n",
       "\n",
       "    .dataframe tbody tr th {\n",
       "        vertical-align: top;\n",
       "    }\n",
       "\n",
       "    .dataframe thead th {\n",
       "        text-align: right;\n",
       "    }\n",
       "</style>\n",
       "<table border=\"1\" class=\"dataframe\">\n",
       "  <thead>\n",
       "    <tr style=\"text-align: right;\">\n",
       "      <th></th>\n",
       "      <th>state</th>\n",
       "      <th>participation</th>\n",
       "      <th>evidence-based reading and writing</th>\n",
       "      <th>math</th>\n",
       "      <th>total</th>\n",
       "    </tr>\n",
       "  </thead>\n",
       "  <tbody>\n",
       "    <tr>\n",
       "      <th>47</th>\n",
       "      <td>Washington</td>\n",
       "      <td>0.64</td>\n",
       "      <td>541</td>\n",
       "      <td>534</td>\n",
       "      <td>1075</td>\n",
       "    </tr>\n",
       "    <tr>\n",
       "      <th>48</th>\n",
       "      <td>West Virginia</td>\n",
       "      <td>0.14</td>\n",
       "      <td>558</td>\n",
       "      <td>528</td>\n",
       "      <td>1086</td>\n",
       "    </tr>\n",
       "    <tr>\n",
       "      <th>49</th>\n",
       "      <td>Wisconsin</td>\n",
       "      <td>0.03</td>\n",
       "      <td>642</td>\n",
       "      <td>649</td>\n",
       "      <td>1291</td>\n",
       "    </tr>\n",
       "    <tr>\n",
       "      <th>50</th>\n",
       "      <td>Wyoming</td>\n",
       "      <td>0.03</td>\n",
       "      <td>626</td>\n",
       "      <td>604</td>\n",
       "      <td>1230</td>\n",
       "    </tr>\n",
       "    <tr>\n",
       "      <th>51</th>\n",
       "      <td>National</td>\n",
       "      <td>0.38</td>\n",
       "      <td>559</td>\n",
       "      <td>548</td>\n",
       "      <td>1107</td>\n",
       "    </tr>\n",
       "  </tbody>\n",
       "</table>\n",
       "</div>"
      ],
      "text/plain": [
       "            state  participation  evidence-based reading and writing  math  \\\n",
       "47     Washington           0.64                                 541   534   \n",
       "48  West Virginia           0.14                                 558   528   \n",
       "49      Wisconsin           0.03                                 642   649   \n",
       "50        Wyoming           0.03                                 626   604   \n",
       "51       National           0.38                                 559   548   \n",
       "\n",
       "    total  \n",
       "47   1075  \n",
       "48   1086  \n",
       "49   1291  \n",
       "50   1230  \n",
       "51   1107  "
      ]
     },
     "execution_count": 26,
     "metadata": {},
     "output_type": "execute_result"
    }
   ],
   "source": [
    "# decided to provide the 50% as the value average participation rate for SAT\n",
    "# as there was no data and the range was quite large (0.02 to 1.00)\n",
    "sat_2017_national = {'state':'National', 'participation':0.38, 'evidence-based reading and writing':559, 'math':548,'total':1107}\n",
    "\n",
    "# Adding the new value for 2017 SAT National average participation\n",
    "sat_2017 = sat_2017.append(sat_2017_national,ignore_index=True)\n",
    "\n",
    "# Check if the data has been added\n",
    "sat_2017.tail()"
   ]
  },
  {
   "cell_type": "code",
   "execution_count": 27,
   "metadata": {},
   "outputs": [
    {
     "data": {
      "text/html": [
       "<div>\n",
       "<style scoped>\n",
       "    .dataframe tbody tr th:only-of-type {\n",
       "        vertical-align: middle;\n",
       "    }\n",
       "\n",
       "    .dataframe tbody tr th {\n",
       "        vertical-align: top;\n",
       "    }\n",
       "\n",
       "    .dataframe thead th {\n",
       "        text-align: right;\n",
       "    }\n",
       "</style>\n",
       "<table border=\"1\" class=\"dataframe\">\n",
       "  <thead>\n",
       "    <tr style=\"text-align: right;\">\n",
       "      <th></th>\n",
       "      <th>state</th>\n",
       "      <th>sat_participation_17</th>\n",
       "      <th>sat_erw_17</th>\n",
       "      <th>sat_math_17</th>\n",
       "      <th>sat_total_average_17</th>\n",
       "    </tr>\n",
       "  </thead>\n",
       "  <tbody>\n",
       "    <tr>\n",
       "      <th>47</th>\n",
       "      <td>Washington</td>\n",
       "      <td>0.64</td>\n",
       "      <td>541</td>\n",
       "      <td>534</td>\n",
       "      <td>1075</td>\n",
       "    </tr>\n",
       "    <tr>\n",
       "      <th>48</th>\n",
       "      <td>West Virginia</td>\n",
       "      <td>0.14</td>\n",
       "      <td>558</td>\n",
       "      <td>528</td>\n",
       "      <td>1086</td>\n",
       "    </tr>\n",
       "    <tr>\n",
       "      <th>49</th>\n",
       "      <td>Wisconsin</td>\n",
       "      <td>0.03</td>\n",
       "      <td>642</td>\n",
       "      <td>649</td>\n",
       "      <td>1291</td>\n",
       "    </tr>\n",
       "    <tr>\n",
       "      <th>50</th>\n",
       "      <td>Wyoming</td>\n",
       "      <td>0.03</td>\n",
       "      <td>626</td>\n",
       "      <td>604</td>\n",
       "      <td>1230</td>\n",
       "    </tr>\n",
       "    <tr>\n",
       "      <th>51</th>\n",
       "      <td>National</td>\n",
       "      <td>0.38</td>\n",
       "      <td>559</td>\n",
       "      <td>548</td>\n",
       "      <td>1107</td>\n",
       "    </tr>\n",
       "  </tbody>\n",
       "</table>\n",
       "</div>"
      ],
      "text/plain": [
       "            state  sat_participation_17  sat_erw_17  sat_math_17  \\\n",
       "47     Washington                  0.64         541          534   \n",
       "48  West Virginia                  0.14         558          528   \n",
       "49      Wisconsin                  0.03         642          649   \n",
       "50        Wyoming                  0.03         626          604   \n",
       "51       National                  0.38         559          548   \n",
       "\n",
       "    sat_total_average_17  \n",
       "47                  1075  \n",
       "48                  1086  \n",
       "49                  1291  \n",
       "50                  1230  \n",
       "51                  1107  "
      ]
     },
     "execution_count": 27,
     "metadata": {},
     "output_type": "execute_result"
    }
   ],
   "source": [
    "# checking out the columns name\n",
    "sat_2017.columns\n",
    "# renaming columns to be sat specific for clarity\n",
    "sat_2017.rename(columns = {\n",
    "    'participation':'sat_participation_17',\n",
    "    'evidence-based reading and writing':'sat_erw_17',\n",
    "    'math':'sat_math_17',\n",
    "    'total':'sat_total_average_17'\n",
    "},inplace = True)\n",
    "\n",
    "# Check if the changes is in place\n",
    "sat_2017.tail()"
   ]
  },
  {
   "cell_type": "markdown",
   "metadata": {},
   "source": [
    "### Merging both ACT and SAT 2017 data"
   ]
  },
  {
   "cell_type": "code",
   "execution_count": 28,
   "metadata": {},
   "outputs": [
    {
     "data": {
      "text/html": [
       "<div>\n",
       "<style scoped>\n",
       "    .dataframe tbody tr th:only-of-type {\n",
       "        vertical-align: middle;\n",
       "    }\n",
       "\n",
       "    .dataframe tbody tr th {\n",
       "        vertical-align: top;\n",
       "    }\n",
       "\n",
       "    .dataframe thead th {\n",
       "        text-align: right;\n",
       "    }\n",
       "</style>\n",
       "<table border=\"1\" class=\"dataframe\">\n",
       "  <thead>\n",
       "    <tr style=\"text-align: right;\">\n",
       "      <th></th>\n",
       "      <th>state</th>\n",
       "      <th>sat_participation_17</th>\n",
       "      <th>sat_total_average_17</th>\n",
       "      <th>act_participation_17</th>\n",
       "      <th>act_total_average_17</th>\n",
       "    </tr>\n",
       "  </thead>\n",
       "  <tbody>\n",
       "    <tr>\n",
       "      <th>47</th>\n",
       "      <td>Washington</td>\n",
       "      <td>0.64</td>\n",
       "      <td>1075</td>\n",
       "      <td>0.29</td>\n",
       "      <td>21.9</td>\n",
       "    </tr>\n",
       "    <tr>\n",
       "      <th>48</th>\n",
       "      <td>West Virginia</td>\n",
       "      <td>0.14</td>\n",
       "      <td>1086</td>\n",
       "      <td>0.69</td>\n",
       "      <td>20.4</td>\n",
       "    </tr>\n",
       "    <tr>\n",
       "      <th>49</th>\n",
       "      <td>Wisconsin</td>\n",
       "      <td>0.03</td>\n",
       "      <td>1291</td>\n",
       "      <td>1.00</td>\n",
       "      <td>20.5</td>\n",
       "    </tr>\n",
       "    <tr>\n",
       "      <th>50</th>\n",
       "      <td>Wyoming</td>\n",
       "      <td>0.03</td>\n",
       "      <td>1230</td>\n",
       "      <td>1.00</td>\n",
       "      <td>20.2</td>\n",
       "    </tr>\n",
       "    <tr>\n",
       "      <th>51</th>\n",
       "      <td>National</td>\n",
       "      <td>0.38</td>\n",
       "      <td>1107</td>\n",
       "      <td>0.60</td>\n",
       "      <td>21.0</td>\n",
       "    </tr>\n",
       "  </tbody>\n",
       "</table>\n",
       "</div>"
      ],
      "text/plain": [
       "            state  sat_participation_17  sat_total_average_17  \\\n",
       "47     Washington                  0.64                  1075   \n",
       "48  West Virginia                  0.14                  1086   \n",
       "49      Wisconsin                  0.03                  1291   \n",
       "50        Wyoming                  0.03                  1230   \n",
       "51       National                  0.38                  1107   \n",
       "\n",
       "    act_participation_17  act_total_average_17  \n",
       "47                  0.29                  21.9  \n",
       "48                  0.69                  20.4  \n",
       "49                  1.00                  20.5  \n",
       "50                  1.00                  20.2  \n",
       "51                  0.60                  21.0  "
      ]
     },
     "execution_count": 28,
     "metadata": {},
     "output_type": "execute_result"
    }
   ],
   "source": [
    "# Merging both 2017 sat and act data together , using inner as both consist of similar row values\n",
    "merged_tests_2017 = pd.merge(sat_2017,act_2017,how='inner')\n",
    "\n",
    "# Drops individual test results as it would be much fairer to compare total averages due to subject differences\n",
    "merged_tests_2017.drop(['sat_erw_17','sat_math_17','act_english_17','act_math_17','act_reading_17','act_science_17'],axis=1,inplace=True)\n",
    "\n",
    "# Check if the changes is in place\n",
    "merged_tests_2017.tail()"
   ]
  },
  {
   "cell_type": "markdown",
   "metadata": {},
   "source": [
    "### Import and cleaning ACT 2018 data"
   ]
  },
  {
   "cell_type": "code",
   "execution_count": 29,
   "metadata": {},
   "outputs": [
    {
     "data": {
      "text/html": [
       "<div>\n",
       "<style scoped>\n",
       "    .dataframe tbody tr th:only-of-type {\n",
       "        vertical-align: middle;\n",
       "    }\n",
       "\n",
       "    .dataframe tbody tr th {\n",
       "        vertical-align: top;\n",
       "    }\n",
       "\n",
       "    .dataframe thead th {\n",
       "        text-align: right;\n",
       "    }\n",
       "</style>\n",
       "<table border=\"1\" class=\"dataframe\">\n",
       "  <thead>\n",
       "    <tr style=\"text-align: right;\">\n",
       "      <th></th>\n",
       "      <th>State</th>\n",
       "      <th>Participation</th>\n",
       "      <th>Composite</th>\n",
       "    </tr>\n",
       "  </thead>\n",
       "  <tbody>\n",
       "    <tr>\n",
       "      <th>0</th>\n",
       "      <td>Alabama</td>\n",
       "      <td>100%</td>\n",
       "      <td>19.1</td>\n",
       "    </tr>\n",
       "    <tr>\n",
       "      <th>1</th>\n",
       "      <td>Alaska</td>\n",
       "      <td>33%</td>\n",
       "      <td>20.8</td>\n",
       "    </tr>\n",
       "    <tr>\n",
       "      <th>2</th>\n",
       "      <td>Arizona</td>\n",
       "      <td>66%</td>\n",
       "      <td>19.2</td>\n",
       "    </tr>\n",
       "    <tr>\n",
       "      <th>3</th>\n",
       "      <td>Arkansas</td>\n",
       "      <td>100%</td>\n",
       "      <td>19.4</td>\n",
       "    </tr>\n",
       "    <tr>\n",
       "      <th>4</th>\n",
       "      <td>California</td>\n",
       "      <td>27%</td>\n",
       "      <td>22.7</td>\n",
       "    </tr>\n",
       "  </tbody>\n",
       "</table>\n",
       "</div>"
      ],
      "text/plain": [
       "        State Participation  Composite\n",
       "0     Alabama          100%       19.1\n",
       "1      Alaska           33%       20.8\n",
       "2     Arizona           66%       19.2\n",
       "3    Arkansas          100%       19.4\n",
       "4  California           27%       22.7"
      ]
     },
     "execution_count": 29,
     "metadata": {},
     "output_type": "execute_result"
    }
   ],
   "source": [
    "# Import ACT 2018 data\n",
    "act_2018 = pd.read_csv(\"../data/act_2018.csv\")\n",
    "# Checking the head of the dataset\n",
    "act_2018.head()"
   ]
  },
  {
   "cell_type": "code",
   "execution_count": 30,
   "metadata": {},
   "outputs": [
    {
     "data": {
      "text/plain": [
       "(52, 3)"
      ]
     },
     "execution_count": 30,
     "metadata": {},
     "output_type": "execute_result"
    }
   ],
   "source": [
    "# Checking the shape of the dataset\n",
    "act_2018.shape"
   ]
  },
  {
   "cell_type": "code",
   "execution_count": 31,
   "metadata": {},
   "outputs": [
    {
     "name": "stdout",
     "output_type": "stream",
     "text": [
      "<class 'pandas.core.frame.DataFrame'>\n",
      "RangeIndex: 52 entries, 0 to 51\n",
      "Data columns (total 3 columns):\n",
      " #   Column         Non-Null Count  Dtype  \n",
      "---  ------         --------------  -----  \n",
      " 0   State          52 non-null     object \n",
      " 1   Participation  52 non-null     object \n",
      " 2   Composite      52 non-null     float64\n",
      "dtypes: float64(1), object(2)\n",
      "memory usage: 1.3+ KB\n"
     ]
    }
   ],
   "source": [
    "# Checking the datatype and for any null values in the dataset\n",
    "act_2018.info()"
   ]
  },
  {
   "cell_type": "code",
   "execution_count": 32,
   "metadata": {},
   "outputs": [
    {
     "data": {
      "text/plain": [
       "51"
      ]
     },
     "execution_count": 32,
     "metadata": {},
     "output_type": "execute_result"
    }
   ],
   "source": [
    "# checking the number of unique rows for state to ensure that it is similar to 2017 dataset\n",
    "act_2018.State.nunique()"
   ]
  },
  {
   "cell_type": "code",
   "execution_count": 33,
   "metadata": {},
   "outputs": [
    {
     "data": {
      "text/plain": [
       "{'District of Columbia', 'District of columbia', 'National'}"
      ]
     },
     "execution_count": 33,
     "metadata": {},
     "output_type": "execute_result"
    }
   ],
   "source": [
    "# Found out that National was missing in ACT's 2018 dataset \n",
    "# and also there are slight naming differences between the 2017 Merged data and ACT's 2018\n",
    "# Decided to use the merged data set naming convention as the good set\n",
    "set(merged_tests_2017.state).symmetric_difference(act_2018.State)"
   ]
  },
  {
   "cell_type": "code",
   "execution_count": 34,
   "metadata": {},
   "outputs": [
    {
     "data": {
      "text/html": [
       "<div>\n",
       "<style scoped>\n",
       "    .dataframe tbody tr th:only-of-type {\n",
       "        vertical-align: middle;\n",
       "    }\n",
       "\n",
       "    .dataframe tbody tr th {\n",
       "        vertical-align: top;\n",
       "    }\n",
       "\n",
       "    .dataframe thead th {\n",
       "        text-align: right;\n",
       "    }\n",
       "</style>\n",
       "<table border=\"1\" class=\"dataframe\">\n",
       "  <thead>\n",
       "    <tr style=\"text-align: right;\">\n",
       "      <th></th>\n",
       "      <th>State</th>\n",
       "      <th>Participation</th>\n",
       "      <th>Composite</th>\n",
       "    </tr>\n",
       "  </thead>\n",
       "  <tbody>\n",
       "    <tr>\n",
       "      <th>8</th>\n",
       "      <td>District of columbia</td>\n",
       "      <td>32%</td>\n",
       "      <td>23.6</td>\n",
       "    </tr>\n",
       "  </tbody>\n",
       "</table>\n",
       "</div>"
      ],
      "text/plain": [
       "                  State Participation  Composite\n",
       "8  District of columbia           32%       23.6"
      ]
     },
     "execution_count": 34,
     "metadata": {},
     "output_type": "execute_result"
    }
   ],
   "source": [
    "# Finding out the index of the row to be change\n",
    "act_2018.loc[act_2018['State']=='District of columbia']"
   ]
  },
  {
   "cell_type": "code",
   "execution_count": 35,
   "metadata": {},
   "outputs": [
    {
     "data": {
      "text/plain": [
       "{'National'}"
      ]
     },
     "execution_count": 35,
     "metadata": {},
     "output_type": "execute_result"
    }
   ],
   "source": [
    "# Replace with the newly capitalize name\n",
    "act_2018.replace('District of columbia','District of Columbia',inplace = True)\n",
    "# Check for other differences between the datasets\n",
    "set(merged_tests_2017.state).symmetric_difference(act_2018.State)"
   ]
  },
  {
   "cell_type": "code",
   "execution_count": 36,
   "metadata": {},
   "outputs": [
    {
     "data": {
      "text/plain": [
       "(52,)"
      ]
     },
     "execution_count": 36,
     "metadata": {},
     "output_type": "execute_result"
    }
   ],
   "source": [
    "# Realized that there are stil 52 rows with missing National, therefore decided to check for duplicated rows\n",
    "act_2018.State.shape"
   ]
  },
  {
   "cell_type": "code",
   "execution_count": 37,
   "metadata": {},
   "outputs": [
    {
     "data": {
      "text/html": [
       "<div>\n",
       "<style scoped>\n",
       "    .dataframe tbody tr th:only-of-type {\n",
       "        vertical-align: middle;\n",
       "    }\n",
       "\n",
       "    .dataframe tbody tr th {\n",
       "        vertical-align: top;\n",
       "    }\n",
       "\n",
       "    .dataframe thead th {\n",
       "        text-align: right;\n",
       "    }\n",
       "</style>\n",
       "<table border=\"1\" class=\"dataframe\">\n",
       "  <thead>\n",
       "    <tr style=\"text-align: right;\">\n",
       "      <th></th>\n",
       "      <th>State</th>\n",
       "      <th>Participation</th>\n",
       "      <th>Composite</th>\n",
       "    </tr>\n",
       "  </thead>\n",
       "  <tbody>\n",
       "    <tr>\n",
       "      <th>20</th>\n",
       "      <td>Maine</td>\n",
       "      <td>7%</td>\n",
       "      <td>24.0</td>\n",
       "    </tr>\n",
       "  </tbody>\n",
       "</table>\n",
       "</div>"
      ],
      "text/plain": [
       "    State Participation  Composite\n",
       "20  Maine            7%       24.0"
      ]
     },
     "execution_count": 37,
     "metadata": {},
     "output_type": "execute_result"
    }
   ],
   "source": [
    "# Finding the duplicates\n",
    "# https://thispointer.com/pandas-find-duplicate-rows-in-a-dataframe-based-on-all-or-selected-columns-using-dataframe-duplicated-in-python/\n",
    "\n",
    "act_2018[act_2018.duplicated(['State'])]"
   ]
  },
  {
   "cell_type": "code",
   "execution_count": 38,
   "metadata": {},
   "outputs": [],
   "source": [
    "# Dropped the duplicated row\n",
    "act_2018.drop_duplicates(['State'],inplace=True)"
   ]
  },
  {
   "cell_type": "code",
   "execution_count": 39,
   "metadata": {},
   "outputs": [
    {
     "data": {
      "text/plain": [
       "(51,)"
      ]
     },
     "execution_count": 39,
     "metadata": {},
     "output_type": "execute_result"
    }
   ],
   "source": [
    "# Check that the number of rows has been reduced\n",
    "act_2018.State.shape"
   ]
  },
  {
   "cell_type": "code",
   "execution_count": 40,
   "metadata": {},
   "outputs": [
    {
     "data": {
      "text/html": [
       "<div>\n",
       "<style scoped>\n",
       "    .dataframe tbody tr th:only-of-type {\n",
       "        vertical-align: middle;\n",
       "    }\n",
       "\n",
       "    .dataframe tbody tr th {\n",
       "        vertical-align: top;\n",
       "    }\n",
       "\n",
       "    .dataframe thead th {\n",
       "        text-align: right;\n",
       "    }\n",
       "</style>\n",
       "<table border=\"1\" class=\"dataframe\">\n",
       "  <thead>\n",
       "    <tr style=\"text-align: right;\">\n",
       "      <th></th>\n",
       "      <th>Participation</th>\n",
       "      <th>Composite</th>\n",
       "    </tr>\n",
       "  </thead>\n",
       "  <tbody>\n",
       "    <tr>\n",
       "      <th>count</th>\n",
       "      <td>51.000000</td>\n",
       "      <td>51.000000</td>\n",
       "    </tr>\n",
       "    <tr>\n",
       "      <th>mean</th>\n",
       "      <td>0.617255</td>\n",
       "      <td>21.496078</td>\n",
       "    </tr>\n",
       "    <tr>\n",
       "      <th>std</th>\n",
       "      <td>0.340371</td>\n",
       "      <td>2.111583</td>\n",
       "    </tr>\n",
       "    <tr>\n",
       "      <th>min</th>\n",
       "      <td>0.070000</td>\n",
       "      <td>17.700000</td>\n",
       "    </tr>\n",
       "    <tr>\n",
       "      <th>25%</th>\n",
       "      <td>0.285000</td>\n",
       "      <td>19.950000</td>\n",
       "    </tr>\n",
       "    <tr>\n",
       "      <th>50%</th>\n",
       "      <td>0.660000</td>\n",
       "      <td>21.300000</td>\n",
       "    </tr>\n",
       "    <tr>\n",
       "      <th>75%</th>\n",
       "      <td>1.000000</td>\n",
       "      <td>23.650000</td>\n",
       "    </tr>\n",
       "    <tr>\n",
       "      <th>max</th>\n",
       "      <td>1.000000</td>\n",
       "      <td>25.600000</td>\n",
       "    </tr>\n",
       "  </tbody>\n",
       "</table>\n",
       "</div>"
      ],
      "text/plain": [
       "       Participation  Composite\n",
       "count      51.000000  51.000000\n",
       "mean        0.617255  21.496078\n",
       "std         0.340371   2.111583\n",
       "min         0.070000  17.700000\n",
       "25%         0.285000  19.950000\n",
       "50%         0.660000  21.300000\n",
       "75%         1.000000  23.650000\n",
       "max         1.000000  25.600000"
      ]
     },
     "execution_count": 40,
     "metadata": {},
     "output_type": "execute_result"
    }
   ],
   "source": [
    "# National is still missing, using similar approach to convert the participation datatype to float \n",
    "# and use describe to find it's 50% as the value \n",
    "act_2018.Participation = act_2018.Participation.apply(decimal_converter)\n",
    "act_2018.describe()"
   ]
  },
  {
   "cell_type": "code",
   "execution_count": 41,
   "metadata": {},
   "outputs": [
    {
     "data": {
      "text/plain": [
       "Index(['State', 'Participation', 'Composite'], dtype='object')"
      ]
     },
     "execution_count": 41,
     "metadata": {},
     "output_type": "execute_result"
    }
   ],
   "source": [
    "# creating a dictionary for the values to be added\n",
    "act_2018_national = {'State': 'National', 'Participation':0.66, 'Composite':21.3}\n",
    "\n",
    "# Adding the row into data set\n",
    "act_2018 = act_2018.append(act_2018_national,ignore_index=True)\n",
    "\n",
    "# Checking if the changes has been inplace\n",
    "act_2018.columns"
   ]
  },
  {
   "cell_type": "code",
   "execution_count": 42,
   "metadata": {},
   "outputs": [
    {
     "data": {
      "text/html": [
       "<div>\n",
       "<style scoped>\n",
       "    .dataframe tbody tr th:only-of-type {\n",
       "        vertical-align: middle;\n",
       "    }\n",
       "\n",
       "    .dataframe tbody tr th {\n",
       "        vertical-align: top;\n",
       "    }\n",
       "\n",
       "    .dataframe thead th {\n",
       "        text-align: right;\n",
       "    }\n",
       "</style>\n",
       "<table border=\"1\" class=\"dataframe\">\n",
       "  <thead>\n",
       "    <tr style=\"text-align: right;\">\n",
       "      <th></th>\n",
       "      <th>state</th>\n",
       "      <th>act_participation_18</th>\n",
       "      <th>act_total_average_18</th>\n",
       "    </tr>\n",
       "  </thead>\n",
       "  <tbody>\n",
       "    <tr>\n",
       "      <th>0</th>\n",
       "      <td>Alabama</td>\n",
       "      <td>1.00</td>\n",
       "      <td>19.1</td>\n",
       "    </tr>\n",
       "    <tr>\n",
       "      <th>1</th>\n",
       "      <td>Alaska</td>\n",
       "      <td>0.33</td>\n",
       "      <td>20.8</td>\n",
       "    </tr>\n",
       "    <tr>\n",
       "      <th>2</th>\n",
       "      <td>Arizona</td>\n",
       "      <td>0.66</td>\n",
       "      <td>19.2</td>\n",
       "    </tr>\n",
       "    <tr>\n",
       "      <th>3</th>\n",
       "      <td>Arkansas</td>\n",
       "      <td>1.00</td>\n",
       "      <td>19.4</td>\n",
       "    </tr>\n",
       "    <tr>\n",
       "      <th>4</th>\n",
       "      <td>California</td>\n",
       "      <td>0.27</td>\n",
       "      <td>22.7</td>\n",
       "    </tr>\n",
       "  </tbody>\n",
       "</table>\n",
       "</div>"
      ],
      "text/plain": [
       "        state  act_participation_18  act_total_average_18\n",
       "0     Alabama                  1.00                  19.1\n",
       "1      Alaska                  0.33                  20.8\n",
       "2     Arizona                  0.66                  19.2\n",
       "3    Arkansas                  1.00                  19.4\n",
       "4  California                  0.27                  22.7"
      ]
     },
     "execution_count": 42,
     "metadata": {},
     "output_type": "execute_result"
    }
   ],
   "source": [
    "# Renaming the columns for act 2018 and lower case \n",
    "act_2018.rename({\n",
    "    'Participation':'act_participation_18',\n",
    "    'Composite':'act_total_average_18'\n",
    "    \n",
    "},axis=1,inplace=True)\n",
    "\n",
    "act_2018.columns = [column.lower() for column in act_2018.columns]\n",
    "\n",
    "act_2018.head()"
   ]
  },
  {
   "cell_type": "markdown",
   "metadata": {},
   "source": [
    "### Importing and cleaning SAT 2018 data"
   ]
  },
  {
   "cell_type": "code",
   "execution_count": 43,
   "metadata": {},
   "outputs": [
    {
     "data": {
      "text/html": [
       "<div>\n",
       "<style scoped>\n",
       "    .dataframe tbody tr th:only-of-type {\n",
       "        vertical-align: middle;\n",
       "    }\n",
       "\n",
       "    .dataframe tbody tr th {\n",
       "        vertical-align: top;\n",
       "    }\n",
       "\n",
       "    .dataframe thead th {\n",
       "        text-align: right;\n",
       "    }\n",
       "</style>\n",
       "<table border=\"1\" class=\"dataframe\">\n",
       "  <thead>\n",
       "    <tr style=\"text-align: right;\">\n",
       "      <th></th>\n",
       "      <th>State</th>\n",
       "      <th>Participation</th>\n",
       "      <th>Evidence-Based Reading and Writing</th>\n",
       "      <th>Math</th>\n",
       "      <th>Total</th>\n",
       "    </tr>\n",
       "  </thead>\n",
       "  <tbody>\n",
       "    <tr>\n",
       "      <th>0</th>\n",
       "      <td>Alabama</td>\n",
       "      <td>6%</td>\n",
       "      <td>595</td>\n",
       "      <td>571</td>\n",
       "      <td>1166</td>\n",
       "    </tr>\n",
       "    <tr>\n",
       "      <th>1</th>\n",
       "      <td>Alaska</td>\n",
       "      <td>43%</td>\n",
       "      <td>562</td>\n",
       "      <td>544</td>\n",
       "      <td>1106</td>\n",
       "    </tr>\n",
       "    <tr>\n",
       "      <th>2</th>\n",
       "      <td>Arizona</td>\n",
       "      <td>29%</td>\n",
       "      <td>577</td>\n",
       "      <td>572</td>\n",
       "      <td>1149</td>\n",
       "    </tr>\n",
       "    <tr>\n",
       "      <th>3</th>\n",
       "      <td>Arkansas</td>\n",
       "      <td>5%</td>\n",
       "      <td>592</td>\n",
       "      <td>576</td>\n",
       "      <td>1169</td>\n",
       "    </tr>\n",
       "    <tr>\n",
       "      <th>4</th>\n",
       "      <td>California</td>\n",
       "      <td>60%</td>\n",
       "      <td>540</td>\n",
       "      <td>536</td>\n",
       "      <td>1076</td>\n",
       "    </tr>\n",
       "  </tbody>\n",
       "</table>\n",
       "</div>"
      ],
      "text/plain": [
       "        State Participation  Evidence-Based Reading and Writing  Math  Total\n",
       "0     Alabama            6%                                 595   571   1166\n",
       "1      Alaska           43%                                 562   544   1106\n",
       "2     Arizona           29%                                 577   572   1149\n",
       "3    Arkansas            5%                                 592   576   1169\n",
       "4  California           60%                                 540   536   1076"
      ]
     },
     "execution_count": 43,
     "metadata": {},
     "output_type": "execute_result"
    }
   ],
   "source": [
    "# Importing the data for SAT 2018\n",
    "sat_2018 = pd.read_csv(\"../data/sat_2018.csv\")\n",
    "\n",
    "sat_2018.head()"
   ]
  },
  {
   "cell_type": "code",
   "execution_count": 44,
   "metadata": {},
   "outputs": [
    {
     "data": {
      "text/plain": [
       "(51, 5)"
      ]
     },
     "execution_count": 44,
     "metadata": {},
     "output_type": "execute_result"
    }
   ],
   "source": [
    "# sat_2018 also has 51 rows, similarly to the 2017's data \n",
    "sat_2018.shape"
   ]
  },
  {
   "cell_type": "code",
   "execution_count": 45,
   "metadata": {},
   "outputs": [
    {
     "name": "stdout",
     "output_type": "stream",
     "text": [
      "<class 'pandas.core.frame.DataFrame'>\n",
      "RangeIndex: 51 entries, 0 to 50\n",
      "Data columns (total 5 columns):\n",
      " #   Column                              Non-Null Count  Dtype \n",
      "---  ------                              --------------  ----- \n",
      " 0   State                               51 non-null     object\n",
      " 1   Participation                       51 non-null     object\n",
      " 2   Evidence-Based Reading and Writing  51 non-null     int64 \n",
      " 3   Math                                51 non-null     int64 \n",
      " 4   Total                               51 non-null     int64 \n",
      "dtypes: int64(3), object(2)\n",
      "memory usage: 2.1+ KB\n"
     ]
    }
   ],
   "source": [
    "# Checking the data type and for any null values\n",
    "sat_2018.info()"
   ]
  },
  {
   "cell_type": "code",
   "execution_count": 46,
   "metadata": {},
   "outputs": [
    {
     "data": {
      "text/plain": [
       "{'National'}"
      ]
     },
     "execution_count": 46,
     "metadata": {},
     "output_type": "execute_result"
    }
   ],
   "source": [
    "# Finding out what row is missing\n",
    "set(merged_tests_2017.state).symmetric_difference(sat_2018.State)"
   ]
  },
  {
   "cell_type": "code",
   "execution_count": 47,
   "metadata": {},
   "outputs": [],
   "source": [
    "# Similar approach to convert the participation datatype to float \n",
    "# and assign the values for National using the describe method\n",
    "sat_2018.Participation = sat_2018.Participation.apply(decimal_converter)\n",
    "# lower case the columns\n",
    "sat_2018.columns = [column.lower() for column in sat_2018.columns]"
   ]
  },
  {
   "cell_type": "code",
   "execution_count": 48,
   "metadata": {},
   "outputs": [
    {
     "data": {
      "text/html": [
       "<div>\n",
       "<style scoped>\n",
       "    .dataframe tbody tr th:only-of-type {\n",
       "        vertical-align: middle;\n",
       "    }\n",
       "\n",
       "    .dataframe tbody tr th {\n",
       "        vertical-align: top;\n",
       "    }\n",
       "\n",
       "    .dataframe thead th {\n",
       "        text-align: right;\n",
       "    }\n",
       "</style>\n",
       "<table border=\"1\" class=\"dataframe\">\n",
       "  <thead>\n",
       "    <tr style=\"text-align: right;\">\n",
       "      <th></th>\n",
       "      <th>participation</th>\n",
       "      <th>evidence-based reading and writing</th>\n",
       "      <th>math</th>\n",
       "      <th>total</th>\n",
       "    </tr>\n",
       "  </thead>\n",
       "  <tbody>\n",
       "    <tr>\n",
       "      <th>count</th>\n",
       "      <td>51.000000</td>\n",
       "      <td>51.000000</td>\n",
       "      <td>51.000000</td>\n",
       "      <td>51.000000</td>\n",
       "    </tr>\n",
       "    <tr>\n",
       "      <th>mean</th>\n",
       "      <td>0.457451</td>\n",
       "      <td>563.686275</td>\n",
       "      <td>556.235294</td>\n",
       "      <td>1120.019608</td>\n",
       "    </tr>\n",
       "    <tr>\n",
       "      <th>std</th>\n",
       "      <td>0.373143</td>\n",
       "      <td>47.502627</td>\n",
       "      <td>47.772623</td>\n",
       "      <td>94.155083</td>\n",
       "    </tr>\n",
       "    <tr>\n",
       "      <th>min</th>\n",
       "      <td>0.020000</td>\n",
       "      <td>480.000000</td>\n",
       "      <td>480.000000</td>\n",
       "      <td>977.000000</td>\n",
       "    </tr>\n",
       "    <tr>\n",
       "      <th>25%</th>\n",
       "      <td>0.045000</td>\n",
       "      <td>534.500000</td>\n",
       "      <td>522.500000</td>\n",
       "      <td>1057.500000</td>\n",
       "    </tr>\n",
       "    <tr>\n",
       "      <th>50%</th>\n",
       "      <td>0.520000</td>\n",
       "      <td>552.000000</td>\n",
       "      <td>544.000000</td>\n",
       "      <td>1098.000000</td>\n",
       "    </tr>\n",
       "    <tr>\n",
       "      <th>75%</th>\n",
       "      <td>0.775000</td>\n",
       "      <td>610.500000</td>\n",
       "      <td>593.500000</td>\n",
       "      <td>1204.000000</td>\n",
       "    </tr>\n",
       "    <tr>\n",
       "      <th>max</th>\n",
       "      <td>1.000000</td>\n",
       "      <td>643.000000</td>\n",
       "      <td>655.000000</td>\n",
       "      <td>1298.000000</td>\n",
       "    </tr>\n",
       "  </tbody>\n",
       "</table>\n",
       "</div>"
      ],
      "text/plain": [
       "       participation  evidence-based reading and writing        math  \\\n",
       "count      51.000000                           51.000000   51.000000   \n",
       "mean        0.457451                          563.686275  556.235294   \n",
       "std         0.373143                           47.502627   47.772623   \n",
       "min         0.020000                          480.000000  480.000000   \n",
       "25%         0.045000                          534.500000  522.500000   \n",
       "50%         0.520000                          552.000000  544.000000   \n",
       "75%         0.775000                          610.500000  593.500000   \n",
       "max         1.000000                          643.000000  655.000000   \n",
       "\n",
       "             total  \n",
       "count    51.000000  \n",
       "mean   1120.019608  \n",
       "std      94.155083  \n",
       "min     977.000000  \n",
       "25%    1057.500000  \n",
       "50%    1098.000000  \n",
       "75%    1204.000000  \n",
       "max    1298.000000  "
      ]
     },
     "execution_count": 48,
     "metadata": {},
     "output_type": "execute_result"
    }
   ],
   "source": [
    "sat_2018.describe()"
   ]
  },
  {
   "cell_type": "code",
   "execution_count": 49,
   "metadata": {},
   "outputs": [
    {
     "data": {
      "text/plain": [
       "(52, 5)"
      ]
     },
     "execution_count": 49,
     "metadata": {},
     "output_type": "execute_result"
    }
   ],
   "source": [
    "# Adding National data to the dataset, using the 50% from describe\n",
    "\n",
    "sat_2018_national = {'state':'National', 'participation':0.52, 'evidence-based reading and writing':552, 'math':544,'total':1098}\n",
    "\n",
    "sat_2018 = sat_2018.append(sat_2018_national,ignore_index=True)\n",
    "\n",
    "sat_2018.shape"
   ]
  },
  {
   "cell_type": "code",
   "execution_count": 50,
   "metadata": {},
   "outputs": [],
   "source": [
    "# Checking the columns names\n",
    "sat_2018.columns\n",
    "# Renaming the columns for sat 2018 dataset\n",
    "sat_2018.rename({'participation':'sat_participation_18',\n",
    "                 'evidence-based reading and writing': 'sat_erw_18',\n",
    "                 'math':'sat_math_18',\n",
    "                 'total':'sat_total_average_18'\n",
    "                \n",
    "                }, axis=1, inplace= True)"
   ]
  },
  {
   "cell_type": "markdown",
   "metadata": {},
   "source": [
    "### Merging both ACT and SAT 2018 data"
   ]
  },
  {
   "cell_type": "code",
   "execution_count": 51,
   "metadata": {},
   "outputs": [
    {
     "data": {
      "text/plain": [
       "set()"
      ]
     },
     "execution_count": 51,
     "metadata": {},
     "output_type": "execute_result"
    }
   ],
   "source": [
    "# Check for any differences between the two dataset\n",
    "set(act_2018.state).symmetric_difference(sat_2018.state)"
   ]
  },
  {
   "cell_type": "code",
   "execution_count": 52,
   "metadata": {},
   "outputs": [
    {
     "data": {
      "text/html": [
       "<div>\n",
       "<style scoped>\n",
       "    .dataframe tbody tr th:only-of-type {\n",
       "        vertical-align: middle;\n",
       "    }\n",
       "\n",
       "    .dataframe tbody tr th {\n",
       "        vertical-align: top;\n",
       "    }\n",
       "\n",
       "    .dataframe thead th {\n",
       "        text-align: right;\n",
       "    }\n",
       "</style>\n",
       "<table border=\"1\" class=\"dataframe\">\n",
       "  <thead>\n",
       "    <tr style=\"text-align: right;\">\n",
       "      <th></th>\n",
       "      <th>state</th>\n",
       "      <th>sat_participation_18</th>\n",
       "      <th>sat_erw_18</th>\n",
       "      <th>sat_math_18</th>\n",
       "      <th>sat_total_average_18</th>\n",
       "      <th>act_participation_18</th>\n",
       "      <th>act_total_average_18</th>\n",
       "    </tr>\n",
       "  </thead>\n",
       "  <tbody>\n",
       "    <tr>\n",
       "      <th>0</th>\n",
       "      <td>Alabama</td>\n",
       "      <td>0.06</td>\n",
       "      <td>595</td>\n",
       "      <td>571</td>\n",
       "      <td>1166</td>\n",
       "      <td>1.00</td>\n",
       "      <td>19.1</td>\n",
       "    </tr>\n",
       "    <tr>\n",
       "      <th>1</th>\n",
       "      <td>Alaska</td>\n",
       "      <td>0.43</td>\n",
       "      <td>562</td>\n",
       "      <td>544</td>\n",
       "      <td>1106</td>\n",
       "      <td>0.33</td>\n",
       "      <td>20.8</td>\n",
       "    </tr>\n",
       "    <tr>\n",
       "      <th>2</th>\n",
       "      <td>Arizona</td>\n",
       "      <td>0.29</td>\n",
       "      <td>577</td>\n",
       "      <td>572</td>\n",
       "      <td>1149</td>\n",
       "      <td>0.66</td>\n",
       "      <td>19.2</td>\n",
       "    </tr>\n",
       "    <tr>\n",
       "      <th>3</th>\n",
       "      <td>Arkansas</td>\n",
       "      <td>0.05</td>\n",
       "      <td>592</td>\n",
       "      <td>576</td>\n",
       "      <td>1169</td>\n",
       "      <td>1.00</td>\n",
       "      <td>19.4</td>\n",
       "    </tr>\n",
       "    <tr>\n",
       "      <th>4</th>\n",
       "      <td>California</td>\n",
       "      <td>0.60</td>\n",
       "      <td>540</td>\n",
       "      <td>536</td>\n",
       "      <td>1076</td>\n",
       "      <td>0.27</td>\n",
       "      <td>22.7</td>\n",
       "    </tr>\n",
       "  </tbody>\n",
       "</table>\n",
       "</div>"
      ],
      "text/plain": [
       "        state  sat_participation_18  sat_erw_18  sat_math_18  \\\n",
       "0     Alabama                  0.06         595          571   \n",
       "1      Alaska                  0.43         562          544   \n",
       "2     Arizona                  0.29         577          572   \n",
       "3    Arkansas                  0.05         592          576   \n",
       "4  California                  0.60         540          536   \n",
       "\n",
       "   sat_total_average_18  act_participation_18  act_total_average_18  \n",
       "0                  1166                  1.00                  19.1  \n",
       "1                  1106                  0.33                  20.8  \n",
       "2                  1149                  0.66                  19.2  \n",
       "3                  1169                  1.00                  19.4  \n",
       "4                  1076                  0.27                  22.7  "
      ]
     },
     "execution_count": 52,
     "metadata": {},
     "output_type": "execute_result"
    }
   ],
   "source": [
    "merged_tests_2018 = pd.merge(sat_2018,act_2018,how='inner')\n",
    "\n",
    "merged_tests_2018.head()"
   ]
  },
  {
   "cell_type": "code",
   "execution_count": 53,
   "metadata": {},
   "outputs": [
    {
     "data": {
      "text/plain": [
       "Index(['state', 'sat_participation_18', 'sat_erw_18', 'sat_math_18',\n",
       "       'sat_total_average_18', 'act_participation_18', 'act_total_average_18'],\n",
       "      dtype='object')"
      ]
     },
     "execution_count": 53,
     "metadata": {},
     "output_type": "execute_result"
    }
   ],
   "source": [
    "# Checking the columns in the newly merged dataset\n",
    "merged_tests_2018.columns"
   ]
  },
  {
   "cell_type": "code",
   "execution_count": 54,
   "metadata": {},
   "outputs": [
    {
     "data": {
      "text/html": [
       "<div>\n",
       "<style scoped>\n",
       "    .dataframe tbody tr th:only-of-type {\n",
       "        vertical-align: middle;\n",
       "    }\n",
       "\n",
       "    .dataframe tbody tr th {\n",
       "        vertical-align: top;\n",
       "    }\n",
       "\n",
       "    .dataframe thead th {\n",
       "        text-align: right;\n",
       "    }\n",
       "</style>\n",
       "<table border=\"1\" class=\"dataframe\">\n",
       "  <thead>\n",
       "    <tr style=\"text-align: right;\">\n",
       "      <th></th>\n",
       "      <th>state</th>\n",
       "      <th>sat_participation_18</th>\n",
       "      <th>sat_total_average_18</th>\n",
       "      <th>act_participation_18</th>\n",
       "      <th>act_total_average_18</th>\n",
       "    </tr>\n",
       "  </thead>\n",
       "  <tbody>\n",
       "    <tr>\n",
       "      <th>47</th>\n",
       "      <td>Washington</td>\n",
       "      <td>0.69</td>\n",
       "      <td>1081</td>\n",
       "      <td>0.24</td>\n",
       "      <td>22.2</td>\n",
       "    </tr>\n",
       "    <tr>\n",
       "      <th>48</th>\n",
       "      <td>West Virginia</td>\n",
       "      <td>0.28</td>\n",
       "      <td>999</td>\n",
       "      <td>0.65</td>\n",
       "      <td>20.3</td>\n",
       "    </tr>\n",
       "    <tr>\n",
       "      <th>49</th>\n",
       "      <td>Wisconsin</td>\n",
       "      <td>0.03</td>\n",
       "      <td>1294</td>\n",
       "      <td>1.00</td>\n",
       "      <td>20.5</td>\n",
       "    </tr>\n",
       "    <tr>\n",
       "      <th>50</th>\n",
       "      <td>Wyoming</td>\n",
       "      <td>0.03</td>\n",
       "      <td>1257</td>\n",
       "      <td>1.00</td>\n",
       "      <td>20.0</td>\n",
       "    </tr>\n",
       "    <tr>\n",
       "      <th>51</th>\n",
       "      <td>National</td>\n",
       "      <td>0.52</td>\n",
       "      <td>1098</td>\n",
       "      <td>0.66</td>\n",
       "      <td>21.3</td>\n",
       "    </tr>\n",
       "  </tbody>\n",
       "</table>\n",
       "</div>"
      ],
      "text/plain": [
       "            state  sat_participation_18  sat_total_average_18  \\\n",
       "47     Washington                  0.69                  1081   \n",
       "48  West Virginia                  0.28                   999   \n",
       "49      Wisconsin                  0.03                  1294   \n",
       "50        Wyoming                  0.03                  1257   \n",
       "51       National                  0.52                  1098   \n",
       "\n",
       "    act_participation_18  act_total_average_18  \n",
       "47                  0.24                  22.2  \n",
       "48                  0.65                  20.3  \n",
       "49                  1.00                  20.5  \n",
       "50                  1.00                  20.0  \n",
       "51                  0.66                  21.3  "
      ]
     },
     "execution_count": 54,
     "metadata": {},
     "output_type": "execute_result"
    }
   ],
   "source": [
    "# Dropping the individual subjects from the dataset\n",
    "merged_tests_2018.drop(['sat_erw_18','sat_math_18'],axis =1,inplace=True)\n",
    "\n",
    "merged_tests_2018.tail()"
   ]
  },
  {
   "cell_type": "code",
   "execution_count": 55,
   "metadata": {},
   "outputs": [
    {
     "data": {
      "text/plain": [
       "set()"
      ]
     },
     "execution_count": 55,
     "metadata": {},
     "output_type": "execute_result"
    }
   ],
   "source": [
    "# Ensuring that the merged data sets for both 2017 and 2018 are similar\n",
    "set(merged_tests_2017.state).symmetric_difference(merged_tests_2018.state)"
   ]
  },
  {
   "cell_type": "markdown",
   "metadata": {},
   "source": [
    "### Import and cleaning ACT 2019 data\n"
   ]
  },
  {
   "cell_type": "code",
   "execution_count": 56,
   "metadata": {},
   "outputs": [
    {
     "data": {
      "text/html": [
       "<div>\n",
       "<style scoped>\n",
       "    .dataframe tbody tr th:only-of-type {\n",
       "        vertical-align: middle;\n",
       "    }\n",
       "\n",
       "    .dataframe tbody tr th {\n",
       "        vertical-align: top;\n",
       "    }\n",
       "\n",
       "    .dataframe thead th {\n",
       "        text-align: right;\n",
       "    }\n",
       "</style>\n",
       "<table border=\"1\" class=\"dataframe\">\n",
       "  <thead>\n",
       "    <tr style=\"text-align: right;\">\n",
       "      <th></th>\n",
       "      <th>State</th>\n",
       "      <th>Participation</th>\n",
       "      <th>Composite</th>\n",
       "    </tr>\n",
       "  </thead>\n",
       "  <tbody>\n",
       "    <tr>\n",
       "      <th>0</th>\n",
       "      <td>Alabama</td>\n",
       "      <td>100%</td>\n",
       "      <td>18.9</td>\n",
       "    </tr>\n",
       "    <tr>\n",
       "      <th>1</th>\n",
       "      <td>Alaska</td>\n",
       "      <td>38%</td>\n",
       "      <td>20.1</td>\n",
       "    </tr>\n",
       "    <tr>\n",
       "      <th>2</th>\n",
       "      <td>Arizona</td>\n",
       "      <td>73%</td>\n",
       "      <td>19.0</td>\n",
       "    </tr>\n",
       "    <tr>\n",
       "      <th>3</th>\n",
       "      <td>Arkansas</td>\n",
       "      <td>100%</td>\n",
       "      <td>19.3</td>\n",
       "    </tr>\n",
       "    <tr>\n",
       "      <th>4</th>\n",
       "      <td>California</td>\n",
       "      <td>23%</td>\n",
       "      <td>22.6</td>\n",
       "    </tr>\n",
       "  </tbody>\n",
       "</table>\n",
       "</div>"
      ],
      "text/plain": [
       "        State Participation  Composite\n",
       "0     Alabama          100%       18.9\n",
       "1      Alaska           38%       20.1\n",
       "2     Arizona           73%       19.0\n",
       "3    Arkansas          100%       19.3\n",
       "4  California           23%       22.6"
      ]
     },
     "execution_count": 56,
     "metadata": {},
     "output_type": "execute_result"
    }
   ],
   "source": [
    "# Importing the data for ACT 2019\n",
    "act_2019 = pd.read_csv(\"../data/act_2019.csv\")\n",
    "\n",
    "act_2019.head()"
   ]
  },
  {
   "cell_type": "code",
   "execution_count": 57,
   "metadata": {},
   "outputs": [
    {
     "data": {
      "text/plain": [
       "(52, 3)"
      ]
     },
     "execution_count": 57,
     "metadata": {},
     "output_type": "execute_result"
    }
   ],
   "source": [
    "# Ensuring the row count is similar to the previous datasets\n",
    "act_2019.shape"
   ]
  },
  {
   "cell_type": "code",
   "execution_count": 58,
   "metadata": {},
   "outputs": [
    {
     "data": {
      "text/html": [
       "<div>\n",
       "<style scoped>\n",
       "    .dataframe tbody tr th:only-of-type {\n",
       "        vertical-align: middle;\n",
       "    }\n",
       "\n",
       "    .dataframe tbody tr th {\n",
       "        vertical-align: top;\n",
       "    }\n",
       "\n",
       "    .dataframe thead th {\n",
       "        text-align: right;\n",
       "    }\n",
       "</style>\n",
       "<table border=\"1\" class=\"dataframe\">\n",
       "  <thead>\n",
       "    <tr style=\"text-align: right;\">\n",
       "      <th></th>\n",
       "      <th>State</th>\n",
       "      <th>Participation</th>\n",
       "      <th>Composite</th>\n",
       "    </tr>\n",
       "  </thead>\n",
       "  <tbody>\n",
       "  </tbody>\n",
       "</table>\n",
       "</div>"
      ],
      "text/plain": [
       "Empty DataFrame\n",
       "Columns: [State, Participation, Composite]\n",
       "Index: []"
      ]
     },
     "execution_count": 58,
     "metadata": {},
     "output_type": "execute_result"
    }
   ],
   "source": [
    "# Checking for any duplicated rows in state\n",
    "act_2019[act_2019.duplicated('State')]"
   ]
  },
  {
   "cell_type": "code",
   "execution_count": 59,
   "metadata": {},
   "outputs": [
    {
     "data": {
      "text/plain": [
       "set()"
      ]
     },
     "execution_count": 59,
     "metadata": {},
     "output_type": "execute_result"
    }
   ],
   "source": [
    "# Checking for any differences in state\n",
    "set(merged_tests_2017.state).symmetric_difference(act_2019.State)"
   ]
  },
  {
   "cell_type": "code",
   "execution_count": 60,
   "metadata": {
    "scrolled": true
   },
   "outputs": [
    {
     "name": "stdout",
     "output_type": "stream",
     "text": [
      "<class 'pandas.core.frame.DataFrame'>\n",
      "RangeIndex: 52 entries, 0 to 51\n",
      "Data columns (total 3 columns):\n",
      " #   Column         Non-Null Count  Dtype  \n",
      "---  ------         --------------  -----  \n",
      " 0   State          52 non-null     object \n",
      " 1   Participation  52 non-null     object \n",
      " 2   Composite      52 non-null     float64\n",
      "dtypes: float64(1), object(2)\n",
      "memory usage: 1.3+ KB\n"
     ]
    }
   ],
   "source": [
    "# Checking for datatype and any null values\n",
    "act_2019.info()"
   ]
  },
  {
   "cell_type": "code",
   "execution_count": 61,
   "metadata": {},
   "outputs": [
    {
     "data": {
      "text/html": [
       "<div>\n",
       "<style scoped>\n",
       "    .dataframe tbody tr th:only-of-type {\n",
       "        vertical-align: middle;\n",
       "    }\n",
       "\n",
       "    .dataframe tbody tr th {\n",
       "        vertical-align: top;\n",
       "    }\n",
       "\n",
       "    .dataframe thead th {\n",
       "        text-align: right;\n",
       "    }\n",
       "</style>\n",
       "<table border=\"1\" class=\"dataframe\">\n",
       "  <thead>\n",
       "    <tr style=\"text-align: right;\">\n",
       "      <th></th>\n",
       "      <th>State</th>\n",
       "      <th>Participation</th>\n",
       "      <th>Composite</th>\n",
       "    </tr>\n",
       "  </thead>\n",
       "  <tbody>\n",
       "    <tr>\n",
       "      <th>47</th>\n",
       "      <td>Washington</td>\n",
       "      <td>0.24</td>\n",
       "      <td>22.1</td>\n",
       "    </tr>\n",
       "    <tr>\n",
       "      <th>48</th>\n",
       "      <td>West Virginia</td>\n",
       "      <td>0.49</td>\n",
       "      <td>20.8</td>\n",
       "    </tr>\n",
       "    <tr>\n",
       "      <th>49</th>\n",
       "      <td>Wisconsin</td>\n",
       "      <td>1.00</td>\n",
       "      <td>20.3</td>\n",
       "    </tr>\n",
       "    <tr>\n",
       "      <th>50</th>\n",
       "      <td>Wyoming</td>\n",
       "      <td>1.00</td>\n",
       "      <td>19.8</td>\n",
       "    </tr>\n",
       "    <tr>\n",
       "      <th>51</th>\n",
       "      <td>National</td>\n",
       "      <td>0.52</td>\n",
       "      <td>20.7</td>\n",
       "    </tr>\n",
       "  </tbody>\n",
       "</table>\n",
       "</div>"
      ],
      "text/plain": [
       "            State  Participation  Composite\n",
       "47     Washington           0.24       22.1\n",
       "48  West Virginia           0.49       20.8\n",
       "49      Wisconsin           1.00       20.3\n",
       "50        Wyoming           1.00       19.8\n",
       "51       National           0.52       20.7"
      ]
     },
     "execution_count": 61,
     "metadata": {},
     "output_type": "execute_result"
    }
   ],
   "source": [
    "# Applying the function to remove % from the values in participation, then convert them to decimal and float\n",
    "act_2019.Participation = act_2019.Participation.apply(decimal_converter)\n",
    "# Checking if the data set is in place\n",
    "act_2019.tail()"
   ]
  },
  {
   "cell_type": "code",
   "execution_count": 62,
   "metadata": {},
   "outputs": [
    {
     "data": {
      "text/html": [
       "<div>\n",
       "<style scoped>\n",
       "    .dataframe tbody tr th:only-of-type {\n",
       "        vertical-align: middle;\n",
       "    }\n",
       "\n",
       "    .dataframe tbody tr th {\n",
       "        vertical-align: top;\n",
       "    }\n",
       "\n",
       "    .dataframe thead th {\n",
       "        text-align: right;\n",
       "    }\n",
       "</style>\n",
       "<table border=\"1\" class=\"dataframe\">\n",
       "  <thead>\n",
       "    <tr style=\"text-align: right;\">\n",
       "      <th></th>\n",
       "      <th>state</th>\n",
       "      <th>act_participation_19</th>\n",
       "      <th>act_total_average_19</th>\n",
       "    </tr>\n",
       "  </thead>\n",
       "  <tbody>\n",
       "    <tr>\n",
       "      <th>0</th>\n",
       "      <td>Alabama</td>\n",
       "      <td>1.00</td>\n",
       "      <td>18.9</td>\n",
       "    </tr>\n",
       "    <tr>\n",
       "      <th>1</th>\n",
       "      <td>Alaska</td>\n",
       "      <td>0.38</td>\n",
       "      <td>20.1</td>\n",
       "    </tr>\n",
       "    <tr>\n",
       "      <th>2</th>\n",
       "      <td>Arizona</td>\n",
       "      <td>0.73</td>\n",
       "      <td>19.0</td>\n",
       "    </tr>\n",
       "    <tr>\n",
       "      <th>3</th>\n",
       "      <td>Arkansas</td>\n",
       "      <td>1.00</td>\n",
       "      <td>19.3</td>\n",
       "    </tr>\n",
       "    <tr>\n",
       "      <th>4</th>\n",
       "      <td>California</td>\n",
       "      <td>0.23</td>\n",
       "      <td>22.6</td>\n",
       "    </tr>\n",
       "  </tbody>\n",
       "</table>\n",
       "</div>"
      ],
      "text/plain": [
       "        state  act_participation_19  act_total_average_19\n",
       "0     Alabama                  1.00                  18.9\n",
       "1      Alaska                  0.38                  20.1\n",
       "2     Arizona                  0.73                  19.0\n",
       "3    Arkansas                  1.00                  19.3\n",
       "4  California                  0.23                  22.6"
      ]
     },
     "execution_count": 62,
     "metadata": {},
     "output_type": "execute_result"
    }
   ],
   "source": [
    "# Renaming the columns of the data set to be act 2019 specific\n",
    "act_2019.rename(columns = {\n",
    "    'Participation': 'act_participation_19',\n",
    "    'Composite': 'act_total_average_19'\n",
    "},inplace=True)\n",
    "# Lower case every column\n",
    "act_2019.columns = [column.lower() for column in act_2019.columns]\n",
    "# Check if the changes are in place\n",
    "act_2019.head()"
   ]
  },
  {
   "cell_type": "markdown",
   "metadata": {},
   "source": [
    "### Import and cleaning SAT 2019 data"
   ]
  },
  {
   "cell_type": "code",
   "execution_count": 63,
   "metadata": {},
   "outputs": [
    {
     "data": {
      "text/html": [
       "<div>\n",
       "<style scoped>\n",
       "    .dataframe tbody tr th:only-of-type {\n",
       "        vertical-align: middle;\n",
       "    }\n",
       "\n",
       "    .dataframe tbody tr th {\n",
       "        vertical-align: top;\n",
       "    }\n",
       "\n",
       "    .dataframe thead th {\n",
       "        text-align: right;\n",
       "    }\n",
       "</style>\n",
       "<table border=\"1\" class=\"dataframe\">\n",
       "  <thead>\n",
       "    <tr style=\"text-align: right;\">\n",
       "      <th></th>\n",
       "      <th>State</th>\n",
       "      <th>Participation Rate</th>\n",
       "      <th>EBRW</th>\n",
       "      <th>Math</th>\n",
       "      <th>Total</th>\n",
       "    </tr>\n",
       "  </thead>\n",
       "  <tbody>\n",
       "    <tr>\n",
       "      <th>0</th>\n",
       "      <td>Alabama</td>\n",
       "      <td>7%</td>\n",
       "      <td>583</td>\n",
       "      <td>560</td>\n",
       "      <td>1143</td>\n",
       "    </tr>\n",
       "    <tr>\n",
       "      <th>1</th>\n",
       "      <td>Alaska</td>\n",
       "      <td>41%</td>\n",
       "      <td>556</td>\n",
       "      <td>541</td>\n",
       "      <td>1097</td>\n",
       "    </tr>\n",
       "    <tr>\n",
       "      <th>2</th>\n",
       "      <td>Arizona</td>\n",
       "      <td>31%</td>\n",
       "      <td>569</td>\n",
       "      <td>565</td>\n",
       "      <td>1134</td>\n",
       "    </tr>\n",
       "    <tr>\n",
       "      <th>3</th>\n",
       "      <td>Arkansas</td>\n",
       "      <td>6%</td>\n",
       "      <td>582</td>\n",
       "      <td>559</td>\n",
       "      <td>1141</td>\n",
       "    </tr>\n",
       "    <tr>\n",
       "      <th>4</th>\n",
       "      <td>California</td>\n",
       "      <td>63%</td>\n",
       "      <td>534</td>\n",
       "      <td>531</td>\n",
       "      <td>1065</td>\n",
       "    </tr>\n",
       "  </tbody>\n",
       "</table>\n",
       "</div>"
      ],
      "text/plain": [
       "        State Participation Rate  EBRW  Math  Total\n",
       "0     Alabama                 7%   583   560   1143\n",
       "1      Alaska                41%   556   541   1097\n",
       "2     Arizona                31%   569   565   1134\n",
       "3    Arkansas                 6%   582   559   1141\n",
       "4  California                63%   534   531   1065"
      ]
     },
     "execution_count": 63,
     "metadata": {},
     "output_type": "execute_result"
    }
   ],
   "source": [
    "# Importing sat 2019  \n",
    "sat_2019 = pd.read_csv(\"../data/sat_2019.csv\")\n",
    "# Checking the head of data set\n",
    "sat_2019.head()"
   ]
  },
  {
   "cell_type": "code",
   "execution_count": 64,
   "metadata": {},
   "outputs": [
    {
     "data": {
      "text/plain": [
       "(53, 5)"
      ]
     },
     "execution_count": 64,
     "metadata": {},
     "output_type": "execute_result"
    }
   ],
   "source": [
    "# Checking the shape of the data set, realized theres 53 rows\n",
    "sat_2019.shape"
   ]
  },
  {
   "cell_type": "code",
   "execution_count": 65,
   "metadata": {},
   "outputs": [
    {
     "name": "stdout",
     "output_type": "stream",
     "text": [
      "<class 'pandas.core.frame.DataFrame'>\n",
      "RangeIndex: 53 entries, 0 to 52\n",
      "Data columns (total 5 columns):\n",
      " #   Column              Non-Null Count  Dtype \n",
      "---  ------              --------------  ----- \n",
      " 0   State               53 non-null     object\n",
      " 1   Participation Rate  53 non-null     object\n",
      " 2   EBRW                53 non-null     int64 \n",
      " 3   Math                53 non-null     int64 \n",
      " 4   Total               53 non-null     int64 \n",
      "dtypes: int64(3), object(2)\n",
      "memory usage: 2.2+ KB\n"
     ]
    }
   ],
   "source": [
    "# Checking the data type of the columns and also if there is any null values\n",
    "sat_2019.info()"
   ]
  },
  {
   "cell_type": "code",
   "execution_count": 66,
   "metadata": {},
   "outputs": [
    {
     "data": {
      "text/plain": [
       "{'National', 'Puerto Rico', 'Virgin Islands'}"
      ]
     },
     "execution_count": 66,
     "metadata": {},
     "output_type": "execute_result"
    }
   ],
   "source": [
    "# Checking for any differences in the column state and found 3 differences\n",
    "set(merged_tests_2018.state).symmetric_difference(sat_2019.State)"
   ]
  },
  {
   "cell_type": "markdown",
   "metadata": {},
   "source": [
    "###### Checking if the merged data sets contains Puerto Rico & Virgin Islands"
   ]
  },
  {
   "cell_type": "code",
   "execution_count": 67,
   "metadata": {},
   "outputs": [
    {
     "data": {
      "text/html": [
       "<div>\n",
       "<style scoped>\n",
       "    .dataframe tbody tr th:only-of-type {\n",
       "        vertical-align: middle;\n",
       "    }\n",
       "\n",
       "    .dataframe tbody tr th {\n",
       "        vertical-align: top;\n",
       "    }\n",
       "\n",
       "    .dataframe thead th {\n",
       "        text-align: right;\n",
       "    }\n",
       "</style>\n",
       "<table border=\"1\" class=\"dataframe\">\n",
       "  <thead>\n",
       "    <tr style=\"text-align: right;\">\n",
       "      <th></th>\n",
       "      <th>state</th>\n",
       "      <th>sat_participation_17</th>\n",
       "      <th>sat_total_average_17</th>\n",
       "      <th>act_participation_17</th>\n",
       "      <th>act_total_average_17</th>\n",
       "    </tr>\n",
       "  </thead>\n",
       "  <tbody>\n",
       "  </tbody>\n",
       "</table>\n",
       "</div>"
      ],
      "text/plain": [
       "Empty DataFrame\n",
       "Columns: [state, sat_participation_17, sat_total_average_17, act_participation_17, act_total_average_17]\n",
       "Index: []"
      ]
     },
     "execution_count": 67,
     "metadata": {},
     "output_type": "execute_result"
    }
   ],
   "source": [
    "# Taking that the merged dataset is the good set, check if they consist of Puerto Rico and Virgin Islands\n",
    "merged_tests_2017.loc[merged_tests_2017.state == 'Puerto Rico']"
   ]
  },
  {
   "cell_type": "code",
   "execution_count": 68,
   "metadata": {},
   "outputs": [
    {
     "data": {
      "text/html": [
       "<div>\n",
       "<style scoped>\n",
       "    .dataframe tbody tr th:only-of-type {\n",
       "        vertical-align: middle;\n",
       "    }\n",
       "\n",
       "    .dataframe tbody tr th {\n",
       "        vertical-align: top;\n",
       "    }\n",
       "\n",
       "    .dataframe thead th {\n",
       "        text-align: right;\n",
       "    }\n",
       "</style>\n",
       "<table border=\"1\" class=\"dataframe\">\n",
       "  <thead>\n",
       "    <tr style=\"text-align: right;\">\n",
       "      <th></th>\n",
       "      <th>state</th>\n",
       "      <th>sat_participation_17</th>\n",
       "      <th>sat_total_average_17</th>\n",
       "      <th>act_participation_17</th>\n",
       "      <th>act_total_average_17</th>\n",
       "    </tr>\n",
       "  </thead>\n",
       "  <tbody>\n",
       "  </tbody>\n",
       "</table>\n",
       "</div>"
      ],
      "text/plain": [
       "Empty DataFrame\n",
       "Columns: [state, sat_participation_17, sat_total_average_17, act_participation_17, act_total_average_17]\n",
       "Index: []"
      ]
     },
     "execution_count": 68,
     "metadata": {},
     "output_type": "execute_result"
    }
   ],
   "source": [
    "merged_tests_2017.loc[merged_tests_2017.state == 'Virgin Islands']"
   ]
  },
  {
   "cell_type": "code",
   "execution_count": 69,
   "metadata": {},
   "outputs": [
    {
     "data": {
      "text/html": [
       "<div>\n",
       "<style scoped>\n",
       "    .dataframe tbody tr th:only-of-type {\n",
       "        vertical-align: middle;\n",
       "    }\n",
       "\n",
       "    .dataframe tbody tr th {\n",
       "        vertical-align: top;\n",
       "    }\n",
       "\n",
       "    .dataframe thead th {\n",
       "        text-align: right;\n",
       "    }\n",
       "</style>\n",
       "<table border=\"1\" class=\"dataframe\">\n",
       "  <thead>\n",
       "    <tr style=\"text-align: right;\">\n",
       "      <th></th>\n",
       "      <th>state</th>\n",
       "      <th>sat_participation_18</th>\n",
       "      <th>sat_total_average_18</th>\n",
       "      <th>act_participation_18</th>\n",
       "      <th>act_total_average_18</th>\n",
       "    </tr>\n",
       "  </thead>\n",
       "  <tbody>\n",
       "  </tbody>\n",
       "</table>\n",
       "</div>"
      ],
      "text/plain": [
       "Empty DataFrame\n",
       "Columns: [state, sat_participation_18, sat_total_average_18, act_participation_18, act_total_average_18]\n",
       "Index: []"
      ]
     },
     "execution_count": 69,
     "metadata": {},
     "output_type": "execute_result"
    }
   ],
   "source": [
    "merged_tests_2018.loc[merged_tests_2018.state == 'Puerto Rico']"
   ]
  },
  {
   "cell_type": "code",
   "execution_count": 70,
   "metadata": {},
   "outputs": [
    {
     "data": {
      "text/html": [
       "<div>\n",
       "<style scoped>\n",
       "    .dataframe tbody tr th:only-of-type {\n",
       "        vertical-align: middle;\n",
       "    }\n",
       "\n",
       "    .dataframe tbody tr th {\n",
       "        vertical-align: top;\n",
       "    }\n",
       "\n",
       "    .dataframe thead th {\n",
       "        text-align: right;\n",
       "    }\n",
       "</style>\n",
       "<table border=\"1\" class=\"dataframe\">\n",
       "  <thead>\n",
       "    <tr style=\"text-align: right;\">\n",
       "      <th></th>\n",
       "      <th>state</th>\n",
       "      <th>sat_participation_18</th>\n",
       "      <th>sat_total_average_18</th>\n",
       "      <th>act_participation_18</th>\n",
       "      <th>act_total_average_18</th>\n",
       "    </tr>\n",
       "  </thead>\n",
       "  <tbody>\n",
       "  </tbody>\n",
       "</table>\n",
       "</div>"
      ],
      "text/plain": [
       "Empty DataFrame\n",
       "Columns: [state, sat_participation_18, sat_total_average_18, act_participation_18, act_total_average_18]\n",
       "Index: []"
      ]
     },
     "execution_count": 70,
     "metadata": {},
     "output_type": "execute_result"
    }
   ],
   "source": [
    "merged_tests_2018.loc[merged_tests_2018.state == 'Virgin Islands']"
   ]
  },
  {
   "cell_type": "code",
   "execution_count": 71,
   "metadata": {},
   "outputs": [
    {
     "data": {
      "text/html": [
       "<div>\n",
       "<style scoped>\n",
       "    .dataframe tbody tr th:only-of-type {\n",
       "        vertical-align: middle;\n",
       "    }\n",
       "\n",
       "    .dataframe tbody tr th {\n",
       "        vertical-align: top;\n",
       "    }\n",
       "\n",
       "    .dataframe thead th {\n",
       "        text-align: right;\n",
       "    }\n",
       "</style>\n",
       "<table border=\"1\" class=\"dataframe\">\n",
       "  <thead>\n",
       "    <tr style=\"text-align: right;\">\n",
       "      <th></th>\n",
       "      <th>State</th>\n",
       "      <th>Participation Rate</th>\n",
       "      <th>EBRW</th>\n",
       "      <th>Math</th>\n",
       "      <th>Total</th>\n",
       "    </tr>\n",
       "  </thead>\n",
       "  <tbody>\n",
       "    <tr>\n",
       "      <th>47</th>\n",
       "      <td>Virgin Islands</td>\n",
       "      <td>—</td>\n",
       "      <td>490</td>\n",
       "      <td>445</td>\n",
       "      <td>935</td>\n",
       "    </tr>\n",
       "  </tbody>\n",
       "</table>\n",
       "</div>"
      ],
      "text/plain": [
       "             State Participation Rate  EBRW  Math  Total\n",
       "47  Virgin Islands                  —   490   445    935"
      ]
     },
     "execution_count": 71,
     "metadata": {},
     "output_type": "execute_result"
    }
   ],
   "source": [
    "# Locating the index of Virgin Islands in sat 2019 dataset\n",
    "sat_2019.loc[sat_2019.State=='Virgin Islands']"
   ]
  },
  {
   "cell_type": "code",
   "execution_count": 72,
   "metadata": {},
   "outputs": [
    {
     "data": {
      "text/html": [
       "<div>\n",
       "<style scoped>\n",
       "    .dataframe tbody tr th:only-of-type {\n",
       "        vertical-align: middle;\n",
       "    }\n",
       "\n",
       "    .dataframe tbody tr th {\n",
       "        vertical-align: top;\n",
       "    }\n",
       "\n",
       "    .dataframe thead th {\n",
       "        text-align: right;\n",
       "    }\n",
       "</style>\n",
       "<table border=\"1\" class=\"dataframe\">\n",
       "  <thead>\n",
       "    <tr style=\"text-align: right;\">\n",
       "      <th></th>\n",
       "      <th>State</th>\n",
       "      <th>Participation Rate</th>\n",
       "      <th>EBRW</th>\n",
       "      <th>Math</th>\n",
       "      <th>Total</th>\n",
       "    </tr>\n",
       "  </thead>\n",
       "  <tbody>\n",
       "    <tr>\n",
       "      <th>39</th>\n",
       "      <td>Puerto Rico</td>\n",
       "      <td>—</td>\n",
       "      <td>483</td>\n",
       "      <td>462</td>\n",
       "      <td>944</td>\n",
       "    </tr>\n",
       "  </tbody>\n",
       "</table>\n",
       "</div>"
      ],
      "text/plain": [
       "          State Participation Rate  EBRW  Math  Total\n",
       "39  Puerto Rico                  —   483   462    944"
      ]
     },
     "execution_count": 72,
     "metadata": {},
     "output_type": "execute_result"
    }
   ],
   "source": [
    "# Locating the index of Puerto Rico in sat 2019 dataset\n",
    "sat_2019[sat_2019.State=='Puerto Rico']"
   ]
  },
  {
   "cell_type": "code",
   "execution_count": 73,
   "metadata": {},
   "outputs": [],
   "source": [
    "# Drop both rows\n",
    "sat_2019 = sat_2019.drop([39,47])"
   ]
  },
  {
   "cell_type": "code",
   "execution_count": 74,
   "metadata": {},
   "outputs": [
    {
     "data": {
      "text/html": [
       "<div>\n",
       "<style scoped>\n",
       "    .dataframe tbody tr th:only-of-type {\n",
       "        vertical-align: middle;\n",
       "    }\n",
       "\n",
       "    .dataframe tbody tr th {\n",
       "        vertical-align: top;\n",
       "    }\n",
       "\n",
       "    .dataframe thead th {\n",
       "        text-align: right;\n",
       "    }\n",
       "</style>\n",
       "<table border=\"1\" class=\"dataframe\">\n",
       "  <thead>\n",
       "    <tr style=\"text-align: right;\">\n",
       "      <th></th>\n",
       "      <th>State</th>\n",
       "      <th>Participation Rate</th>\n",
       "      <th>EBRW</th>\n",
       "      <th>Math</th>\n",
       "      <th>Total</th>\n",
       "    </tr>\n",
       "  </thead>\n",
       "  <tbody>\n",
       "  </tbody>\n",
       "</table>\n",
       "</div>"
      ],
      "text/plain": [
       "Empty DataFrame\n",
       "Columns: [State, Participation Rate, EBRW, Math, Total]\n",
       "Index: []"
      ]
     },
     "execution_count": 74,
     "metadata": {},
     "output_type": "execute_result"
    }
   ],
   "source": [
    "# Checking for any duplicated data in state\n",
    "sat_2019[sat_2019.duplicated(['State'])]"
   ]
  },
  {
   "cell_type": "code",
   "execution_count": 75,
   "metadata": {},
   "outputs": [
    {
     "data": {
      "text/plain": [
       "(51, 5)"
      ]
     },
     "execution_count": 75,
     "metadata": {},
     "output_type": "execute_result"
    }
   ],
   "source": [
    "# Ensuring that the changes are in place\n",
    "sat_2019.shape"
   ]
  },
  {
   "cell_type": "code",
   "execution_count": 76,
   "metadata": {},
   "outputs": [
    {
     "data": {
      "text/html": [
       "<div>\n",
       "<style scoped>\n",
       "    .dataframe tbody tr th:only-of-type {\n",
       "        vertical-align: middle;\n",
       "    }\n",
       "\n",
       "    .dataframe tbody tr th {\n",
       "        vertical-align: top;\n",
       "    }\n",
       "\n",
       "    .dataframe thead th {\n",
       "        text-align: right;\n",
       "    }\n",
       "</style>\n",
       "<table border=\"1\" class=\"dataframe\">\n",
       "  <thead>\n",
       "    <tr style=\"text-align: right;\">\n",
       "      <th></th>\n",
       "      <th>State</th>\n",
       "      <th>Participation Rate</th>\n",
       "      <th>EBRW</th>\n",
       "      <th>Math</th>\n",
       "      <th>Total</th>\n",
       "    </tr>\n",
       "  </thead>\n",
       "  <tbody>\n",
       "    <tr>\n",
       "      <th>0</th>\n",
       "      <td>Alabama</td>\n",
       "      <td>7%</td>\n",
       "      <td>583</td>\n",
       "      <td>560</td>\n",
       "      <td>1143</td>\n",
       "    </tr>\n",
       "    <tr>\n",
       "      <th>1</th>\n",
       "      <td>Alaska</td>\n",
       "      <td>41%</td>\n",
       "      <td>556</td>\n",
       "      <td>541</td>\n",
       "      <td>1097</td>\n",
       "    </tr>\n",
       "    <tr>\n",
       "      <th>2</th>\n",
       "      <td>Arizona</td>\n",
       "      <td>31%</td>\n",
       "      <td>569</td>\n",
       "      <td>565</td>\n",
       "      <td>1134</td>\n",
       "    </tr>\n",
       "    <tr>\n",
       "      <th>3</th>\n",
       "      <td>Arkansas</td>\n",
       "      <td>6%</td>\n",
       "      <td>582</td>\n",
       "      <td>559</td>\n",
       "      <td>1141</td>\n",
       "    </tr>\n",
       "    <tr>\n",
       "      <th>4</th>\n",
       "      <td>California</td>\n",
       "      <td>63%</td>\n",
       "      <td>534</td>\n",
       "      <td>531</td>\n",
       "      <td>1065</td>\n",
       "    </tr>\n",
       "    <tr>\n",
       "      <th>5</th>\n",
       "      <td>Colorado</td>\n",
       "      <td>100%</td>\n",
       "      <td>518</td>\n",
       "      <td>506</td>\n",
       "      <td>1024</td>\n",
       "    </tr>\n",
       "    <tr>\n",
       "      <th>6</th>\n",
       "      <td>Connecticut</td>\n",
       "      <td>100%</td>\n",
       "      <td>529</td>\n",
       "      <td>516</td>\n",
       "      <td>1046</td>\n",
       "    </tr>\n",
       "    <tr>\n",
       "      <th>7</th>\n",
       "      <td>Delaware</td>\n",
       "      <td>100%</td>\n",
       "      <td>499</td>\n",
       "      <td>486</td>\n",
       "      <td>985</td>\n",
       "    </tr>\n",
       "    <tr>\n",
       "      <th>8</th>\n",
       "      <td>District of Columbia</td>\n",
       "      <td>94%</td>\n",
       "      <td>495</td>\n",
       "      <td>480</td>\n",
       "      <td>975</td>\n",
       "    </tr>\n",
       "    <tr>\n",
       "      <th>9</th>\n",
       "      <td>Florida</td>\n",
       "      <td>100%</td>\n",
       "      <td>516</td>\n",
       "      <td>483</td>\n",
       "      <td>999</td>\n",
       "    </tr>\n",
       "    <tr>\n",
       "      <th>10</th>\n",
       "      <td>Georgia</td>\n",
       "      <td>71%</td>\n",
       "      <td>538</td>\n",
       "      <td>519</td>\n",
       "      <td>1058</td>\n",
       "    </tr>\n",
       "    <tr>\n",
       "      <th>11</th>\n",
       "      <td>Hawaii</td>\n",
       "      <td>54%</td>\n",
       "      <td>550</td>\n",
       "      <td>550</td>\n",
       "      <td>1100</td>\n",
       "    </tr>\n",
       "    <tr>\n",
       "      <th>12</th>\n",
       "      <td>Idaho</td>\n",
       "      <td>100%</td>\n",
       "      <td>505</td>\n",
       "      <td>488</td>\n",
       "      <td>993</td>\n",
       "    </tr>\n",
       "    <tr>\n",
       "      <th>13</th>\n",
       "      <td>Illinois</td>\n",
       "      <td>100%</td>\n",
       "      <td>509</td>\n",
       "      <td>504</td>\n",
       "      <td>1013</td>\n",
       "    </tr>\n",
       "    <tr>\n",
       "      <th>14</th>\n",
       "      <td>Indiana</td>\n",
       "      <td>66%</td>\n",
       "      <td>543</td>\n",
       "      <td>537</td>\n",
       "      <td>1080</td>\n",
       "    </tr>\n",
       "    <tr>\n",
       "      <th>15</th>\n",
       "      <td>Iowa</td>\n",
       "      <td>3%</td>\n",
       "      <td>622</td>\n",
       "      <td>622</td>\n",
       "      <td>1244</td>\n",
       "    </tr>\n",
       "    <tr>\n",
       "      <th>16</th>\n",
       "      <td>Kansas</td>\n",
       "      <td>4%</td>\n",
       "      <td>618</td>\n",
       "      <td>623</td>\n",
       "      <td>1241</td>\n",
       "    </tr>\n",
       "    <tr>\n",
       "      <th>17</th>\n",
       "      <td>Kentucky</td>\n",
       "      <td>4%</td>\n",
       "      <td>620</td>\n",
       "      <td>612</td>\n",
       "      <td>1232</td>\n",
       "    </tr>\n",
       "    <tr>\n",
       "      <th>18</th>\n",
       "      <td>Louisiana</td>\n",
       "      <td>5%</td>\n",
       "      <td>610</td>\n",
       "      <td>591</td>\n",
       "      <td>1200</td>\n",
       "    </tr>\n",
       "    <tr>\n",
       "      <th>19</th>\n",
       "      <td>Maine</td>\n",
       "      <td>99%</td>\n",
       "      <td>512</td>\n",
       "      <td>502</td>\n",
       "      <td>1013</td>\n",
       "    </tr>\n",
       "    <tr>\n",
       "      <th>20</th>\n",
       "      <td>Maryland</td>\n",
       "      <td>82%</td>\n",
       "      <td>535</td>\n",
       "      <td>523</td>\n",
       "      <td>1058</td>\n",
       "    </tr>\n",
       "    <tr>\n",
       "      <th>21</th>\n",
       "      <td>Massachusetts</td>\n",
       "      <td>81%</td>\n",
       "      <td>559</td>\n",
       "      <td>561</td>\n",
       "      <td>1120</td>\n",
       "    </tr>\n",
       "    <tr>\n",
       "      <th>22</th>\n",
       "      <td>Michigan</td>\n",
       "      <td>100%</td>\n",
       "      <td>507</td>\n",
       "      <td>496</td>\n",
       "      <td>1003</td>\n",
       "    </tr>\n",
       "    <tr>\n",
       "      <th>23</th>\n",
       "      <td>Minnesota</td>\n",
       "      <td>4%</td>\n",
       "      <td>636</td>\n",
       "      <td>648</td>\n",
       "      <td>1284</td>\n",
       "    </tr>\n",
       "    <tr>\n",
       "      <th>24</th>\n",
       "      <td>Mississippi</td>\n",
       "      <td>3%</td>\n",
       "      <td>628</td>\n",
       "      <td>608</td>\n",
       "      <td>1237</td>\n",
       "    </tr>\n",
       "    <tr>\n",
       "      <th>25</th>\n",
       "      <td>Missouri</td>\n",
       "      <td>4%</td>\n",
       "      <td>622</td>\n",
       "      <td>615</td>\n",
       "      <td>1236</td>\n",
       "    </tr>\n",
       "    <tr>\n",
       "      <th>26</th>\n",
       "      <td>Montana</td>\n",
       "      <td>9%</td>\n",
       "      <td>603</td>\n",
       "      <td>596</td>\n",
       "      <td>1199</td>\n",
       "    </tr>\n",
       "    <tr>\n",
       "      <th>27</th>\n",
       "      <td>Nebraska</td>\n",
       "      <td>3%</td>\n",
       "      <td>628</td>\n",
       "      <td>631</td>\n",
       "      <td>1260</td>\n",
       "    </tr>\n",
       "    <tr>\n",
       "      <th>28</th>\n",
       "      <td>Nevada</td>\n",
       "      <td>20%</td>\n",
       "      <td>580</td>\n",
       "      <td>576</td>\n",
       "      <td>1156</td>\n",
       "    </tr>\n",
       "    <tr>\n",
       "      <th>29</th>\n",
       "      <td>New Hampshire</td>\n",
       "      <td>95%</td>\n",
       "      <td>533</td>\n",
       "      <td>526</td>\n",
       "      <td>1059</td>\n",
       "    </tr>\n",
       "    <tr>\n",
       "      <th>30</th>\n",
       "      <td>New Jersey</td>\n",
       "      <td>82%</td>\n",
       "      <td>544</td>\n",
       "      <td>545</td>\n",
       "      <td>1090</td>\n",
       "    </tr>\n",
       "    <tr>\n",
       "      <th>31</th>\n",
       "      <td>New Mexico</td>\n",
       "      <td>18%</td>\n",
       "      <td>543</td>\n",
       "      <td>530</td>\n",
       "      <td>1073</td>\n",
       "    </tr>\n",
       "    <tr>\n",
       "      <th>32</th>\n",
       "      <td>New York</td>\n",
       "      <td>79%</td>\n",
       "      <td>531</td>\n",
       "      <td>533</td>\n",
       "      <td>1064</td>\n",
       "    </tr>\n",
       "    <tr>\n",
       "      <th>33</th>\n",
       "      <td>North Carolina</td>\n",
       "      <td>51%</td>\n",
       "      <td>554</td>\n",
       "      <td>546</td>\n",
       "      <td>1100</td>\n",
       "    </tr>\n",
       "    <tr>\n",
       "      <th>34</th>\n",
       "      <td>North Dakota</td>\n",
       "      <td>2%</td>\n",
       "      <td>627</td>\n",
       "      <td>636</td>\n",
       "      <td>1263</td>\n",
       "    </tr>\n",
       "    <tr>\n",
       "      <th>35</th>\n",
       "      <td>Ohio</td>\n",
       "      <td>19%</td>\n",
       "      <td>550</td>\n",
       "      <td>548</td>\n",
       "      <td>1097</td>\n",
       "    </tr>\n",
       "    <tr>\n",
       "      <th>36</th>\n",
       "      <td>Oklahoma</td>\n",
       "      <td>22%</td>\n",
       "      <td>490</td>\n",
       "      <td>472</td>\n",
       "      <td>963</td>\n",
       "    </tr>\n",
       "    <tr>\n",
       "      <th>37</th>\n",
       "      <td>Oregon</td>\n",
       "      <td>51%</td>\n",
       "      <td>562</td>\n",
       "      <td>550</td>\n",
       "      <td>1112</td>\n",
       "    </tr>\n",
       "    <tr>\n",
       "      <th>38</th>\n",
       "      <td>Pennsylvania</td>\n",
       "      <td>70%</td>\n",
       "      <td>545</td>\n",
       "      <td>537</td>\n",
       "      <td>1082</td>\n",
       "    </tr>\n",
       "    <tr>\n",
       "      <th>39</th>\n",
       "      <td>Rhode Island</td>\n",
       "      <td>100%</td>\n",
       "      <td>503</td>\n",
       "      <td>492</td>\n",
       "      <td>995</td>\n",
       "    </tr>\n",
       "    <tr>\n",
       "      <th>40</th>\n",
       "      <td>South Carolina</td>\n",
       "      <td>68%</td>\n",
       "      <td>526</td>\n",
       "      <td>504</td>\n",
       "      <td>1030</td>\n",
       "    </tr>\n",
       "    <tr>\n",
       "      <th>41</th>\n",
       "      <td>South Dakota</td>\n",
       "      <td>3%</td>\n",
       "      <td>633</td>\n",
       "      <td>635</td>\n",
       "      <td>1268</td>\n",
       "    </tr>\n",
       "    <tr>\n",
       "      <th>42</th>\n",
       "      <td>Tennessee</td>\n",
       "      <td>7%</td>\n",
       "      <td>618</td>\n",
       "      <td>602</td>\n",
       "      <td>1220</td>\n",
       "    </tr>\n",
       "    <tr>\n",
       "      <th>43</th>\n",
       "      <td>Texas</td>\n",
       "      <td>68%</td>\n",
       "      <td>515</td>\n",
       "      <td>507</td>\n",
       "      <td>1022</td>\n",
       "    </tr>\n",
       "    <tr>\n",
       "      <th>44</th>\n",
       "      <td>Utah</td>\n",
       "      <td>4%</td>\n",
       "      <td>614</td>\n",
       "      <td>615</td>\n",
       "      <td>1230</td>\n",
       "    </tr>\n",
       "    <tr>\n",
       "      <th>45</th>\n",
       "      <td>Vermont</td>\n",
       "      <td>66%</td>\n",
       "      <td>560</td>\n",
       "      <td>546</td>\n",
       "      <td>1106</td>\n",
       "    </tr>\n",
       "    <tr>\n",
       "      <th>46</th>\n",
       "      <td>Virginia</td>\n",
       "      <td>68%</td>\n",
       "      <td>567</td>\n",
       "      <td>551</td>\n",
       "      <td>1119</td>\n",
       "    </tr>\n",
       "    <tr>\n",
       "      <th>47</th>\n",
       "      <td>Washington</td>\n",
       "      <td>70%</td>\n",
       "      <td>539</td>\n",
       "      <td>535</td>\n",
       "      <td>1074</td>\n",
       "    </tr>\n",
       "    <tr>\n",
       "      <th>48</th>\n",
       "      <td>West Virginia</td>\n",
       "      <td>99%</td>\n",
       "      <td>483</td>\n",
       "      <td>460</td>\n",
       "      <td>943</td>\n",
       "    </tr>\n",
       "    <tr>\n",
       "      <th>49</th>\n",
       "      <td>Wisconsin</td>\n",
       "      <td>3%</td>\n",
       "      <td>635</td>\n",
       "      <td>648</td>\n",
       "      <td>1283</td>\n",
       "    </tr>\n",
       "    <tr>\n",
       "      <th>50</th>\n",
       "      <td>Wyoming</td>\n",
       "      <td>3%</td>\n",
       "      <td>623</td>\n",
       "      <td>615</td>\n",
       "      <td>1238</td>\n",
       "    </tr>\n",
       "  </tbody>\n",
       "</table>\n",
       "</div>"
      ],
      "text/plain": [
       "                   State Participation Rate  EBRW  Math  Total\n",
       "0                Alabama                 7%   583   560   1143\n",
       "1                 Alaska                41%   556   541   1097\n",
       "2                Arizona                31%   569   565   1134\n",
       "3               Arkansas                 6%   582   559   1141\n",
       "4             California                63%   534   531   1065\n",
       "5               Colorado               100%   518   506   1024\n",
       "6            Connecticut               100%   529   516   1046\n",
       "7               Delaware               100%   499   486    985\n",
       "8   District of Columbia                94%   495   480    975\n",
       "9                Florida               100%   516   483    999\n",
       "10               Georgia                71%   538   519   1058\n",
       "11                Hawaii                54%   550   550   1100\n",
       "12                 Idaho               100%   505   488    993\n",
       "13              Illinois               100%   509   504   1013\n",
       "14               Indiana                66%   543   537   1080\n",
       "15                  Iowa                 3%   622   622   1244\n",
       "16                Kansas                 4%   618   623   1241\n",
       "17              Kentucky                 4%   620   612   1232\n",
       "18             Louisiana                 5%   610   591   1200\n",
       "19                 Maine                99%   512   502   1013\n",
       "20              Maryland                82%   535   523   1058\n",
       "21         Massachusetts                81%   559   561   1120\n",
       "22              Michigan               100%   507   496   1003\n",
       "23             Minnesota                 4%   636   648   1284\n",
       "24           Mississippi                 3%   628   608   1237\n",
       "25              Missouri                 4%   622   615   1236\n",
       "26               Montana                 9%   603   596   1199\n",
       "27              Nebraska                 3%   628   631   1260\n",
       "28                Nevada                20%   580   576   1156\n",
       "29         New Hampshire                95%   533   526   1059\n",
       "30            New Jersey                82%   544   545   1090\n",
       "31            New Mexico                18%   543   530   1073\n",
       "32              New York                79%   531   533   1064\n",
       "33        North Carolina                51%   554   546   1100\n",
       "34          North Dakota                 2%   627   636   1263\n",
       "35                  Ohio                19%   550   548   1097\n",
       "36              Oklahoma                22%   490   472    963\n",
       "37                Oregon                51%   562   550   1112\n",
       "38          Pennsylvania                70%   545   537   1082\n",
       "39          Rhode Island               100%   503   492    995\n",
       "40        South Carolina                68%   526   504   1030\n",
       "41          South Dakota                 3%   633   635   1268\n",
       "42             Tennessee                 7%   618   602   1220\n",
       "43                 Texas                68%   515   507   1022\n",
       "44                  Utah                 4%   614   615   1230\n",
       "45               Vermont                66%   560   546   1106\n",
       "46              Virginia                68%   567   551   1119\n",
       "47            Washington                70%   539   535   1074\n",
       "48         West Virginia                99%   483   460    943\n",
       "49             Wisconsin                 3%   635   648   1283\n",
       "50               Wyoming                 3%   623   615   1238"
      ]
     },
     "execution_count": 76,
     "metadata": {},
     "output_type": "execute_result"
    }
   ],
   "source": [
    "# resetting the index as the previous index was not updated after dropping 'Puerto Rico' and 'Virgin Islands'\n",
    "sat_2019.reset_index(drop=True)"
   ]
  },
  {
   "cell_type": "code",
   "execution_count": 77,
   "metadata": {},
   "outputs": [],
   "source": [
    "# Decided to go ahead with the renaming of columns first as there is a column with spacing (Participation Rate)\n",
    "\n",
    "sat_2019.rename(columns = {\n",
    "    'State':'state',\n",
    "    'Participation Rate':'sat_participation_19',\n",
    "    'EBRW':'sat_ebrw_19',\n",
    "    'Math':'sat_math_19',\n",
    "    'Total':'sat_total_average_19'\n",
    "},inplace = True)"
   ]
  },
  {
   "cell_type": "code",
   "execution_count": 78,
   "metadata": {},
   "outputs": [
    {
     "data": {
      "text/html": [
       "<div>\n",
       "<style scoped>\n",
       "    .dataframe tbody tr th:only-of-type {\n",
       "        vertical-align: middle;\n",
       "    }\n",
       "\n",
       "    .dataframe tbody tr th {\n",
       "        vertical-align: top;\n",
       "    }\n",
       "\n",
       "    .dataframe thead th {\n",
       "        text-align: right;\n",
       "    }\n",
       "</style>\n",
       "<table border=\"1\" class=\"dataframe\">\n",
       "  <thead>\n",
       "    <tr style=\"text-align: right;\">\n",
       "      <th></th>\n",
       "      <th>state</th>\n",
       "      <th>sat_participation_19</th>\n",
       "      <th>sat_ebrw_19</th>\n",
       "      <th>sat_math_19</th>\n",
       "      <th>sat_total_average_19</th>\n",
       "    </tr>\n",
       "  </thead>\n",
       "  <tbody>\n",
       "    <tr>\n",
       "      <th>0</th>\n",
       "      <td>Alabama</td>\n",
       "      <td>0.07</td>\n",
       "      <td>583</td>\n",
       "      <td>560</td>\n",
       "      <td>1143</td>\n",
       "    </tr>\n",
       "  </tbody>\n",
       "</table>\n",
       "</div>"
      ],
      "text/plain": [
       "     state  sat_participation_19  sat_ebrw_19  sat_math_19  \\\n",
       "0  Alabama                  0.07          583          560   \n",
       "\n",
       "   sat_total_average_19  \n",
       "0                  1143  "
      ]
     },
     "execution_count": 78,
     "metadata": {},
     "output_type": "execute_result"
    }
   ],
   "source": [
    "# Using the function to remove the % and changing the data type to float \n",
    "sat_2019.sat_participation_19 = sat_2019.sat_participation_19.apply(decimal_converter)\n",
    "\n",
    "# Ensuring that the participation rate's format has been updated \n",
    "sat_2019.head(1)"
   ]
  },
  {
   "cell_type": "code",
   "execution_count": 79,
   "metadata": {},
   "outputs": [
    {
     "data": {
      "text/html": [
       "<div>\n",
       "<style scoped>\n",
       "    .dataframe tbody tr th:only-of-type {\n",
       "        vertical-align: middle;\n",
       "    }\n",
       "\n",
       "    .dataframe tbody tr th {\n",
       "        vertical-align: top;\n",
       "    }\n",
       "\n",
       "    .dataframe thead th {\n",
       "        text-align: right;\n",
       "    }\n",
       "</style>\n",
       "<table border=\"1\" class=\"dataframe\">\n",
       "  <thead>\n",
       "    <tr style=\"text-align: right;\">\n",
       "      <th></th>\n",
       "      <th>sat_participation_19</th>\n",
       "      <th>sat_ebrw_19</th>\n",
       "      <th>sat_math_19</th>\n",
       "      <th>sat_total_average_19</th>\n",
       "    </tr>\n",
       "  </thead>\n",
       "  <tbody>\n",
       "    <tr>\n",
       "      <th>count</th>\n",
       "      <td>51.000000</td>\n",
       "      <td>51.000000</td>\n",
       "      <td>51.000000</td>\n",
       "      <td>51.000000</td>\n",
       "    </tr>\n",
       "    <tr>\n",
       "      <th>mean</th>\n",
       "      <td>0.490588</td>\n",
       "      <td>560.803922</td>\n",
       "      <td>552.196078</td>\n",
       "      <td>1113.078431</td>\n",
       "    </tr>\n",
       "    <tr>\n",
       "      <th>std</th>\n",
       "      <td>0.387476</td>\n",
       "      <td>46.248035</td>\n",
       "      <td>51.290553</td>\n",
       "      <td>97.197910</td>\n",
       "    </tr>\n",
       "    <tr>\n",
       "      <th>min</th>\n",
       "      <td>0.020000</td>\n",
       "      <td>483.000000</td>\n",
       "      <td>460.000000</td>\n",
       "      <td>943.000000</td>\n",
       "    </tr>\n",
       "    <tr>\n",
       "      <th>25%</th>\n",
       "      <td>0.055000</td>\n",
       "      <td>527.500000</td>\n",
       "      <td>511.500000</td>\n",
       "      <td>1038.000000</td>\n",
       "    </tr>\n",
       "    <tr>\n",
       "      <th>50%</th>\n",
       "      <td>0.540000</td>\n",
       "      <td>550.000000</td>\n",
       "      <td>546.000000</td>\n",
       "      <td>1097.000000</td>\n",
       "    </tr>\n",
       "    <tr>\n",
       "      <th>75%</th>\n",
       "      <td>0.820000</td>\n",
       "      <td>612.000000</td>\n",
       "      <td>599.000000</td>\n",
       "      <td>1210.000000</td>\n",
       "    </tr>\n",
       "    <tr>\n",
       "      <th>max</th>\n",
       "      <td>1.000000</td>\n",
       "      <td>636.000000</td>\n",
       "      <td>648.000000</td>\n",
       "      <td>1284.000000</td>\n",
       "    </tr>\n",
       "  </tbody>\n",
       "</table>\n",
       "</div>"
      ],
      "text/plain": [
       "       sat_participation_19  sat_ebrw_19  sat_math_19  sat_total_average_19\n",
       "count             51.000000    51.000000    51.000000             51.000000\n",
       "mean               0.490588   560.803922   552.196078           1113.078431\n",
       "std                0.387476    46.248035    51.290553             97.197910\n",
       "min                0.020000   483.000000   460.000000            943.000000\n",
       "25%                0.055000   527.500000   511.500000           1038.000000\n",
       "50%                0.540000   550.000000   546.000000           1097.000000\n",
       "75%                0.820000   612.000000   599.000000           1210.000000\n",
       "max                1.000000   636.000000   648.000000           1284.000000"
      ]
     },
     "execution_count": 79,
     "metadata": {},
     "output_type": "execute_result"
    }
   ],
   "source": [
    "\n",
    "sat_2019.describe()"
   ]
  },
  {
   "cell_type": "code",
   "execution_count": 80,
   "metadata": {},
   "outputs": [
    {
     "data": {
      "text/html": [
       "<div>\n",
       "<style scoped>\n",
       "    .dataframe tbody tr th:only-of-type {\n",
       "        vertical-align: middle;\n",
       "    }\n",
       "\n",
       "    .dataframe tbody tr th {\n",
       "        vertical-align: top;\n",
       "    }\n",
       "\n",
       "    .dataframe thead th {\n",
       "        text-align: right;\n",
       "    }\n",
       "</style>\n",
       "<table border=\"1\" class=\"dataframe\">\n",
       "  <thead>\n",
       "    <tr style=\"text-align: right;\">\n",
       "      <th></th>\n",
       "      <th>state</th>\n",
       "      <th>sat_participation_19</th>\n",
       "      <th>sat_ebrw_19</th>\n",
       "      <th>sat_math_19</th>\n",
       "      <th>sat_total_average_19</th>\n",
       "    </tr>\n",
       "  </thead>\n",
       "  <tbody>\n",
       "    <tr>\n",
       "      <th>51</th>\n",
       "      <td>National</td>\n",
       "      <td>0.54</td>\n",
       "      <td>550</td>\n",
       "      <td>546</td>\n",
       "      <td>1097</td>\n",
       "    </tr>\n",
       "  </tbody>\n",
       "</table>\n",
       "</div>"
      ],
      "text/plain": [
       "       state  sat_participation_19  sat_ebrw_19  sat_math_19  \\\n",
       "51  National                  0.54          550          546   \n",
       "\n",
       "    sat_total_average_19  \n",
       "51                  1097  "
      ]
     },
     "execution_count": 80,
     "metadata": {},
     "output_type": "execute_result"
    }
   ],
   "source": [
    "# Adding the national values using the 50%, similarly to earlier\n",
    "sat_2019_national = {'state':'National', 'sat_participation_19':0.54, 'sat_ebrw_19':550, 'sat_math_19':546,'sat_total_average_19':1097}\n",
    "\n",
    "sat_2019 = sat_2019.append(sat_2019_national, ignore_index=True)\n",
    "\n",
    "sat_2019.tail(1)"
   ]
  },
  {
   "cell_type": "markdown",
   "metadata": {},
   "source": [
    "### Merging both ACT and SAT 2019 data"
   ]
  },
  {
   "cell_type": "code",
   "execution_count": 81,
   "metadata": {},
   "outputs": [],
   "source": [
    "# Merging the 2019 data sets for both act and sat\n",
    "merged_tests_2019 = pd.merge(sat_2019,act_2019,how='inner')"
   ]
  },
  {
   "cell_type": "code",
   "execution_count": 82,
   "metadata": {},
   "outputs": [
    {
     "data": {
      "text/plain": [
       "Index(['state', 'sat_participation_19', 'sat_ebrw_19', 'sat_math_19',\n",
       "       'sat_total_average_19', 'act_participation_19', 'act_total_average_19'],\n",
       "      dtype='object')"
      ]
     },
     "execution_count": 82,
     "metadata": {},
     "output_type": "execute_result"
    }
   ],
   "source": [
    "# Checking the columns \n",
    "merged_tests_2019.columns"
   ]
  },
  {
   "cell_type": "code",
   "execution_count": 83,
   "metadata": {},
   "outputs": [],
   "source": [
    "# Dropping the individual subject columns\n",
    "merged_tests_2019.drop(columns = {'sat_ebrw_19', 'sat_math_19'},inplace=True)"
   ]
  },
  {
   "cell_type": "markdown",
   "metadata": {},
   "source": [
    "### Import and cleaning ACT 2020 data"
   ]
  },
  {
   "cell_type": "code",
   "execution_count": 84,
   "metadata": {},
   "outputs": [
    {
     "data": {
      "text/html": [
       "<div>\n",
       "<style scoped>\n",
       "    .dataframe tbody tr th:only-of-type {\n",
       "        vertical-align: middle;\n",
       "    }\n",
       "\n",
       "    .dataframe tbody tr th {\n",
       "        vertical-align: top;\n",
       "    }\n",
       "\n",
       "    .dataframe thead th {\n",
       "        text-align: right;\n",
       "    }\n",
       "</style>\n",
       "<table border=\"1\" class=\"dataframe\">\n",
       "  <thead>\n",
       "    <tr style=\"text-align: right;\">\n",
       "      <th></th>\n",
       "      <th>State</th>\n",
       "      <th>Participation</th>\n",
       "      <th>Composite</th>\n",
       "    </tr>\n",
       "  </thead>\n",
       "  <tbody>\n",
       "    <tr>\n",
       "      <th>0</th>\n",
       "      <td>Alabama</td>\n",
       "      <td>100%</td>\n",
       "      <td>18.8</td>\n",
       "    </tr>\n",
       "    <tr>\n",
       "      <th>1</th>\n",
       "      <td>Alaska</td>\n",
       "      <td>33%</td>\n",
       "      <td>20.1</td>\n",
       "    </tr>\n",
       "    <tr>\n",
       "      <th>2</th>\n",
       "      <td>Arizona</td>\n",
       "      <td>71%</td>\n",
       "      <td>19.1</td>\n",
       "    </tr>\n",
       "    <tr>\n",
       "      <th>3</th>\n",
       "      <td>Arkansas</td>\n",
       "      <td>100%</td>\n",
       "      <td>19.0</td>\n",
       "    </tr>\n",
       "    <tr>\n",
       "      <th>4</th>\n",
       "      <td>California</td>\n",
       "      <td>19%</td>\n",
       "      <td>23.3</td>\n",
       "    </tr>\n",
       "  </tbody>\n",
       "</table>\n",
       "</div>"
      ],
      "text/plain": [
       "        State Participation  Composite\n",
       "0     Alabama          100%       18.8\n",
       "1      Alaska           33%       20.1\n",
       "2     Arizona           71%       19.1\n",
       "3    Arkansas          100%       19.0\n",
       "4  California           19%       23.3"
      ]
     },
     "execution_count": 84,
     "metadata": {},
     "output_type": "execute_result"
    }
   ],
   "source": [
    "# Importing the data for ACT 2020\n",
    "act_2020 = pd.read_csv(\"../data/act_2020.csv\")\n",
    "act_2020.head()"
   ]
  },
  {
   "cell_type": "code",
   "execution_count": 85,
   "metadata": {},
   "outputs": [
    {
     "data": {
      "text/plain": [
       "(52, 3)"
      ]
     },
     "execution_count": 85,
     "metadata": {},
     "output_type": "execute_result"
    }
   ],
   "source": [
    "#Ensuring the row count is similar to previous datasets\n",
    "act_2020.shape"
   ]
  },
  {
   "cell_type": "code",
   "execution_count": 86,
   "metadata": {},
   "outputs": [
    {
     "data": {
      "text/html": [
       "<div>\n",
       "<style scoped>\n",
       "    .dataframe tbody tr th:only-of-type {\n",
       "        vertical-align: middle;\n",
       "    }\n",
       "\n",
       "    .dataframe tbody tr th {\n",
       "        vertical-align: top;\n",
       "    }\n",
       "\n",
       "    .dataframe thead th {\n",
       "        text-align: right;\n",
       "    }\n",
       "</style>\n",
       "<table border=\"1\" class=\"dataframe\">\n",
       "  <thead>\n",
       "    <tr style=\"text-align: right;\">\n",
       "      <th></th>\n",
       "      <th>State</th>\n",
       "      <th>Participation</th>\n",
       "      <th>Composite</th>\n",
       "    </tr>\n",
       "  </thead>\n",
       "  <tbody>\n",
       "  </tbody>\n",
       "</table>\n",
       "</div>"
      ],
      "text/plain": [
       "Empty DataFrame\n",
       "Columns: [State, Participation, Composite]\n",
       "Index: []"
      ]
     },
     "execution_count": 86,
     "metadata": {},
     "output_type": "execute_result"
    }
   ],
   "source": [
    "# Checking for any duplicated in state\n",
    "\n",
    "act_2020[act_2020.duplicated('State')]"
   ]
  },
  {
   "cell_type": "code",
   "execution_count": 87,
   "metadata": {},
   "outputs": [
    {
     "data": {
      "text/plain": [
       "set()"
      ]
     },
     "execution_count": 87,
     "metadata": {},
     "output_type": "execute_result"
    }
   ],
   "source": [
    "# Checking for any differences in state\n",
    "set(merged_tests_2017.state).symmetric_difference(act_2020.State)"
   ]
  },
  {
   "cell_type": "code",
   "execution_count": 88,
   "metadata": {},
   "outputs": [
    {
     "name": "stdout",
     "output_type": "stream",
     "text": [
      "<class 'pandas.core.frame.DataFrame'>\n",
      "RangeIndex: 52 entries, 0 to 51\n",
      "Data columns (total 3 columns):\n",
      " #   Column         Non-Null Count  Dtype  \n",
      "---  ------         --------------  -----  \n",
      " 0   State          52 non-null     object \n",
      " 1   Participation  52 non-null     object \n",
      " 2   Composite      52 non-null     float64\n",
      "dtypes: float64(1), object(2)\n",
      "memory usage: 1.3+ KB\n"
     ]
    }
   ],
   "source": [
    "# Checking for datatype and any null values\n",
    "act_2020.info()"
   ]
  },
  {
   "cell_type": "code",
   "execution_count": 89,
   "metadata": {},
   "outputs": [
    {
     "data": {
      "text/html": [
       "<div>\n",
       "<style scoped>\n",
       "    .dataframe tbody tr th:only-of-type {\n",
       "        vertical-align: middle;\n",
       "    }\n",
       "\n",
       "    .dataframe tbody tr th {\n",
       "        vertical-align: top;\n",
       "    }\n",
       "\n",
       "    .dataframe thead th {\n",
       "        text-align: right;\n",
       "    }\n",
       "</style>\n",
       "<table border=\"1\" class=\"dataframe\">\n",
       "  <thead>\n",
       "    <tr style=\"text-align: right;\">\n",
       "      <th></th>\n",
       "      <th>State</th>\n",
       "      <th>Participation</th>\n",
       "      <th>Composite</th>\n",
       "    </tr>\n",
       "  </thead>\n",
       "  <tbody>\n",
       "    <tr>\n",
       "      <th>47</th>\n",
       "      <td>Washington</td>\n",
       "      <td>0.20</td>\n",
       "      <td>22.9</td>\n",
       "    </tr>\n",
       "    <tr>\n",
       "      <th>48</th>\n",
       "      <td>West Virginia</td>\n",
       "      <td>0.38</td>\n",
       "      <td>20.9</td>\n",
       "    </tr>\n",
       "    <tr>\n",
       "      <th>49</th>\n",
       "      <td>Wisconsin</td>\n",
       "      <td>1.00</td>\n",
       "      <td>20.1</td>\n",
       "    </tr>\n",
       "    <tr>\n",
       "      <th>50</th>\n",
       "      <td>Wyoming</td>\n",
       "      <td>1.00</td>\n",
       "      <td>19.7</td>\n",
       "    </tr>\n",
       "    <tr>\n",
       "      <th>51</th>\n",
       "      <td>National</td>\n",
       "      <td>0.49</td>\n",
       "      <td>20.6</td>\n",
       "    </tr>\n",
       "  </tbody>\n",
       "</table>\n",
       "</div>"
      ],
      "text/plain": [
       "            State  Participation  Composite\n",
       "47     Washington           0.20       22.9\n",
       "48  West Virginia           0.38       20.9\n",
       "49      Wisconsin           1.00       20.1\n",
       "50        Wyoming           1.00       19.7\n",
       "51       National           0.49       20.6"
      ]
     },
     "execution_count": 89,
     "metadata": {},
     "output_type": "execute_result"
    }
   ],
   "source": [
    "# Applying the function to remove % from the values in participation and convert them to decimal and float\n",
    "act_2020.Participation = act_2020.Participation.apply(decimal_converter)\n",
    "# Checking if the data set is in place\n",
    "act_2020.tail()"
   ]
  },
  {
   "cell_type": "code",
   "execution_count": 90,
   "metadata": {},
   "outputs": [
    {
     "data": {
      "text/html": [
       "<div>\n",
       "<style scoped>\n",
       "    .dataframe tbody tr th:only-of-type {\n",
       "        vertical-align: middle;\n",
       "    }\n",
       "\n",
       "    .dataframe tbody tr th {\n",
       "        vertical-align: top;\n",
       "    }\n",
       "\n",
       "    .dataframe thead th {\n",
       "        text-align: right;\n",
       "    }\n",
       "</style>\n",
       "<table border=\"1\" class=\"dataframe\">\n",
       "  <thead>\n",
       "    <tr style=\"text-align: right;\">\n",
       "      <th></th>\n",
       "      <th>state</th>\n",
       "      <th>act_participation_20</th>\n",
       "      <th>act_total_average_20</th>\n",
       "    </tr>\n",
       "  </thead>\n",
       "  <tbody>\n",
       "    <tr>\n",
       "      <th>0</th>\n",
       "      <td>Alabama</td>\n",
       "      <td>1.00</td>\n",
       "      <td>18.8</td>\n",
       "    </tr>\n",
       "    <tr>\n",
       "      <th>1</th>\n",
       "      <td>Alaska</td>\n",
       "      <td>0.33</td>\n",
       "      <td>20.1</td>\n",
       "    </tr>\n",
       "    <tr>\n",
       "      <th>2</th>\n",
       "      <td>Arizona</td>\n",
       "      <td>0.71</td>\n",
       "      <td>19.1</td>\n",
       "    </tr>\n",
       "    <tr>\n",
       "      <th>3</th>\n",
       "      <td>Arkansas</td>\n",
       "      <td>1.00</td>\n",
       "      <td>19.0</td>\n",
       "    </tr>\n",
       "    <tr>\n",
       "      <th>4</th>\n",
       "      <td>California</td>\n",
       "      <td>0.19</td>\n",
       "      <td>23.3</td>\n",
       "    </tr>\n",
       "  </tbody>\n",
       "</table>\n",
       "</div>"
      ],
      "text/plain": [
       "        state  act_participation_20  act_total_average_20\n",
       "0     Alabama                  1.00                  18.8\n",
       "1      Alaska                  0.33                  20.1\n",
       "2     Arizona                  0.71                  19.1\n",
       "3    Arkansas                  1.00                  19.0\n",
       "4  California                  0.19                  23.3"
      ]
     },
     "execution_count": 90,
     "metadata": {},
     "output_type": "execute_result"
    }
   ],
   "source": [
    "# Rename the columns of the data set to be act 2020 specific\n",
    "act_2020.rename(columns = {\n",
    "    'State':'state',\n",
    "    'Participation':'act_participation_20',\n",
    "    'Composite': 'act_total_average_20'\n",
    "},inplace=True)\n",
    "\n",
    "# check if the changes are in place\n",
    "act_2020.head()"
   ]
  },
  {
   "cell_type": "markdown",
   "metadata": {},
   "source": [
    "### Importing and cleaning SAT 2020 data"
   ]
  },
  {
   "cell_type": "code",
   "execution_count": 91,
   "metadata": {},
   "outputs": [
    {
     "data": {
      "text/html": [
       "<div>\n",
       "<style scoped>\n",
       "    .dataframe tbody tr th:only-of-type {\n",
       "        vertical-align: middle;\n",
       "    }\n",
       "\n",
       "    .dataframe tbody tr th {\n",
       "        vertical-align: top;\n",
       "    }\n",
       "\n",
       "    .dataframe thead th {\n",
       "        text-align: right;\n",
       "    }\n",
       "</style>\n",
       "<table border=\"1\" class=\"dataframe\">\n",
       "  <thead>\n",
       "    <tr style=\"text-align: right;\">\n",
       "      <th></th>\n",
       "      <th>State</th>\n",
       "      <th>Participation Rate</th>\n",
       "      <th>EBRW</th>\n",
       "      <th>Math</th>\n",
       "      <th>Total</th>\n",
       "    </tr>\n",
       "  </thead>\n",
       "  <tbody>\n",
       "    <tr>\n",
       "      <th>0</th>\n",
       "      <td>Alabama</td>\n",
       "      <td>7%</td>\n",
       "      <td>576</td>\n",
       "      <td>551</td>\n",
       "      <td>1127</td>\n",
       "    </tr>\n",
       "    <tr>\n",
       "      <th>1</th>\n",
       "      <td>Alaska</td>\n",
       "      <td>37%</td>\n",
       "      <td>555</td>\n",
       "      <td>543</td>\n",
       "      <td>1098</td>\n",
       "    </tr>\n",
       "    <tr>\n",
       "      <th>2</th>\n",
       "      <td>Arizona</td>\n",
       "      <td>29%</td>\n",
       "      <td>571</td>\n",
       "      <td>568</td>\n",
       "      <td>1139</td>\n",
       "    </tr>\n",
       "    <tr>\n",
       "      <th>3</th>\n",
       "      <td>Arkansas</td>\n",
       "      <td>4%</td>\n",
       "      <td>590</td>\n",
       "      <td>567</td>\n",
       "      <td>1157</td>\n",
       "    </tr>\n",
       "    <tr>\n",
       "      <th>4</th>\n",
       "      <td>California</td>\n",
       "      <td>67%</td>\n",
       "      <td>527</td>\n",
       "      <td>522</td>\n",
       "      <td>1049</td>\n",
       "    </tr>\n",
       "  </tbody>\n",
       "</table>\n",
       "</div>"
      ],
      "text/plain": [
       "        State Participation Rate  EBRW  Math  Total\n",
       "0     Alabama                 7%   576   551   1127\n",
       "1      Alaska                37%   555   543   1098\n",
       "2     Arizona                29%   571   568   1139\n",
       "3    Arkansas                 4%   590   567   1157\n",
       "4  California                67%   527   522   1049"
      ]
     },
     "execution_count": 91,
     "metadata": {},
     "output_type": "execute_result"
    }
   ],
   "source": [
    "# Importing sat 2020\n",
    "sat_2020 = pd.read_csv(\"../data/sat_2020.csv\")\n",
    "# Checking the head of data set\n",
    "sat_2020.head()"
   ]
  },
  {
   "cell_type": "code",
   "execution_count": 92,
   "metadata": {},
   "outputs": [
    {
     "data": {
      "text/plain": [
       "(53, 5)"
      ]
     },
     "execution_count": 92,
     "metadata": {},
     "output_type": "execute_result"
    }
   ],
   "source": [
    "# Checking the shape of the data set, realized there's 53 rows\n",
    "sat_2020.shape"
   ]
  },
  {
   "cell_type": "code",
   "execution_count": 93,
   "metadata": {},
   "outputs": [
    {
     "name": "stdout",
     "output_type": "stream",
     "text": [
      "<class 'pandas.core.frame.DataFrame'>\n",
      "RangeIndex: 53 entries, 0 to 52\n",
      "Data columns (total 5 columns):\n",
      " #   Column              Non-Null Count  Dtype \n",
      "---  ------              --------------  ----- \n",
      " 0   State               53 non-null     object\n",
      " 1   Participation Rate  53 non-null     object\n",
      " 2   EBRW                53 non-null     int64 \n",
      " 3   Math                53 non-null     int64 \n",
      " 4   Total               53 non-null     int64 \n",
      "dtypes: int64(3), object(2)\n",
      "memory usage: 2.2+ KB\n"
     ]
    }
   ],
   "source": [
    "# checking the data type of the columns and also if there are any null values\n",
    "sat_2020.info()"
   ]
  },
  {
   "cell_type": "code",
   "execution_count": 94,
   "metadata": {},
   "outputs": [
    {
     "data": {
      "text/plain": [
       "{'National', 'Puerto Rico', 'Virgin Islands'}"
      ]
     },
     "execution_count": 94,
     "metadata": {},
     "output_type": "execute_result"
    }
   ],
   "source": [
    "# Checking for any differences in the column state and found 3 differences\n",
    "set(merged_tests_2019.state).symmetric_difference(sat_2020.State)"
   ]
  },
  {
   "cell_type": "code",
   "execution_count": 95,
   "metadata": {},
   "outputs": [
    {
     "data": {
      "text/html": [
       "<div>\n",
       "<style scoped>\n",
       "    .dataframe tbody tr th:only-of-type {\n",
       "        vertical-align: middle;\n",
       "    }\n",
       "\n",
       "    .dataframe tbody tr th {\n",
       "        vertical-align: top;\n",
       "    }\n",
       "\n",
       "    .dataframe thead th {\n",
       "        text-align: right;\n",
       "    }\n",
       "</style>\n",
       "<table border=\"1\" class=\"dataframe\">\n",
       "  <thead>\n",
       "    <tr style=\"text-align: right;\">\n",
       "      <th></th>\n",
       "      <th>State</th>\n",
       "      <th>Participation Rate</th>\n",
       "      <th>EBRW</th>\n",
       "      <th>Math</th>\n",
       "      <th>Total</th>\n",
       "    </tr>\n",
       "  </thead>\n",
       "  <tbody>\n",
       "    <tr>\n",
       "      <th>47</th>\n",
       "      <td>Virgin Islands</td>\n",
       "      <td>—</td>\n",
       "      <td>474</td>\n",
       "      <td>437</td>\n",
       "      <td>912</td>\n",
       "    </tr>\n",
       "  </tbody>\n",
       "</table>\n",
       "</div>"
      ],
      "text/plain": [
       "             State Participation Rate  EBRW  Math  Total\n",
       "47  Virgin Islands                  —   474   437    912"
      ]
     },
     "execution_count": 95,
     "metadata": {},
     "output_type": "execute_result"
    }
   ],
   "source": [
    "# Similarly to the 2019 SAT dataset, locate the index of virgin islands in SAT 2020\n",
    "sat_2020.loc[sat_2020.State=='Virgin Islands']"
   ]
  },
  {
   "cell_type": "code",
   "execution_count": 96,
   "metadata": {},
   "outputs": [
    {
     "data": {
      "text/html": [
       "<div>\n",
       "<style scoped>\n",
       "    .dataframe tbody tr th:only-of-type {\n",
       "        vertical-align: middle;\n",
       "    }\n",
       "\n",
       "    .dataframe tbody tr th {\n",
       "        vertical-align: top;\n",
       "    }\n",
       "\n",
       "    .dataframe thead th {\n",
       "        text-align: right;\n",
       "    }\n",
       "</style>\n",
       "<table border=\"1\" class=\"dataframe\">\n",
       "  <thead>\n",
       "    <tr style=\"text-align: right;\">\n",
       "      <th></th>\n",
       "      <th>State</th>\n",
       "      <th>Participation Rate</th>\n",
       "      <th>EBRW</th>\n",
       "      <th>Math</th>\n",
       "      <th>Total</th>\n",
       "    </tr>\n",
       "  </thead>\n",
       "  <tbody>\n",
       "    <tr>\n",
       "      <th>39</th>\n",
       "      <td>Puerto Rico</td>\n",
       "      <td>—</td>\n",
       "      <td>511</td>\n",
       "      <td>481</td>\n",
       "      <td>993</td>\n",
       "    </tr>\n",
       "  </tbody>\n",
       "</table>\n",
       "</div>"
      ],
      "text/plain": [
       "          State Participation Rate  EBRW  Math  Total\n",
       "39  Puerto Rico                  —   511   481    993"
      ]
     },
     "execution_count": 96,
     "metadata": {},
     "output_type": "execute_result"
    }
   ],
   "source": [
    "# locating the index of Puerto Rico in SAT 2020 dataset\n",
    "sat_2020.loc[sat_2020.State ==\"Puerto Rico\"]"
   ]
  },
  {
   "cell_type": "code",
   "execution_count": 97,
   "metadata": {},
   "outputs": [],
   "source": [
    "#Drop both rows\n",
    "sat_2020 = sat_2020.drop([39,47])"
   ]
  },
  {
   "cell_type": "code",
   "execution_count": 98,
   "metadata": {},
   "outputs": [
    {
     "data": {
      "text/html": [
       "<div>\n",
       "<style scoped>\n",
       "    .dataframe tbody tr th:only-of-type {\n",
       "        vertical-align: middle;\n",
       "    }\n",
       "\n",
       "    .dataframe tbody tr th {\n",
       "        vertical-align: top;\n",
       "    }\n",
       "\n",
       "    .dataframe thead th {\n",
       "        text-align: right;\n",
       "    }\n",
       "</style>\n",
       "<table border=\"1\" class=\"dataframe\">\n",
       "  <thead>\n",
       "    <tr style=\"text-align: right;\">\n",
       "      <th></th>\n",
       "      <th>State</th>\n",
       "      <th>Participation Rate</th>\n",
       "      <th>EBRW</th>\n",
       "      <th>Math</th>\n",
       "      <th>Total</th>\n",
       "    </tr>\n",
       "  </thead>\n",
       "  <tbody>\n",
       "  </tbody>\n",
       "</table>\n",
       "</div>"
      ],
      "text/plain": [
       "Empty DataFrame\n",
       "Columns: [State, Participation Rate, EBRW, Math, Total]\n",
       "Index: []"
      ]
     },
     "execution_count": 98,
     "metadata": {},
     "output_type": "execute_result"
    }
   ],
   "source": [
    "#checking for any duplicated rows in state\n",
    "sat_2020[sat_2020.duplicated(['State'])]"
   ]
  },
  {
   "cell_type": "code",
   "execution_count": 99,
   "metadata": {},
   "outputs": [
    {
     "data": {
      "text/plain": [
       "(51, 5)"
      ]
     },
     "execution_count": 99,
     "metadata": {},
     "output_type": "execute_result"
    }
   ],
   "source": [
    "# Ensuring that the shape is 51 after dropping 2 rows\n",
    "sat_2020.shape"
   ]
  },
  {
   "cell_type": "code",
   "execution_count": 100,
   "metadata": {},
   "outputs": [
    {
     "data": {
      "text/html": [
       "<div>\n",
       "<style scoped>\n",
       "    .dataframe tbody tr th:only-of-type {\n",
       "        vertical-align: middle;\n",
       "    }\n",
       "\n",
       "    .dataframe tbody tr th {\n",
       "        vertical-align: top;\n",
       "    }\n",
       "\n",
       "    .dataframe thead th {\n",
       "        text-align: right;\n",
       "    }\n",
       "</style>\n",
       "<table border=\"1\" class=\"dataframe\">\n",
       "  <thead>\n",
       "    <tr style=\"text-align: right;\">\n",
       "      <th></th>\n",
       "      <th>State</th>\n",
       "      <th>Participation Rate</th>\n",
       "      <th>EBRW</th>\n",
       "      <th>Math</th>\n",
       "      <th>Total</th>\n",
       "    </tr>\n",
       "  </thead>\n",
       "  <tbody>\n",
       "    <tr>\n",
       "      <th>0</th>\n",
       "      <td>Alabama</td>\n",
       "      <td>7%</td>\n",
       "      <td>576</td>\n",
       "      <td>551</td>\n",
       "      <td>1127</td>\n",
       "    </tr>\n",
       "    <tr>\n",
       "      <th>1</th>\n",
       "      <td>Alaska</td>\n",
       "      <td>37%</td>\n",
       "      <td>555</td>\n",
       "      <td>543</td>\n",
       "      <td>1098</td>\n",
       "    </tr>\n",
       "    <tr>\n",
       "      <th>2</th>\n",
       "      <td>Arizona</td>\n",
       "      <td>29%</td>\n",
       "      <td>571</td>\n",
       "      <td>568</td>\n",
       "      <td>1139</td>\n",
       "    </tr>\n",
       "    <tr>\n",
       "      <th>3</th>\n",
       "      <td>Arkansas</td>\n",
       "      <td>4%</td>\n",
       "      <td>590</td>\n",
       "      <td>567</td>\n",
       "      <td>1157</td>\n",
       "    </tr>\n",
       "    <tr>\n",
       "      <th>4</th>\n",
       "      <td>California</td>\n",
       "      <td>67%</td>\n",
       "      <td>527</td>\n",
       "      <td>522</td>\n",
       "      <td>1049</td>\n",
       "    </tr>\n",
       "    <tr>\n",
       "      <th>5</th>\n",
       "      <td>Colorado</td>\n",
       "      <td>100%</td>\n",
       "      <td>511</td>\n",
       "      <td>501</td>\n",
       "      <td>1012</td>\n",
       "    </tr>\n",
       "    <tr>\n",
       "      <th>6</th>\n",
       "      <td>Connecticut</td>\n",
       "      <td>100%</td>\n",
       "      <td>527</td>\n",
       "      <td>512</td>\n",
       "      <td>1039</td>\n",
       "    </tr>\n",
       "    <tr>\n",
       "      <th>7</th>\n",
       "      <td>Delaware</td>\n",
       "      <td>100%</td>\n",
       "      <td>497</td>\n",
       "      <td>481</td>\n",
       "      <td>978</td>\n",
       "    </tr>\n",
       "    <tr>\n",
       "      <th>8</th>\n",
       "      <td>District of Columbia</td>\n",
       "      <td>100%</td>\n",
       "      <td>498</td>\n",
       "      <td>482</td>\n",
       "      <td>979</td>\n",
       "    </tr>\n",
       "    <tr>\n",
       "      <th>9</th>\n",
       "      <td>Florida</td>\n",
       "      <td>100%</td>\n",
       "      <td>512</td>\n",
       "      <td>479</td>\n",
       "      <td>992</td>\n",
       "    </tr>\n",
       "    <tr>\n",
       "      <th>10</th>\n",
       "      <td>Georgia</td>\n",
       "      <td>68%</td>\n",
       "      <td>537</td>\n",
       "      <td>516</td>\n",
       "      <td>1053</td>\n",
       "    </tr>\n",
       "    <tr>\n",
       "      <th>11</th>\n",
       "      <td>Hawaii</td>\n",
       "      <td>51%</td>\n",
       "      <td>549</td>\n",
       "      <td>546</td>\n",
       "      <td>1095</td>\n",
       "    </tr>\n",
       "    <tr>\n",
       "      <th>12</th>\n",
       "      <td>Idaho</td>\n",
       "      <td>100%</td>\n",
       "      <td>500</td>\n",
       "      <td>484</td>\n",
       "      <td>984</td>\n",
       "    </tr>\n",
       "    <tr>\n",
       "      <th>13</th>\n",
       "      <td>Illinois</td>\n",
       "      <td>98%</td>\n",
       "      <td>504</td>\n",
       "      <td>503</td>\n",
       "      <td>1007</td>\n",
       "    </tr>\n",
       "    <tr>\n",
       "      <th>14</th>\n",
       "      <td>Indiana</td>\n",
       "      <td>64%</td>\n",
       "      <td>540</td>\n",
       "      <td>534</td>\n",
       "      <td>1074</td>\n",
       "    </tr>\n",
       "    <tr>\n",
       "      <th>15</th>\n",
       "      <td>Iowa</td>\n",
       "      <td>3%</td>\n",
       "      <td>611</td>\n",
       "      <td>609</td>\n",
       "      <td>1220</td>\n",
       "    </tr>\n",
       "    <tr>\n",
       "      <th>16</th>\n",
       "      <td>Kansas</td>\n",
       "      <td>4%</td>\n",
       "      <td>617</td>\n",
       "      <td>620</td>\n",
       "      <td>1237</td>\n",
       "    </tr>\n",
       "    <tr>\n",
       "      <th>17</th>\n",
       "      <td>Kentucky</td>\n",
       "      <td>4%</td>\n",
       "      <td>609</td>\n",
       "      <td>598</td>\n",
       "      <td>1207</td>\n",
       "    </tr>\n",
       "    <tr>\n",
       "      <th>18</th>\n",
       "      <td>Louisiana</td>\n",
       "      <td>5%</td>\n",
       "      <td>597</td>\n",
       "      <td>573</td>\n",
       "      <td>1170</td>\n",
       "    </tr>\n",
       "    <tr>\n",
       "      <th>19</th>\n",
       "      <td>Maine</td>\n",
       "      <td>98%</td>\n",
       "      <td>504</td>\n",
       "      <td>491</td>\n",
       "      <td>995</td>\n",
       "    </tr>\n",
       "    <tr>\n",
       "      <th>20</th>\n",
       "      <td>Maryland</td>\n",
       "      <td>88%</td>\n",
       "      <td>522</td>\n",
       "      <td>507</td>\n",
       "      <td>1029</td>\n",
       "    </tr>\n",
       "    <tr>\n",
       "      <th>21</th>\n",
       "      <td>Massachusetts</td>\n",
       "      <td>80%</td>\n",
       "      <td>560</td>\n",
       "      <td>559</td>\n",
       "      <td>1119</td>\n",
       "    </tr>\n",
       "    <tr>\n",
       "      <th>22</th>\n",
       "      <td>Michigan</td>\n",
       "      <td>100%</td>\n",
       "      <td>503</td>\n",
       "      <td>495</td>\n",
       "      <td>998</td>\n",
       "    </tr>\n",
       "    <tr>\n",
       "      <th>23</th>\n",
       "      <td>Minnesota</td>\n",
       "      <td>4%</td>\n",
       "      <td>624</td>\n",
       "      <td>633</td>\n",
       "      <td>1257</td>\n",
       "    </tr>\n",
       "    <tr>\n",
       "      <th>24</th>\n",
       "      <td>Mississippi</td>\n",
       "      <td>3%</td>\n",
       "      <td>610</td>\n",
       "      <td>593</td>\n",
       "      <td>1203</td>\n",
       "    </tr>\n",
       "    <tr>\n",
       "      <th>25</th>\n",
       "      <td>Missouri</td>\n",
       "      <td>4%</td>\n",
       "      <td>610</td>\n",
       "      <td>603</td>\n",
       "      <td>1212</td>\n",
       "    </tr>\n",
       "    <tr>\n",
       "      <th>26</th>\n",
       "      <td>Montana</td>\n",
       "      <td>10%</td>\n",
       "      <td>598</td>\n",
       "      <td>587</td>\n",
       "      <td>1185</td>\n",
       "    </tr>\n",
       "    <tr>\n",
       "      <th>27</th>\n",
       "      <td>Nebraska</td>\n",
       "      <td>3%</td>\n",
       "      <td>615</td>\n",
       "      <td>614</td>\n",
       "      <td>1229</td>\n",
       "    </tr>\n",
       "    <tr>\n",
       "      <th>28</th>\n",
       "      <td>Nevada</td>\n",
       "      <td>17%</td>\n",
       "      <td>579</td>\n",
       "      <td>571</td>\n",
       "      <td>1150</td>\n",
       "    </tr>\n",
       "    <tr>\n",
       "      <th>29</th>\n",
       "      <td>New Hampshire</td>\n",
       "      <td>93%</td>\n",
       "      <td>531</td>\n",
       "      <td>524</td>\n",
       "      <td>1055</td>\n",
       "    </tr>\n",
       "    <tr>\n",
       "      <th>30</th>\n",
       "      <td>New Jersey</td>\n",
       "      <td>82%</td>\n",
       "      <td>541</td>\n",
       "      <td>540</td>\n",
       "      <td>1081</td>\n",
       "    </tr>\n",
       "    <tr>\n",
       "      <th>31</th>\n",
       "      <td>New Mexico</td>\n",
       "      <td>19%</td>\n",
       "      <td>533</td>\n",
       "      <td>522</td>\n",
       "      <td>1055</td>\n",
       "    </tr>\n",
       "    <tr>\n",
       "      <th>32</th>\n",
       "      <td>New York</td>\n",
       "      <td>79%</td>\n",
       "      <td>528</td>\n",
       "      <td>530</td>\n",
       "      <td>1058</td>\n",
       "    </tr>\n",
       "    <tr>\n",
       "      <th>33</th>\n",
       "      <td>North Carolina</td>\n",
       "      <td>48%</td>\n",
       "      <td>553</td>\n",
       "      <td>544</td>\n",
       "      <td>1096</td>\n",
       "    </tr>\n",
       "    <tr>\n",
       "      <th>34</th>\n",
       "      <td>North Dakota</td>\n",
       "      <td>2%</td>\n",
       "      <td>615</td>\n",
       "      <td>617</td>\n",
       "      <td>1231</td>\n",
       "    </tr>\n",
       "    <tr>\n",
       "      <th>35</th>\n",
       "      <td>Ohio</td>\n",
       "      <td>21%</td>\n",
       "      <td>536</td>\n",
       "      <td>534</td>\n",
       "      <td>1070</td>\n",
       "    </tr>\n",
       "    <tr>\n",
       "      <th>36</th>\n",
       "      <td>Oklahoma</td>\n",
       "      <td>20%</td>\n",
       "      <td>490</td>\n",
       "      <td>481</td>\n",
       "      <td>971</td>\n",
       "    </tr>\n",
       "    <tr>\n",
       "      <th>37</th>\n",
       "      <td>Oregon</td>\n",
       "      <td>51%</td>\n",
       "      <td>557</td>\n",
       "      <td>547</td>\n",
       "      <td>1104</td>\n",
       "    </tr>\n",
       "    <tr>\n",
       "      <th>38</th>\n",
       "      <td>Pennsylvania</td>\n",
       "      <td>67%</td>\n",
       "      <td>543</td>\n",
       "      <td>534</td>\n",
       "      <td>1078</td>\n",
       "    </tr>\n",
       "    <tr>\n",
       "      <th>39</th>\n",
       "      <td>Rhode Island</td>\n",
       "      <td>100%</td>\n",
       "      <td>501</td>\n",
       "      <td>489</td>\n",
       "      <td>990</td>\n",
       "    </tr>\n",
       "    <tr>\n",
       "      <th>40</th>\n",
       "      <td>South Carolina</td>\n",
       "      <td>68%</td>\n",
       "      <td>524</td>\n",
       "      <td>503</td>\n",
       "      <td>1026</td>\n",
       "    </tr>\n",
       "    <tr>\n",
       "      <th>41</th>\n",
       "      <td>South Dakota</td>\n",
       "      <td>3%</td>\n",
       "      <td>609</td>\n",
       "      <td>610</td>\n",
       "      <td>1218</td>\n",
       "    </tr>\n",
       "    <tr>\n",
       "      <th>42</th>\n",
       "      <td>Tennessee</td>\n",
       "      <td>7%</td>\n",
       "      <td>601</td>\n",
       "      <td>585</td>\n",
       "      <td>1186</td>\n",
       "    </tr>\n",
       "    <tr>\n",
       "      <th>43</th>\n",
       "      <td>Texas</td>\n",
       "      <td>73%</td>\n",
       "      <td>510</td>\n",
       "      <td>500</td>\n",
       "      <td>1010</td>\n",
       "    </tr>\n",
       "    <tr>\n",
       "      <th>44</th>\n",
       "      <td>Utah</td>\n",
       "      <td>3%</td>\n",
       "      <td>601</td>\n",
       "      <td>603</td>\n",
       "      <td>1204</td>\n",
       "    </tr>\n",
       "    <tr>\n",
       "      <th>45</th>\n",
       "      <td>Vermont</td>\n",
       "      <td>63%</td>\n",
       "      <td>559</td>\n",
       "      <td>545</td>\n",
       "      <td>1103</td>\n",
       "    </tr>\n",
       "    <tr>\n",
       "      <th>46</th>\n",
       "      <td>Virginia</td>\n",
       "      <td>65%</td>\n",
       "      <td>567</td>\n",
       "      <td>549</td>\n",
       "      <td>1116</td>\n",
       "    </tr>\n",
       "    <tr>\n",
       "      <th>47</th>\n",
       "      <td>Washington</td>\n",
       "      <td>69%</td>\n",
       "      <td>539</td>\n",
       "      <td>534</td>\n",
       "      <td>1073</td>\n",
       "    </tr>\n",
       "    <tr>\n",
       "      <th>48</th>\n",
       "      <td>West Virginia</td>\n",
       "      <td>98%</td>\n",
       "      <td>480</td>\n",
       "      <td>456</td>\n",
       "      <td>936</td>\n",
       "    </tr>\n",
       "    <tr>\n",
       "      <th>49</th>\n",
       "      <td>Wisconsin</td>\n",
       "      <td>3%</td>\n",
       "      <td>615</td>\n",
       "      <td>628</td>\n",
       "      <td>1243</td>\n",
       "    </tr>\n",
       "    <tr>\n",
       "      <th>50</th>\n",
       "      <td>Wyoming</td>\n",
       "      <td>2%</td>\n",
       "      <td>614</td>\n",
       "      <td>606</td>\n",
       "      <td>1220</td>\n",
       "    </tr>\n",
       "  </tbody>\n",
       "</table>\n",
       "</div>"
      ],
      "text/plain": [
       "                   State Participation Rate  EBRW  Math  Total\n",
       "0                Alabama                 7%   576   551   1127\n",
       "1                 Alaska                37%   555   543   1098\n",
       "2                Arizona                29%   571   568   1139\n",
       "3               Arkansas                 4%   590   567   1157\n",
       "4             California                67%   527   522   1049\n",
       "5               Colorado               100%   511   501   1012\n",
       "6            Connecticut               100%   527   512   1039\n",
       "7               Delaware               100%   497   481    978\n",
       "8   District of Columbia               100%   498   482    979\n",
       "9                Florida               100%   512   479    992\n",
       "10               Georgia                68%   537   516   1053\n",
       "11                Hawaii                51%   549   546   1095\n",
       "12                 Idaho               100%   500   484    984\n",
       "13              Illinois                98%   504   503   1007\n",
       "14               Indiana                64%   540   534   1074\n",
       "15                  Iowa                 3%   611   609   1220\n",
       "16                Kansas                 4%   617   620   1237\n",
       "17              Kentucky                 4%   609   598   1207\n",
       "18             Louisiana                 5%   597   573   1170\n",
       "19                 Maine                98%   504   491    995\n",
       "20              Maryland                88%   522   507   1029\n",
       "21         Massachusetts                80%   560   559   1119\n",
       "22              Michigan               100%   503   495    998\n",
       "23             Minnesota                 4%   624   633   1257\n",
       "24           Mississippi                 3%   610   593   1203\n",
       "25              Missouri                 4%   610   603   1212\n",
       "26               Montana                10%   598   587   1185\n",
       "27              Nebraska                 3%   615   614   1229\n",
       "28                Nevada                17%   579   571   1150\n",
       "29         New Hampshire                93%   531   524   1055\n",
       "30            New Jersey                82%   541   540   1081\n",
       "31            New Mexico                19%   533   522   1055\n",
       "32              New York                79%   528   530   1058\n",
       "33        North Carolina                48%   553   544   1096\n",
       "34          North Dakota                 2%   615   617   1231\n",
       "35                  Ohio                21%   536   534   1070\n",
       "36              Oklahoma                20%   490   481    971\n",
       "37                Oregon                51%   557   547   1104\n",
       "38          Pennsylvania                67%   543   534   1078\n",
       "39          Rhode Island               100%   501   489    990\n",
       "40        South Carolina                68%   524   503   1026\n",
       "41          South Dakota                 3%   609   610   1218\n",
       "42             Tennessee                 7%   601   585   1186\n",
       "43                 Texas                73%   510   500   1010\n",
       "44                  Utah                 3%   601   603   1204\n",
       "45               Vermont                63%   559   545   1103\n",
       "46              Virginia                65%   567   549   1116\n",
       "47            Washington                69%   539   534   1073\n",
       "48         West Virginia                98%   480   456    936\n",
       "49             Wisconsin                 3%   615   628   1243\n",
       "50               Wyoming                 2%   614   606   1220"
      ]
     },
     "execution_count": 100,
     "metadata": {},
     "output_type": "execute_result"
    }
   ],
   "source": [
    "# resetting the index as the previous index was not updated after dropping 'Puerto Rico' and 'Virgin Islands'\n",
    "sat_2020.reset_index(drop=True)"
   ]
  },
  {
   "cell_type": "code",
   "execution_count": 101,
   "metadata": {},
   "outputs": [],
   "source": [
    "# Renaming the columns first due to the spacing in one of the column names\n",
    "sat_2020.rename(columns={\n",
    "    'State':'state',\n",
    "    'Participation Rate':'sat_participation_20',\n",
    "    'EBRW':'sat_ebrw_20',\n",
    "    'Math':'sat_math_20',\n",
    "    'Total':'sat_total_average_20'\n",
    "},inplace = True)"
   ]
  },
  {
   "cell_type": "code",
   "execution_count": 102,
   "metadata": {},
   "outputs": [
    {
     "data": {
      "text/html": [
       "<div>\n",
       "<style scoped>\n",
       "    .dataframe tbody tr th:only-of-type {\n",
       "        vertical-align: middle;\n",
       "    }\n",
       "\n",
       "    .dataframe tbody tr th {\n",
       "        vertical-align: top;\n",
       "    }\n",
       "\n",
       "    .dataframe thead th {\n",
       "        text-align: right;\n",
       "    }\n",
       "</style>\n",
       "<table border=\"1\" class=\"dataframe\">\n",
       "  <thead>\n",
       "    <tr style=\"text-align: right;\">\n",
       "      <th></th>\n",
       "      <th>state</th>\n",
       "      <th>sat_participation_20</th>\n",
       "      <th>sat_ebrw_20</th>\n",
       "      <th>sat_math_20</th>\n",
       "      <th>sat_total_average_20</th>\n",
       "    </tr>\n",
       "  </thead>\n",
       "  <tbody>\n",
       "    <tr>\n",
       "      <th>0</th>\n",
       "      <td>Alabama</td>\n",
       "      <td>7%</td>\n",
       "      <td>576</td>\n",
       "      <td>551</td>\n",
       "      <td>1127</td>\n",
       "    </tr>\n",
       "    <tr>\n",
       "      <th>1</th>\n",
       "      <td>Alaska</td>\n",
       "      <td>37%</td>\n",
       "      <td>555</td>\n",
       "      <td>543</td>\n",
       "      <td>1098</td>\n",
       "    </tr>\n",
       "    <tr>\n",
       "      <th>2</th>\n",
       "      <td>Arizona</td>\n",
       "      <td>29%</td>\n",
       "      <td>571</td>\n",
       "      <td>568</td>\n",
       "      <td>1139</td>\n",
       "    </tr>\n",
       "    <tr>\n",
       "      <th>3</th>\n",
       "      <td>Arkansas</td>\n",
       "      <td>4%</td>\n",
       "      <td>590</td>\n",
       "      <td>567</td>\n",
       "      <td>1157</td>\n",
       "    </tr>\n",
       "    <tr>\n",
       "      <th>4</th>\n",
       "      <td>California</td>\n",
       "      <td>67%</td>\n",
       "      <td>527</td>\n",
       "      <td>522</td>\n",
       "      <td>1049</td>\n",
       "    </tr>\n",
       "  </tbody>\n",
       "</table>\n",
       "</div>"
      ],
      "text/plain": [
       "        state sat_participation_20  sat_ebrw_20  sat_math_20  \\\n",
       "0     Alabama                   7%          576          551   \n",
       "1      Alaska                  37%          555          543   \n",
       "2     Arizona                  29%          571          568   \n",
       "3    Arkansas                   4%          590          567   \n",
       "4  California                  67%          527          522   \n",
       "\n",
       "   sat_total_average_20  \n",
       "0                  1127  \n",
       "1                  1098  \n",
       "2                  1139  \n",
       "3                  1157  \n",
       "4                  1049  "
      ]
     },
     "execution_count": 102,
     "metadata": {},
     "output_type": "execute_result"
    }
   ],
   "source": [
    "sat_2020.head()"
   ]
  },
  {
   "cell_type": "code",
   "execution_count": 103,
   "metadata": {},
   "outputs": [
    {
     "data": {
      "text/html": [
       "<div>\n",
       "<style scoped>\n",
       "    .dataframe tbody tr th:only-of-type {\n",
       "        vertical-align: middle;\n",
       "    }\n",
       "\n",
       "    .dataframe tbody tr th {\n",
       "        vertical-align: top;\n",
       "    }\n",
       "\n",
       "    .dataframe thead th {\n",
       "        text-align: right;\n",
       "    }\n",
       "</style>\n",
       "<table border=\"1\" class=\"dataframe\">\n",
       "  <thead>\n",
       "    <tr style=\"text-align: right;\">\n",
       "      <th></th>\n",
       "      <th>state</th>\n",
       "      <th>sat_participation_20</th>\n",
       "      <th>sat_ebrw_20</th>\n",
       "      <th>sat_math_20</th>\n",
       "      <th>sat_total_average_20</th>\n",
       "    </tr>\n",
       "  </thead>\n",
       "  <tbody>\n",
       "    <tr>\n",
       "      <th>0</th>\n",
       "      <td>Alabama</td>\n",
       "      <td>0.07</td>\n",
       "      <td>576</td>\n",
       "      <td>551</td>\n",
       "      <td>1127</td>\n",
       "    </tr>\n",
       "    <tr>\n",
       "      <th>1</th>\n",
       "      <td>Alaska</td>\n",
       "      <td>0.37</td>\n",
       "      <td>555</td>\n",
       "      <td>543</td>\n",
       "      <td>1098</td>\n",
       "    </tr>\n",
       "    <tr>\n",
       "      <th>2</th>\n",
       "      <td>Arizona</td>\n",
       "      <td>0.29</td>\n",
       "      <td>571</td>\n",
       "      <td>568</td>\n",
       "      <td>1139</td>\n",
       "    </tr>\n",
       "    <tr>\n",
       "      <th>3</th>\n",
       "      <td>Arkansas</td>\n",
       "      <td>0.04</td>\n",
       "      <td>590</td>\n",
       "      <td>567</td>\n",
       "      <td>1157</td>\n",
       "    </tr>\n",
       "    <tr>\n",
       "      <th>4</th>\n",
       "      <td>California</td>\n",
       "      <td>0.67</td>\n",
       "      <td>527</td>\n",
       "      <td>522</td>\n",
       "      <td>1049</td>\n",
       "    </tr>\n",
       "  </tbody>\n",
       "</table>\n",
       "</div>"
      ],
      "text/plain": [
       "        state  sat_participation_20  sat_ebrw_20  sat_math_20  \\\n",
       "0     Alabama                  0.07          576          551   \n",
       "1      Alaska                  0.37          555          543   \n",
       "2     Arizona                  0.29          571          568   \n",
       "3    Arkansas                  0.04          590          567   \n",
       "4  California                  0.67          527          522   \n",
       "\n",
       "   sat_total_average_20  \n",
       "0                  1127  \n",
       "1                  1098  \n",
       "2                  1139  \n",
       "3                  1157  \n",
       "4                  1049  "
      ]
     },
     "execution_count": 103,
     "metadata": {},
     "output_type": "execute_result"
    }
   ],
   "source": [
    "# Using the function to remove the % and changing the data type to float\n",
    "sat_2020.sat_participation_20 = sat_2020.sat_participation_20.apply(decimal_converter)\n",
    "\n",
    "# Ensureing that the participation rate's format has been update\n",
    "sat_2020.head()"
   ]
  },
  {
   "cell_type": "code",
   "execution_count": 104,
   "metadata": {},
   "outputs": [
    {
     "data": {
      "text/html": [
       "<div>\n",
       "<style scoped>\n",
       "    .dataframe tbody tr th:only-of-type {\n",
       "        vertical-align: middle;\n",
       "    }\n",
       "\n",
       "    .dataframe tbody tr th {\n",
       "        vertical-align: top;\n",
       "    }\n",
       "\n",
       "    .dataframe thead th {\n",
       "        text-align: right;\n",
       "    }\n",
       "</style>\n",
       "<table border=\"1\" class=\"dataframe\">\n",
       "  <thead>\n",
       "    <tr style=\"text-align: right;\">\n",
       "      <th></th>\n",
       "      <th>sat_participation_20</th>\n",
       "      <th>sat_ebrw_20</th>\n",
       "      <th>sat_math_20</th>\n",
       "      <th>sat_total_average_20</th>\n",
       "    </tr>\n",
       "  </thead>\n",
       "  <tbody>\n",
       "    <tr>\n",
       "      <th>count</th>\n",
       "      <td>51.000000</td>\n",
       "      <td>51.000000</td>\n",
       "      <td>51.000000</td>\n",
       "      <td>51.000000</td>\n",
       "    </tr>\n",
       "    <tr>\n",
       "      <th>mean</th>\n",
       "      <td>0.487059</td>\n",
       "      <td>554.901961</td>\n",
       "      <td>545.549020</td>\n",
       "      <td>1100.352941</td>\n",
       "    </tr>\n",
       "    <tr>\n",
       "      <th>std</th>\n",
       "      <td>0.389262</td>\n",
       "      <td>42.780488</td>\n",
       "      <td>46.898321</td>\n",
       "      <td>89.244344</td>\n",
       "    </tr>\n",
       "    <tr>\n",
       "      <th>min</th>\n",
       "      <td>0.020000</td>\n",
       "      <td>480.000000</td>\n",
       "      <td>456.000000</td>\n",
       "      <td>936.000000</td>\n",
       "    </tr>\n",
       "    <tr>\n",
       "      <th>25%</th>\n",
       "      <td>0.045000</td>\n",
       "      <td>523.000000</td>\n",
       "      <td>505.000000</td>\n",
       "      <td>1027.500000</td>\n",
       "    </tr>\n",
       "    <tr>\n",
       "      <th>50%</th>\n",
       "      <td>0.510000</td>\n",
       "      <td>549.000000</td>\n",
       "      <td>543.000000</td>\n",
       "      <td>1095.000000</td>\n",
       "    </tr>\n",
       "    <tr>\n",
       "      <th>75%</th>\n",
       "      <td>0.850000</td>\n",
       "      <td>599.500000</td>\n",
       "      <td>586.000000</td>\n",
       "      <td>1185.500000</td>\n",
       "    </tr>\n",
       "    <tr>\n",
       "      <th>max</th>\n",
       "      <td>1.000000</td>\n",
       "      <td>624.000000</td>\n",
       "      <td>633.000000</td>\n",
       "      <td>1257.000000</td>\n",
       "    </tr>\n",
       "  </tbody>\n",
       "</table>\n",
       "</div>"
      ],
      "text/plain": [
       "       sat_participation_20  sat_ebrw_20  sat_math_20  sat_total_average_20\n",
       "count             51.000000    51.000000    51.000000             51.000000\n",
       "mean               0.487059   554.901961   545.549020           1100.352941\n",
       "std                0.389262    42.780488    46.898321             89.244344\n",
       "min                0.020000   480.000000   456.000000            936.000000\n",
       "25%                0.045000   523.000000   505.000000           1027.500000\n",
       "50%                0.510000   549.000000   543.000000           1095.000000\n",
       "75%                0.850000   599.500000   586.000000           1185.500000\n",
       "max                1.000000   624.000000   633.000000           1257.000000"
      ]
     },
     "execution_count": 104,
     "metadata": {},
     "output_type": "execute_result"
    }
   ],
   "source": [
    "sat_2020.describe()"
   ]
  },
  {
   "cell_type": "code",
   "execution_count": 105,
   "metadata": {},
   "outputs": [
    {
     "data": {
      "text/html": [
       "<div>\n",
       "<style scoped>\n",
       "    .dataframe tbody tr th:only-of-type {\n",
       "        vertical-align: middle;\n",
       "    }\n",
       "\n",
       "    .dataframe tbody tr th {\n",
       "        vertical-align: top;\n",
       "    }\n",
       "\n",
       "    .dataframe thead th {\n",
       "        text-align: right;\n",
       "    }\n",
       "</style>\n",
       "<table border=\"1\" class=\"dataframe\">\n",
       "  <thead>\n",
       "    <tr style=\"text-align: right;\">\n",
       "      <th></th>\n",
       "      <th>state</th>\n",
       "      <th>sat_participation_20</th>\n",
       "      <th>sat_ebrw_20</th>\n",
       "      <th>sat_math_20</th>\n",
       "      <th>sat_total_average_20</th>\n",
       "    </tr>\n",
       "  </thead>\n",
       "  <tbody>\n",
       "    <tr>\n",
       "      <th>51</th>\n",
       "      <td>National</td>\n",
       "      <td>0.51</td>\n",
       "      <td>549.0</td>\n",
       "      <td>543.0</td>\n",
       "      <td>1095.0</td>\n",
       "    </tr>\n",
       "  </tbody>\n",
       "</table>\n",
       "</div>"
      ],
      "text/plain": [
       "       state  sat_participation_20  sat_ebrw_20  sat_math_20  \\\n",
       "51  National                  0.51        549.0        543.0   \n",
       "\n",
       "    sat_total_average_20  \n",
       "51                1095.0  "
      ]
     },
     "execution_count": 105,
     "metadata": {},
     "output_type": "execute_result"
    }
   ],
   "source": [
    "# Adding national values using the 50%, similarly to earlier\n",
    "\n",
    "sat_2020_national = {\n",
    "    'state':'National',\n",
    "    'sat_participation_20':0.51,\n",
    "    'sat_ebrw_20':549.00,\n",
    "    'sat_math_20':543.00,\n",
    "    'sat_total_average_20':1095.00\n",
    "}\n",
    "\n",
    "sat_2020 = sat_2020.append(sat_2020_national,ignore_index=True)\n",
    "\n",
    "sat_2020.tail(1)"
   ]
  },
  {
   "cell_type": "markdown",
   "metadata": {},
   "source": [
    "### Merging both ACT and SAT 2020 data"
   ]
  },
  {
   "cell_type": "code",
   "execution_count": 106,
   "metadata": {},
   "outputs": [],
   "source": [
    "# Merging the 2020 data sets for both act and sat\n",
    "merged_tests_2020 = pd.merge(sat_2020,act_2020,how='inner')"
   ]
  },
  {
   "cell_type": "code",
   "execution_count": 107,
   "metadata": {},
   "outputs": [
    {
     "data": {
      "text/plain": [
       "Index(['state', 'sat_participation_20', 'sat_ebrw_20', 'sat_math_20',\n",
       "       'sat_total_average_20', 'act_participation_20', 'act_total_average_20'],\n",
       "      dtype='object')"
      ]
     },
     "execution_count": 107,
     "metadata": {},
     "output_type": "execute_result"
    }
   ],
   "source": [
    "# Checking the columns\n",
    "merged_tests_2020.columns"
   ]
  },
  {
   "cell_type": "code",
   "execution_count": 108,
   "metadata": {},
   "outputs": [],
   "source": [
    "# Dropping the indidivdual subject columns\n",
    "merged_tests_2020.drop(columns = {'sat_ebrw_20', 'sat_math_20'},inplace=True)"
   ]
  },
  {
   "cell_type": "markdown",
   "metadata": {},
   "source": [
    "### Merging all data from 2017 - 2020 for both ACT and SAT"
   ]
  },
  {
   "cell_type": "code",
   "execution_count": 109,
   "metadata": {},
   "outputs": [],
   "source": [
    "# Merging 2017 and 2018 dataset\n",
    "merged_tests_2017_to_2018 = pd.merge(merged_tests_2017,merged_tests_2018,how='inner')\n",
    "\n",
    "# Merging 2017, 2018 and 2019 dataset \n",
    "merged_tests_2017_to_2019 = pd.merge(merged_tests_2017_to_2018, merged_tests_2019,how='inner')\n",
    "# Merging 2017 to 2020 dataset\n",
    "merged_tests_2017_to_2020 = pd.merge(merged_tests_2017_to_2019,merged_tests_2020,how='inner')"
   ]
  },
  {
   "cell_type": "code",
   "execution_count": 110,
   "metadata": {},
   "outputs": [
    {
     "data": {
      "text/html": [
       "<div>\n",
       "<style scoped>\n",
       "    .dataframe tbody tr th:only-of-type {\n",
       "        vertical-align: middle;\n",
       "    }\n",
       "\n",
       "    .dataframe tbody tr th {\n",
       "        vertical-align: top;\n",
       "    }\n",
       "\n",
       "    .dataframe thead th {\n",
       "        text-align: right;\n",
       "    }\n",
       "</style>\n",
       "<table border=\"1\" class=\"dataframe\">\n",
       "  <thead>\n",
       "    <tr style=\"text-align: right;\">\n",
       "      <th></th>\n",
       "      <th>state</th>\n",
       "      <th>sat_participation_17</th>\n",
       "      <th>sat_total_average_17</th>\n",
       "      <th>act_participation_17</th>\n",
       "      <th>act_total_average_17</th>\n",
       "      <th>sat_participation_18</th>\n",
       "      <th>sat_total_average_18</th>\n",
       "      <th>act_participation_18</th>\n",
       "      <th>act_total_average_18</th>\n",
       "      <th>sat_participation_19</th>\n",
       "      <th>sat_total_average_19</th>\n",
       "      <th>act_participation_19</th>\n",
       "      <th>act_total_average_19</th>\n",
       "      <th>sat_participation_20</th>\n",
       "      <th>sat_total_average_20</th>\n",
       "      <th>act_participation_20</th>\n",
       "      <th>act_total_average_20</th>\n",
       "    </tr>\n",
       "  </thead>\n",
       "  <tbody>\n",
       "    <tr>\n",
       "      <th>0</th>\n",
       "      <td>Alabama</td>\n",
       "      <td>0.05</td>\n",
       "      <td>1165</td>\n",
       "      <td>1.00</td>\n",
       "      <td>19.2</td>\n",
       "      <td>0.06</td>\n",
       "      <td>1166</td>\n",
       "      <td>1.00</td>\n",
       "      <td>19.1</td>\n",
       "      <td>0.07</td>\n",
       "      <td>1143</td>\n",
       "      <td>1.00</td>\n",
       "      <td>18.9</td>\n",
       "      <td>0.07</td>\n",
       "      <td>1127.0</td>\n",
       "      <td>1.00</td>\n",
       "      <td>18.8</td>\n",
       "    </tr>\n",
       "    <tr>\n",
       "      <th>1</th>\n",
       "      <td>Alaska</td>\n",
       "      <td>0.38</td>\n",
       "      <td>1080</td>\n",
       "      <td>0.65</td>\n",
       "      <td>19.8</td>\n",
       "      <td>0.43</td>\n",
       "      <td>1106</td>\n",
       "      <td>0.33</td>\n",
       "      <td>20.8</td>\n",
       "      <td>0.41</td>\n",
       "      <td>1097</td>\n",
       "      <td>0.38</td>\n",
       "      <td>20.1</td>\n",
       "      <td>0.37</td>\n",
       "      <td>1098.0</td>\n",
       "      <td>0.33</td>\n",
       "      <td>20.1</td>\n",
       "    </tr>\n",
       "    <tr>\n",
       "      <th>2</th>\n",
       "      <td>Arizona</td>\n",
       "      <td>0.30</td>\n",
       "      <td>1116</td>\n",
       "      <td>0.62</td>\n",
       "      <td>19.7</td>\n",
       "      <td>0.29</td>\n",
       "      <td>1149</td>\n",
       "      <td>0.66</td>\n",
       "      <td>19.2</td>\n",
       "      <td>0.31</td>\n",
       "      <td>1134</td>\n",
       "      <td>0.73</td>\n",
       "      <td>19.0</td>\n",
       "      <td>0.29</td>\n",
       "      <td>1139.0</td>\n",
       "      <td>0.71</td>\n",
       "      <td>19.1</td>\n",
       "    </tr>\n",
       "    <tr>\n",
       "      <th>3</th>\n",
       "      <td>Arkansas</td>\n",
       "      <td>0.03</td>\n",
       "      <td>1208</td>\n",
       "      <td>1.00</td>\n",
       "      <td>19.4</td>\n",
       "      <td>0.05</td>\n",
       "      <td>1169</td>\n",
       "      <td>1.00</td>\n",
       "      <td>19.4</td>\n",
       "      <td>0.06</td>\n",
       "      <td>1141</td>\n",
       "      <td>1.00</td>\n",
       "      <td>19.3</td>\n",
       "      <td>0.04</td>\n",
       "      <td>1157.0</td>\n",
       "      <td>1.00</td>\n",
       "      <td>19.0</td>\n",
       "    </tr>\n",
       "    <tr>\n",
       "      <th>4</th>\n",
       "      <td>California</td>\n",
       "      <td>0.53</td>\n",
       "      <td>1055</td>\n",
       "      <td>0.31</td>\n",
       "      <td>22.8</td>\n",
       "      <td>0.60</td>\n",
       "      <td>1076</td>\n",
       "      <td>0.27</td>\n",
       "      <td>22.7</td>\n",
       "      <td>0.63</td>\n",
       "      <td>1065</td>\n",
       "      <td>0.23</td>\n",
       "      <td>22.6</td>\n",
       "      <td>0.67</td>\n",
       "      <td>1049.0</td>\n",
       "      <td>0.19</td>\n",
       "      <td>23.3</td>\n",
       "    </tr>\n",
       "  </tbody>\n",
       "</table>\n",
       "</div>"
      ],
      "text/plain": [
       "        state  sat_participation_17  sat_total_average_17  \\\n",
       "0     Alabama                  0.05                  1165   \n",
       "1      Alaska                  0.38                  1080   \n",
       "2     Arizona                  0.30                  1116   \n",
       "3    Arkansas                  0.03                  1208   \n",
       "4  California                  0.53                  1055   \n",
       "\n",
       "   act_participation_17  act_total_average_17  sat_participation_18  \\\n",
       "0                  1.00                  19.2                  0.06   \n",
       "1                  0.65                  19.8                  0.43   \n",
       "2                  0.62                  19.7                  0.29   \n",
       "3                  1.00                  19.4                  0.05   \n",
       "4                  0.31                  22.8                  0.60   \n",
       "\n",
       "   sat_total_average_18  act_participation_18  act_total_average_18  \\\n",
       "0                  1166                  1.00                  19.1   \n",
       "1                  1106                  0.33                  20.8   \n",
       "2                  1149                  0.66                  19.2   \n",
       "3                  1169                  1.00                  19.4   \n",
       "4                  1076                  0.27                  22.7   \n",
       "\n",
       "   sat_participation_19  sat_total_average_19  act_participation_19  \\\n",
       "0                  0.07                  1143                  1.00   \n",
       "1                  0.41                  1097                  0.38   \n",
       "2                  0.31                  1134                  0.73   \n",
       "3                  0.06                  1141                  1.00   \n",
       "4                  0.63                  1065                  0.23   \n",
       "\n",
       "   act_total_average_19  sat_participation_20  sat_total_average_20  \\\n",
       "0                  18.9                  0.07                1127.0   \n",
       "1                  20.1                  0.37                1098.0   \n",
       "2                  19.0                  0.29                1139.0   \n",
       "3                  19.3                  0.04                1157.0   \n",
       "4                  22.6                  0.67                1049.0   \n",
       "\n",
       "   act_participation_20  act_total_average_20  \n",
       "0                  1.00                  18.8  \n",
       "1                  0.33                  20.1  \n",
       "2                  0.71                  19.1  \n",
       "3                  1.00                  19.0  \n",
       "4                  0.19                  23.3  "
      ]
     },
     "execution_count": 110,
     "metadata": {},
     "output_type": "execute_result"
    }
   ],
   "source": [
    "merged_tests_2017_to_2020.head()"
   ]
  },
  {
   "cell_type": "code",
   "execution_count": 111,
   "metadata": {},
   "outputs": [],
   "source": [
    "# Exporting the final data set to csv\n",
    "merged_tests_2017_to_2020.to_csv(\"final_merged_data_2017_to_2020.csv\",index=False)"
   ]
  },
  {
   "cell_type": "markdown",
   "metadata": {},
   "source": [
    "### Data Dictionary\n"
   ]
  },
  {
   "cell_type": "markdown",
   "metadata": {},
   "source": [
    "\n",
    "|Feature|Type|Dataset|Description|\n",
    "|---|---|---|---|\n",
    "**state**|object|final_merged_data_2017_to_2020|The 50 States of America|\n",
    "**sat_participation_17**|float64|final_merged_data_2017_to_2020|SAT's average participation rate for the year 2017|\n",
    "**sat_total_average_17**|int64|final_merged_data_2017_to_2020|SAT's total average score for the year 2017|\n",
    "**act_participation_17**|float64|final_merged_data_2017_to_2020|ACT's average participation rate for the year 2017|\n",
    "**act_total_average_17**|float64|final_merged_data_2017_to_2020|ACT's total average score for the year 2017|\n",
    "**sat_participation_18**|float64|final_merged_data_2017_to_2020|SAT's average participation rate for the year 2018|\n",
    "**sat_total_average_18**|int64|final_merged_data_2017_to_2020|SAT's total average score for the year 2018|\n",
    "**act_participation_18**|float64|final_merged_data_2017_to_2020|ACT's average participation rate for the year 2018|\n",
    "**act_total_average_18**|float64|final_merged_data_2017_to_2020|ACT's total average score for the year 2018|\n",
    "**sat_participation_19**|float64|final_merged_data_2017_to_2020|SAT's average participation rate for the year 2019|\n",
    "**sat_total_average_19**|int64|final_merged_data_2017_to_2020|SAT's total average score for the year 2019|\n",
    "**act_participation_19**|float64|final_merged_data_2017_to_2020|ACT's average participation rate for the year 2019|\n",
    "**act_total_average_19**|float64|final_merged_data_2017_to_2020|ACT's total average score for the year 2019|\n",
    "**sat_participation_20**|float64|final_merged_data_2017_to_2020|SAT's average participation rate for the year 2020|\n",
    "**sat_total_average_20**|float64|final_merged_data_2017_to_2020|SAT's total average score for the year 2020|\n",
    "**act_participation_20**|float64|final_merged_data_2017_to_2020|ACT's average participation rate for the year 2020|\n",
    "**act_total_average_20**|float64|final_merged_data_2017_to_2020|ACT's total average score for the year 2020|\n"
   ]
  },
  {
   "cell_type": "markdown",
   "metadata": {},
   "source": [
    "## Exploratory Data Analysis\n"
   ]
  },
  {
   "cell_type": "markdown",
   "metadata": {},
   "source": [
    "### 1. Summary Statistics"
   ]
  },
  {
   "cell_type": "code",
   "execution_count": 112,
   "metadata": {},
   "outputs": [
    {
     "data": {
      "text/html": [
       "<div>\n",
       "<style scoped>\n",
       "    .dataframe tbody tr th:only-of-type {\n",
       "        vertical-align: middle;\n",
       "    }\n",
       "\n",
       "    .dataframe tbody tr th {\n",
       "        vertical-align: top;\n",
       "    }\n",
       "\n",
       "    .dataframe thead th {\n",
       "        text-align: right;\n",
       "    }\n",
       "</style>\n",
       "<table border=\"1\" class=\"dataframe\">\n",
       "  <thead>\n",
       "    <tr style=\"text-align: right;\">\n",
       "      <th></th>\n",
       "      <th>sat_participation_17</th>\n",
       "      <th>sat_total_average_17</th>\n",
       "      <th>act_participation_17</th>\n",
       "      <th>act_total_average_17</th>\n",
       "      <th>sat_participation_18</th>\n",
       "      <th>sat_total_average_18</th>\n",
       "      <th>act_participation_18</th>\n",
       "      <th>act_total_average_18</th>\n",
       "      <th>sat_participation_19</th>\n",
       "      <th>sat_total_average_19</th>\n",
       "      <th>act_participation_19</th>\n",
       "      <th>act_total_average_19</th>\n",
       "      <th>sat_participation_20</th>\n",
       "      <th>sat_total_average_20</th>\n",
       "      <th>act_participation_20</th>\n",
       "      <th>act_total_average_20</th>\n",
       "    </tr>\n",
       "  </thead>\n",
       "  <tbody>\n",
       "    <tr>\n",
       "      <th>count</th>\n",
       "      <td>52.000000</td>\n",
       "      <td>52.000000</td>\n",
       "      <td>52.000000</td>\n",
       "      <td>52.000000</td>\n",
       "      <td>52.000000</td>\n",
       "      <td>52.000000</td>\n",
       "      <td>52.000000</td>\n",
       "      <td>52.000000</td>\n",
       "      <td>52.000000</td>\n",
       "      <td>52.000000</td>\n",
       "      <td>52.000000</td>\n",
       "      <td>52.000000</td>\n",
       "      <td>52.00000</td>\n",
       "      <td>52.000000</td>\n",
       "      <td>52.000000</td>\n",
       "      <td>52.000000</td>\n",
       "    </tr>\n",
       "    <tr>\n",
       "      <th>mean</th>\n",
       "      <td>0.397692</td>\n",
       "      <td>1125.730769</td>\n",
       "      <td>0.651538</td>\n",
       "      <td>21.509615</td>\n",
       "      <td>0.458654</td>\n",
       "      <td>1119.596154</td>\n",
       "      <td>0.618077</td>\n",
       "      <td>21.492308</td>\n",
       "      <td>0.491538</td>\n",
       "      <td>1112.769231</td>\n",
       "      <td>0.585385</td>\n",
       "      <td>21.450000</td>\n",
       "      <td>0.48750</td>\n",
       "      <td>1100.250000</td>\n",
       "      <td>0.567500</td>\n",
       "      <td>21.488462</td>\n",
       "    </tr>\n",
       "    <tr>\n",
       "      <th>std</th>\n",
       "      <td>0.349300</td>\n",
       "      <td>91.621796</td>\n",
       "      <td>0.318325</td>\n",
       "      <td>2.002083</td>\n",
       "      <td>0.369568</td>\n",
       "      <td>93.277419</td>\n",
       "      <td>0.337069</td>\n",
       "      <td>2.090956</td>\n",
       "      <td>0.383720</td>\n",
       "      <td>96.266097</td>\n",
       "      <td>0.341883</td>\n",
       "      <td>2.175487</td>\n",
       "      <td>0.38544</td>\n",
       "      <td>88.368186</td>\n",
       "      <td>0.353087</td>\n",
       "      <td>2.378140</td>\n",
       "    </tr>\n",
       "    <tr>\n",
       "      <th>min</th>\n",
       "      <td>0.020000</td>\n",
       "      <td>950.000000</td>\n",
       "      <td>0.080000</td>\n",
       "      <td>17.800000</td>\n",
       "      <td>0.020000</td>\n",
       "      <td>977.000000</td>\n",
       "      <td>0.070000</td>\n",
       "      <td>17.700000</td>\n",
       "      <td>0.020000</td>\n",
       "      <td>943.000000</td>\n",
       "      <td>0.060000</td>\n",
       "      <td>17.900000</td>\n",
       "      <td>0.02000</td>\n",
       "      <td>936.000000</td>\n",
       "      <td>0.050000</td>\n",
       "      <td>17.900000</td>\n",
       "    </tr>\n",
       "    <tr>\n",
       "      <th>25%</th>\n",
       "      <td>0.040000</td>\n",
       "      <td>1055.750000</td>\n",
       "      <td>0.310000</td>\n",
       "      <td>19.800000</td>\n",
       "      <td>0.047500</td>\n",
       "      <td>1059.750000</td>\n",
       "      <td>0.292500</td>\n",
       "      <td>19.975000</td>\n",
       "      <td>0.057500</td>\n",
       "      <td>1042.000000</td>\n",
       "      <td>0.247500</td>\n",
       "      <td>19.800000</td>\n",
       "      <td>0.04750</td>\n",
       "      <td>1028.250000</td>\n",
       "      <td>0.222500</td>\n",
       "      <td>19.575000</td>\n",
       "    </tr>\n",
       "    <tr>\n",
       "      <th>50%</th>\n",
       "      <td>0.380000</td>\n",
       "      <td>1107.000000</td>\n",
       "      <td>0.680000</td>\n",
       "      <td>21.400000</td>\n",
       "      <td>0.520000</td>\n",
       "      <td>1098.000000</td>\n",
       "      <td>0.660000</td>\n",
       "      <td>21.300000</td>\n",
       "      <td>0.540000</td>\n",
       "      <td>1097.000000</td>\n",
       "      <td>0.530000</td>\n",
       "      <td>20.950000</td>\n",
       "      <td>0.51000</td>\n",
       "      <td>1095.000000</td>\n",
       "      <td>0.475000</td>\n",
       "      <td>20.800000</td>\n",
       "    </tr>\n",
       "    <tr>\n",
       "      <th>75%</th>\n",
       "      <td>0.655000</td>\n",
       "      <td>1210.000000</td>\n",
       "      <td>1.000000</td>\n",
       "      <td>23.600000</td>\n",
       "      <td>0.767500</td>\n",
       "      <td>1201.000000</td>\n",
       "      <td>1.000000</td>\n",
       "      <td>23.625000</td>\n",
       "      <td>0.820000</td>\n",
       "      <td>1205.000000</td>\n",
       "      <td>1.000000</td>\n",
       "      <td>23.650000</td>\n",
       "      <td>0.83500</td>\n",
       "      <td>1185.250000</td>\n",
       "      <td>1.000000</td>\n",
       "      <td>23.700000</td>\n",
       "    </tr>\n",
       "    <tr>\n",
       "      <th>max</th>\n",
       "      <td>1.000000</td>\n",
       "      <td>1295.000000</td>\n",
       "      <td>1.000000</td>\n",
       "      <td>25.500000</td>\n",
       "      <td>1.000000</td>\n",
       "      <td>1298.000000</td>\n",
       "      <td>1.000000</td>\n",
       "      <td>25.600000</td>\n",
       "      <td>1.000000</td>\n",
       "      <td>1284.000000</td>\n",
       "      <td>1.000000</td>\n",
       "      <td>25.500000</td>\n",
       "      <td>1.00000</td>\n",
       "      <td>1257.000000</td>\n",
       "      <td>1.000000</td>\n",
       "      <td>26.000000</td>\n",
       "    </tr>\n",
       "  </tbody>\n",
       "</table>\n",
       "</div>"
      ],
      "text/plain": [
       "       sat_participation_17  sat_total_average_17  act_participation_17  \\\n",
       "count             52.000000             52.000000             52.000000   \n",
       "mean               0.397692           1125.730769              0.651538   \n",
       "std                0.349300             91.621796              0.318325   \n",
       "min                0.020000            950.000000              0.080000   \n",
       "25%                0.040000           1055.750000              0.310000   \n",
       "50%                0.380000           1107.000000              0.680000   \n",
       "75%                0.655000           1210.000000              1.000000   \n",
       "max                1.000000           1295.000000              1.000000   \n",
       "\n",
       "       act_total_average_17  sat_participation_18  sat_total_average_18  \\\n",
       "count             52.000000             52.000000             52.000000   \n",
       "mean              21.509615              0.458654           1119.596154   \n",
       "std                2.002083              0.369568             93.277419   \n",
       "min               17.800000              0.020000            977.000000   \n",
       "25%               19.800000              0.047500           1059.750000   \n",
       "50%               21.400000              0.520000           1098.000000   \n",
       "75%               23.600000              0.767500           1201.000000   \n",
       "max               25.500000              1.000000           1298.000000   \n",
       "\n",
       "       act_participation_18  act_total_average_18  sat_participation_19  \\\n",
       "count             52.000000             52.000000             52.000000   \n",
       "mean               0.618077             21.492308              0.491538   \n",
       "std                0.337069              2.090956              0.383720   \n",
       "min                0.070000             17.700000              0.020000   \n",
       "25%                0.292500             19.975000              0.057500   \n",
       "50%                0.660000             21.300000              0.540000   \n",
       "75%                1.000000             23.625000              0.820000   \n",
       "max                1.000000             25.600000              1.000000   \n",
       "\n",
       "       sat_total_average_19  act_participation_19  act_total_average_19  \\\n",
       "count             52.000000             52.000000             52.000000   \n",
       "mean            1112.769231              0.585385             21.450000   \n",
       "std               96.266097              0.341883              2.175487   \n",
       "min              943.000000              0.060000             17.900000   \n",
       "25%             1042.000000              0.247500             19.800000   \n",
       "50%             1097.000000              0.530000             20.950000   \n",
       "75%             1205.000000              1.000000             23.650000   \n",
       "max             1284.000000              1.000000             25.500000   \n",
       "\n",
       "       sat_participation_20  sat_total_average_20  act_participation_20  \\\n",
       "count              52.00000             52.000000             52.000000   \n",
       "mean                0.48750           1100.250000              0.567500   \n",
       "std                 0.38544             88.368186              0.353087   \n",
       "min                 0.02000            936.000000              0.050000   \n",
       "25%                 0.04750           1028.250000              0.222500   \n",
       "50%                 0.51000           1095.000000              0.475000   \n",
       "75%                 0.83500           1185.250000              1.000000   \n",
       "max                 1.00000           1257.000000              1.000000   \n",
       "\n",
       "       act_total_average_20  \n",
       "count             52.000000  \n",
       "mean              21.488462  \n",
       "std                2.378140  \n",
       "min               17.900000  \n",
       "25%               19.575000  \n",
       "50%               20.800000  \n",
       "75%               23.700000  \n",
       "max               26.000000  "
      ]
     },
     "execution_count": 112,
     "metadata": {},
     "output_type": "execute_result"
    }
   ],
   "source": [
    "# Using the describe method to retrieve the dataset's summary statistics\n",
    "merged_tests_2017_to_2020.describe()"
   ]
  },
  {
   "cell_type": "code",
   "execution_count": 113,
   "metadata": {},
   "outputs": [
    {
     "name": "stdout",
     "output_type": "stream",
     "text": [
      "<class 'pandas.core.frame.DataFrame'>\n",
      "Int64Index: 52 entries, 0 to 51\n",
      "Data columns (total 17 columns):\n",
      " #   Column                Non-Null Count  Dtype  \n",
      "---  ------                --------------  -----  \n",
      " 0   state                 52 non-null     object \n",
      " 1   sat_participation_17  52 non-null     float64\n",
      " 2   sat_total_average_17  52 non-null     int64  \n",
      " 3   act_participation_17  52 non-null     float64\n",
      " 4   act_total_average_17  52 non-null     float64\n",
      " 5   sat_participation_18  52 non-null     float64\n",
      " 6   sat_total_average_18  52 non-null     int64  \n",
      " 7   act_participation_18  52 non-null     float64\n",
      " 8   act_total_average_18  52 non-null     float64\n",
      " 9   sat_participation_19  52 non-null     float64\n",
      " 10  sat_total_average_19  52 non-null     int64  \n",
      " 11  act_participation_19  52 non-null     float64\n",
      " 12  act_total_average_19  52 non-null     float64\n",
      " 13  sat_participation_20  52 non-null     float64\n",
      " 14  sat_total_average_20  52 non-null     float64\n",
      " 15  act_participation_20  52 non-null     float64\n",
      " 16  act_total_average_20  52 non-null     float64\n",
      "dtypes: float64(13), int64(3), object(1)\n",
      "memory usage: 7.3+ KB\n"
     ]
    }
   ],
   "source": [
    "merged_tests_2017_to_2020.info()"
   ]
  },
  {
   "cell_type": "markdown",
   "metadata": {},
   "source": [
    "### 2. Using a dictionary comprehension to apply the standard deviation function that was created in part 1."
   ]
  },
  {
   "cell_type": "code",
   "execution_count": 114,
   "metadata": {},
   "outputs": [],
   "source": [
    "# using dictionary comprehension to calculate the sd using the function created earlier\n",
    "# [key:value for key in columns ]\n",
    "\n",
    "sd = {column : sd_calculator(merged_tests_2017_to_2020[column]) for column in merged_tests_2017_to_2020.columns if ((merged_tests_2017_to_2020[column].dtype=='float64')|(merged_tests_2017_to_2020[column].dtype=='int64'))}"
   ]
  },
  {
   "cell_type": "code",
   "execution_count": 115,
   "metadata": {},
   "outputs": [
    {
     "data": {
      "text/plain": [
       "{'sat_participation_17': 0.3459247104868974,\n",
       " 'sat_total_average_17': 90.73654072359827,\n",
       " 'act_participation_17': 0.3152495020150073,\n",
       " 'act_total_average_17': 1.9827389384951444,\n",
       " 'sat_participation_18': 0.36599720914317324,\n",
       " 'sat_total_average_18': 92.37616650983766,\n",
       " 'act_participation_18': 0.3338126977209874,\n",
       " 'act_total_average_18': 2.0707529431294525,\n",
       " 'sat_participation_19': 0.380012067700005,\n",
       " 'sat_total_average_19': 95.33596774335555,\n",
       " 'act_participation_19': 0.33857996180008104,\n",
       " 'act_total_average_19': 2.154467630119044,\n",
       " 'sat_participation_20': 0.38171614000256987,\n",
       " 'sat_total_average_20': 87.5143669523863,\n",
       " 'act_participation_20': 0.3496749864572046,\n",
       " 'act_total_average_20': 2.355162402219516}"
      ]
     },
     "execution_count": 115,
     "metadata": {},
     "output_type": "execute_result"
    }
   ],
   "source": [
    "sd"
   ]
  },
  {
   "cell_type": "markdown",
   "metadata": {},
   "source": [
    "### 3. Investigating trends"
   ]
  },
  {
   "cell_type": "markdown",
   "metadata": {},
   "source": [
    " #### Number of US states that have a higher average score than the national average in 2017 for ACT and SAT"
   ]
  },
  {
   "cell_type": "code",
   "execution_count": 116,
   "metadata": {},
   "outputs": [
    {
     "data": {
      "text/plain": [
       "51"
      ]
     },
     "execution_count": 116,
     "metadata": {},
     "output_type": "execute_result"
    }
   ],
   "source": [
    "# Finding out the index for National\n",
    "merged_tests_2017_to_2020[merged_tests_2017_to_2020['state']=='National'].index[0]"
   ]
  },
  {
   "cell_type": "code",
   "execution_count": 117,
   "metadata": {
    "scrolled": true
   },
   "outputs": [
    {
     "data": {
      "text/html": [
       "<div>\n",
       "<style scoped>\n",
       "    .dataframe tbody tr th:only-of-type {\n",
       "        vertical-align: middle;\n",
       "    }\n",
       "\n",
       "    .dataframe tbody tr th {\n",
       "        vertical-align: top;\n",
       "    }\n",
       "\n",
       "    .dataframe thead th {\n",
       "        text-align: right;\n",
       "    }\n",
       "</style>\n",
       "<table border=\"1\" class=\"dataframe\">\n",
       "  <thead>\n",
       "    <tr style=\"text-align: right;\">\n",
       "      <th></th>\n",
       "      <th>state</th>\n",
       "      <th>sat_participation_17</th>\n",
       "      <th>sat_total_average_17</th>\n",
       "      <th>act_participation_17</th>\n",
       "      <th>act_total_average_17</th>\n",
       "      <th>sat_participation_18</th>\n",
       "      <th>sat_total_average_18</th>\n",
       "      <th>act_participation_18</th>\n",
       "      <th>act_total_average_18</th>\n",
       "      <th>sat_participation_19</th>\n",
       "      <th>sat_total_average_19</th>\n",
       "      <th>act_participation_19</th>\n",
       "      <th>act_total_average_19</th>\n",
       "      <th>sat_participation_20</th>\n",
       "      <th>sat_total_average_20</th>\n",
       "      <th>act_participation_20</th>\n",
       "      <th>act_total_average_20</th>\n",
       "    </tr>\n",
       "  </thead>\n",
       "  <tbody>\n",
       "    <tr>\n",
       "      <th>51</th>\n",
       "      <td>National</td>\n",
       "      <td>0.38</td>\n",
       "      <td>1107</td>\n",
       "      <td>0.6</td>\n",
       "      <td>21.0</td>\n",
       "      <td>0.52</td>\n",
       "      <td>1098</td>\n",
       "      <td>0.66</td>\n",
       "      <td>21.3</td>\n",
       "      <td>0.54</td>\n",
       "      <td>1097</td>\n",
       "      <td>0.52</td>\n",
       "      <td>20.7</td>\n",
       "      <td>0.51</td>\n",
       "      <td>1095.0</td>\n",
       "      <td>0.49</td>\n",
       "      <td>20.6</td>\n",
       "    </tr>\n",
       "  </tbody>\n",
       "</table>\n",
       "</div>"
      ],
      "text/plain": [
       "       state  sat_participation_17  sat_total_average_17  \\\n",
       "51  National                  0.38                  1107   \n",
       "\n",
       "    act_participation_17  act_total_average_17  sat_participation_18  \\\n",
       "51                   0.6                  21.0                  0.52   \n",
       "\n",
       "    sat_total_average_18  act_participation_18  act_total_average_18  \\\n",
       "51                  1098                  0.66                  21.3   \n",
       "\n",
       "    sat_participation_19  sat_total_average_19  act_participation_19  \\\n",
       "51                  0.54                  1097                  0.52   \n",
       "\n",
       "    act_total_average_19  sat_participation_20  sat_total_average_20  \\\n",
       "51                  20.7                  0.51                1095.0   \n",
       "\n",
       "    act_participation_20  act_total_average_20  \n",
       "51                  0.49                  20.6  "
      ]
     },
     "execution_count": 117,
     "metadata": {},
     "output_type": "execute_result"
    }
   ],
   "source": [
    "# Checking the national average for all columns\n",
    "merged_tests_2017_to_2020.tail(1)"
   ]
  },
  {
   "cell_type": "code",
   "execution_count": 118,
   "metadata": {},
   "outputs": [
    {
     "name": "stdout",
     "output_type": "stream",
     "text": [
      "Total number of states that did better than the ACT national average in 2017: 27\n",
      "Total number of states that did better than the SAT national average in 2017: 25\n"
     ]
    }
   ],
   "source": [
    "# filtered rows that are above the national average \n",
    "above_national_act_2017 = merged_tests_2017_to_2020.loc[(merged_tests_2017_to_2020.act_total_average_17)> merged_tests_2017_to_2020.loc[51,['act_total_average_17']][0]]\n",
    "\n",
    "above_national_sat_2017 = merged_tests_2017_to_2020.loc[(merged_tests_2017_to_2020.sat_total_average_17)>merged_tests_2017_to_2020.loc[51,['sat_total_average_17']][0]]\n",
    "\n",
    "print(f'Total number of states that did better than the ACT national average in 2017: {above_national_act_2017.state.count()}')\n",
    "print(f'Total number of states that did better than the SAT national average in 2017: {above_national_sat_2017.state.count()}')"
   ]
  },
  {
   "cell_type": "markdown",
   "metadata": {},
   "source": [
    " #### Number of US states that have a lower average score than the national average in 2017 for ACT and SAT"
   ]
  },
  {
   "cell_type": "code",
   "execution_count": 119,
   "metadata": {},
   "outputs": [
    {
     "name": "stdout",
     "output_type": "stream",
     "text": [
      "Total number of states that did worse than the ACT national average in 2017: 24\n",
      "Total number of states that did worse than the SAT national average in 2017: 25\n"
     ]
    }
   ],
   "source": [
    "# filtered rows that are below the national average\n",
    "below_national_act_2017 = merged_tests_2017_to_2020.loc[merged_tests_2017_to_2020.act_total_average_17< merged_tests_2017_to_2020.loc[51,['act_total_average_17']][0]]\n",
    "\n",
    "below_national_sat_2017 = merged_tests_2017_to_2020.loc[merged_tests_2017_to_2020.sat_total_average_17<merged_tests_2017_to_2020.loc[51,['sat_total_average_17']][0]]\n",
    "\n",
    "print(f'Total number of states that did worse than the ACT national average in 2017: {below_national_act_2017.state.count()}')\n",
    "print(f'Total number of states that did worse than the SAT national average in 2017: {below_national_sat_2017.state.count()}')"
   ]
  },
  {
   "cell_type": "markdown",
   "metadata": {},
   "source": [
    " ####  Number of US states that have a higher average score than the national average in 2018 for ACT and SAT"
   ]
  },
  {
   "cell_type": "code",
   "execution_count": 120,
   "metadata": {},
   "outputs": [
    {
     "name": "stdout",
     "output_type": "stream",
     "text": [
      "Total number of states that did better than the ACT national average in 2018: 24\n",
      "Total number of states that did better then the SAT national average in 2018: 25\n"
     ]
    }
   ],
   "source": [
    "# filtered rows that are above the national average\n",
    "above_national_act_2018 = merged_tests_2017_to_2020.loc[merged_tests_2017_to_2020.act_total_average_18>merged_tests_2017_to_2020.loc[51,['act_total_average_18']][0]]\n",
    "\n",
    "above_national_sat_2018 = merged_tests_2017_to_2020.loc[merged_tests_2017_to_2020.sat_total_average_18>merged_tests_2017_to_2020.loc[51,['sat_total_average_18']][0]]\n",
    "\n",
    "print(f'Total number of states that did better than the ACT national average in 2018: {above_national_act_2018.state.count()}')\n",
    "print(f'Total number of states that did better then the SAT national average in 2018: {above_national_sat_2018.state.count()}')"
   ]
  },
  {
   "cell_type": "markdown",
   "metadata": {},
   "source": [
    " ####  Number of US states that have a lower average score than the national average in 2018 for ACT and SAT"
   ]
  },
  {
   "cell_type": "code",
   "execution_count": 121,
   "metadata": {},
   "outputs": [
    {
     "name": "stdout",
     "output_type": "stream",
     "text": [
      "Total number of states that did worse than the ACT national average in 2018: 25\n",
      "Total number of states that did worse than the SAT national average in 2018: 25\n"
     ]
    }
   ],
   "source": [
    "# filtered rows that are below the national average\n",
    "below_national_act_2018 = merged_tests_2017_to_2020.loc[merged_tests_2017_to_2020.act_total_average_18<merged_tests_2017_to_2020.loc[51,['act_total_average_18']][0]]\n",
    "\n",
    "below_national_sat_2018 = merged_tests_2017_to_2020.loc[merged_tests_2017_to_2020.sat_total_average_18<merged_tests_2017_to_2020.loc[51,['sat_total_average_18']][0]]\n",
    "\n",
    "print(f'Total number of states that did worse than the ACT national average in 2018: {below_national_act_2018.state.count()}')\n",
    "print(f'Total number of states that did worse than the SAT national average in 2018: {below_national_sat_2018.state.count()}')"
   ]
  },
  {
   "cell_type": "markdown",
   "metadata": {},
   "source": [
    " ####  Number of US states that have a higher average score than the national average in 2019 for ACT and SAT"
   ]
  },
  {
   "cell_type": "code",
   "execution_count": 122,
   "metadata": {},
   "outputs": [
    {
     "name": "stdout",
     "output_type": "stream",
     "text": [
      "Total number of states that did better than the ACT national average in 2019: 28\n",
      "Total number of states that did better than the SAT national average in 2019: 25\n"
     ]
    }
   ],
   "source": [
    "# filtered rows that are above the national average\n",
    "above_national_act_2019 = merged_tests_2017_to_2020.loc[(merged_tests_2017_to_2020.act_total_average_19)>merged_tests_2017_to_2020.loc[51,['act_total_average_19']][0]]\n",
    "\n",
    "above_national_sat_2019 = merged_tests_2017_to_2020.loc[(merged_tests_2017_to_2020.sat_total_average_19)>merged_tests_2017_to_2020.loc[51,['sat_total_average_19']][0]]\n",
    "\n",
    "print(f'Total number of states that did better than the ACT national average in 2019: {above_national_act_2019.state.count()}')\n",
    "print(f'Total number of states that did better than the SAT national average in 2019: {above_national_sat_2019.state.count()}')"
   ]
  },
  {
   "cell_type": "markdown",
   "metadata": {},
   "source": [
    " #### Number of US states that have a lower average score than the national average in 2019 for ACT and SAT"
   ]
  },
  {
   "cell_type": "code",
   "execution_count": 123,
   "metadata": {},
   "outputs": [
    {
     "name": "stdout",
     "output_type": "stream",
     "text": [
      "Total number of states that did worse than the ACT national average in 2019: 23\n",
      "Total number of states that did worse than the SAT national average in 2019: 24\n"
     ]
    }
   ],
   "source": [
    "# filtered rows that are below the national average\n",
    "below_national_act_2019 = merged_tests_2017_to_2020.loc[merged_tests_2017_to_2020.act_total_average_19<merged_tests_2017_to_2020.loc[51,['act_total_average_19']][0]]\n",
    "\n",
    "below_national_sat_2019 = merged_tests_2017_to_2020.loc[merged_tests_2017_to_2020.sat_total_average_19<merged_tests_2017_to_2020.loc[51,['sat_total_average_19']][0]]\n",
    "\n",
    "print(f'Total number of states that did worse than the ACT national average in 2019: {below_national_act_2019.state.count()}')\n",
    "print(f'Total number of states that did worse than the SAT national average in 2019: {below_national_sat_2019.state.count()}')"
   ]
  },
  {
   "cell_type": "markdown",
   "metadata": {},
   "source": [
    " #### Number of US states that have a higher average score than the national average in 2020 for ACT and SAT"
   ]
  },
  {
   "cell_type": "code",
   "execution_count": 124,
   "metadata": {},
   "outputs": [
    {
     "name": "stdout",
     "output_type": "stream",
     "text": [
      "Total number of states that did better than the ACT national average in 2020: 27\n",
      "Total number of states that did better than the SAT national average in 2020: 25\n"
     ]
    }
   ],
   "source": [
    "# filtered rows that are above the national average\n",
    "above_national_act_2020 = merged_tests_2017_to_2020.loc[(merged_tests_2017_to_2020.act_total_average_20)>merged_tests_2017_to_2020.loc[51,['act_total_average_20']][0]]\n",
    "\n",
    "above_national_sat_2020 = merged_tests_2017_to_2020.loc[(merged_tests_2017_to_2020.sat_total_average_20)>merged_tests_2017_to_2020.loc[51,['sat_total_average_20']][0]]\n",
    "\n",
    "print(f'Total number of states that did better than the ACT national average in 2020: {above_national_act_2020.state.count()}')\n",
    "print(f'Total number of states that did better than the SAT national average in 2020: {above_national_sat_2020.state.count()}')"
   ]
  },
  {
   "cell_type": "markdown",
   "metadata": {},
   "source": [
    " #### Number of US states that have a lower average score than the national average in 2020 for ACT and SAT"
   ]
  },
  {
   "cell_type": "code",
   "execution_count": 125,
   "metadata": {},
   "outputs": [
    {
     "name": "stdout",
     "output_type": "stream",
     "text": [
      "Total number of states that did worse than the ACT national average in 2020: 25\n",
      "Total number of states that did worse than the SAT national average in 2020: 28\n"
     ]
    }
   ],
   "source": [
    "# filtered rows that are below the national average\n",
    "below_national_act_2020 = merged_tests_2017_to_2020.loc[merged_tests_2017_to_2020.act_total_average_20<merged_tests_2017_to_2020.loc[51,['act_total_average_19']][0]]\n",
    "\n",
    "below_national_sat_2020 = merged_tests_2017_to_2020.loc[merged_tests_2017_to_2020.sat_total_average_20<merged_tests_2017_to_2020.loc[51,['sat_total_average_19']][0]]\n",
    "\n",
    "print(f'Total number of states that did worse than the ACT national average in 2020: {below_national_act_2020.state.count()}')\n",
    "print(f'Total number of states that did worse than the SAT national average in 2020: {below_national_sat_2020.state.count()}')"
   ]
  },
  {
   "cell_type": "markdown",
   "metadata": {},
   "source": [
    "#### Number of US states that have a higher participation rate than national's average in 2017 for ACT and SAT "
   ]
  },
  {
   "cell_type": "code",
   "execution_count": 126,
   "metadata": {},
   "outputs": [],
   "source": [
    "# Site to states with mandatory requirement for SAT & ACT.\n",
    "# https://www.ecs.org/wp-content/uploads/State-Information-Request_Use-of-ACT-SAT-and-PSAT-for-High-School-Testing-as-Required-by-ESSA.pdf\n",
    "# States that have mandatory requirement to take SAT\n",
    "sat_mandatory_states = merged_tests_2017_to_2019['state'].str.contains(\"Colorado|Connecticut|Delaware|Idaho|Illinois|Maine|Michigan|New Hampshire|Rhode Island|West Virginia\")\n",
    "\n",
    "# States that have mandatory requirement to take ACT\n",
    "act_mandatory_states = merged_tests_2017_to_2019['state'].str.contains(\"Alabama|Arkansas|Kentucky|Louisiana|Mississippi|Montana|Nebraska|Nevada|North Carolina|North Dakota|Utah|Wisconsin|Wyoming\")"
   ]
  },
  {
   "cell_type": "code",
   "execution_count": 127,
   "metadata": {},
   "outputs": [
    {
     "name": "stdout",
     "output_type": "stream",
     "text": [
      "Not accounting states that have mandatory requirement to take either of the test:\n",
      "Total number of states that have a higher ACT participation rate than national average in 2017: 17\n",
      "Total number of states that have a higher SAT participation rate than national average in 2017: 18\n"
     ]
    }
   ],
   "source": [
    "# State with higher participation than national average in 2017\n",
    "# Not accounting for states that have mandatory requirement to take ACT\n",
    "above_national_act_pr_2017 = merged_tests_2017_to_2020.loc[(merged_tests_2017_to_2020.act_participation_17>merged_tests_2017_to_2020.loc[51,['act_participation_17']][0]) & (~act_mandatory_states)]\n",
    "\n",
    "# Not accounting for states that have mandatory requirement to take SAT\n",
    "above_national_sat_pr_2017 = merged_tests_2017_to_2020.loc[(merged_tests_2017_to_2019.sat_participation_17>merged_tests_2017_to_2020.loc[51,['sat_participation_17']][0]) & (~sat_mandatory_states)]\n",
    "\n",
    "print(\"Not accounting states that have mandatory requirement to take either of the test:\")\n",
    "print(f'Total number of states that have a higher ACT participation rate than national average in 2017: {above_national_act_pr_2017.shape[0]}')\n",
    "print(f'Total number of states that have a higher SAT participation rate than national average in 2017: {above_national_sat_pr_2017.shape[0]}')\n"
   ]
  },
  {
   "cell_type": "code",
   "execution_count": null,
   "metadata": {},
   "outputs": [],
   "source": []
  },
  {
   "cell_type": "markdown",
   "metadata": {},
   "source": [
    "#### Number of US states that have a lower participation rate than national's average in 2017 for ACT and SAT"
   ]
  },
  {
   "cell_type": "code",
   "execution_count": 128,
   "metadata": {},
   "outputs": [
    {
     "name": "stdout",
     "output_type": "stream",
     "text": [
      "Not accounting states that have mandatory requirement to take either of the test:\n",
      "Total number of states that have a lower ACT participation rate than national average in 2017: 21\n",
      "Total number of states that have a lower SAT participation rate than national average in 2017: 22\n"
     ]
    }
   ],
   "source": [
    "# State with lower participation than national average in 2017\n",
    "# Not accounting for states that have mandatory requirement to take ACT\n",
    "lower_national_act_pr_2017 = merged_tests_2017_to_2020.loc[(merged_tests_2017_to_2020.act_participation_17<merged_tests_2017_to_2020.loc[51,['act_participation_17']][0]) & (~act_mandatory_states)]\n",
    "\n",
    "# Not accounting for states that have mandatory requirement to take SAT\n",
    "lower_national_sat_pr_2017 = merged_tests_2017_to_2020.loc[(merged_tests_2017_to_2020.sat_participation_17<merged_tests_2017_to_2020.loc[51,['sat_participation_17']][0]) & (~sat_mandatory_states)]\n",
    "\n",
    "print(\"Not accounting states that have mandatory requirement to take either of the test:\")\n",
    "print(f'Total number of states that have a lower ACT participation rate than national average in 2017: {lower_national_act_pr_2017.shape[0]}')\n",
    "print(f'Total number of states that have a lower SAT participation rate than national average in 2017: {lower_national_sat_pr_2017.shape[0]}')\n"
   ]
  },
  {
   "cell_type": "markdown",
   "metadata": {},
   "source": [
    "#### Number of US states that have a higher participation rate than national's average in 2018 for ACT and SAT"
   ]
  },
  {
   "cell_type": "code",
   "execution_count": 129,
   "metadata": {},
   "outputs": [
    {
     "name": "stdout",
     "output_type": "stream",
     "text": [
      "Not accounting states that have mandatory requirement to take either of the test:\n",
      "Total number of states that have a higher ACT participation rate than national average in 2018: 11\n",
      "Total number of states that have a higher SAT participation rate than national average in 2018: 16\n"
     ]
    }
   ],
   "source": [
    "# State with higher participation than national average in 2018\n",
    "# Not accounting for states that have mandatory requirement to take ACT\n",
    "above_national_act_pr_2018 = merged_tests_2017_to_2020.loc[(merged_tests_2017_to_2020.act_participation_18>merged_tests_2017_to_2020.loc[51,['act_participation_18']][0])&(~act_mandatory_states)]\n",
    "# Not accounting for states that have mandatory requirement to take SAT\n",
    "above_national_sat_pr_2018 = merged_tests_2017_to_2020.loc[(merged_tests_2017_to_2020.sat_participation_18>merged_tests_2017_to_2020.loc[51,['sat_participation_18']][0])&(~sat_mandatory_states)]\n",
    "\n",
    "print(\"Not accounting states that have mandatory requirement to take either of the test:\")\n",
    "print(f'Total number of states that have a higher ACT participation rate than national average in 2018: {above_national_act_pr_2018.shape[0]}')\n",
    "print(f'Total number of states that have a higher SAT participation rate than national average in 2018: {above_national_sat_pr_2018.shape[0]}')\n"
   ]
  },
  {
   "cell_type": "markdown",
   "metadata": {},
   "source": [
    "#### Number of US states that have a lower participation rate than national's average in 2018 for ACT and SAT"
   ]
  },
  {
   "cell_type": "code",
   "execution_count": 130,
   "metadata": {},
   "outputs": [
    {
     "name": "stdout",
     "output_type": "stream",
     "text": [
      "Not accounting states that have mandatory requirement to take either of the test:\n",
      "Total number of states that have a lower ACT participation rate than national average in 2018: 25\n",
      "Total number of states that have a lower SAT participation rate than national average in 2018: 24\n"
     ]
    }
   ],
   "source": [
    "# State with lower participation than national average in 2018\n",
    "# Not accounting for states that have mandatory requirement to take ACT\n",
    "lower_national_act_pr_2018 = merged_tests_2017_to_2020.loc[(merged_tests_2017_to_2020.act_participation_18<merged_tests_2017_to_2020.loc[51,['act_participation_18']][0])&(~act_mandatory_states)]\n",
    "# Not accounting for states that have mandatory requirement to take SAT\n",
    "lower_national_sat_pr_2018 = merged_tests_2017_to_2020.loc[(merged_tests_2017_to_2020.sat_participation_18<merged_tests_2017_to_2020.loc[51,['sat_participation_18']][0])&(~sat_mandatory_states)]\n",
    "\n",
    "print(\"Not accounting states that have mandatory requirement to take either of the test:\")\n",
    "print(f'Total number of states that have a lower ACT participation rate than national average in 2018: {lower_national_act_pr_2018.shape[0]}')\n",
    "print(f'Total number of states that have a lower SAT participation rate than national average in 2018: {lower_national_sat_pr_2018.shape[0]}')\n"
   ]
  },
  {
   "cell_type": "markdown",
   "metadata": {},
   "source": [
    "#### Number of US states that have a higher participation rate than national's average in 2019 for ACT and SAT"
   ]
  },
  {
   "cell_type": "code",
   "execution_count": 131,
   "metadata": {},
   "outputs": [
    {
     "name": "stdout",
     "output_type": "stream",
     "text": [
      "Not accounting states that have mandatory requirement to take either of the test:\n",
      "Total number of states that have a higher ACT participation rate than national average in 2019: 13\n",
      "Total number of states that have a higher SAT participation rate than national average in 2019: 15\n"
     ]
    }
   ],
   "source": [
    "# State with higher participation than national average in 2019\n",
    "# Not accounting for states that have mandatory requirement to take ACT\n",
    "above_national_act_pr_2019 = merged_tests_2017_to_2020.loc[(merged_tests_2017_to_2020.act_participation_19>merged_tests_2017_to_2020.loc[51,['act_participation_19']][0])&(~act_mandatory_states)]\n",
    "# Not accounting for states that have mandatory requirement to take SAT\n",
    "above_national_sat_pr_2019 = merged_tests_2017_to_2020.loc[(merged_tests_2017_to_2020.sat_participation_19>merged_tests_2017_to_2020.loc[51,['sat_participation_19']][0])&(~sat_mandatory_states)]\n",
    "\n",
    "print(\"Not accounting states that have mandatory requirement to take either of the test:\")\n",
    "print(f'Total number of states that have a higher ACT participation rate than national average in 2019: {above_national_act_pr_2019.shape[0]}')\n",
    "print(f'Total number of states that have a higher SAT participation rate than national average in 2019: {above_national_sat_pr_2019.shape[0]}')\n"
   ]
  },
  {
   "cell_type": "markdown",
   "metadata": {},
   "source": [
    "####  Number of US states that have a lower participation rate than national's average in 2019 for ACT and SAT"
   ]
  },
  {
   "cell_type": "code",
   "execution_count": 132,
   "metadata": {},
   "outputs": [
    {
     "name": "stdout",
     "output_type": "stream",
     "text": [
      "Not accounting states that have mandatory requirement to take either of the test:\n",
      "Total number of states that have a lower ACT participation rate than national average in 2019: 25\n",
      "Total number of states that have a lower SAT participation rate than national average in 2019: 25\n"
     ]
    }
   ],
   "source": [
    "# State with lower participation than national average in 2019\n",
    "# Not accounting for states that have mandatory requirement to take ACT\n",
    "lower_national_act_pr_2019 = merged_tests_2017_to_2020.loc[(merged_tests_2017_to_2020.act_participation_19<merged_tests_2017_to_2020.loc[51,['act_participation_19']][0])&(~act_mandatory_states)]\n",
    "# Not accounting for states that have mandatory requirement to take SAT\n",
    "lower_national_sat_pr_2019 = merged_tests_2017_to_2020.loc[(merged_tests_2017_to_2020.sat_participation_19<merged_tests_2017_to_2020.loc[51,['sat_participation_19']][0])&(~sat_mandatory_states)]\n",
    "\n",
    "print(\"Not accounting states that have mandatory requirement to take either of the test:\")\n",
    "print(f'Total number of states that have a lower ACT participation rate than national average in 2019: {lower_national_act_pr_2019.shape[0]}')\n",
    "print(f'Total number of states that have a lower SAT participation rate than national average in 2019: {lower_national_sat_pr_2019.shape[0]}')\n"
   ]
  },
  {
   "cell_type": "markdown",
   "metadata": {},
   "source": [
    "#### Number of US states that have a higher participation rate than national's average in 2020 for ACT and SAT"
   ]
  },
  {
   "cell_type": "code",
   "execution_count": 133,
   "metadata": {},
   "outputs": [
    {
     "name": "stdout",
     "output_type": "stream",
     "text": [
      "Not accounting states that have mandatory requirement to take either of the test:\n",
      "Total number of states that have a higher ACT participation rate than national average in 2020: 12\n",
      "Total number of states that have a higher SAT participation rate than national average in 2020: 15\n"
     ]
    }
   ],
   "source": [
    "# State with higher participation than national average in 2020\n",
    "# Not accounting for states that have mandatory requirement to take ACT\n",
    "above_national_act_pr_2020 = merged_tests_2017_to_2020.loc[(merged_tests_2017_to_2020.act_participation_20>merged_tests_2017_to_2020.loc[51,['act_participation_20']][0])&(~act_mandatory_states)]\n",
    "# Not accounting for states that have mandatory requirement to take SAT\n",
    "above_national_sat_pr_2020 = merged_tests_2017_to_2020.loc[(merged_tests_2017_to_2020.sat_participation_20>merged_tests_2017_to_2020.loc[51,['sat_participation_20']][0])&(~sat_mandatory_states)]\n",
    "\n",
    "print(\"Not accounting states that have mandatory requirement to take either of the test:\")\n",
    "print(f'Total number of states that have a higher ACT participation rate than national average in 2020: {above_national_act_pr_2020.shape[0]}')\n",
    "print(f'Total number of states that have a higher SAT participation rate than national average in 2020: {above_national_sat_pr_2020.shape[0]}')\n"
   ]
  },
  {
   "cell_type": "markdown",
   "metadata": {},
   "source": [
    "####  Number of US states that have a lower participation rate than national's average in 2020 for ACT and SAT"
   ]
  },
  {
   "cell_type": "code",
   "execution_count": 134,
   "metadata": {},
   "outputs": [
    {
     "name": "stdout",
     "output_type": "stream",
     "text": [
      "Not accounting states that have mandatory requirement to take either of the test:\n",
      "Total number of states that have a lower ACT participation rate than national average in 2019: 25\n",
      "Total number of states that have a lower SAT participation rate than national average in 2019: 25\n"
     ]
    }
   ],
   "source": [
    "# State with lower participation than national average in 2019\n",
    "# Not accounting for states that have mandatory requirement to take ACT\n",
    "lower_national_act_pr_2020 = merged_tests_2017_to_2020.loc[(merged_tests_2017_to_2020.act_participation_19<merged_tests_2017_to_2020.loc[51,['act_participation_19']][0])&(~act_mandatory_states)]\n",
    "# Not accounting for states that have mandatory requirement to take SAT\n",
    "lower_national_sat_pr_2020 = merged_tests_2017_to_2020.loc[(merged_tests_2017_to_2020.sat_participation_19<merged_tests_2017_to_2020.loc[51,['sat_participation_19']][0])&(~sat_mandatory_states)]\n",
    "\n",
    "print(\"Not accounting states that have mandatory requirement to take either of the test:\")\n",
    "print(f'Total number of states that have a lower ACT participation rate than national average in 2019: {lower_national_act_pr_2020.shape[0]}')\n",
    "print(f'Total number of states that have a lower SAT participation rate than national average in 2019: {lower_national_sat_pr_2020.shape[0]}')\n"
   ]
  },
  {
   "cell_type": "markdown",
   "metadata": {},
   "source": [
    "####  Top 10 US states with highest participation rate for ACT 2017 "
   ]
  },
  {
   "cell_type": "code",
   "execution_count": 135,
   "metadata": {},
   "outputs": [
    {
     "data": {
      "text/html": [
       "<div>\n",
       "<style scoped>\n",
       "    .dataframe tbody tr th:only-of-type {\n",
       "        vertical-align: middle;\n",
       "    }\n",
       "\n",
       "    .dataframe tbody tr th {\n",
       "        vertical-align: top;\n",
       "    }\n",
       "\n",
       "    .dataframe thead th {\n",
       "        text-align: right;\n",
       "    }\n",
       "</style>\n",
       "<table border=\"1\" class=\"dataframe\">\n",
       "  <thead>\n",
       "    <tr style=\"text-align: right;\">\n",
       "      <th></th>\n",
       "      <th>state</th>\n",
       "      <th>act_participation_17</th>\n",
       "    </tr>\n",
       "  </thead>\n",
       "  <tbody>\n",
       "    <tr>\n",
       "      <th>23</th>\n",
       "      <td>Minnesota</td>\n",
       "      <td>1.00</td>\n",
       "    </tr>\n",
       "    <tr>\n",
       "      <th>36</th>\n",
       "      <td>Oklahoma</td>\n",
       "      <td>1.00</td>\n",
       "    </tr>\n",
       "    <tr>\n",
       "      <th>5</th>\n",
       "      <td>Colorado</td>\n",
       "      <td>1.00</td>\n",
       "    </tr>\n",
       "    <tr>\n",
       "      <th>42</th>\n",
       "      <td>Tennessee</td>\n",
       "      <td>1.00</td>\n",
       "    </tr>\n",
       "    <tr>\n",
       "      <th>25</th>\n",
       "      <td>Missouri</td>\n",
       "      <td>1.00</td>\n",
       "    </tr>\n",
       "    <tr>\n",
       "      <th>40</th>\n",
       "      <td>South Carolina</td>\n",
       "      <td>1.00</td>\n",
       "    </tr>\n",
       "    <tr>\n",
       "      <th>13</th>\n",
       "      <td>Illinois</td>\n",
       "      <td>0.93</td>\n",
       "    </tr>\n",
       "    <tr>\n",
       "      <th>11</th>\n",
       "      <td>Hawaii</td>\n",
       "      <td>0.90</td>\n",
       "    </tr>\n",
       "    <tr>\n",
       "      <th>41</th>\n",
       "      <td>South Dakota</td>\n",
       "      <td>0.80</td>\n",
       "    </tr>\n",
       "    <tr>\n",
       "      <th>35</th>\n",
       "      <td>Ohio</td>\n",
       "      <td>0.75</td>\n",
       "    </tr>\n",
       "  </tbody>\n",
       "</table>\n",
       "</div>"
      ],
      "text/plain": [
       "             state  act_participation_17\n",
       "23       Minnesota                  1.00\n",
       "36        Oklahoma                  1.00\n",
       "5         Colorado                  1.00\n",
       "42       Tennessee                  1.00\n",
       "25        Missouri                  1.00\n",
       "40  South Carolina                  1.00\n",
       "13        Illinois                  0.93\n",
       "11          Hawaii                  0.90\n",
       "41    South Dakota                  0.80\n",
       "35            Ohio                  0.75"
      ]
     },
     "execution_count": 135,
     "metadata": {},
     "output_type": "execute_result"
    }
   ],
   "source": [
    "# Top 10 states with highest participation rate for ACT 2017 using filter and sort_values\n",
    "above_national_act_pr_2017.loc[:,['state','act_participation_17']].sort_values('act_participation_17',ascending=False).head(10)"
   ]
  },
  {
   "cell_type": "markdown",
   "metadata": {},
   "source": [
    "####  Top 10 US states with highest participation rate for SAT 2017 "
   ]
  },
  {
   "cell_type": "code",
   "execution_count": 136,
   "metadata": {},
   "outputs": [
    {
     "data": {
      "text/html": [
       "<div>\n",
       "<style scoped>\n",
       "    .dataframe tbody tr th:only-of-type {\n",
       "        vertical-align: middle;\n",
       "    }\n",
       "\n",
       "    .dataframe tbody tr th {\n",
       "        vertical-align: top;\n",
       "    }\n",
       "\n",
       "    .dataframe thead th {\n",
       "        text-align: right;\n",
       "    }\n",
       "</style>\n",
       "<table border=\"1\" class=\"dataframe\">\n",
       "  <thead>\n",
       "    <tr style=\"text-align: right;\">\n",
       "      <th></th>\n",
       "      <th>state</th>\n",
       "      <th>sat_participation_17</th>\n",
       "    </tr>\n",
       "  </thead>\n",
       "  <tbody>\n",
       "    <tr>\n",
       "      <th>8</th>\n",
       "      <td>District of Columbia</td>\n",
       "      <td>1.00</td>\n",
       "    </tr>\n",
       "    <tr>\n",
       "      <th>9</th>\n",
       "      <td>Florida</td>\n",
       "      <td>0.83</td>\n",
       "    </tr>\n",
       "    <tr>\n",
       "      <th>21</th>\n",
       "      <td>Massachusetts</td>\n",
       "      <td>0.76</td>\n",
       "    </tr>\n",
       "    <tr>\n",
       "      <th>30</th>\n",
       "      <td>New Jersey</td>\n",
       "      <td>0.70</td>\n",
       "    </tr>\n",
       "    <tr>\n",
       "      <th>20</th>\n",
       "      <td>Maryland</td>\n",
       "      <td>0.69</td>\n",
       "    </tr>\n",
       "    <tr>\n",
       "      <th>32</th>\n",
       "      <td>New York</td>\n",
       "      <td>0.67</td>\n",
       "    </tr>\n",
       "    <tr>\n",
       "      <th>46</th>\n",
       "      <td>Virginia</td>\n",
       "      <td>0.65</td>\n",
       "    </tr>\n",
       "    <tr>\n",
       "      <th>38</th>\n",
       "      <td>Pennsylvania</td>\n",
       "      <td>0.65</td>\n",
       "    </tr>\n",
       "    <tr>\n",
       "      <th>47</th>\n",
       "      <td>Washington</td>\n",
       "      <td>0.64</td>\n",
       "    </tr>\n",
       "    <tr>\n",
       "      <th>14</th>\n",
       "      <td>Indiana</td>\n",
       "      <td>0.63</td>\n",
       "    </tr>\n",
       "  </tbody>\n",
       "</table>\n",
       "</div>"
      ],
      "text/plain": [
       "                   state  sat_participation_17\n",
       "8   District of Columbia                  1.00\n",
       "9                Florida                  0.83\n",
       "21         Massachusetts                  0.76\n",
       "30            New Jersey                  0.70\n",
       "20              Maryland                  0.69\n",
       "32              New York                  0.67\n",
       "46              Virginia                  0.65\n",
       "38          Pennsylvania                  0.65\n",
       "47            Washington                  0.64\n",
       "14               Indiana                  0.63"
      ]
     },
     "execution_count": 136,
     "metadata": {},
     "output_type": "execute_result"
    }
   ],
   "source": [
    "# Top 10 states with highest participation rate for SAT 2017 using filter and sort_values\n",
    "above_national_sat_pr_2017.loc[:,['state','sat_participation_17']].sort_values('sat_participation_17',ascending=False).head(10)"
   ]
  },
  {
   "cell_type": "markdown",
   "metadata": {},
   "source": [
    "####  Top 10 US states with highest participation rate for ACT 2018"
   ]
  },
  {
   "cell_type": "code",
   "execution_count": 137,
   "metadata": {},
   "outputs": [
    {
     "data": {
      "text/html": [
       "<div>\n",
       "<style scoped>\n",
       "    .dataframe tbody tr th:only-of-type {\n",
       "        vertical-align: middle;\n",
       "    }\n",
       "\n",
       "    .dataframe tbody tr th {\n",
       "        vertical-align: top;\n",
       "    }\n",
       "\n",
       "    .dataframe thead th {\n",
       "        text-align: right;\n",
       "    }\n",
       "</style>\n",
       "<table border=\"1\" class=\"dataframe\">\n",
       "  <thead>\n",
       "    <tr style=\"text-align: right;\">\n",
       "      <th></th>\n",
       "      <th>state</th>\n",
       "      <th>act_participation_18</th>\n",
       "    </tr>\n",
       "  </thead>\n",
       "  <tbody>\n",
       "    <tr>\n",
       "      <th>25</th>\n",
       "      <td>Missouri</td>\n",
       "      <td>1.00</td>\n",
       "    </tr>\n",
       "    <tr>\n",
       "      <th>35</th>\n",
       "      <td>Ohio</td>\n",
       "      <td>1.00</td>\n",
       "    </tr>\n",
       "    <tr>\n",
       "      <th>36</th>\n",
       "      <td>Oklahoma</td>\n",
       "      <td>1.00</td>\n",
       "    </tr>\n",
       "    <tr>\n",
       "      <th>40</th>\n",
       "      <td>South Carolina</td>\n",
       "      <td>1.00</td>\n",
       "    </tr>\n",
       "    <tr>\n",
       "      <th>42</th>\n",
       "      <td>Tennessee</td>\n",
       "      <td>1.00</td>\n",
       "    </tr>\n",
       "    <tr>\n",
       "      <th>23</th>\n",
       "      <td>Minnesota</td>\n",
       "      <td>0.99</td>\n",
       "    </tr>\n",
       "    <tr>\n",
       "      <th>11</th>\n",
       "      <td>Hawaii</td>\n",
       "      <td>0.89</td>\n",
       "    </tr>\n",
       "    <tr>\n",
       "      <th>41</th>\n",
       "      <td>South Dakota</td>\n",
       "      <td>0.77</td>\n",
       "    </tr>\n",
       "    <tr>\n",
       "      <th>16</th>\n",
       "      <td>Kansas</td>\n",
       "      <td>0.71</td>\n",
       "    </tr>\n",
       "    <tr>\n",
       "      <th>15</th>\n",
       "      <td>Iowa</td>\n",
       "      <td>0.68</td>\n",
       "    </tr>\n",
       "  </tbody>\n",
       "</table>\n",
       "</div>"
      ],
      "text/plain": [
       "             state  act_participation_18\n",
       "25        Missouri                  1.00\n",
       "35            Ohio                  1.00\n",
       "36        Oklahoma                  1.00\n",
       "40  South Carolina                  1.00\n",
       "42       Tennessee                  1.00\n",
       "23       Minnesota                  0.99\n",
       "11          Hawaii                  0.89\n",
       "41    South Dakota                  0.77\n",
       "16          Kansas                  0.71\n",
       "15            Iowa                  0.68"
      ]
     },
     "execution_count": 137,
     "metadata": {},
     "output_type": "execute_result"
    }
   ],
   "source": [
    "# Top 10 states with highest participation rate for ACT 2018 using filter and sort_values\n",
    "above_national_act_pr_2018.loc[:,['state','act_participation_18']].sort_values('act_participation_18',ascending=False).head(10)"
   ]
  },
  {
   "cell_type": "markdown",
   "metadata": {},
   "source": [
    "####  Top 10 US states with highest participation rate for SAT 2018"
   ]
  },
  {
   "cell_type": "code",
   "execution_count": 138,
   "metadata": {},
   "outputs": [
    {
     "data": {
      "text/html": [
       "<div>\n",
       "<style scoped>\n",
       "    .dataframe tbody tr th:only-of-type {\n",
       "        vertical-align: middle;\n",
       "    }\n",
       "\n",
       "    .dataframe tbody tr th {\n",
       "        vertical-align: top;\n",
       "    }\n",
       "\n",
       "    .dataframe thead th {\n",
       "        text-align: right;\n",
       "    }\n",
       "</style>\n",
       "<table border=\"1\" class=\"dataframe\">\n",
       "  <thead>\n",
       "    <tr style=\"text-align: right;\">\n",
       "      <th></th>\n",
       "      <th>state</th>\n",
       "      <th>sat_participation_18</th>\n",
       "    </tr>\n",
       "  </thead>\n",
       "  <tbody>\n",
       "    <tr>\n",
       "      <th>8</th>\n",
       "      <td>District of Columbia</td>\n",
       "      <td>0.92</td>\n",
       "    </tr>\n",
       "    <tr>\n",
       "      <th>30</th>\n",
       "      <td>New Jersey</td>\n",
       "      <td>0.82</td>\n",
       "    </tr>\n",
       "    <tr>\n",
       "      <th>21</th>\n",
       "      <td>Massachusetts</td>\n",
       "      <td>0.80</td>\n",
       "    </tr>\n",
       "    <tr>\n",
       "      <th>32</th>\n",
       "      <td>New York</td>\n",
       "      <td>0.79</td>\n",
       "    </tr>\n",
       "    <tr>\n",
       "      <th>20</th>\n",
       "      <td>Maryland</td>\n",
       "      <td>0.76</td>\n",
       "    </tr>\n",
       "    <tr>\n",
       "      <th>10</th>\n",
       "      <td>Georgia</td>\n",
       "      <td>0.70</td>\n",
       "    </tr>\n",
       "    <tr>\n",
       "      <th>38</th>\n",
       "      <td>Pennsylvania</td>\n",
       "      <td>0.70</td>\n",
       "    </tr>\n",
       "    <tr>\n",
       "      <th>47</th>\n",
       "      <td>Washington</td>\n",
       "      <td>0.69</td>\n",
       "    </tr>\n",
       "    <tr>\n",
       "      <th>46</th>\n",
       "      <td>Virginia</td>\n",
       "      <td>0.68</td>\n",
       "    </tr>\n",
       "    <tr>\n",
       "      <th>43</th>\n",
       "      <td>Texas</td>\n",
       "      <td>0.66</td>\n",
       "    </tr>\n",
       "  </tbody>\n",
       "</table>\n",
       "</div>"
      ],
      "text/plain": [
       "                   state  sat_participation_18\n",
       "8   District of Columbia                  0.92\n",
       "30            New Jersey                  0.82\n",
       "21         Massachusetts                  0.80\n",
       "32              New York                  0.79\n",
       "20              Maryland                  0.76\n",
       "10               Georgia                  0.70\n",
       "38          Pennsylvania                  0.70\n",
       "47            Washington                  0.69\n",
       "46              Virginia                  0.68\n",
       "43                 Texas                  0.66"
      ]
     },
     "execution_count": 138,
     "metadata": {},
     "output_type": "execute_result"
    }
   ],
   "source": [
    "# Top 10 states with highest participation rate for SAT 2018 using filter and sort_values\n",
    "above_national_sat_pr_2018.loc[:,['state','sat_participation_18']].sort_values('sat_participation_18',ascending=False).head(10)"
   ]
  },
  {
   "cell_type": "markdown",
   "metadata": {},
   "source": [
    "####  Top 10 US states with highest participation rate for ACT 2019"
   ]
  },
  {
   "cell_type": "code",
   "execution_count": 139,
   "metadata": {},
   "outputs": [
    {
     "data": {
      "text/html": [
       "<div>\n",
       "<style scoped>\n",
       "    .dataframe tbody tr th:only-of-type {\n",
       "        vertical-align: middle;\n",
       "    }\n",
       "\n",
       "    .dataframe tbody tr th {\n",
       "        vertical-align: top;\n",
       "    }\n",
       "\n",
       "    .dataframe thead th {\n",
       "        text-align: right;\n",
       "    }\n",
       "</style>\n",
       "<table border=\"1\" class=\"dataframe\">\n",
       "  <thead>\n",
       "    <tr style=\"text-align: right;\">\n",
       "      <th></th>\n",
       "      <th>state</th>\n",
       "      <th>act_participation_19</th>\n",
       "    </tr>\n",
       "  </thead>\n",
       "  <tbody>\n",
       "    <tr>\n",
       "      <th>35</th>\n",
       "      <td>Ohio</td>\n",
       "      <td>1.00</td>\n",
       "    </tr>\n",
       "    <tr>\n",
       "      <th>36</th>\n",
       "      <td>Oklahoma</td>\n",
       "      <td>1.00</td>\n",
       "    </tr>\n",
       "    <tr>\n",
       "      <th>42</th>\n",
       "      <td>Tennessee</td>\n",
       "      <td>1.00</td>\n",
       "    </tr>\n",
       "    <tr>\n",
       "      <th>23</th>\n",
       "      <td>Minnesota</td>\n",
       "      <td>0.95</td>\n",
       "    </tr>\n",
       "    <tr>\n",
       "      <th>25</th>\n",
       "      <td>Missouri</td>\n",
       "      <td>0.82</td>\n",
       "    </tr>\n",
       "    <tr>\n",
       "      <th>11</th>\n",
       "      <td>Hawaii</td>\n",
       "      <td>0.80</td>\n",
       "    </tr>\n",
       "    <tr>\n",
       "      <th>40</th>\n",
       "      <td>South Carolina</td>\n",
       "      <td>0.78</td>\n",
       "    </tr>\n",
       "    <tr>\n",
       "      <th>41</th>\n",
       "      <td>South Dakota</td>\n",
       "      <td>0.75</td>\n",
       "    </tr>\n",
       "    <tr>\n",
       "      <th>2</th>\n",
       "      <td>Arizona</td>\n",
       "      <td>0.73</td>\n",
       "    </tr>\n",
       "    <tr>\n",
       "      <th>16</th>\n",
       "      <td>Kansas</td>\n",
       "      <td>0.72</td>\n",
       "    </tr>\n",
       "  </tbody>\n",
       "</table>\n",
       "</div>"
      ],
      "text/plain": [
       "             state  act_participation_19\n",
       "35            Ohio                  1.00\n",
       "36        Oklahoma                  1.00\n",
       "42       Tennessee                  1.00\n",
       "23       Minnesota                  0.95\n",
       "25        Missouri                  0.82\n",
       "11          Hawaii                  0.80\n",
       "40  South Carolina                  0.78\n",
       "41    South Dakota                  0.75\n",
       "2          Arizona                  0.73\n",
       "16          Kansas                  0.72"
      ]
     },
     "execution_count": 139,
     "metadata": {},
     "output_type": "execute_result"
    }
   ],
   "source": [
    "# Top 10 states with highest participation rate for ACT 2019 using filter and sort_values\n",
    "above_national_act_pr_2019.loc[:,['state','act_participation_19']].sort_values('act_participation_19',ascending=False).head(10)"
   ]
  },
  {
   "cell_type": "markdown",
   "metadata": {},
   "source": [
    "#### Top 10 US states with highest participation rate for SAT 2019"
   ]
  },
  {
   "cell_type": "code",
   "execution_count": 140,
   "metadata": {},
   "outputs": [
    {
     "data": {
      "text/html": [
       "<div>\n",
       "<style scoped>\n",
       "    .dataframe tbody tr th:only-of-type {\n",
       "        vertical-align: middle;\n",
       "    }\n",
       "\n",
       "    .dataframe tbody tr th {\n",
       "        vertical-align: top;\n",
       "    }\n",
       "\n",
       "    .dataframe thead th {\n",
       "        text-align: right;\n",
       "    }\n",
       "</style>\n",
       "<table border=\"1\" class=\"dataframe\">\n",
       "  <thead>\n",
       "    <tr style=\"text-align: right;\">\n",
       "      <th></th>\n",
       "      <th>state</th>\n",
       "      <th>sat_participation_19</th>\n",
       "    </tr>\n",
       "  </thead>\n",
       "  <tbody>\n",
       "    <tr>\n",
       "      <th>9</th>\n",
       "      <td>Florida</td>\n",
       "      <td>1.00</td>\n",
       "    </tr>\n",
       "    <tr>\n",
       "      <th>8</th>\n",
       "      <td>District of Columbia</td>\n",
       "      <td>0.94</td>\n",
       "    </tr>\n",
       "    <tr>\n",
       "      <th>20</th>\n",
       "      <td>Maryland</td>\n",
       "      <td>0.82</td>\n",
       "    </tr>\n",
       "    <tr>\n",
       "      <th>30</th>\n",
       "      <td>New Jersey</td>\n",
       "      <td>0.82</td>\n",
       "    </tr>\n",
       "    <tr>\n",
       "      <th>21</th>\n",
       "      <td>Massachusetts</td>\n",
       "      <td>0.81</td>\n",
       "    </tr>\n",
       "    <tr>\n",
       "      <th>32</th>\n",
       "      <td>New York</td>\n",
       "      <td>0.79</td>\n",
       "    </tr>\n",
       "    <tr>\n",
       "      <th>10</th>\n",
       "      <td>Georgia</td>\n",
       "      <td>0.71</td>\n",
       "    </tr>\n",
       "    <tr>\n",
       "      <th>38</th>\n",
       "      <td>Pennsylvania</td>\n",
       "      <td>0.70</td>\n",
       "    </tr>\n",
       "    <tr>\n",
       "      <th>47</th>\n",
       "      <td>Washington</td>\n",
       "      <td>0.70</td>\n",
       "    </tr>\n",
       "    <tr>\n",
       "      <th>40</th>\n",
       "      <td>South Carolina</td>\n",
       "      <td>0.68</td>\n",
       "    </tr>\n",
       "  </tbody>\n",
       "</table>\n",
       "</div>"
      ],
      "text/plain": [
       "                   state  sat_participation_19\n",
       "9                Florida                  1.00\n",
       "8   District of Columbia                  0.94\n",
       "20              Maryland                  0.82\n",
       "30            New Jersey                  0.82\n",
       "21         Massachusetts                  0.81\n",
       "32              New York                  0.79\n",
       "10               Georgia                  0.71\n",
       "38          Pennsylvania                  0.70\n",
       "47            Washington                  0.70\n",
       "40        South Carolina                  0.68"
      ]
     },
     "execution_count": 140,
     "metadata": {},
     "output_type": "execute_result"
    }
   ],
   "source": [
    "# Top 10 states with highest participation rate for SAT 2019 using filter and sort_values\n",
    "above_national_sat_pr_2019.loc[:,['state','sat_participation_19']].sort_values('sat_participation_19',ascending=False).head(10)"
   ]
  },
  {
   "cell_type": "markdown",
   "metadata": {},
   "source": [
    "####  Top 10 US states with highest participation rate for ACT 2020"
   ]
  },
  {
   "cell_type": "code",
   "execution_count": 141,
   "metadata": {},
   "outputs": [
    {
     "data": {
      "text/html": [
       "<div>\n",
       "<style scoped>\n",
       "    .dataframe tbody tr th:only-of-type {\n",
       "        vertical-align: middle;\n",
       "    }\n",
       "\n",
       "    .dataframe tbody tr th {\n",
       "        vertical-align: top;\n",
       "    }\n",
       "\n",
       "    .dataframe thead th {\n",
       "        text-align: right;\n",
       "    }\n",
       "</style>\n",
       "<table border=\"1\" class=\"dataframe\">\n",
       "  <thead>\n",
       "    <tr style=\"text-align: right;\">\n",
       "      <th></th>\n",
       "      <th>state</th>\n",
       "      <th>act_participation_20</th>\n",
       "    </tr>\n",
       "  </thead>\n",
       "  <tbody>\n",
       "    <tr>\n",
       "      <th>35</th>\n",
       "      <td>Ohio</td>\n",
       "      <td>1.00</td>\n",
       "    </tr>\n",
       "    <tr>\n",
       "      <th>36</th>\n",
       "      <td>Oklahoma</td>\n",
       "      <td>1.00</td>\n",
       "    </tr>\n",
       "    <tr>\n",
       "      <th>42</th>\n",
       "      <td>Tennessee</td>\n",
       "      <td>1.00</td>\n",
       "    </tr>\n",
       "    <tr>\n",
       "      <th>23</th>\n",
       "      <td>Minnesota</td>\n",
       "      <td>0.92</td>\n",
       "    </tr>\n",
       "    <tr>\n",
       "      <th>11</th>\n",
       "      <td>Hawaii</td>\n",
       "      <td>0.82</td>\n",
       "    </tr>\n",
       "    <tr>\n",
       "      <th>16</th>\n",
       "      <td>Kansas</td>\n",
       "      <td>0.82</td>\n",
       "    </tr>\n",
       "    <tr>\n",
       "      <th>25</th>\n",
       "      <td>Missouri</td>\n",
       "      <td>0.78</td>\n",
       "    </tr>\n",
       "    <tr>\n",
       "      <th>40</th>\n",
       "      <td>South Carolina</td>\n",
       "      <td>0.76</td>\n",
       "    </tr>\n",
       "    <tr>\n",
       "      <th>2</th>\n",
       "      <td>Arizona</td>\n",
       "      <td>0.71</td>\n",
       "    </tr>\n",
       "    <tr>\n",
       "      <th>41</th>\n",
       "      <td>South Dakota</td>\n",
       "      <td>0.70</td>\n",
       "    </tr>\n",
       "  </tbody>\n",
       "</table>\n",
       "</div>"
      ],
      "text/plain": [
       "             state  act_participation_20\n",
       "35            Ohio                  1.00\n",
       "36        Oklahoma                  1.00\n",
       "42       Tennessee                  1.00\n",
       "23       Minnesota                  0.92\n",
       "11          Hawaii                  0.82\n",
       "16          Kansas                  0.82\n",
       "25        Missouri                  0.78\n",
       "40  South Carolina                  0.76\n",
       "2          Arizona                  0.71\n",
       "41    South Dakota                  0.70"
      ]
     },
     "execution_count": 141,
     "metadata": {},
     "output_type": "execute_result"
    }
   ],
   "source": [
    "# Top 10 states with highest participation rate for ACT 2020 using filter and sort_values\n",
    "above_national_act_pr_2020.loc[:,['state','act_participation_20']].sort_values('act_participation_20',ascending=False).head(10)"
   ]
  },
  {
   "cell_type": "markdown",
   "metadata": {},
   "source": [
    "#### Top 10 US states with highest participation rate for SAT 2020"
   ]
  },
  {
   "cell_type": "code",
   "execution_count": 142,
   "metadata": {},
   "outputs": [
    {
     "data": {
      "text/html": [
       "<div>\n",
       "<style scoped>\n",
       "    .dataframe tbody tr th:only-of-type {\n",
       "        vertical-align: middle;\n",
       "    }\n",
       "\n",
       "    .dataframe tbody tr th {\n",
       "        vertical-align: top;\n",
       "    }\n",
       "\n",
       "    .dataframe thead th {\n",
       "        text-align: right;\n",
       "    }\n",
       "</style>\n",
       "<table border=\"1\" class=\"dataframe\">\n",
       "  <thead>\n",
       "    <tr style=\"text-align: right;\">\n",
       "      <th></th>\n",
       "      <th>state</th>\n",
       "      <th>sat_participation_20</th>\n",
       "    </tr>\n",
       "  </thead>\n",
       "  <tbody>\n",
       "    <tr>\n",
       "      <th>8</th>\n",
       "      <td>District of Columbia</td>\n",
       "      <td>1.00</td>\n",
       "    </tr>\n",
       "    <tr>\n",
       "      <th>9</th>\n",
       "      <td>Florida</td>\n",
       "      <td>1.00</td>\n",
       "    </tr>\n",
       "    <tr>\n",
       "      <th>20</th>\n",
       "      <td>Maryland</td>\n",
       "      <td>0.88</td>\n",
       "    </tr>\n",
       "    <tr>\n",
       "      <th>30</th>\n",
       "      <td>New Jersey</td>\n",
       "      <td>0.82</td>\n",
       "    </tr>\n",
       "    <tr>\n",
       "      <th>21</th>\n",
       "      <td>Massachusetts</td>\n",
       "      <td>0.80</td>\n",
       "    </tr>\n",
       "    <tr>\n",
       "      <th>32</th>\n",
       "      <td>New York</td>\n",
       "      <td>0.79</td>\n",
       "    </tr>\n",
       "    <tr>\n",
       "      <th>43</th>\n",
       "      <td>Texas</td>\n",
       "      <td>0.73</td>\n",
       "    </tr>\n",
       "    <tr>\n",
       "      <th>47</th>\n",
       "      <td>Washington</td>\n",
       "      <td>0.69</td>\n",
       "    </tr>\n",
       "    <tr>\n",
       "      <th>10</th>\n",
       "      <td>Georgia</td>\n",
       "      <td>0.68</td>\n",
       "    </tr>\n",
       "    <tr>\n",
       "      <th>40</th>\n",
       "      <td>South Carolina</td>\n",
       "      <td>0.68</td>\n",
       "    </tr>\n",
       "  </tbody>\n",
       "</table>\n",
       "</div>"
      ],
      "text/plain": [
       "                   state  sat_participation_20\n",
       "8   District of Columbia                  1.00\n",
       "9                Florida                  1.00\n",
       "20              Maryland                  0.88\n",
       "30            New Jersey                  0.82\n",
       "21         Massachusetts                  0.80\n",
       "32              New York                  0.79\n",
       "43                 Texas                  0.73\n",
       "47            Washington                  0.69\n",
       "10               Georgia                  0.68\n",
       "40        South Carolina                  0.68"
      ]
     },
     "execution_count": 142,
     "metadata": {},
     "output_type": "execute_result"
    }
   ],
   "source": [
    "# Top 10 states with highest participation rate for SAT 2020 using filter and sort_values\n",
    "above_national_sat_pr_2020.loc[:,['state','sat_participation_20']].sort_values('sat_participation_20',ascending=False).head(10)"
   ]
  },
  {
   "cell_type": "markdown",
   "metadata": {},
   "source": [
    "####  Top 10 US states with lowest participation rate for ACT 2017"
   ]
  },
  {
   "cell_type": "code",
   "execution_count": 143,
   "metadata": {},
   "outputs": [
    {
     "data": {
      "text/html": [
       "<div>\n",
       "<style scoped>\n",
       "    .dataframe tbody tr th:only-of-type {\n",
       "        vertical-align: middle;\n",
       "    }\n",
       "\n",
       "    .dataframe tbody tr th {\n",
       "        vertical-align: top;\n",
       "    }\n",
       "\n",
       "    .dataframe thead th {\n",
       "        text-align: right;\n",
       "    }\n",
       "</style>\n",
       "<table border=\"1\" class=\"dataframe\">\n",
       "  <thead>\n",
       "    <tr style=\"text-align: right;\">\n",
       "      <th></th>\n",
       "      <th>state</th>\n",
       "      <th>act_participation_17</th>\n",
       "    </tr>\n",
       "  </thead>\n",
       "  <tbody>\n",
       "    <tr>\n",
       "      <th>19</th>\n",
       "      <td>Maine</td>\n",
       "      <td>0.08</td>\n",
       "    </tr>\n",
       "    <tr>\n",
       "      <th>7</th>\n",
       "      <td>Delaware</td>\n",
       "      <td>0.18</td>\n",
       "    </tr>\n",
       "    <tr>\n",
       "      <th>29</th>\n",
       "      <td>New Hampshire</td>\n",
       "      <td>0.18</td>\n",
       "    </tr>\n",
       "    <tr>\n",
       "      <th>39</th>\n",
       "      <td>Rhode Island</td>\n",
       "      <td>0.21</td>\n",
       "    </tr>\n",
       "    <tr>\n",
       "      <th>38</th>\n",
       "      <td>Pennsylvania</td>\n",
       "      <td>0.23</td>\n",
       "    </tr>\n",
       "    <tr>\n",
       "      <th>20</th>\n",
       "      <td>Maryland</td>\n",
       "      <td>0.28</td>\n",
       "    </tr>\n",
       "    <tr>\n",
       "      <th>22</th>\n",
       "      <td>Michigan</td>\n",
       "      <td>0.29</td>\n",
       "    </tr>\n",
       "    <tr>\n",
       "      <th>45</th>\n",
       "      <td>Vermont</td>\n",
       "      <td>0.29</td>\n",
       "    </tr>\n",
       "    <tr>\n",
       "      <th>46</th>\n",
       "      <td>Virginia</td>\n",
       "      <td>0.29</td>\n",
       "    </tr>\n",
       "    <tr>\n",
       "      <th>47</th>\n",
       "      <td>Washington</td>\n",
       "      <td>0.29</td>\n",
       "    </tr>\n",
       "  </tbody>\n",
       "</table>\n",
       "</div>"
      ],
      "text/plain": [
       "            state  act_participation_17\n",
       "19          Maine                  0.08\n",
       "7        Delaware                  0.18\n",
       "29  New Hampshire                  0.18\n",
       "39   Rhode Island                  0.21\n",
       "38   Pennsylvania                  0.23\n",
       "20       Maryland                  0.28\n",
       "22       Michigan                  0.29\n",
       "45        Vermont                  0.29\n",
       "46       Virginia                  0.29\n",
       "47     Washington                  0.29"
      ]
     },
     "execution_count": 143,
     "metadata": {},
     "output_type": "execute_result"
    }
   ],
   "source": [
    "# Top 10 states with lowest participation rate for ACT 2017 using filter and sort_values\n",
    "lower_national_act_pr_2017.loc[:,['state','act_participation_17']].sort_values('act_participation_17').head(10)"
   ]
  },
  {
   "cell_type": "markdown",
   "metadata": {},
   "source": [
    "#### Top 10 US states with lowest  participation rate for SAT 2017"
   ]
  },
  {
   "cell_type": "code",
   "execution_count": 144,
   "metadata": {},
   "outputs": [
    {
     "data": {
      "text/html": [
       "<div>\n",
       "<style scoped>\n",
       "    .dataframe tbody tr th:only-of-type {\n",
       "        vertical-align: middle;\n",
       "    }\n",
       "\n",
       "    .dataframe tbody tr th {\n",
       "        vertical-align: top;\n",
       "    }\n",
       "\n",
       "    .dataframe thead th {\n",
       "        text-align: right;\n",
       "    }\n",
       "</style>\n",
       "<table border=\"1\" class=\"dataframe\">\n",
       "  <thead>\n",
       "    <tr style=\"text-align: right;\">\n",
       "      <th></th>\n",
       "      <th>state</th>\n",
       "      <th>sat_participation_17</th>\n",
       "    </tr>\n",
       "  </thead>\n",
       "  <tbody>\n",
       "    <tr>\n",
       "      <th>15</th>\n",
       "      <td>Iowa</td>\n",
       "      <td>0.02</td>\n",
       "    </tr>\n",
       "    <tr>\n",
       "      <th>24</th>\n",
       "      <td>Mississippi</td>\n",
       "      <td>0.02</td>\n",
       "    </tr>\n",
       "    <tr>\n",
       "      <th>34</th>\n",
       "      <td>North Dakota</td>\n",
       "      <td>0.02</td>\n",
       "    </tr>\n",
       "    <tr>\n",
       "      <th>50</th>\n",
       "      <td>Wyoming</td>\n",
       "      <td>0.03</td>\n",
       "    </tr>\n",
       "    <tr>\n",
       "      <th>44</th>\n",
       "      <td>Utah</td>\n",
       "      <td>0.03</td>\n",
       "    </tr>\n",
       "    <tr>\n",
       "      <th>3</th>\n",
       "      <td>Arkansas</td>\n",
       "      <td>0.03</td>\n",
       "    </tr>\n",
       "    <tr>\n",
       "      <th>23</th>\n",
       "      <td>Minnesota</td>\n",
       "      <td>0.03</td>\n",
       "    </tr>\n",
       "    <tr>\n",
       "      <th>25</th>\n",
       "      <td>Missouri</td>\n",
       "      <td>0.03</td>\n",
       "    </tr>\n",
       "    <tr>\n",
       "      <th>49</th>\n",
       "      <td>Wisconsin</td>\n",
       "      <td>0.03</td>\n",
       "    </tr>\n",
       "    <tr>\n",
       "      <th>27</th>\n",
       "      <td>Nebraska</td>\n",
       "      <td>0.03</td>\n",
       "    </tr>\n",
       "  </tbody>\n",
       "</table>\n",
       "</div>"
      ],
      "text/plain": [
       "           state  sat_participation_17\n",
       "15          Iowa                  0.02\n",
       "24   Mississippi                  0.02\n",
       "34  North Dakota                  0.02\n",
       "50       Wyoming                  0.03\n",
       "44          Utah                  0.03\n",
       "3       Arkansas                  0.03\n",
       "23     Minnesota                  0.03\n",
       "25      Missouri                  0.03\n",
       "49     Wisconsin                  0.03\n",
       "27      Nebraska                  0.03"
      ]
     },
     "execution_count": 144,
     "metadata": {},
     "output_type": "execute_result"
    }
   ],
   "source": [
    "# Top 10 states with lowest participation rate for SAT 2017 using filter and sort_values\n",
    "lower_national_sat_pr_2017.loc[:,['state','sat_participation_17']].sort_values('sat_participation_17').head(10)"
   ]
  },
  {
   "cell_type": "markdown",
   "metadata": {},
   "source": [
    "#### Top 10 US states with lowest participation rate for ACT 2018"
   ]
  },
  {
   "cell_type": "code",
   "execution_count": 145,
   "metadata": {},
   "outputs": [
    {
     "data": {
      "text/html": [
       "<div>\n",
       "<style scoped>\n",
       "    .dataframe tbody tr th:only-of-type {\n",
       "        vertical-align: middle;\n",
       "    }\n",
       "\n",
       "    .dataframe tbody tr th {\n",
       "        vertical-align: top;\n",
       "    }\n",
       "\n",
       "    .dataframe thead th {\n",
       "        text-align: right;\n",
       "    }\n",
       "</style>\n",
       "<table border=\"1\" class=\"dataframe\">\n",
       "  <thead>\n",
       "    <tr style=\"text-align: right;\">\n",
       "      <th></th>\n",
       "      <th>state</th>\n",
       "      <th>act_participation_18</th>\n",
       "    </tr>\n",
       "  </thead>\n",
       "  <tbody>\n",
       "    <tr>\n",
       "      <th>19</th>\n",
       "      <td>Maine</td>\n",
       "      <td>0.07</td>\n",
       "    </tr>\n",
       "    <tr>\n",
       "      <th>39</th>\n",
       "      <td>Rhode Island</td>\n",
       "      <td>0.15</td>\n",
       "    </tr>\n",
       "    <tr>\n",
       "      <th>29</th>\n",
       "      <td>New Hampshire</td>\n",
       "      <td>0.16</td>\n",
       "    </tr>\n",
       "    <tr>\n",
       "      <th>7</th>\n",
       "      <td>Delaware</td>\n",
       "      <td>0.17</td>\n",
       "    </tr>\n",
       "    <tr>\n",
       "      <th>38</th>\n",
       "      <td>Pennsylvania</td>\n",
       "      <td>0.20</td>\n",
       "    </tr>\n",
       "    <tr>\n",
       "      <th>22</th>\n",
       "      <td>Michigan</td>\n",
       "      <td>0.22</td>\n",
       "    </tr>\n",
       "    <tr>\n",
       "      <th>46</th>\n",
       "      <td>Virginia</td>\n",
       "      <td>0.24</td>\n",
       "    </tr>\n",
       "    <tr>\n",
       "      <th>45</th>\n",
       "      <td>Vermont</td>\n",
       "      <td>0.24</td>\n",
       "    </tr>\n",
       "    <tr>\n",
       "      <th>47</th>\n",
       "      <td>Washington</td>\n",
       "      <td>0.24</td>\n",
       "    </tr>\n",
       "    <tr>\n",
       "      <th>21</th>\n",
       "      <td>Massachusetts</td>\n",
       "      <td>0.25</td>\n",
       "    </tr>\n",
       "  </tbody>\n",
       "</table>\n",
       "</div>"
      ],
      "text/plain": [
       "            state  act_participation_18\n",
       "19          Maine                  0.07\n",
       "39   Rhode Island                  0.15\n",
       "29  New Hampshire                  0.16\n",
       "7        Delaware                  0.17\n",
       "38   Pennsylvania                  0.20\n",
       "22       Michigan                  0.22\n",
       "46       Virginia                  0.24\n",
       "45        Vermont                  0.24\n",
       "47     Washington                  0.24\n",
       "21  Massachusetts                  0.25"
      ]
     },
     "execution_count": 145,
     "metadata": {},
     "output_type": "execute_result"
    }
   ],
   "source": [
    "# Top 10 states with lowest participation rate for ACT 2018 using filter and sort_values\n",
    "lower_national_act_pr_2018.loc[:,['state','act_participation_18']].sort_values('act_participation_18').head(10)"
   ]
  },
  {
   "cell_type": "markdown",
   "metadata": {},
   "source": [
    "#### Top 10 US states with lowest participation rate for SAT 2018"
   ]
  },
  {
   "cell_type": "code",
   "execution_count": 146,
   "metadata": {},
   "outputs": [
    {
     "data": {
      "text/html": [
       "<div>\n",
       "<style scoped>\n",
       "    .dataframe tbody tr th:only-of-type {\n",
       "        vertical-align: middle;\n",
       "    }\n",
       "\n",
       "    .dataframe tbody tr th {\n",
       "        vertical-align: top;\n",
       "    }\n",
       "\n",
       "    .dataframe thead th {\n",
       "        text-align: right;\n",
       "    }\n",
       "</style>\n",
       "<table border=\"1\" class=\"dataframe\">\n",
       "  <thead>\n",
       "    <tr style=\"text-align: right;\">\n",
       "      <th></th>\n",
       "      <th>state</th>\n",
       "      <th>sat_participation_18</th>\n",
       "    </tr>\n",
       "  </thead>\n",
       "  <tbody>\n",
       "    <tr>\n",
       "      <th>34</th>\n",
       "      <td>North Dakota</td>\n",
       "      <td>0.02</td>\n",
       "    </tr>\n",
       "    <tr>\n",
       "      <th>50</th>\n",
       "      <td>Wyoming</td>\n",
       "      <td>0.03</td>\n",
       "    </tr>\n",
       "    <tr>\n",
       "      <th>15</th>\n",
       "      <td>Iowa</td>\n",
       "      <td>0.03</td>\n",
       "    </tr>\n",
       "    <tr>\n",
       "      <th>24</th>\n",
       "      <td>Mississippi</td>\n",
       "      <td>0.03</td>\n",
       "    </tr>\n",
       "    <tr>\n",
       "      <th>49</th>\n",
       "      <td>Wisconsin</td>\n",
       "      <td>0.03</td>\n",
       "    </tr>\n",
       "    <tr>\n",
       "      <th>27</th>\n",
       "      <td>Nebraska</td>\n",
       "      <td>0.03</td>\n",
       "    </tr>\n",
       "    <tr>\n",
       "      <th>41</th>\n",
       "      <td>South Dakota</td>\n",
       "      <td>0.03</td>\n",
       "    </tr>\n",
       "    <tr>\n",
       "      <th>44</th>\n",
       "      <td>Utah</td>\n",
       "      <td>0.04</td>\n",
       "    </tr>\n",
       "    <tr>\n",
       "      <th>16</th>\n",
       "      <td>Kansas</td>\n",
       "      <td>0.04</td>\n",
       "    </tr>\n",
       "    <tr>\n",
       "      <th>17</th>\n",
       "      <td>Kentucky</td>\n",
       "      <td>0.04</td>\n",
       "    </tr>\n",
       "  </tbody>\n",
       "</table>\n",
       "</div>"
      ],
      "text/plain": [
       "           state  sat_participation_18\n",
       "34  North Dakota                  0.02\n",
       "50       Wyoming                  0.03\n",
       "15          Iowa                  0.03\n",
       "24   Mississippi                  0.03\n",
       "49     Wisconsin                  0.03\n",
       "27      Nebraska                  0.03\n",
       "41  South Dakota                  0.03\n",
       "44          Utah                  0.04\n",
       "16        Kansas                  0.04\n",
       "17      Kentucky                  0.04"
      ]
     },
     "execution_count": 146,
     "metadata": {},
     "output_type": "execute_result"
    }
   ],
   "source": [
    "# Top 10 states with lowest participation rate for SAT 2018 using filter and sort_values\n",
    "lower_national_sat_pr_2018.loc[:,['state','sat_participation_18']].sort_values('sat_participation_18').head(10)"
   ]
  },
  {
   "cell_type": "markdown",
   "metadata": {},
   "source": [
    "#### Top 10 US states with lowest participation rate for ACT 2019"
   ]
  },
  {
   "cell_type": "code",
   "execution_count": 147,
   "metadata": {},
   "outputs": [
    {
     "data": {
      "text/html": [
       "<div>\n",
       "<style scoped>\n",
       "    .dataframe tbody tr th:only-of-type {\n",
       "        vertical-align: middle;\n",
       "    }\n",
       "\n",
       "    .dataframe tbody tr th {\n",
       "        vertical-align: top;\n",
       "    }\n",
       "\n",
       "    .dataframe thead th {\n",
       "        text-align: right;\n",
       "    }\n",
       "</style>\n",
       "<table border=\"1\" class=\"dataframe\">\n",
       "  <thead>\n",
       "    <tr style=\"text-align: right;\">\n",
       "      <th></th>\n",
       "      <th>state</th>\n",
       "      <th>act_participation_19</th>\n",
       "    </tr>\n",
       "  </thead>\n",
       "  <tbody>\n",
       "    <tr>\n",
       "      <th>19</th>\n",
       "      <td>Maine</td>\n",
       "      <td>0.06</td>\n",
       "    </tr>\n",
       "    <tr>\n",
       "      <th>39</th>\n",
       "      <td>Rhode Island</td>\n",
       "      <td>0.12</td>\n",
       "    </tr>\n",
       "    <tr>\n",
       "      <th>7</th>\n",
       "      <td>Delaware</td>\n",
       "      <td>0.13</td>\n",
       "    </tr>\n",
       "    <tr>\n",
       "      <th>29</th>\n",
       "      <td>New Hampshire</td>\n",
       "      <td>0.14</td>\n",
       "    </tr>\n",
       "    <tr>\n",
       "      <th>38</th>\n",
       "      <td>Pennsylvania</td>\n",
       "      <td>0.17</td>\n",
       "    </tr>\n",
       "    <tr>\n",
       "      <th>22</th>\n",
       "      <td>Michigan</td>\n",
       "      <td>0.19</td>\n",
       "    </tr>\n",
       "    <tr>\n",
       "      <th>45</th>\n",
       "      <td>Vermont</td>\n",
       "      <td>0.20</td>\n",
       "    </tr>\n",
       "    <tr>\n",
       "      <th>21</th>\n",
       "      <td>Massachusetts</td>\n",
       "      <td>0.21</td>\n",
       "    </tr>\n",
       "    <tr>\n",
       "      <th>46</th>\n",
       "      <td>Virginia</td>\n",
       "      <td>0.21</td>\n",
       "    </tr>\n",
       "    <tr>\n",
       "      <th>6</th>\n",
       "      <td>Connecticut</td>\n",
       "      <td>0.22</td>\n",
       "    </tr>\n",
       "  </tbody>\n",
       "</table>\n",
       "</div>"
      ],
      "text/plain": [
       "            state  act_participation_19\n",
       "19          Maine                  0.06\n",
       "39   Rhode Island                  0.12\n",
       "7        Delaware                  0.13\n",
       "29  New Hampshire                  0.14\n",
       "38   Pennsylvania                  0.17\n",
       "22       Michigan                  0.19\n",
       "45        Vermont                  0.20\n",
       "21  Massachusetts                  0.21\n",
       "46       Virginia                  0.21\n",
       "6     Connecticut                  0.22"
      ]
     },
     "execution_count": 147,
     "metadata": {},
     "output_type": "execute_result"
    }
   ],
   "source": [
    "# Top 10 states with lowest participation rate for ACT 2019 using filter and sort_values\n",
    "lower_national_act_pr_2019.loc[:,['state','act_participation_19']].sort_values('act_participation_19').head(10)"
   ]
  },
  {
   "cell_type": "markdown",
   "metadata": {},
   "source": [
    "#### Top 10 US states with lowest participation rate for SAT 2019"
   ]
  },
  {
   "cell_type": "code",
   "execution_count": 148,
   "metadata": {},
   "outputs": [
    {
     "data": {
      "text/html": [
       "<div>\n",
       "<style scoped>\n",
       "    .dataframe tbody tr th:only-of-type {\n",
       "        vertical-align: middle;\n",
       "    }\n",
       "\n",
       "    .dataframe tbody tr th {\n",
       "        vertical-align: top;\n",
       "    }\n",
       "\n",
       "    .dataframe thead th {\n",
       "        text-align: right;\n",
       "    }\n",
       "</style>\n",
       "<table border=\"1\" class=\"dataframe\">\n",
       "  <thead>\n",
       "    <tr style=\"text-align: right;\">\n",
       "      <th></th>\n",
       "      <th>state</th>\n",
       "      <th>sat_participation_19</th>\n",
       "    </tr>\n",
       "  </thead>\n",
       "  <tbody>\n",
       "    <tr>\n",
       "      <th>34</th>\n",
       "      <td>North Dakota</td>\n",
       "      <td>0.02</td>\n",
       "    </tr>\n",
       "    <tr>\n",
       "      <th>27</th>\n",
       "      <td>Nebraska</td>\n",
       "      <td>0.03</td>\n",
       "    </tr>\n",
       "    <tr>\n",
       "      <th>41</th>\n",
       "      <td>South Dakota</td>\n",
       "      <td>0.03</td>\n",
       "    </tr>\n",
       "    <tr>\n",
       "      <th>49</th>\n",
       "      <td>Wisconsin</td>\n",
       "      <td>0.03</td>\n",
       "    </tr>\n",
       "    <tr>\n",
       "      <th>24</th>\n",
       "      <td>Mississippi</td>\n",
       "      <td>0.03</td>\n",
       "    </tr>\n",
       "    <tr>\n",
       "      <th>50</th>\n",
       "      <td>Wyoming</td>\n",
       "      <td>0.03</td>\n",
       "    </tr>\n",
       "    <tr>\n",
       "      <th>15</th>\n",
       "      <td>Iowa</td>\n",
       "      <td>0.03</td>\n",
       "    </tr>\n",
       "    <tr>\n",
       "      <th>17</th>\n",
       "      <td>Kentucky</td>\n",
       "      <td>0.04</td>\n",
       "    </tr>\n",
       "    <tr>\n",
       "      <th>23</th>\n",
       "      <td>Minnesota</td>\n",
       "      <td>0.04</td>\n",
       "    </tr>\n",
       "    <tr>\n",
       "      <th>25</th>\n",
       "      <td>Missouri</td>\n",
       "      <td>0.04</td>\n",
       "    </tr>\n",
       "  </tbody>\n",
       "</table>\n",
       "</div>"
      ],
      "text/plain": [
       "           state  sat_participation_19\n",
       "34  North Dakota                  0.02\n",
       "27      Nebraska                  0.03\n",
       "41  South Dakota                  0.03\n",
       "49     Wisconsin                  0.03\n",
       "24   Mississippi                  0.03\n",
       "50       Wyoming                  0.03\n",
       "15          Iowa                  0.03\n",
       "17      Kentucky                  0.04\n",
       "23     Minnesota                  0.04\n",
       "25      Missouri                  0.04"
      ]
     },
     "execution_count": 148,
     "metadata": {},
     "output_type": "execute_result"
    }
   ],
   "source": [
    "# Top 10 states with lowest participation rate for SAT 2019 using filter and sort_values\n",
    "lower_national_sat_pr_2019.loc[:,['state','sat_participation_19']].sort_values('sat_participation_19').head(10)"
   ]
  },
  {
   "cell_type": "markdown",
   "metadata": {},
   "source": [
    "#### Top 10 US states with lowest participation rate for ACT 2020"
   ]
  },
  {
   "cell_type": "code",
   "execution_count": 149,
   "metadata": {},
   "outputs": [
    {
     "data": {
      "text/html": [
       "<div>\n",
       "<style scoped>\n",
       "    .dataframe tbody tr th:only-of-type {\n",
       "        vertical-align: middle;\n",
       "    }\n",
       "\n",
       "    .dataframe tbody tr th {\n",
       "        vertical-align: top;\n",
       "    }\n",
       "\n",
       "    .dataframe thead th {\n",
       "        text-align: right;\n",
       "    }\n",
       "</style>\n",
       "<table border=\"1\" class=\"dataframe\">\n",
       "  <thead>\n",
       "    <tr style=\"text-align: right;\">\n",
       "      <th></th>\n",
       "      <th>state</th>\n",
       "      <th>act_participation_20</th>\n",
       "    </tr>\n",
       "  </thead>\n",
       "  <tbody>\n",
       "    <tr>\n",
       "      <th>19</th>\n",
       "      <td>Maine</td>\n",
       "      <td>0.05</td>\n",
       "    </tr>\n",
       "    <tr>\n",
       "      <th>7</th>\n",
       "      <td>Delaware</td>\n",
       "      <td>0.11</td>\n",
       "    </tr>\n",
       "    <tr>\n",
       "      <th>39</th>\n",
       "      <td>Rhode Island</td>\n",
       "      <td>0.11</td>\n",
       "    </tr>\n",
       "    <tr>\n",
       "      <th>29</th>\n",
       "      <td>New Hampshire</td>\n",
       "      <td>0.12</td>\n",
       "    </tr>\n",
       "    <tr>\n",
       "      <th>38</th>\n",
       "      <td>Pennsylvania</td>\n",
       "      <td>0.15</td>\n",
       "    </tr>\n",
       "    <tr>\n",
       "      <th>22</th>\n",
       "      <td>Michigan</td>\n",
       "      <td>0.17</td>\n",
       "    </tr>\n",
       "    <tr>\n",
       "      <th>21</th>\n",
       "      <td>Massachusetts</td>\n",
       "      <td>0.18</td>\n",
       "    </tr>\n",
       "    <tr>\n",
       "      <th>46</th>\n",
       "      <td>Virginia</td>\n",
       "      <td>0.19</td>\n",
       "    </tr>\n",
       "    <tr>\n",
       "      <th>6</th>\n",
       "      <td>Connecticut</td>\n",
       "      <td>0.19</td>\n",
       "    </tr>\n",
       "    <tr>\n",
       "      <th>20</th>\n",
       "      <td>Maryland</td>\n",
       "      <td>0.19</td>\n",
       "    </tr>\n",
       "  </tbody>\n",
       "</table>\n",
       "</div>"
      ],
      "text/plain": [
       "            state  act_participation_20\n",
       "19          Maine                  0.05\n",
       "7        Delaware                  0.11\n",
       "39   Rhode Island                  0.11\n",
       "29  New Hampshire                  0.12\n",
       "38   Pennsylvania                  0.15\n",
       "22       Michigan                  0.17\n",
       "21  Massachusetts                  0.18\n",
       "46       Virginia                  0.19\n",
       "6     Connecticut                  0.19\n",
       "20       Maryland                  0.19"
      ]
     },
     "execution_count": 149,
     "metadata": {},
     "output_type": "execute_result"
    }
   ],
   "source": [
    "## Top 10 states with lowest participation rate for ACT 2020 using filter and sort_values\n",
    "lower_national_act_pr_2020.loc[:,['state','act_participation_20']].sort_values('act_participation_20').head(10)"
   ]
  },
  {
   "cell_type": "markdown",
   "metadata": {},
   "source": [
    "#### Top 10 US states with lowest participation rate for SAT 2020"
   ]
  },
  {
   "cell_type": "code",
   "execution_count": 150,
   "metadata": {},
   "outputs": [
    {
     "data": {
      "text/html": [
       "<div>\n",
       "<style scoped>\n",
       "    .dataframe tbody tr th:only-of-type {\n",
       "        vertical-align: middle;\n",
       "    }\n",
       "\n",
       "    .dataframe tbody tr th {\n",
       "        vertical-align: top;\n",
       "    }\n",
       "\n",
       "    .dataframe thead th {\n",
       "        text-align: right;\n",
       "    }\n",
       "</style>\n",
       "<table border=\"1\" class=\"dataframe\">\n",
       "  <thead>\n",
       "    <tr style=\"text-align: right;\">\n",
       "      <th></th>\n",
       "      <th>state</th>\n",
       "      <th>sat_participation_20</th>\n",
       "    </tr>\n",
       "  </thead>\n",
       "  <tbody>\n",
       "    <tr>\n",
       "      <th>50</th>\n",
       "      <td>Wyoming</td>\n",
       "      <td>0.02</td>\n",
       "    </tr>\n",
       "    <tr>\n",
       "      <th>34</th>\n",
       "      <td>North Dakota</td>\n",
       "      <td>0.02</td>\n",
       "    </tr>\n",
       "    <tr>\n",
       "      <th>44</th>\n",
       "      <td>Utah</td>\n",
       "      <td>0.03</td>\n",
       "    </tr>\n",
       "    <tr>\n",
       "      <th>41</th>\n",
       "      <td>South Dakota</td>\n",
       "      <td>0.03</td>\n",
       "    </tr>\n",
       "    <tr>\n",
       "      <th>49</th>\n",
       "      <td>Wisconsin</td>\n",
       "      <td>0.03</td>\n",
       "    </tr>\n",
       "    <tr>\n",
       "      <th>24</th>\n",
       "      <td>Mississippi</td>\n",
       "      <td>0.03</td>\n",
       "    </tr>\n",
       "    <tr>\n",
       "      <th>27</th>\n",
       "      <td>Nebraska</td>\n",
       "      <td>0.03</td>\n",
       "    </tr>\n",
       "    <tr>\n",
       "      <th>15</th>\n",
       "      <td>Iowa</td>\n",
       "      <td>0.03</td>\n",
       "    </tr>\n",
       "    <tr>\n",
       "      <th>23</th>\n",
       "      <td>Minnesota</td>\n",
       "      <td>0.04</td>\n",
       "    </tr>\n",
       "    <tr>\n",
       "      <th>16</th>\n",
       "      <td>Kansas</td>\n",
       "      <td>0.04</td>\n",
       "    </tr>\n",
       "  </tbody>\n",
       "</table>\n",
       "</div>"
      ],
      "text/plain": [
       "           state  sat_participation_20\n",
       "50       Wyoming                  0.02\n",
       "34  North Dakota                  0.02\n",
       "44          Utah                  0.03\n",
       "41  South Dakota                  0.03\n",
       "49     Wisconsin                  0.03\n",
       "24   Mississippi                  0.03\n",
       "27      Nebraska                  0.03\n",
       "15          Iowa                  0.03\n",
       "23     Minnesota                  0.04\n",
       "16        Kansas                  0.04"
      ]
     },
     "execution_count": 150,
     "metadata": {},
     "output_type": "execute_result"
    }
   ],
   "source": [
    "# Top 10 states with lowest participation rate for SAT 2020 using filter and sort_values\n",
    "lower_national_sat_pr_2020.loc[:,['state','sat_participation_20']].sort_values('sat_participation_20').head(10)"
   ]
  },
  {
   "cell_type": "markdown",
   "metadata": {},
   "source": [
    "#### Top 10 states with highest total average score for ACT 2017"
   ]
  },
  {
   "cell_type": "code",
   "execution_count": 151,
   "metadata": {},
   "outputs": [
    {
     "data": {
      "text/html": [
       "<div>\n",
       "<style scoped>\n",
       "    .dataframe tbody tr th:only-of-type {\n",
       "        vertical-align: middle;\n",
       "    }\n",
       "\n",
       "    .dataframe tbody tr th {\n",
       "        vertical-align: top;\n",
       "    }\n",
       "\n",
       "    .dataframe thead th {\n",
       "        text-align: right;\n",
       "    }\n",
       "</style>\n",
       "<table border=\"1\" class=\"dataframe\">\n",
       "  <thead>\n",
       "    <tr style=\"text-align: right;\">\n",
       "      <th></th>\n",
       "      <th>state</th>\n",
       "      <th>act_total_average_17</th>\n",
       "    </tr>\n",
       "  </thead>\n",
       "  <tbody>\n",
       "    <tr>\n",
       "      <th>29</th>\n",
       "      <td>New Hampshire</td>\n",
       "      <td>25.5</td>\n",
       "    </tr>\n",
       "    <tr>\n",
       "      <th>21</th>\n",
       "      <td>Massachusetts</td>\n",
       "      <td>25.4</td>\n",
       "    </tr>\n",
       "    <tr>\n",
       "      <th>6</th>\n",
       "      <td>Connecticut</td>\n",
       "      <td>25.2</td>\n",
       "    </tr>\n",
       "    <tr>\n",
       "      <th>19</th>\n",
       "      <td>Maine</td>\n",
       "      <td>24.3</td>\n",
       "    </tr>\n",
       "    <tr>\n",
       "      <th>8</th>\n",
       "      <td>District of Columbia</td>\n",
       "      <td>24.2</td>\n",
       "    </tr>\n",
       "    <tr>\n",
       "      <th>32</th>\n",
       "      <td>New York</td>\n",
       "      <td>24.2</td>\n",
       "    </tr>\n",
       "    <tr>\n",
       "      <th>22</th>\n",
       "      <td>Michigan</td>\n",
       "      <td>24.1</td>\n",
       "    </tr>\n",
       "    <tr>\n",
       "      <th>7</th>\n",
       "      <td>Delaware</td>\n",
       "      <td>24.1</td>\n",
       "    </tr>\n",
       "    <tr>\n",
       "      <th>39</th>\n",
       "      <td>Rhode Island</td>\n",
       "      <td>24.0</td>\n",
       "    </tr>\n",
       "    <tr>\n",
       "      <th>30</th>\n",
       "      <td>New Jersey</td>\n",
       "      <td>23.9</td>\n",
       "    </tr>\n",
       "  </tbody>\n",
       "</table>\n",
       "</div>"
      ],
      "text/plain": [
       "                   state  act_total_average_17\n",
       "29         New Hampshire                  25.5\n",
       "21         Massachusetts                  25.4\n",
       "6            Connecticut                  25.2\n",
       "19                 Maine                  24.3\n",
       "8   District of Columbia                  24.2\n",
       "32              New York                  24.2\n",
       "22              Michigan                  24.1\n",
       "7               Delaware                  24.1\n",
       "39          Rhode Island                  24.0\n",
       "30            New Jersey                  23.9"
      ]
     },
     "execution_count": 151,
     "metadata": {},
     "output_type": "execute_result"
    }
   ],
   "source": [
    "## Top 10 states with highest average score for ACT 2017 using filter and sort_values\n",
    "above_national_act_2017.loc[:,['state','act_total_average_17']].sort_values('act_total_average_17',ascending= False).head(10)"
   ]
  },
  {
   "cell_type": "markdown",
   "metadata": {},
   "source": [
    "#### Top 10 states with highest total average score for SAT 2017"
   ]
  },
  {
   "cell_type": "code",
   "execution_count": 152,
   "metadata": {},
   "outputs": [
    {
     "data": {
      "text/html": [
       "<div>\n",
       "<style scoped>\n",
       "    .dataframe tbody tr th:only-of-type {\n",
       "        vertical-align: middle;\n",
       "    }\n",
       "\n",
       "    .dataframe tbody tr th {\n",
       "        vertical-align: top;\n",
       "    }\n",
       "\n",
       "    .dataframe thead th {\n",
       "        text-align: right;\n",
       "    }\n",
       "</style>\n",
       "<table border=\"1\" class=\"dataframe\">\n",
       "  <thead>\n",
       "    <tr style=\"text-align: right;\">\n",
       "      <th></th>\n",
       "      <th>state</th>\n",
       "      <th>sat_total_average_17</th>\n",
       "    </tr>\n",
       "  </thead>\n",
       "  <tbody>\n",
       "    <tr>\n",
       "      <th>23</th>\n",
       "      <td>Minnesota</td>\n",
       "      <td>1295</td>\n",
       "    </tr>\n",
       "    <tr>\n",
       "      <th>49</th>\n",
       "      <td>Wisconsin</td>\n",
       "      <td>1291</td>\n",
       "    </tr>\n",
       "    <tr>\n",
       "      <th>15</th>\n",
       "      <td>Iowa</td>\n",
       "      <td>1275</td>\n",
       "    </tr>\n",
       "    <tr>\n",
       "      <th>25</th>\n",
       "      <td>Missouri</td>\n",
       "      <td>1271</td>\n",
       "    </tr>\n",
       "    <tr>\n",
       "      <th>16</th>\n",
       "      <td>Kansas</td>\n",
       "      <td>1260</td>\n",
       "    </tr>\n",
       "    <tr>\n",
       "      <th>34</th>\n",
       "      <td>North Dakota</td>\n",
       "      <td>1256</td>\n",
       "    </tr>\n",
       "    <tr>\n",
       "      <th>27</th>\n",
       "      <td>Nebraska</td>\n",
       "      <td>1253</td>\n",
       "    </tr>\n",
       "    <tr>\n",
       "      <th>17</th>\n",
       "      <td>Kentucky</td>\n",
       "      <td>1247</td>\n",
       "    </tr>\n",
       "    <tr>\n",
       "      <th>24</th>\n",
       "      <td>Mississippi</td>\n",
       "      <td>1242</td>\n",
       "    </tr>\n",
       "    <tr>\n",
       "      <th>44</th>\n",
       "      <td>Utah</td>\n",
       "      <td>1238</td>\n",
       "    </tr>\n",
       "  </tbody>\n",
       "</table>\n",
       "</div>"
      ],
      "text/plain": [
       "           state  sat_total_average_17\n",
       "23     Minnesota                  1295\n",
       "49     Wisconsin                  1291\n",
       "15          Iowa                  1275\n",
       "25      Missouri                  1271\n",
       "16        Kansas                  1260\n",
       "34  North Dakota                  1256\n",
       "27      Nebraska                  1253\n",
       "17      Kentucky                  1247\n",
       "24   Mississippi                  1242\n",
       "44          Utah                  1238"
      ]
     },
     "execution_count": 152,
     "metadata": {},
     "output_type": "execute_result"
    }
   ],
   "source": [
    "## Top 10 states with highest average score for SAT 2017 using filter and sort_values\n",
    "above_national_sat_2017.loc[:,['state', 'sat_total_average_17']].sort_values('sat_total_average_17',ascending=False).head(10)"
   ]
  },
  {
   "cell_type": "markdown",
   "metadata": {},
   "source": [
    "#### Top 10 states with highest total average score for ACT 2018"
   ]
  },
  {
   "cell_type": "code",
   "execution_count": 153,
   "metadata": {},
   "outputs": [
    {
     "data": {
      "text/html": [
       "<div>\n",
       "<style scoped>\n",
       "    .dataframe tbody tr th:only-of-type {\n",
       "        vertical-align: middle;\n",
       "    }\n",
       "\n",
       "    .dataframe tbody tr th {\n",
       "        vertical-align: top;\n",
       "    }\n",
       "\n",
       "    .dataframe thead th {\n",
       "        text-align: right;\n",
       "    }\n",
       "</style>\n",
       "<table border=\"1\" class=\"dataframe\">\n",
       "  <thead>\n",
       "    <tr style=\"text-align: right;\">\n",
       "      <th></th>\n",
       "      <th>state</th>\n",
       "      <th>act_total_average_18</th>\n",
       "    </tr>\n",
       "  </thead>\n",
       "  <tbody>\n",
       "    <tr>\n",
       "      <th>6</th>\n",
       "      <td>Connecticut</td>\n",
       "      <td>25.6</td>\n",
       "    </tr>\n",
       "    <tr>\n",
       "      <th>21</th>\n",
       "      <td>Massachusetts</td>\n",
       "      <td>25.5</td>\n",
       "    </tr>\n",
       "    <tr>\n",
       "      <th>29</th>\n",
       "      <td>New Hampshire</td>\n",
       "      <td>25.1</td>\n",
       "    </tr>\n",
       "    <tr>\n",
       "      <th>32</th>\n",
       "      <td>New York</td>\n",
       "      <td>24.5</td>\n",
       "    </tr>\n",
       "    <tr>\n",
       "      <th>39</th>\n",
       "      <td>Rhode Island</td>\n",
       "      <td>24.2</td>\n",
       "    </tr>\n",
       "    <tr>\n",
       "      <th>22</th>\n",
       "      <td>Michigan</td>\n",
       "      <td>24.2</td>\n",
       "    </tr>\n",
       "    <tr>\n",
       "      <th>45</th>\n",
       "      <td>Vermont</td>\n",
       "      <td>24.1</td>\n",
       "    </tr>\n",
       "    <tr>\n",
       "      <th>19</th>\n",
       "      <td>Maine</td>\n",
       "      <td>24.0</td>\n",
       "    </tr>\n",
       "    <tr>\n",
       "      <th>46</th>\n",
       "      <td>Virginia</td>\n",
       "      <td>23.9</td>\n",
       "    </tr>\n",
       "    <tr>\n",
       "      <th>13</th>\n",
       "      <td>Illinois</td>\n",
       "      <td>23.9</td>\n",
       "    </tr>\n",
       "  </tbody>\n",
       "</table>\n",
       "</div>"
      ],
      "text/plain": [
       "            state  act_total_average_18\n",
       "6     Connecticut                  25.6\n",
       "21  Massachusetts                  25.5\n",
       "29  New Hampshire                  25.1\n",
       "32       New York                  24.5\n",
       "39   Rhode Island                  24.2\n",
       "22       Michigan                  24.2\n",
       "45        Vermont                  24.1\n",
       "19          Maine                  24.0\n",
       "46       Virginia                  23.9\n",
       "13       Illinois                  23.9"
      ]
     },
     "execution_count": 153,
     "metadata": {},
     "output_type": "execute_result"
    }
   ],
   "source": [
    "# Top 10 states with highest average score for ACT 2018 using filter and sort_values\n",
    "above_national_act_2018.loc[:,['state','act_total_average_18']].sort_values('act_total_average_18',ascending= False).head(10)"
   ]
  },
  {
   "cell_type": "markdown",
   "metadata": {},
   "source": [
    "#### Top 10 states with highest total average score for SAT 2018"
   ]
  },
  {
   "cell_type": "code",
   "execution_count": 154,
   "metadata": {},
   "outputs": [
    {
     "data": {
      "text/html": [
       "<div>\n",
       "<style scoped>\n",
       "    .dataframe tbody tr th:only-of-type {\n",
       "        vertical-align: middle;\n",
       "    }\n",
       "\n",
       "    .dataframe tbody tr th {\n",
       "        vertical-align: top;\n",
       "    }\n",
       "\n",
       "    .dataframe thead th {\n",
       "        text-align: right;\n",
       "    }\n",
       "</style>\n",
       "<table border=\"1\" class=\"dataframe\">\n",
       "  <thead>\n",
       "    <tr style=\"text-align: right;\">\n",
       "      <th></th>\n",
       "      <th>state</th>\n",
       "      <th>sat_total_average_18</th>\n",
       "    </tr>\n",
       "  </thead>\n",
       "  <tbody>\n",
       "    <tr>\n",
       "      <th>23</th>\n",
       "      <td>Minnesota</td>\n",
       "      <td>1298</td>\n",
       "    </tr>\n",
       "    <tr>\n",
       "      <th>49</th>\n",
       "      <td>Wisconsin</td>\n",
       "      <td>1294</td>\n",
       "    </tr>\n",
       "    <tr>\n",
       "      <th>34</th>\n",
       "      <td>North Dakota</td>\n",
       "      <td>1283</td>\n",
       "    </tr>\n",
       "    <tr>\n",
       "      <th>16</th>\n",
       "      <td>Kansas</td>\n",
       "      <td>1265</td>\n",
       "    </tr>\n",
       "    <tr>\n",
       "      <th>15</th>\n",
       "      <td>Iowa</td>\n",
       "      <td>1265</td>\n",
       "    </tr>\n",
       "    <tr>\n",
       "      <th>25</th>\n",
       "      <td>Missouri</td>\n",
       "      <td>1262</td>\n",
       "    </tr>\n",
       "    <tr>\n",
       "      <th>50</th>\n",
       "      <td>Wyoming</td>\n",
       "      <td>1257</td>\n",
       "    </tr>\n",
       "    <tr>\n",
       "      <th>27</th>\n",
       "      <td>Nebraska</td>\n",
       "      <td>1252</td>\n",
       "    </tr>\n",
       "    <tr>\n",
       "      <th>17</th>\n",
       "      <td>Kentucky</td>\n",
       "      <td>1248</td>\n",
       "    </tr>\n",
       "    <tr>\n",
       "      <th>41</th>\n",
       "      <td>South Dakota</td>\n",
       "      <td>1240</td>\n",
       "    </tr>\n",
       "  </tbody>\n",
       "</table>\n",
       "</div>"
      ],
      "text/plain": [
       "           state  sat_total_average_18\n",
       "23     Minnesota                  1298\n",
       "49     Wisconsin                  1294\n",
       "34  North Dakota                  1283\n",
       "16        Kansas                  1265\n",
       "15          Iowa                  1265\n",
       "25      Missouri                  1262\n",
       "50       Wyoming                  1257\n",
       "27      Nebraska                  1252\n",
       "17      Kentucky                  1248\n",
       "41  South Dakota                  1240"
      ]
     },
     "execution_count": 154,
     "metadata": {},
     "output_type": "execute_result"
    }
   ],
   "source": [
    "# Top 10 states with highest average score for SAT 2018 using filter and sort_values\n",
    "above_national_sat_2018.loc[:,['state', 'sat_total_average_18']].sort_values('sat_total_average_18',ascending=False).head(10)"
   ]
  },
  {
   "cell_type": "markdown",
   "metadata": {},
   "source": [
    "#### Top 10 states with highest total average score for ACT 2019"
   ]
  },
  {
   "cell_type": "code",
   "execution_count": 155,
   "metadata": {},
   "outputs": [
    {
     "data": {
      "text/html": [
       "<div>\n",
       "<style scoped>\n",
       "    .dataframe tbody tr th:only-of-type {\n",
       "        vertical-align: middle;\n",
       "    }\n",
       "\n",
       "    .dataframe tbody tr th {\n",
       "        vertical-align: top;\n",
       "    }\n",
       "\n",
       "    .dataframe thead th {\n",
       "        text-align: right;\n",
       "    }\n",
       "</style>\n",
       "<table border=\"1\" class=\"dataframe\">\n",
       "  <thead>\n",
       "    <tr style=\"text-align: right;\">\n",
       "      <th></th>\n",
       "      <th>state</th>\n",
       "      <th>act_total_average_19</th>\n",
       "    </tr>\n",
       "  </thead>\n",
       "  <tbody>\n",
       "    <tr>\n",
       "      <th>6</th>\n",
       "      <td>Connecticut</td>\n",
       "      <td>25.5</td>\n",
       "    </tr>\n",
       "    <tr>\n",
       "      <th>21</th>\n",
       "      <td>Massachusetts</td>\n",
       "      <td>25.5</td>\n",
       "    </tr>\n",
       "    <tr>\n",
       "      <th>29</th>\n",
       "      <td>New Hampshire</td>\n",
       "      <td>25.0</td>\n",
       "    </tr>\n",
       "    <tr>\n",
       "      <th>39</th>\n",
       "      <td>Rhode Island</td>\n",
       "      <td>24.7</td>\n",
       "    </tr>\n",
       "    <tr>\n",
       "      <th>32</th>\n",
       "      <td>New York</td>\n",
       "      <td>24.5</td>\n",
       "    </tr>\n",
       "    <tr>\n",
       "      <th>22</th>\n",
       "      <td>Michigan</td>\n",
       "      <td>24.4</td>\n",
       "    </tr>\n",
       "    <tr>\n",
       "      <th>13</th>\n",
       "      <td>Illinois</td>\n",
       "      <td>24.3</td>\n",
       "    </tr>\n",
       "    <tr>\n",
       "      <th>19</th>\n",
       "      <td>Maine</td>\n",
       "      <td>24.3</td>\n",
       "    </tr>\n",
       "    <tr>\n",
       "      <th>30</th>\n",
       "      <td>New Jersey</td>\n",
       "      <td>24.2</td>\n",
       "    </tr>\n",
       "    <tr>\n",
       "      <th>7</th>\n",
       "      <td>Delaware</td>\n",
       "      <td>24.1</td>\n",
       "    </tr>\n",
       "  </tbody>\n",
       "</table>\n",
       "</div>"
      ],
      "text/plain": [
       "            state  act_total_average_19\n",
       "6     Connecticut                  25.5\n",
       "21  Massachusetts                  25.5\n",
       "29  New Hampshire                  25.0\n",
       "39   Rhode Island                  24.7\n",
       "32       New York                  24.5\n",
       "22       Michigan                  24.4\n",
       "13       Illinois                  24.3\n",
       "19          Maine                  24.3\n",
       "30     New Jersey                  24.2\n",
       "7        Delaware                  24.1"
      ]
     },
     "execution_count": 155,
     "metadata": {},
     "output_type": "execute_result"
    }
   ],
   "source": [
    "# Top 10 states with highest total average score for ACT 2019 using filter and sort_values\n",
    "above_national_act_2019.loc[:,['state','act_total_average_19']].sort_values('act_total_average_19',ascending= False).head(10)"
   ]
  },
  {
   "cell_type": "markdown",
   "metadata": {},
   "source": [
    "#### Top 10 states with highest total average score for SAT 2019"
   ]
  },
  {
   "cell_type": "code",
   "execution_count": 156,
   "metadata": {},
   "outputs": [
    {
     "data": {
      "text/html": [
       "<div>\n",
       "<style scoped>\n",
       "    .dataframe tbody tr th:only-of-type {\n",
       "        vertical-align: middle;\n",
       "    }\n",
       "\n",
       "    .dataframe tbody tr th {\n",
       "        vertical-align: top;\n",
       "    }\n",
       "\n",
       "    .dataframe thead th {\n",
       "        text-align: right;\n",
       "    }\n",
       "</style>\n",
       "<table border=\"1\" class=\"dataframe\">\n",
       "  <thead>\n",
       "    <tr style=\"text-align: right;\">\n",
       "      <th></th>\n",
       "      <th>state</th>\n",
       "      <th>sat_total_average_19</th>\n",
       "    </tr>\n",
       "  </thead>\n",
       "  <tbody>\n",
       "    <tr>\n",
       "      <th>23</th>\n",
       "      <td>Minnesota</td>\n",
       "      <td>1284</td>\n",
       "    </tr>\n",
       "    <tr>\n",
       "      <th>49</th>\n",
       "      <td>Wisconsin</td>\n",
       "      <td>1283</td>\n",
       "    </tr>\n",
       "    <tr>\n",
       "      <th>41</th>\n",
       "      <td>South Dakota</td>\n",
       "      <td>1268</td>\n",
       "    </tr>\n",
       "    <tr>\n",
       "      <th>34</th>\n",
       "      <td>North Dakota</td>\n",
       "      <td>1263</td>\n",
       "    </tr>\n",
       "    <tr>\n",
       "      <th>27</th>\n",
       "      <td>Nebraska</td>\n",
       "      <td>1260</td>\n",
       "    </tr>\n",
       "    <tr>\n",
       "      <th>15</th>\n",
       "      <td>Iowa</td>\n",
       "      <td>1244</td>\n",
       "    </tr>\n",
       "    <tr>\n",
       "      <th>16</th>\n",
       "      <td>Kansas</td>\n",
       "      <td>1241</td>\n",
       "    </tr>\n",
       "    <tr>\n",
       "      <th>50</th>\n",
       "      <td>Wyoming</td>\n",
       "      <td>1238</td>\n",
       "    </tr>\n",
       "    <tr>\n",
       "      <th>24</th>\n",
       "      <td>Mississippi</td>\n",
       "      <td>1237</td>\n",
       "    </tr>\n",
       "    <tr>\n",
       "      <th>25</th>\n",
       "      <td>Missouri</td>\n",
       "      <td>1236</td>\n",
       "    </tr>\n",
       "  </tbody>\n",
       "</table>\n",
       "</div>"
      ],
      "text/plain": [
       "           state  sat_total_average_19\n",
       "23     Minnesota                  1284\n",
       "49     Wisconsin                  1283\n",
       "41  South Dakota                  1268\n",
       "34  North Dakota                  1263\n",
       "27      Nebraska                  1260\n",
       "15          Iowa                  1244\n",
       "16        Kansas                  1241\n",
       "50       Wyoming                  1238\n",
       "24   Mississippi                  1237\n",
       "25      Missouri                  1236"
      ]
     },
     "execution_count": 156,
     "metadata": {},
     "output_type": "execute_result"
    }
   ],
   "source": [
    "# Top 10 states with highest total average score for SAT 2019 using filter and sort_values\n",
    "above_national_sat_2019.loc[:,['state', 'sat_total_average_19']].sort_values('sat_total_average_19',ascending=False).head(10)"
   ]
  },
  {
   "cell_type": "markdown",
   "metadata": {},
   "source": [
    "#### Top 10 states with highest total average score for ACT 2020"
   ]
  },
  {
   "cell_type": "code",
   "execution_count": 157,
   "metadata": {},
   "outputs": [
    {
     "data": {
      "text/html": [
       "<div>\n",
       "<style scoped>\n",
       "    .dataframe tbody tr th:only-of-type {\n",
       "        vertical-align: middle;\n",
       "    }\n",
       "\n",
       "    .dataframe tbody tr th {\n",
       "        vertical-align: top;\n",
       "    }\n",
       "\n",
       "    .dataframe thead th {\n",
       "        text-align: right;\n",
       "    }\n",
       "</style>\n",
       "<table border=\"1\" class=\"dataframe\">\n",
       "  <thead>\n",
       "    <tr style=\"text-align: right;\">\n",
       "      <th></th>\n",
       "      <th>state</th>\n",
       "      <th>act_total_average_20</th>\n",
       "    </tr>\n",
       "  </thead>\n",
       "  <tbody>\n",
       "    <tr>\n",
       "      <th>21</th>\n",
       "      <td>Massachusetts</td>\n",
       "      <td>26.0</td>\n",
       "    </tr>\n",
       "    <tr>\n",
       "      <th>6</th>\n",
       "      <td>Connecticut</td>\n",
       "      <td>25.9</td>\n",
       "    </tr>\n",
       "    <tr>\n",
       "      <th>29</th>\n",
       "      <td>New Hampshire</td>\n",
       "      <td>25.7</td>\n",
       "    </tr>\n",
       "    <tr>\n",
       "      <th>32</th>\n",
       "      <td>New York</td>\n",
       "      <td>24.9</td>\n",
       "    </tr>\n",
       "    <tr>\n",
       "      <th>19</th>\n",
       "      <td>Maine</td>\n",
       "      <td>24.9</td>\n",
       "    </tr>\n",
       "    <tr>\n",
       "      <th>39</th>\n",
       "      <td>Rhode Island</td>\n",
       "      <td>24.8</td>\n",
       "    </tr>\n",
       "    <tr>\n",
       "      <th>13</th>\n",
       "      <td>Illinois</td>\n",
       "      <td>24.7</td>\n",
       "    </tr>\n",
       "    <tr>\n",
       "      <th>22</th>\n",
       "      <td>Michigan</td>\n",
       "      <td>24.6</td>\n",
       "    </tr>\n",
       "    <tr>\n",
       "      <th>46</th>\n",
       "      <td>Virginia</td>\n",
       "      <td>24.4</td>\n",
       "    </tr>\n",
       "    <tr>\n",
       "      <th>30</th>\n",
       "      <td>New Jersey</td>\n",
       "      <td>24.4</td>\n",
       "    </tr>\n",
       "  </tbody>\n",
       "</table>\n",
       "</div>"
      ],
      "text/plain": [
       "            state  act_total_average_20\n",
       "21  Massachusetts                  26.0\n",
       "6     Connecticut                  25.9\n",
       "29  New Hampshire                  25.7\n",
       "32       New York                  24.9\n",
       "19          Maine                  24.9\n",
       "39   Rhode Island                  24.8\n",
       "13       Illinois                  24.7\n",
       "22       Michigan                  24.6\n",
       "46       Virginia                  24.4\n",
       "30     New Jersey                  24.4"
      ]
     },
     "execution_count": 157,
     "metadata": {},
     "output_type": "execute_result"
    }
   ],
   "source": [
    "# Top 10 states with highest total average score for ACT 2020\n",
    "above_national_act_2020.loc[:,['state','act_total_average_20']].sort_values('act_total_average_20',ascending= False).head(10)"
   ]
  },
  {
   "cell_type": "markdown",
   "metadata": {},
   "source": [
    "#### Top 10 states with highest total average score for SAT 2020"
   ]
  },
  {
   "cell_type": "code",
   "execution_count": 158,
   "metadata": {},
   "outputs": [
    {
     "data": {
      "text/html": [
       "<div>\n",
       "<style scoped>\n",
       "    .dataframe tbody tr th:only-of-type {\n",
       "        vertical-align: middle;\n",
       "    }\n",
       "\n",
       "    .dataframe tbody tr th {\n",
       "        vertical-align: top;\n",
       "    }\n",
       "\n",
       "    .dataframe thead th {\n",
       "        text-align: right;\n",
       "    }\n",
       "</style>\n",
       "<table border=\"1\" class=\"dataframe\">\n",
       "  <thead>\n",
       "    <tr style=\"text-align: right;\">\n",
       "      <th></th>\n",
       "      <th>state</th>\n",
       "      <th>sat_total_average_20</th>\n",
       "    </tr>\n",
       "  </thead>\n",
       "  <tbody>\n",
       "    <tr>\n",
       "      <th>23</th>\n",
       "      <td>Minnesota</td>\n",
       "      <td>1257.0</td>\n",
       "    </tr>\n",
       "    <tr>\n",
       "      <th>49</th>\n",
       "      <td>Wisconsin</td>\n",
       "      <td>1243.0</td>\n",
       "    </tr>\n",
       "    <tr>\n",
       "      <th>16</th>\n",
       "      <td>Kansas</td>\n",
       "      <td>1237.0</td>\n",
       "    </tr>\n",
       "    <tr>\n",
       "      <th>34</th>\n",
       "      <td>North Dakota</td>\n",
       "      <td>1231.0</td>\n",
       "    </tr>\n",
       "    <tr>\n",
       "      <th>27</th>\n",
       "      <td>Nebraska</td>\n",
       "      <td>1229.0</td>\n",
       "    </tr>\n",
       "    <tr>\n",
       "      <th>50</th>\n",
       "      <td>Wyoming</td>\n",
       "      <td>1220.0</td>\n",
       "    </tr>\n",
       "    <tr>\n",
       "      <th>15</th>\n",
       "      <td>Iowa</td>\n",
       "      <td>1220.0</td>\n",
       "    </tr>\n",
       "    <tr>\n",
       "      <th>41</th>\n",
       "      <td>South Dakota</td>\n",
       "      <td>1218.0</td>\n",
       "    </tr>\n",
       "    <tr>\n",
       "      <th>25</th>\n",
       "      <td>Missouri</td>\n",
       "      <td>1212.0</td>\n",
       "    </tr>\n",
       "    <tr>\n",
       "      <th>17</th>\n",
       "      <td>Kentucky</td>\n",
       "      <td>1207.0</td>\n",
       "    </tr>\n",
       "  </tbody>\n",
       "</table>\n",
       "</div>"
      ],
      "text/plain": [
       "           state  sat_total_average_20\n",
       "23     Minnesota                1257.0\n",
       "49     Wisconsin                1243.0\n",
       "16        Kansas                1237.0\n",
       "34  North Dakota                1231.0\n",
       "27      Nebraska                1229.0\n",
       "50       Wyoming                1220.0\n",
       "15          Iowa                1220.0\n",
       "41  South Dakota                1218.0\n",
       "25      Missouri                1212.0\n",
       "17      Kentucky                1207.0"
      ]
     },
     "execution_count": 158,
     "metadata": {},
     "output_type": "execute_result"
    }
   ],
   "source": [
    "# Top 10 states with highest total average score for SAT 2020 using filter and sort_values \n",
    "above_national_sat_2020.loc[:,['state', 'sat_total_average_20']].sort_values('sat_total_average_20',ascending=False).head(10)"
   ]
  },
  {
   "cell_type": "markdown",
   "metadata": {},
   "source": [
    "####  Top 10 states with lowest total average score for ACT 2017"
   ]
  },
  {
   "cell_type": "code",
   "execution_count": 159,
   "metadata": {},
   "outputs": [
    {
     "data": {
      "text/html": [
       "<div>\n",
       "<style scoped>\n",
       "    .dataframe tbody tr th:only-of-type {\n",
       "        vertical-align: middle;\n",
       "    }\n",
       "\n",
       "    .dataframe tbody tr th {\n",
       "        vertical-align: top;\n",
       "    }\n",
       "\n",
       "    .dataframe thead th {\n",
       "        text-align: right;\n",
       "    }\n",
       "</style>\n",
       "<table border=\"1\" class=\"dataframe\">\n",
       "  <thead>\n",
       "    <tr style=\"text-align: right;\">\n",
       "      <th></th>\n",
       "      <th>state</th>\n",
       "      <th>act_total_average_17</th>\n",
       "    </tr>\n",
       "  </thead>\n",
       "  <tbody>\n",
       "    <tr>\n",
       "      <th>28</th>\n",
       "      <td>Nevada</td>\n",
       "      <td>17.8</td>\n",
       "    </tr>\n",
       "    <tr>\n",
       "      <th>24</th>\n",
       "      <td>Mississippi</td>\n",
       "      <td>18.6</td>\n",
       "    </tr>\n",
       "    <tr>\n",
       "      <th>40</th>\n",
       "      <td>South Carolina</td>\n",
       "      <td>18.7</td>\n",
       "    </tr>\n",
       "    <tr>\n",
       "      <th>11</th>\n",
       "      <td>Hawaii</td>\n",
       "      <td>19.0</td>\n",
       "    </tr>\n",
       "    <tr>\n",
       "      <th>33</th>\n",
       "      <td>North Carolina</td>\n",
       "      <td>19.1</td>\n",
       "    </tr>\n",
       "    <tr>\n",
       "      <th>0</th>\n",
       "      <td>Alabama</td>\n",
       "      <td>19.2</td>\n",
       "    </tr>\n",
       "    <tr>\n",
       "      <th>3</th>\n",
       "      <td>Arkansas</td>\n",
       "      <td>19.4</td>\n",
       "    </tr>\n",
       "    <tr>\n",
       "      <th>36</th>\n",
       "      <td>Oklahoma</td>\n",
       "      <td>19.4</td>\n",
       "    </tr>\n",
       "    <tr>\n",
       "      <th>18</th>\n",
       "      <td>Louisiana</td>\n",
       "      <td>19.5</td>\n",
       "    </tr>\n",
       "    <tr>\n",
       "      <th>2</th>\n",
       "      <td>Arizona</td>\n",
       "      <td>19.7</td>\n",
       "    </tr>\n",
       "  </tbody>\n",
       "</table>\n",
       "</div>"
      ],
      "text/plain": [
       "             state  act_total_average_17\n",
       "28          Nevada                  17.8\n",
       "24     Mississippi                  18.6\n",
       "40  South Carolina                  18.7\n",
       "11          Hawaii                  19.0\n",
       "33  North Carolina                  19.1\n",
       "0          Alabama                  19.2\n",
       "3         Arkansas                  19.4\n",
       "36        Oklahoma                  19.4\n",
       "18       Louisiana                  19.5\n",
       "2          Arizona                  19.7"
      ]
     },
     "execution_count": 159,
     "metadata": {},
     "output_type": "execute_result"
    }
   ],
   "source": [
    "# Top 10 states with lowest total average score for ACT 2017 using filter and sort_values\n",
    "below_national_act_2017.loc[:,['state','act_total_average_17']].sort_values('act_total_average_17').head(10)"
   ]
  },
  {
   "cell_type": "markdown",
   "metadata": {},
   "source": [
    "#### Top 10 states with lowest total average score for SAT 2017"
   ]
  },
  {
   "cell_type": "code",
   "execution_count": 160,
   "metadata": {},
   "outputs": [
    {
     "data": {
      "text/html": [
       "<div>\n",
       "<style scoped>\n",
       "    .dataframe tbody tr th:only-of-type {\n",
       "        vertical-align: middle;\n",
       "    }\n",
       "\n",
       "    .dataframe tbody tr th {\n",
       "        vertical-align: top;\n",
       "    }\n",
       "\n",
       "    .dataframe thead th {\n",
       "        text-align: right;\n",
       "    }\n",
       "</style>\n",
       "<table border=\"1\" class=\"dataframe\">\n",
       "  <thead>\n",
       "    <tr style=\"text-align: right;\">\n",
       "      <th></th>\n",
       "      <th>state</th>\n",
       "      <th>sat_total_average_17</th>\n",
       "    </tr>\n",
       "  </thead>\n",
       "  <tbody>\n",
       "    <tr>\n",
       "      <th>8</th>\n",
       "      <td>District of Columbia</td>\n",
       "      <td>950</td>\n",
       "    </tr>\n",
       "    <tr>\n",
       "      <th>7</th>\n",
       "      <td>Delaware</td>\n",
       "      <td>996</td>\n",
       "    </tr>\n",
       "    <tr>\n",
       "      <th>22</th>\n",
       "      <td>Michigan</td>\n",
       "      <td>1005</td>\n",
       "    </tr>\n",
       "    <tr>\n",
       "      <th>12</th>\n",
       "      <td>Idaho</td>\n",
       "      <td>1005</td>\n",
       "    </tr>\n",
       "    <tr>\n",
       "      <th>19</th>\n",
       "      <td>Maine</td>\n",
       "      <td>1012</td>\n",
       "    </tr>\n",
       "    <tr>\n",
       "      <th>9</th>\n",
       "      <td>Florida</td>\n",
       "      <td>1017</td>\n",
       "    </tr>\n",
       "    <tr>\n",
       "      <th>43</th>\n",
       "      <td>Texas</td>\n",
       "      <td>1020</td>\n",
       "    </tr>\n",
       "    <tr>\n",
       "      <th>6</th>\n",
       "      <td>Connecticut</td>\n",
       "      <td>1041</td>\n",
       "    </tr>\n",
       "    <tr>\n",
       "      <th>36</th>\n",
       "      <td>Oklahoma</td>\n",
       "      <td>1047</td>\n",
       "    </tr>\n",
       "    <tr>\n",
       "      <th>10</th>\n",
       "      <td>Georgia</td>\n",
       "      <td>1050</td>\n",
       "    </tr>\n",
       "  </tbody>\n",
       "</table>\n",
       "</div>"
      ],
      "text/plain": [
       "                   state  sat_total_average_17\n",
       "8   District of Columbia                   950\n",
       "7               Delaware                   996\n",
       "22              Michigan                  1005\n",
       "12                 Idaho                  1005\n",
       "19                 Maine                  1012\n",
       "9                Florida                  1017\n",
       "43                 Texas                  1020\n",
       "6            Connecticut                  1041\n",
       "36              Oklahoma                  1047\n",
       "10               Georgia                  1050"
      ]
     },
     "execution_count": 160,
     "metadata": {},
     "output_type": "execute_result"
    }
   ],
   "source": [
    "# Top 10 states with lowest total average score for SAT 2017 using filter and sort_values\n",
    "below_national_sat_2017.loc[:,['state','sat_total_average_17']].sort_values('sat_total_average_17').head(10)"
   ]
  },
  {
   "cell_type": "markdown",
   "metadata": {},
   "source": [
    "#### Top 10 states with lowest total average score for ACT 2018"
   ]
  },
  {
   "cell_type": "code",
   "execution_count": 161,
   "metadata": {},
   "outputs": [
    {
     "data": {
      "text/html": [
       "<div>\n",
       "<style scoped>\n",
       "    .dataframe tbody tr th:only-of-type {\n",
       "        vertical-align: middle;\n",
       "    }\n",
       "\n",
       "    .dataframe tbody tr th {\n",
       "        vertical-align: top;\n",
       "    }\n",
       "\n",
       "    .dataframe thead th {\n",
       "        text-align: right;\n",
       "    }\n",
       "</style>\n",
       "<table border=\"1\" class=\"dataframe\">\n",
       "  <thead>\n",
       "    <tr style=\"text-align: right;\">\n",
       "      <th></th>\n",
       "      <th>state</th>\n",
       "      <th>act_total_average_18</th>\n",
       "    </tr>\n",
       "  </thead>\n",
       "  <tbody>\n",
       "    <tr>\n",
       "      <th>28</th>\n",
       "      <td>Nevada</td>\n",
       "      <td>17.7</td>\n",
       "    </tr>\n",
       "    <tr>\n",
       "      <th>40</th>\n",
       "      <td>South Carolina</td>\n",
       "      <td>18.3</td>\n",
       "    </tr>\n",
       "    <tr>\n",
       "      <th>24</th>\n",
       "      <td>Mississippi</td>\n",
       "      <td>18.6</td>\n",
       "    </tr>\n",
       "    <tr>\n",
       "      <th>11</th>\n",
       "      <td>Hawaii</td>\n",
       "      <td>18.9</td>\n",
       "    </tr>\n",
       "    <tr>\n",
       "      <th>33</th>\n",
       "      <td>North Carolina</td>\n",
       "      <td>19.1</td>\n",
       "    </tr>\n",
       "    <tr>\n",
       "      <th>0</th>\n",
       "      <td>Alabama</td>\n",
       "      <td>19.1</td>\n",
       "    </tr>\n",
       "    <tr>\n",
       "      <th>18</th>\n",
       "      <td>Louisiana</td>\n",
       "      <td>19.2</td>\n",
       "    </tr>\n",
       "    <tr>\n",
       "      <th>2</th>\n",
       "      <td>Arizona</td>\n",
       "      <td>19.2</td>\n",
       "    </tr>\n",
       "    <tr>\n",
       "      <th>36</th>\n",
       "      <td>Oklahoma</td>\n",
       "      <td>19.3</td>\n",
       "    </tr>\n",
       "    <tr>\n",
       "      <th>3</th>\n",
       "      <td>Arkansas</td>\n",
       "      <td>19.4</td>\n",
       "    </tr>\n",
       "  </tbody>\n",
       "</table>\n",
       "</div>"
      ],
      "text/plain": [
       "             state  act_total_average_18\n",
       "28          Nevada                  17.7\n",
       "40  South Carolina                  18.3\n",
       "24     Mississippi                  18.6\n",
       "11          Hawaii                  18.9\n",
       "33  North Carolina                  19.1\n",
       "0          Alabama                  19.1\n",
       "18       Louisiana                  19.2\n",
       "2          Arizona                  19.2\n",
       "36        Oklahoma                  19.3\n",
       "3         Arkansas                  19.4"
      ]
     },
     "execution_count": 161,
     "metadata": {},
     "output_type": "execute_result"
    }
   ],
   "source": [
    "# Top 10 states with lowest total average score for ACT 2018 using filter and sort_values\n",
    "below_national_act_2018.loc[:,['state','act_total_average_18']].sort_values('act_total_average_18').head(10)"
   ]
  },
  {
   "cell_type": "markdown",
   "metadata": {},
   "source": [
    "#### Top 10 states with lowest total average score for SAT 2018"
   ]
  },
  {
   "cell_type": "code",
   "execution_count": 162,
   "metadata": {},
   "outputs": [
    {
     "data": {
      "text/html": [
       "<div>\n",
       "<style scoped>\n",
       "    .dataframe tbody tr th:only-of-type {\n",
       "        vertical-align: middle;\n",
       "    }\n",
       "\n",
       "    .dataframe tbody tr th {\n",
       "        vertical-align: top;\n",
       "    }\n",
       "\n",
       "    .dataframe thead th {\n",
       "        text-align: right;\n",
       "    }\n",
       "</style>\n",
       "<table border=\"1\" class=\"dataframe\">\n",
       "  <thead>\n",
       "    <tr style=\"text-align: right;\">\n",
       "      <th></th>\n",
       "      <th>state</th>\n",
       "      <th>sat_total_average_18</th>\n",
       "    </tr>\n",
       "  </thead>\n",
       "  <tbody>\n",
       "    <tr>\n",
       "      <th>8</th>\n",
       "      <td>District of Columbia</td>\n",
       "      <td>977</td>\n",
       "    </tr>\n",
       "    <tr>\n",
       "      <th>7</th>\n",
       "      <td>Delaware</td>\n",
       "      <td>998</td>\n",
       "    </tr>\n",
       "    <tr>\n",
       "      <th>48</th>\n",
       "      <td>West Virginia</td>\n",
       "      <td>999</td>\n",
       "    </tr>\n",
       "    <tr>\n",
       "      <th>12</th>\n",
       "      <td>Idaho</td>\n",
       "      <td>1001</td>\n",
       "    </tr>\n",
       "    <tr>\n",
       "      <th>44</th>\n",
       "      <td>Utah</td>\n",
       "      <td>1010</td>\n",
       "    </tr>\n",
       "    <tr>\n",
       "      <th>11</th>\n",
       "      <td>Hawaii</td>\n",
       "      <td>1010</td>\n",
       "    </tr>\n",
       "    <tr>\n",
       "      <th>22</th>\n",
       "      <td>Michigan</td>\n",
       "      <td>1011</td>\n",
       "    </tr>\n",
       "    <tr>\n",
       "      <th>19</th>\n",
       "      <td>Maine</td>\n",
       "      <td>1013</td>\n",
       "    </tr>\n",
       "    <tr>\n",
       "      <th>39</th>\n",
       "      <td>Rhode Island</td>\n",
       "      <td>1018</td>\n",
       "    </tr>\n",
       "    <tr>\n",
       "      <th>13</th>\n",
       "      <td>Illinois</td>\n",
       "      <td>1019</td>\n",
       "    </tr>\n",
       "  </tbody>\n",
       "</table>\n",
       "</div>"
      ],
      "text/plain": [
       "                   state  sat_total_average_18\n",
       "8   District of Columbia                   977\n",
       "7               Delaware                   998\n",
       "48         West Virginia                   999\n",
       "12                 Idaho                  1001\n",
       "44                  Utah                  1010\n",
       "11                Hawaii                  1010\n",
       "22              Michigan                  1011\n",
       "19                 Maine                  1013\n",
       "39          Rhode Island                  1018\n",
       "13              Illinois                  1019"
      ]
     },
     "execution_count": 162,
     "metadata": {},
     "output_type": "execute_result"
    }
   ],
   "source": [
    "#Top 10 states with lowest total average score for SAT 2018 using filter and sort_values\n",
    "below_national_sat_2018.loc[:,['state','sat_total_average_18']].sort_values('sat_total_average_18').head(10)"
   ]
  },
  {
   "cell_type": "markdown",
   "metadata": {},
   "source": [
    "#### Top 10 states with lowest total average score for ACT 2019"
   ]
  },
  {
   "cell_type": "code",
   "execution_count": 163,
   "metadata": {},
   "outputs": [
    {
     "data": {
      "text/html": [
       "<div>\n",
       "<style scoped>\n",
       "    .dataframe tbody tr th:only-of-type {\n",
       "        vertical-align: middle;\n",
       "    }\n",
       "\n",
       "    .dataframe tbody tr th {\n",
       "        vertical-align: top;\n",
       "    }\n",
       "\n",
       "    .dataframe thead th {\n",
       "        text-align: right;\n",
       "    }\n",
       "</style>\n",
       "<table border=\"1\" class=\"dataframe\">\n",
       "  <thead>\n",
       "    <tr style=\"text-align: right;\">\n",
       "      <th></th>\n",
       "      <th>state</th>\n",
       "      <th>act_total_average_19</th>\n",
       "    </tr>\n",
       "  </thead>\n",
       "  <tbody>\n",
       "    <tr>\n",
       "      <th>28</th>\n",
       "      <td>Nevada</td>\n",
       "      <td>17.9</td>\n",
       "    </tr>\n",
       "    <tr>\n",
       "      <th>24</th>\n",
       "      <td>Mississippi</td>\n",
       "      <td>18.4</td>\n",
       "    </tr>\n",
       "    <tr>\n",
       "      <th>40</th>\n",
       "      <td>South Carolina</td>\n",
       "      <td>18.8</td>\n",
       "    </tr>\n",
       "    <tr>\n",
       "      <th>18</th>\n",
       "      <td>Louisiana</td>\n",
       "      <td>18.8</td>\n",
       "    </tr>\n",
       "    <tr>\n",
       "      <th>36</th>\n",
       "      <td>Oklahoma</td>\n",
       "      <td>18.9</td>\n",
       "    </tr>\n",
       "    <tr>\n",
       "      <th>0</th>\n",
       "      <td>Alabama</td>\n",
       "      <td>18.9</td>\n",
       "    </tr>\n",
       "    <tr>\n",
       "      <th>2</th>\n",
       "      <td>Arizona</td>\n",
       "      <td>19.0</td>\n",
       "    </tr>\n",
       "    <tr>\n",
       "      <th>11</th>\n",
       "      <td>Hawaii</td>\n",
       "      <td>19.0</td>\n",
       "    </tr>\n",
       "    <tr>\n",
       "      <th>33</th>\n",
       "      <td>North Carolina</td>\n",
       "      <td>19.0</td>\n",
       "    </tr>\n",
       "    <tr>\n",
       "      <th>3</th>\n",
       "      <td>Arkansas</td>\n",
       "      <td>19.3</td>\n",
       "    </tr>\n",
       "  </tbody>\n",
       "</table>\n",
       "</div>"
      ],
      "text/plain": [
       "             state  act_total_average_19\n",
       "28          Nevada                  17.9\n",
       "24     Mississippi                  18.4\n",
       "40  South Carolina                  18.8\n",
       "18       Louisiana                  18.8\n",
       "36        Oklahoma                  18.9\n",
       "0          Alabama                  18.9\n",
       "2          Arizona                  19.0\n",
       "11          Hawaii                  19.0\n",
       "33  North Carolina                  19.0\n",
       "3         Arkansas                  19.3"
      ]
     },
     "execution_count": 163,
     "metadata": {},
     "output_type": "execute_result"
    }
   ],
   "source": [
    "# Top 10 states with lowest total average score for ACT 2019 using filter and sort_values\n",
    "below_national_act_2019.loc[:,['state','act_total_average_19']].sort_values('act_total_average_19').head(10)"
   ]
  },
  {
   "cell_type": "markdown",
   "metadata": {},
   "source": [
    "#### Top 10 states with lowest total average score for SAT 2019"
   ]
  },
  {
   "cell_type": "code",
   "execution_count": 164,
   "metadata": {},
   "outputs": [
    {
     "data": {
      "text/html": [
       "<div>\n",
       "<style scoped>\n",
       "    .dataframe tbody tr th:only-of-type {\n",
       "        vertical-align: middle;\n",
       "    }\n",
       "\n",
       "    .dataframe tbody tr th {\n",
       "        vertical-align: top;\n",
       "    }\n",
       "\n",
       "    .dataframe thead th {\n",
       "        text-align: right;\n",
       "    }\n",
       "</style>\n",
       "<table border=\"1\" class=\"dataframe\">\n",
       "  <thead>\n",
       "    <tr style=\"text-align: right;\">\n",
       "      <th></th>\n",
       "      <th>state</th>\n",
       "      <th>sat_total_average_19</th>\n",
       "    </tr>\n",
       "  </thead>\n",
       "  <tbody>\n",
       "    <tr>\n",
       "      <th>48</th>\n",
       "      <td>West Virginia</td>\n",
       "      <td>943</td>\n",
       "    </tr>\n",
       "    <tr>\n",
       "      <th>36</th>\n",
       "      <td>Oklahoma</td>\n",
       "      <td>963</td>\n",
       "    </tr>\n",
       "    <tr>\n",
       "      <th>8</th>\n",
       "      <td>District of Columbia</td>\n",
       "      <td>975</td>\n",
       "    </tr>\n",
       "    <tr>\n",
       "      <th>7</th>\n",
       "      <td>Delaware</td>\n",
       "      <td>985</td>\n",
       "    </tr>\n",
       "    <tr>\n",
       "      <th>12</th>\n",
       "      <td>Idaho</td>\n",
       "      <td>993</td>\n",
       "    </tr>\n",
       "    <tr>\n",
       "      <th>39</th>\n",
       "      <td>Rhode Island</td>\n",
       "      <td>995</td>\n",
       "    </tr>\n",
       "    <tr>\n",
       "      <th>9</th>\n",
       "      <td>Florida</td>\n",
       "      <td>999</td>\n",
       "    </tr>\n",
       "    <tr>\n",
       "      <th>22</th>\n",
       "      <td>Michigan</td>\n",
       "      <td>1003</td>\n",
       "    </tr>\n",
       "    <tr>\n",
       "      <th>13</th>\n",
       "      <td>Illinois</td>\n",
       "      <td>1013</td>\n",
       "    </tr>\n",
       "    <tr>\n",
       "      <th>19</th>\n",
       "      <td>Maine</td>\n",
       "      <td>1013</td>\n",
       "    </tr>\n",
       "  </tbody>\n",
       "</table>\n",
       "</div>"
      ],
      "text/plain": [
       "                   state  sat_total_average_19\n",
       "48         West Virginia                   943\n",
       "36              Oklahoma                   963\n",
       "8   District of Columbia                   975\n",
       "7               Delaware                   985\n",
       "12                 Idaho                   993\n",
       "39          Rhode Island                   995\n",
       "9                Florida                   999\n",
       "22              Michigan                  1003\n",
       "13              Illinois                  1013\n",
       "19                 Maine                  1013"
      ]
     },
     "execution_count": 164,
     "metadata": {},
     "output_type": "execute_result"
    }
   ],
   "source": [
    "# Top 10 states with lowest total average score for SAT 2019 using filter and sort_values\n",
    "below_national_sat_2019.loc[:,['state','sat_total_average_19']].sort_values('sat_total_average_19').head(10)"
   ]
  },
  {
   "cell_type": "markdown",
   "metadata": {},
   "source": [
    "#### Top 10 states with lowest total average score for ACT 2020"
   ]
  },
  {
   "cell_type": "code",
   "execution_count": 165,
   "metadata": {},
   "outputs": [
    {
     "data": {
      "text/html": [
       "<div>\n",
       "<style scoped>\n",
       "    .dataframe tbody tr th:only-of-type {\n",
       "        vertical-align: middle;\n",
       "    }\n",
       "\n",
       "    .dataframe tbody tr th {\n",
       "        vertical-align: top;\n",
       "    }\n",
       "\n",
       "    .dataframe thead th {\n",
       "        text-align: right;\n",
       "    }\n",
       "</style>\n",
       "<table border=\"1\" class=\"dataframe\">\n",
       "  <thead>\n",
       "    <tr style=\"text-align: right;\">\n",
       "      <th></th>\n",
       "      <th>state</th>\n",
       "      <th>act_total_average_20</th>\n",
       "    </tr>\n",
       "  </thead>\n",
       "  <tbody>\n",
       "    <tr>\n",
       "      <th>28</th>\n",
       "      <td>Nevada</td>\n",
       "      <td>17.9</td>\n",
       "    </tr>\n",
       "    <tr>\n",
       "      <th>24</th>\n",
       "      <td>Mississippi</td>\n",
       "      <td>18.2</td>\n",
       "    </tr>\n",
       "    <tr>\n",
       "      <th>40</th>\n",
       "      <td>South Carolina</td>\n",
       "      <td>18.4</td>\n",
       "    </tr>\n",
       "    <tr>\n",
       "      <th>11</th>\n",
       "      <td>Hawaii</td>\n",
       "      <td>18.5</td>\n",
       "    </tr>\n",
       "    <tr>\n",
       "      <th>36</th>\n",
       "      <td>Oklahoma</td>\n",
       "      <td>18.7</td>\n",
       "    </tr>\n",
       "    <tr>\n",
       "      <th>18</th>\n",
       "      <td>Louisiana</td>\n",
       "      <td>18.7</td>\n",
       "    </tr>\n",
       "    <tr>\n",
       "      <th>33</th>\n",
       "      <td>North Carolina</td>\n",
       "      <td>18.8</td>\n",
       "    </tr>\n",
       "    <tr>\n",
       "      <th>0</th>\n",
       "      <td>Alabama</td>\n",
       "      <td>18.8</td>\n",
       "    </tr>\n",
       "    <tr>\n",
       "      <th>3</th>\n",
       "      <td>Arkansas</td>\n",
       "      <td>19.0</td>\n",
       "    </tr>\n",
       "    <tr>\n",
       "      <th>2</th>\n",
       "      <td>Arizona</td>\n",
       "      <td>19.1</td>\n",
       "    </tr>\n",
       "  </tbody>\n",
       "</table>\n",
       "</div>"
      ],
      "text/plain": [
       "             state  act_total_average_20\n",
       "28          Nevada                  17.9\n",
       "24     Mississippi                  18.2\n",
       "40  South Carolina                  18.4\n",
       "11          Hawaii                  18.5\n",
       "36        Oklahoma                  18.7\n",
       "18       Louisiana                  18.7\n",
       "33  North Carolina                  18.8\n",
       "0          Alabama                  18.8\n",
       "3         Arkansas                  19.0\n",
       "2          Arizona                  19.1"
      ]
     },
     "execution_count": 165,
     "metadata": {},
     "output_type": "execute_result"
    }
   ],
   "source": [
    "# Top 10 states with lowest total average score for ACT 2020 using filter and sort_values\n",
    "below_national_act_2020.loc[:,['state','act_total_average_20']].sort_values('act_total_average_20').head(10)"
   ]
  },
  {
   "cell_type": "markdown",
   "metadata": {},
   "source": [
    "#### Top 10 states with lowest total average score for SAT 2019"
   ]
  },
  {
   "cell_type": "code",
   "execution_count": 166,
   "metadata": {},
   "outputs": [
    {
     "data": {
      "text/html": [
       "<div>\n",
       "<style scoped>\n",
       "    .dataframe tbody tr th:only-of-type {\n",
       "        vertical-align: middle;\n",
       "    }\n",
       "\n",
       "    .dataframe tbody tr th {\n",
       "        vertical-align: top;\n",
       "    }\n",
       "\n",
       "    .dataframe thead th {\n",
       "        text-align: right;\n",
       "    }\n",
       "</style>\n",
       "<table border=\"1\" class=\"dataframe\">\n",
       "  <thead>\n",
       "    <tr style=\"text-align: right;\">\n",
       "      <th></th>\n",
       "      <th>state</th>\n",
       "      <th>sat_total_average_20</th>\n",
       "    </tr>\n",
       "  </thead>\n",
       "  <tbody>\n",
       "    <tr>\n",
       "      <th>48</th>\n",
       "      <td>West Virginia</td>\n",
       "      <td>936.0</td>\n",
       "    </tr>\n",
       "    <tr>\n",
       "      <th>36</th>\n",
       "      <td>Oklahoma</td>\n",
       "      <td>971.0</td>\n",
       "    </tr>\n",
       "    <tr>\n",
       "      <th>7</th>\n",
       "      <td>Delaware</td>\n",
       "      <td>978.0</td>\n",
       "    </tr>\n",
       "    <tr>\n",
       "      <th>8</th>\n",
       "      <td>District of Columbia</td>\n",
       "      <td>979.0</td>\n",
       "    </tr>\n",
       "    <tr>\n",
       "      <th>12</th>\n",
       "      <td>Idaho</td>\n",
       "      <td>984.0</td>\n",
       "    </tr>\n",
       "    <tr>\n",
       "      <th>39</th>\n",
       "      <td>Rhode Island</td>\n",
       "      <td>990.0</td>\n",
       "    </tr>\n",
       "    <tr>\n",
       "      <th>9</th>\n",
       "      <td>Florida</td>\n",
       "      <td>992.0</td>\n",
       "    </tr>\n",
       "    <tr>\n",
       "      <th>19</th>\n",
       "      <td>Maine</td>\n",
       "      <td>995.0</td>\n",
       "    </tr>\n",
       "    <tr>\n",
       "      <th>22</th>\n",
       "      <td>Michigan</td>\n",
       "      <td>998.0</td>\n",
       "    </tr>\n",
       "    <tr>\n",
       "      <th>13</th>\n",
       "      <td>Illinois</td>\n",
       "      <td>1007.0</td>\n",
       "    </tr>\n",
       "  </tbody>\n",
       "</table>\n",
       "</div>"
      ],
      "text/plain": [
       "                   state  sat_total_average_20\n",
       "48         West Virginia                 936.0\n",
       "36              Oklahoma                 971.0\n",
       "7               Delaware                 978.0\n",
       "8   District of Columbia                 979.0\n",
       "12                 Idaho                 984.0\n",
       "39          Rhode Island                 990.0\n",
       "9                Florida                 992.0\n",
       "19                 Maine                 995.0\n",
       "22              Michigan                 998.0\n",
       "13              Illinois                1007.0"
      ]
     },
     "execution_count": 166,
     "metadata": {},
     "output_type": "execute_result"
    }
   ],
   "source": [
    "# Top 10 states with lowest total average score for SAT 2019 using filter and sort_values\n",
    "below_national_sat_2020.loc[:,['state','sat_total_average_20']].sort_values('sat_total_average_20').head(10)"
   ]
  },
  {
   "cell_type": "markdown",
   "metadata": {},
   "source": [
    "####  States with 100% SAT participation for either year from 2017 to 2020"
   ]
  },
  {
   "cell_type": "code",
   "execution_count": 167,
   "metadata": {},
   "outputs": [
    {
     "data": {
      "text/html": [
       "<style  type=\"text/css\" >\n",
       "</style><table id=\"T_59462ba7_8d6e_11eb_9fa3_5c80b6c5fbdd\" ><thead>    <tr>        <th class=\"col_heading level0 col0\" >state</th>        <th class=\"col_heading level0 col1\" >sat_participation_17</th>        <th class=\"col_heading level0 col2\" >sat_participation_18</th>        <th class=\"col_heading level0 col3\" >sat_participation_19</th>        <th class=\"col_heading level0 col4\" >sat_participation_20</th>    </tr></thead><tbody>\n",
       "                <tr>\n",
       "                                <td id=\"T_59462ba7_8d6e_11eb_9fa3_5c80b6c5fbddrow0_col0\" class=\"data row0 col0\" >Colorado</td>\n",
       "                        <td id=\"T_59462ba7_8d6e_11eb_9fa3_5c80b6c5fbddrow0_col1\" class=\"data row0 col1\" >0.110000</td>\n",
       "                        <td id=\"T_59462ba7_8d6e_11eb_9fa3_5c80b6c5fbddrow0_col2\" class=\"data row0 col2\" >1.000000</td>\n",
       "                        <td id=\"T_59462ba7_8d6e_11eb_9fa3_5c80b6c5fbddrow0_col3\" class=\"data row0 col3\" >1.000000</td>\n",
       "                        <td id=\"T_59462ba7_8d6e_11eb_9fa3_5c80b6c5fbddrow0_col4\" class=\"data row0 col4\" >1.000000</td>\n",
       "            </tr>\n",
       "            <tr>\n",
       "                                <td id=\"T_59462ba7_8d6e_11eb_9fa3_5c80b6c5fbddrow1_col0\" class=\"data row1 col0\" >Connecticut</td>\n",
       "                        <td id=\"T_59462ba7_8d6e_11eb_9fa3_5c80b6c5fbddrow1_col1\" class=\"data row1 col1\" >1.000000</td>\n",
       "                        <td id=\"T_59462ba7_8d6e_11eb_9fa3_5c80b6c5fbddrow1_col2\" class=\"data row1 col2\" >1.000000</td>\n",
       "                        <td id=\"T_59462ba7_8d6e_11eb_9fa3_5c80b6c5fbddrow1_col3\" class=\"data row1 col3\" >1.000000</td>\n",
       "                        <td id=\"T_59462ba7_8d6e_11eb_9fa3_5c80b6c5fbddrow1_col4\" class=\"data row1 col4\" >1.000000</td>\n",
       "            </tr>\n",
       "            <tr>\n",
       "                                <td id=\"T_59462ba7_8d6e_11eb_9fa3_5c80b6c5fbddrow2_col0\" class=\"data row2 col0\" >Delaware</td>\n",
       "                        <td id=\"T_59462ba7_8d6e_11eb_9fa3_5c80b6c5fbddrow2_col1\" class=\"data row2 col1\" >1.000000</td>\n",
       "                        <td id=\"T_59462ba7_8d6e_11eb_9fa3_5c80b6c5fbddrow2_col2\" class=\"data row2 col2\" >1.000000</td>\n",
       "                        <td id=\"T_59462ba7_8d6e_11eb_9fa3_5c80b6c5fbddrow2_col3\" class=\"data row2 col3\" >1.000000</td>\n",
       "                        <td id=\"T_59462ba7_8d6e_11eb_9fa3_5c80b6c5fbddrow2_col4\" class=\"data row2 col4\" >1.000000</td>\n",
       "            </tr>\n",
       "            <tr>\n",
       "                                <td id=\"T_59462ba7_8d6e_11eb_9fa3_5c80b6c5fbddrow3_col0\" class=\"data row3 col0\" >District of Columbia</td>\n",
       "                        <td id=\"T_59462ba7_8d6e_11eb_9fa3_5c80b6c5fbddrow3_col1\" class=\"data row3 col1\" >1.000000</td>\n",
       "                        <td id=\"T_59462ba7_8d6e_11eb_9fa3_5c80b6c5fbddrow3_col2\" class=\"data row3 col2\" >0.920000</td>\n",
       "                        <td id=\"T_59462ba7_8d6e_11eb_9fa3_5c80b6c5fbddrow3_col3\" class=\"data row3 col3\" >0.940000</td>\n",
       "                        <td id=\"T_59462ba7_8d6e_11eb_9fa3_5c80b6c5fbddrow3_col4\" class=\"data row3 col4\" >1.000000</td>\n",
       "            </tr>\n",
       "            <tr>\n",
       "                                <td id=\"T_59462ba7_8d6e_11eb_9fa3_5c80b6c5fbddrow4_col0\" class=\"data row4 col0\" >Florida</td>\n",
       "                        <td id=\"T_59462ba7_8d6e_11eb_9fa3_5c80b6c5fbddrow4_col1\" class=\"data row4 col1\" >0.830000</td>\n",
       "                        <td id=\"T_59462ba7_8d6e_11eb_9fa3_5c80b6c5fbddrow4_col2\" class=\"data row4 col2\" >0.560000</td>\n",
       "                        <td id=\"T_59462ba7_8d6e_11eb_9fa3_5c80b6c5fbddrow4_col3\" class=\"data row4 col3\" >1.000000</td>\n",
       "                        <td id=\"T_59462ba7_8d6e_11eb_9fa3_5c80b6c5fbddrow4_col4\" class=\"data row4 col4\" >1.000000</td>\n",
       "            </tr>\n",
       "            <tr>\n",
       "                                <td id=\"T_59462ba7_8d6e_11eb_9fa3_5c80b6c5fbddrow5_col0\" class=\"data row5 col0\" >Idaho</td>\n",
       "                        <td id=\"T_59462ba7_8d6e_11eb_9fa3_5c80b6c5fbddrow5_col1\" class=\"data row5 col1\" >0.930000</td>\n",
       "                        <td id=\"T_59462ba7_8d6e_11eb_9fa3_5c80b6c5fbddrow5_col2\" class=\"data row5 col2\" >1.000000</td>\n",
       "                        <td id=\"T_59462ba7_8d6e_11eb_9fa3_5c80b6c5fbddrow5_col3\" class=\"data row5 col3\" >1.000000</td>\n",
       "                        <td id=\"T_59462ba7_8d6e_11eb_9fa3_5c80b6c5fbddrow5_col4\" class=\"data row5 col4\" >1.000000</td>\n",
       "            </tr>\n",
       "            <tr>\n",
       "                                <td id=\"T_59462ba7_8d6e_11eb_9fa3_5c80b6c5fbddrow6_col0\" class=\"data row6 col0\" >Illinois</td>\n",
       "                        <td id=\"T_59462ba7_8d6e_11eb_9fa3_5c80b6c5fbddrow6_col1\" class=\"data row6 col1\" >0.090000</td>\n",
       "                        <td id=\"T_59462ba7_8d6e_11eb_9fa3_5c80b6c5fbddrow6_col2\" class=\"data row6 col2\" >0.990000</td>\n",
       "                        <td id=\"T_59462ba7_8d6e_11eb_9fa3_5c80b6c5fbddrow6_col3\" class=\"data row6 col3\" >1.000000</td>\n",
       "                        <td id=\"T_59462ba7_8d6e_11eb_9fa3_5c80b6c5fbddrow6_col4\" class=\"data row6 col4\" >0.980000</td>\n",
       "            </tr>\n",
       "            <tr>\n",
       "                                <td id=\"T_59462ba7_8d6e_11eb_9fa3_5c80b6c5fbddrow7_col0\" class=\"data row7 col0\" >Michigan</td>\n",
       "                        <td id=\"T_59462ba7_8d6e_11eb_9fa3_5c80b6c5fbddrow7_col1\" class=\"data row7 col1\" >1.000000</td>\n",
       "                        <td id=\"T_59462ba7_8d6e_11eb_9fa3_5c80b6c5fbddrow7_col2\" class=\"data row7 col2\" >1.000000</td>\n",
       "                        <td id=\"T_59462ba7_8d6e_11eb_9fa3_5c80b6c5fbddrow7_col3\" class=\"data row7 col3\" >1.000000</td>\n",
       "                        <td id=\"T_59462ba7_8d6e_11eb_9fa3_5c80b6c5fbddrow7_col4\" class=\"data row7 col4\" >1.000000</td>\n",
       "            </tr>\n",
       "            <tr>\n",
       "                                <td id=\"T_59462ba7_8d6e_11eb_9fa3_5c80b6c5fbddrow8_col0\" class=\"data row8 col0\" >Rhode Island</td>\n",
       "                        <td id=\"T_59462ba7_8d6e_11eb_9fa3_5c80b6c5fbddrow8_col1\" class=\"data row8 col1\" >0.710000</td>\n",
       "                        <td id=\"T_59462ba7_8d6e_11eb_9fa3_5c80b6c5fbddrow8_col2\" class=\"data row8 col2\" >0.970000</td>\n",
       "                        <td id=\"T_59462ba7_8d6e_11eb_9fa3_5c80b6c5fbddrow8_col3\" class=\"data row8 col3\" >1.000000</td>\n",
       "                        <td id=\"T_59462ba7_8d6e_11eb_9fa3_5c80b6c5fbddrow8_col4\" class=\"data row8 col4\" >1.000000</td>\n",
       "            </tr>\n",
       "    </tbody></table>"
      ],
      "text/plain": [
       "<pandas.io.formats.style.Styler at 0x1fd151418b0>"
      ]
     },
     "execution_count": 167,
     "metadata": {},
     "output_type": "execute_result"
    }
   ],
   "source": [
    "# State with 100% SAT participation for either year from 2017 - 2020 using filter\n",
    "sat_100_pr = merged_tests_2017_to_2020.loc[(merged_tests_2017_to_2020['sat_participation_17']==1) |( merged_tests_2017_to_2020['sat_participation_18']==1 )|(merged_tests_2017_to_2020['sat_participation_19']==1|(merged_tests_2017_to_2020['sat_participation_20']==1))]\n",
    "\n",
    "sat_100_pr.loc[:,['state','sat_participation_17','sat_participation_18','sat_participation_19','sat_participation_20']].style.hide_index()"
   ]
  },
  {
   "cell_type": "markdown",
   "metadata": {},
   "source": [
    "####  States with 100% ACT participation for either year from 2017 to 2020"
   ]
  },
  {
   "cell_type": "code",
   "execution_count": 168,
   "metadata": {},
   "outputs": [
    {
     "data": {
      "text/html": [
       "<style  type=\"text/css\" >\n",
       "</style><table id=\"T_5948c1fb_8d6e_11eb_a2e7_5c80b6c5fbdd\" ><thead>    <tr>        <th class=\"col_heading level0 col0\" >state</th>        <th class=\"col_heading level0 col1\" >act_participation_17</th>        <th class=\"col_heading level0 col2\" >act_participation_18</th>        <th class=\"col_heading level0 col3\" >act_participation_19</th>        <th class=\"col_heading level0 col4\" >act_participation_20</th>    </tr></thead><tbody>\n",
       "                <tr>\n",
       "                                <td id=\"T_5948c1fb_8d6e_11eb_a2e7_5c80b6c5fbddrow0_col0\" class=\"data row0 col0\" >Alabama</td>\n",
       "                        <td id=\"T_5948c1fb_8d6e_11eb_a2e7_5c80b6c5fbddrow0_col1\" class=\"data row0 col1\" >1.000000</td>\n",
       "                        <td id=\"T_5948c1fb_8d6e_11eb_a2e7_5c80b6c5fbddrow0_col2\" class=\"data row0 col2\" >1.000000</td>\n",
       "                        <td id=\"T_5948c1fb_8d6e_11eb_a2e7_5c80b6c5fbddrow0_col3\" class=\"data row0 col3\" >1.000000</td>\n",
       "                        <td id=\"T_5948c1fb_8d6e_11eb_a2e7_5c80b6c5fbddrow0_col4\" class=\"data row0 col4\" >1.000000</td>\n",
       "            </tr>\n",
       "            <tr>\n",
       "                                <td id=\"T_5948c1fb_8d6e_11eb_a2e7_5c80b6c5fbddrow1_col0\" class=\"data row1 col0\" >Arkansas</td>\n",
       "                        <td id=\"T_5948c1fb_8d6e_11eb_a2e7_5c80b6c5fbddrow1_col1\" class=\"data row1 col1\" >1.000000</td>\n",
       "                        <td id=\"T_5948c1fb_8d6e_11eb_a2e7_5c80b6c5fbddrow1_col2\" class=\"data row1 col2\" >1.000000</td>\n",
       "                        <td id=\"T_5948c1fb_8d6e_11eb_a2e7_5c80b6c5fbddrow1_col3\" class=\"data row1 col3\" >1.000000</td>\n",
       "                        <td id=\"T_5948c1fb_8d6e_11eb_a2e7_5c80b6c5fbddrow1_col4\" class=\"data row1 col4\" >1.000000</td>\n",
       "            </tr>\n",
       "            <tr>\n",
       "                                <td id=\"T_5948c1fb_8d6e_11eb_a2e7_5c80b6c5fbddrow2_col0\" class=\"data row2 col0\" >Colorado</td>\n",
       "                        <td id=\"T_5948c1fb_8d6e_11eb_a2e7_5c80b6c5fbddrow2_col1\" class=\"data row2 col1\" >1.000000</td>\n",
       "                        <td id=\"T_5948c1fb_8d6e_11eb_a2e7_5c80b6c5fbddrow2_col2\" class=\"data row2 col2\" >0.300000</td>\n",
       "                        <td id=\"T_5948c1fb_8d6e_11eb_a2e7_5c80b6c5fbddrow2_col3\" class=\"data row2 col3\" >0.270000</td>\n",
       "                        <td id=\"T_5948c1fb_8d6e_11eb_a2e7_5c80b6c5fbddrow2_col4\" class=\"data row2 col4\" >0.250000</td>\n",
       "            </tr>\n",
       "            <tr>\n",
       "                                <td id=\"T_5948c1fb_8d6e_11eb_a2e7_5c80b6c5fbddrow3_col0\" class=\"data row3 col0\" >Kentucky</td>\n",
       "                        <td id=\"T_5948c1fb_8d6e_11eb_a2e7_5c80b6c5fbddrow3_col1\" class=\"data row3 col1\" >1.000000</td>\n",
       "                        <td id=\"T_5948c1fb_8d6e_11eb_a2e7_5c80b6c5fbddrow3_col2\" class=\"data row3 col2\" >1.000000</td>\n",
       "                        <td id=\"T_5948c1fb_8d6e_11eb_a2e7_5c80b6c5fbddrow3_col3\" class=\"data row3 col3\" >1.000000</td>\n",
       "                        <td id=\"T_5948c1fb_8d6e_11eb_a2e7_5c80b6c5fbddrow3_col4\" class=\"data row3 col4\" >1.000000</td>\n",
       "            </tr>\n",
       "            <tr>\n",
       "                                <td id=\"T_5948c1fb_8d6e_11eb_a2e7_5c80b6c5fbddrow4_col0\" class=\"data row4 col0\" >Louisiana</td>\n",
       "                        <td id=\"T_5948c1fb_8d6e_11eb_a2e7_5c80b6c5fbddrow4_col1\" class=\"data row4 col1\" >1.000000</td>\n",
       "                        <td id=\"T_5948c1fb_8d6e_11eb_a2e7_5c80b6c5fbddrow4_col2\" class=\"data row4 col2\" >1.000000</td>\n",
       "                        <td id=\"T_5948c1fb_8d6e_11eb_a2e7_5c80b6c5fbddrow4_col3\" class=\"data row4 col3\" >1.000000</td>\n",
       "                        <td id=\"T_5948c1fb_8d6e_11eb_a2e7_5c80b6c5fbddrow4_col4\" class=\"data row4 col4\" >1.000000</td>\n",
       "            </tr>\n",
       "            <tr>\n",
       "                                <td id=\"T_5948c1fb_8d6e_11eb_a2e7_5c80b6c5fbddrow5_col0\" class=\"data row5 col0\" >Minnesota</td>\n",
       "                        <td id=\"T_5948c1fb_8d6e_11eb_a2e7_5c80b6c5fbddrow5_col1\" class=\"data row5 col1\" >1.000000</td>\n",
       "                        <td id=\"T_5948c1fb_8d6e_11eb_a2e7_5c80b6c5fbddrow5_col2\" class=\"data row5 col2\" >0.990000</td>\n",
       "                        <td id=\"T_5948c1fb_8d6e_11eb_a2e7_5c80b6c5fbddrow5_col3\" class=\"data row5 col3\" >0.950000</td>\n",
       "                        <td id=\"T_5948c1fb_8d6e_11eb_a2e7_5c80b6c5fbddrow5_col4\" class=\"data row5 col4\" >0.920000</td>\n",
       "            </tr>\n",
       "            <tr>\n",
       "                                <td id=\"T_5948c1fb_8d6e_11eb_a2e7_5c80b6c5fbddrow6_col0\" class=\"data row6 col0\" >Mississippi</td>\n",
       "                        <td id=\"T_5948c1fb_8d6e_11eb_a2e7_5c80b6c5fbddrow6_col1\" class=\"data row6 col1\" >1.000000</td>\n",
       "                        <td id=\"T_5948c1fb_8d6e_11eb_a2e7_5c80b6c5fbddrow6_col2\" class=\"data row6 col2\" >1.000000</td>\n",
       "                        <td id=\"T_5948c1fb_8d6e_11eb_a2e7_5c80b6c5fbddrow6_col3\" class=\"data row6 col3\" >1.000000</td>\n",
       "                        <td id=\"T_5948c1fb_8d6e_11eb_a2e7_5c80b6c5fbddrow6_col4\" class=\"data row6 col4\" >1.000000</td>\n",
       "            </tr>\n",
       "            <tr>\n",
       "                                <td id=\"T_5948c1fb_8d6e_11eb_a2e7_5c80b6c5fbddrow7_col0\" class=\"data row7 col0\" >Missouri</td>\n",
       "                        <td id=\"T_5948c1fb_8d6e_11eb_a2e7_5c80b6c5fbddrow7_col1\" class=\"data row7 col1\" >1.000000</td>\n",
       "                        <td id=\"T_5948c1fb_8d6e_11eb_a2e7_5c80b6c5fbddrow7_col2\" class=\"data row7 col2\" >1.000000</td>\n",
       "                        <td id=\"T_5948c1fb_8d6e_11eb_a2e7_5c80b6c5fbddrow7_col3\" class=\"data row7 col3\" >0.820000</td>\n",
       "                        <td id=\"T_5948c1fb_8d6e_11eb_a2e7_5c80b6c5fbddrow7_col4\" class=\"data row7 col4\" >0.780000</td>\n",
       "            </tr>\n",
       "            <tr>\n",
       "                                <td id=\"T_5948c1fb_8d6e_11eb_a2e7_5c80b6c5fbddrow8_col0\" class=\"data row8 col0\" >Montana</td>\n",
       "                        <td id=\"T_5948c1fb_8d6e_11eb_a2e7_5c80b6c5fbddrow8_col1\" class=\"data row8 col1\" >1.000000</td>\n",
       "                        <td id=\"T_5948c1fb_8d6e_11eb_a2e7_5c80b6c5fbddrow8_col2\" class=\"data row8 col2\" >1.000000</td>\n",
       "                        <td id=\"T_5948c1fb_8d6e_11eb_a2e7_5c80b6c5fbddrow8_col3\" class=\"data row8 col3\" >1.000000</td>\n",
       "                        <td id=\"T_5948c1fb_8d6e_11eb_a2e7_5c80b6c5fbddrow8_col4\" class=\"data row8 col4\" >1.000000</td>\n",
       "            </tr>\n",
       "            <tr>\n",
       "                                <td id=\"T_5948c1fb_8d6e_11eb_a2e7_5c80b6c5fbddrow9_col0\" class=\"data row9 col0\" >Nebraska</td>\n",
       "                        <td id=\"T_5948c1fb_8d6e_11eb_a2e7_5c80b6c5fbddrow9_col1\" class=\"data row9 col1\" >0.840000</td>\n",
       "                        <td id=\"T_5948c1fb_8d6e_11eb_a2e7_5c80b6c5fbddrow9_col2\" class=\"data row9 col2\" >1.000000</td>\n",
       "                        <td id=\"T_5948c1fb_8d6e_11eb_a2e7_5c80b6c5fbddrow9_col3\" class=\"data row9 col3\" >1.000000</td>\n",
       "                        <td id=\"T_5948c1fb_8d6e_11eb_a2e7_5c80b6c5fbddrow9_col4\" class=\"data row9 col4\" >1.000000</td>\n",
       "            </tr>\n",
       "            <tr>\n",
       "                                <td id=\"T_5948c1fb_8d6e_11eb_a2e7_5c80b6c5fbddrow10_col0\" class=\"data row10 col0\" >Nevada</td>\n",
       "                        <td id=\"T_5948c1fb_8d6e_11eb_a2e7_5c80b6c5fbddrow10_col1\" class=\"data row10 col1\" >1.000000</td>\n",
       "                        <td id=\"T_5948c1fb_8d6e_11eb_a2e7_5c80b6c5fbddrow10_col2\" class=\"data row10 col2\" >1.000000</td>\n",
       "                        <td id=\"T_5948c1fb_8d6e_11eb_a2e7_5c80b6c5fbddrow10_col3\" class=\"data row10 col3\" >1.000000</td>\n",
       "                        <td id=\"T_5948c1fb_8d6e_11eb_a2e7_5c80b6c5fbddrow10_col4\" class=\"data row10 col4\" >1.000000</td>\n",
       "            </tr>\n",
       "            <tr>\n",
       "                                <td id=\"T_5948c1fb_8d6e_11eb_a2e7_5c80b6c5fbddrow11_col0\" class=\"data row11 col0\" >North Carolina</td>\n",
       "                        <td id=\"T_5948c1fb_8d6e_11eb_a2e7_5c80b6c5fbddrow11_col1\" class=\"data row11 col1\" >1.000000</td>\n",
       "                        <td id=\"T_5948c1fb_8d6e_11eb_a2e7_5c80b6c5fbddrow11_col2\" class=\"data row11 col2\" >1.000000</td>\n",
       "                        <td id=\"T_5948c1fb_8d6e_11eb_a2e7_5c80b6c5fbddrow11_col3\" class=\"data row11 col3\" >1.000000</td>\n",
       "                        <td id=\"T_5948c1fb_8d6e_11eb_a2e7_5c80b6c5fbddrow11_col4\" class=\"data row11 col4\" >1.000000</td>\n",
       "            </tr>\n",
       "            <tr>\n",
       "                                <td id=\"T_5948c1fb_8d6e_11eb_a2e7_5c80b6c5fbddrow12_col0\" class=\"data row12 col0\" >Ohio</td>\n",
       "                        <td id=\"T_5948c1fb_8d6e_11eb_a2e7_5c80b6c5fbddrow12_col1\" class=\"data row12 col1\" >0.750000</td>\n",
       "                        <td id=\"T_5948c1fb_8d6e_11eb_a2e7_5c80b6c5fbddrow12_col2\" class=\"data row12 col2\" >1.000000</td>\n",
       "                        <td id=\"T_5948c1fb_8d6e_11eb_a2e7_5c80b6c5fbddrow12_col3\" class=\"data row12 col3\" >1.000000</td>\n",
       "                        <td id=\"T_5948c1fb_8d6e_11eb_a2e7_5c80b6c5fbddrow12_col4\" class=\"data row12 col4\" >1.000000</td>\n",
       "            </tr>\n",
       "            <tr>\n",
       "                                <td id=\"T_5948c1fb_8d6e_11eb_a2e7_5c80b6c5fbddrow13_col0\" class=\"data row13 col0\" >Oklahoma</td>\n",
       "                        <td id=\"T_5948c1fb_8d6e_11eb_a2e7_5c80b6c5fbddrow13_col1\" class=\"data row13 col1\" >1.000000</td>\n",
       "                        <td id=\"T_5948c1fb_8d6e_11eb_a2e7_5c80b6c5fbddrow13_col2\" class=\"data row13 col2\" >1.000000</td>\n",
       "                        <td id=\"T_5948c1fb_8d6e_11eb_a2e7_5c80b6c5fbddrow13_col3\" class=\"data row13 col3\" >1.000000</td>\n",
       "                        <td id=\"T_5948c1fb_8d6e_11eb_a2e7_5c80b6c5fbddrow13_col4\" class=\"data row13 col4\" >1.000000</td>\n",
       "            </tr>\n",
       "            <tr>\n",
       "                                <td id=\"T_5948c1fb_8d6e_11eb_a2e7_5c80b6c5fbddrow14_col0\" class=\"data row14 col0\" >South Carolina</td>\n",
       "                        <td id=\"T_5948c1fb_8d6e_11eb_a2e7_5c80b6c5fbddrow14_col1\" class=\"data row14 col1\" >1.000000</td>\n",
       "                        <td id=\"T_5948c1fb_8d6e_11eb_a2e7_5c80b6c5fbddrow14_col2\" class=\"data row14 col2\" >1.000000</td>\n",
       "                        <td id=\"T_5948c1fb_8d6e_11eb_a2e7_5c80b6c5fbddrow14_col3\" class=\"data row14 col3\" >0.780000</td>\n",
       "                        <td id=\"T_5948c1fb_8d6e_11eb_a2e7_5c80b6c5fbddrow14_col4\" class=\"data row14 col4\" >0.760000</td>\n",
       "            </tr>\n",
       "            <tr>\n",
       "                                <td id=\"T_5948c1fb_8d6e_11eb_a2e7_5c80b6c5fbddrow15_col0\" class=\"data row15 col0\" >Tennessee</td>\n",
       "                        <td id=\"T_5948c1fb_8d6e_11eb_a2e7_5c80b6c5fbddrow15_col1\" class=\"data row15 col1\" >1.000000</td>\n",
       "                        <td id=\"T_5948c1fb_8d6e_11eb_a2e7_5c80b6c5fbddrow15_col2\" class=\"data row15 col2\" >1.000000</td>\n",
       "                        <td id=\"T_5948c1fb_8d6e_11eb_a2e7_5c80b6c5fbddrow15_col3\" class=\"data row15 col3\" >1.000000</td>\n",
       "                        <td id=\"T_5948c1fb_8d6e_11eb_a2e7_5c80b6c5fbddrow15_col4\" class=\"data row15 col4\" >1.000000</td>\n",
       "            </tr>\n",
       "            <tr>\n",
       "                                <td id=\"T_5948c1fb_8d6e_11eb_a2e7_5c80b6c5fbddrow16_col0\" class=\"data row16 col0\" >Utah</td>\n",
       "                        <td id=\"T_5948c1fb_8d6e_11eb_a2e7_5c80b6c5fbddrow16_col1\" class=\"data row16 col1\" >1.000000</td>\n",
       "                        <td id=\"T_5948c1fb_8d6e_11eb_a2e7_5c80b6c5fbddrow16_col2\" class=\"data row16 col2\" >1.000000</td>\n",
       "                        <td id=\"T_5948c1fb_8d6e_11eb_a2e7_5c80b6c5fbddrow16_col3\" class=\"data row16 col3\" >1.000000</td>\n",
       "                        <td id=\"T_5948c1fb_8d6e_11eb_a2e7_5c80b6c5fbddrow16_col4\" class=\"data row16 col4\" >1.000000</td>\n",
       "            </tr>\n",
       "            <tr>\n",
       "                                <td id=\"T_5948c1fb_8d6e_11eb_a2e7_5c80b6c5fbddrow17_col0\" class=\"data row17 col0\" >Wisconsin</td>\n",
       "                        <td id=\"T_5948c1fb_8d6e_11eb_a2e7_5c80b6c5fbddrow17_col1\" class=\"data row17 col1\" >1.000000</td>\n",
       "                        <td id=\"T_5948c1fb_8d6e_11eb_a2e7_5c80b6c5fbddrow17_col2\" class=\"data row17 col2\" >1.000000</td>\n",
       "                        <td id=\"T_5948c1fb_8d6e_11eb_a2e7_5c80b6c5fbddrow17_col3\" class=\"data row17 col3\" >1.000000</td>\n",
       "                        <td id=\"T_5948c1fb_8d6e_11eb_a2e7_5c80b6c5fbddrow17_col4\" class=\"data row17 col4\" >1.000000</td>\n",
       "            </tr>\n",
       "            <tr>\n",
       "                                <td id=\"T_5948c1fb_8d6e_11eb_a2e7_5c80b6c5fbddrow18_col0\" class=\"data row18 col0\" >Wyoming</td>\n",
       "                        <td id=\"T_5948c1fb_8d6e_11eb_a2e7_5c80b6c5fbddrow18_col1\" class=\"data row18 col1\" >1.000000</td>\n",
       "                        <td id=\"T_5948c1fb_8d6e_11eb_a2e7_5c80b6c5fbddrow18_col2\" class=\"data row18 col2\" >1.000000</td>\n",
       "                        <td id=\"T_5948c1fb_8d6e_11eb_a2e7_5c80b6c5fbddrow18_col3\" class=\"data row18 col3\" >1.000000</td>\n",
       "                        <td id=\"T_5948c1fb_8d6e_11eb_a2e7_5c80b6c5fbddrow18_col4\" class=\"data row18 col4\" >1.000000</td>\n",
       "            </tr>\n",
       "    </tbody></table>"
      ],
      "text/plain": [
       "<pandas.io.formats.style.Styler at 0x1fd1546a9d0>"
      ]
     },
     "execution_count": 168,
     "metadata": {},
     "output_type": "execute_result"
    }
   ],
   "source": [
    "# State with 100% ACT participation for either year from 2017 - 2020 using conditional filter\n",
    "act_100_pr = merged_tests_2017_to_2020.loc[(merged_tests_2017_to_2020.act_participation_17 == 1) | (merged_tests_2017_to_2020.act_participation_18 == 1) | (merged_tests_2017_to_2020.act_participation_19==1) | (merged_tests_2017_to_2020.act_participation_20==1)]\n",
    "\n",
    "act_100_pr.loc[:,['state','act_participation_17','act_participation_18','act_participation_19','act_participation_20']].style.hide_index()"
   ]
  },
  {
   "cell_type": "markdown",
   "metadata": {},
   "source": [
    "####  States with above 50% participation for both tests in 2017"
   ]
  },
  {
   "cell_type": "code",
   "execution_count": 169,
   "metadata": {},
   "outputs": [
    {
     "data": {
      "text/html": [
       "<div>\n",
       "<style scoped>\n",
       "    .dataframe tbody tr th:only-of-type {\n",
       "        vertical-align: middle;\n",
       "    }\n",
       "\n",
       "    .dataframe tbody tr th {\n",
       "        vertical-align: top;\n",
       "    }\n",
       "\n",
       "    .dataframe thead th {\n",
       "        text-align: right;\n",
       "    }\n",
       "</style>\n",
       "<table border=\"1\" class=\"dataframe\">\n",
       "  <thead>\n",
       "    <tr style=\"text-align: right;\">\n",
       "      <th></th>\n",
       "      <th>state</th>\n",
       "      <th>act_participation_17</th>\n",
       "      <th>sat_participation_17</th>\n",
       "    </tr>\n",
       "  </thead>\n",
       "  <tbody>\n",
       "    <tr>\n",
       "      <th>9</th>\n",
       "      <td>Florida</td>\n",
       "      <td>0.73</td>\n",
       "      <td>0.83</td>\n",
       "    </tr>\n",
       "    <tr>\n",
       "      <th>10</th>\n",
       "      <td>Georgia</td>\n",
       "      <td>0.55</td>\n",
       "      <td>0.61</td>\n",
       "    </tr>\n",
       "    <tr>\n",
       "      <th>11</th>\n",
       "      <td>Hawaii</td>\n",
       "      <td>0.90</td>\n",
       "      <td>0.55</td>\n",
       "    </tr>\n",
       "  </tbody>\n",
       "</table>\n",
       "</div>"
      ],
      "text/plain": [
       "      state  act_participation_17  sat_participation_17\n",
       "9   Florida                  0.73                  0.83\n",
       "10  Georgia                  0.55                  0.61\n",
       "11   Hawaii                  0.90                  0.55"
      ]
     },
     "execution_count": 169,
     "metadata": {},
     "output_type": "execute_result"
    }
   ],
   "source": [
    "# States with above 50% participation rate for both tests in 2017 using conditional filter\n",
    "states_above_50_pr_2017 =merged_tests_2017_to_2020.loc[(merged_tests_2017_to_2020.act_participation_17>.5) & (merged_tests_2017_to_2020.sat_participation_17>.5)]\n",
    "states_above_50_pr_2017.loc[:,['state','act_participation_17','sat_participation_17']]"
   ]
  },
  {
   "cell_type": "markdown",
   "metadata": {},
   "source": [
    "#### States with above 50% participation for both tests in 2018"
   ]
  },
  {
   "cell_type": "code",
   "execution_count": 170,
   "metadata": {},
   "outputs": [
    {
     "data": {
      "text/html": [
       "<div>\n",
       "<style scoped>\n",
       "    .dataframe tbody tr th:only-of-type {\n",
       "        vertical-align: middle;\n",
       "    }\n",
       "\n",
       "    .dataframe tbody tr th {\n",
       "        vertical-align: top;\n",
       "    }\n",
       "\n",
       "    .dataframe thead th {\n",
       "        text-align: right;\n",
       "    }\n",
       "</style>\n",
       "<table border=\"1\" class=\"dataframe\">\n",
       "  <thead>\n",
       "    <tr style=\"text-align: right;\">\n",
       "      <th></th>\n",
       "      <th>state</th>\n",
       "      <th>act_participation_18</th>\n",
       "      <th>sat_participation_18</th>\n",
       "    </tr>\n",
       "  </thead>\n",
       "  <tbody>\n",
       "    <tr>\n",
       "      <th>9</th>\n",
       "      <td>Florida</td>\n",
       "      <td>0.66</td>\n",
       "      <td>0.56</td>\n",
       "    </tr>\n",
       "    <tr>\n",
       "      <th>10</th>\n",
       "      <td>Georgia</td>\n",
       "      <td>0.53</td>\n",
       "      <td>0.70</td>\n",
       "    </tr>\n",
       "    <tr>\n",
       "      <th>11</th>\n",
       "      <td>Hawaii</td>\n",
       "      <td>0.89</td>\n",
       "      <td>0.56</td>\n",
       "    </tr>\n",
       "    <tr>\n",
       "      <th>33</th>\n",
       "      <td>North Carolina</td>\n",
       "      <td>1.00</td>\n",
       "      <td>0.52</td>\n",
       "    </tr>\n",
       "    <tr>\n",
       "      <th>40</th>\n",
       "      <td>South Carolina</td>\n",
       "      <td>1.00</td>\n",
       "      <td>0.55</td>\n",
       "    </tr>\n",
       "    <tr>\n",
       "      <th>51</th>\n",
       "      <td>National</td>\n",
       "      <td>0.66</td>\n",
       "      <td>0.52</td>\n",
       "    </tr>\n",
       "  </tbody>\n",
       "</table>\n",
       "</div>"
      ],
      "text/plain": [
       "             state  act_participation_18  sat_participation_18\n",
       "9          Florida                  0.66                  0.56\n",
       "10         Georgia                  0.53                  0.70\n",
       "11          Hawaii                  0.89                  0.56\n",
       "33  North Carolina                  1.00                  0.52\n",
       "40  South Carolina                  1.00                  0.55\n",
       "51        National                  0.66                  0.52"
      ]
     },
     "execution_count": 170,
     "metadata": {},
     "output_type": "execute_result"
    }
   ],
   "source": [
    "# States with above 50% participation rate for both tests in 2018 using conditional filter\n",
    "states_above_50_pr_2018 =merged_tests_2017_to_2020.loc[(merged_tests_2017_to_2020.act_participation_18>.5) & (merged_tests_2017_to_2020.sat_participation_18>.5)]\n",
    "states_above_50_pr_2018.loc[:,['state','act_participation_18','sat_participation_18']]"
   ]
  },
  {
   "cell_type": "markdown",
   "metadata": {},
   "source": [
    "#### States with above 50% participation for both tests in 2019"
   ]
  },
  {
   "cell_type": "code",
   "execution_count": 171,
   "metadata": {},
   "outputs": [
    {
     "data": {
      "text/html": [
       "<div>\n",
       "<style scoped>\n",
       "    .dataframe tbody tr th:only-of-type {\n",
       "        vertical-align: middle;\n",
       "    }\n",
       "\n",
       "    .dataframe tbody tr th {\n",
       "        vertical-align: top;\n",
       "    }\n",
       "\n",
       "    .dataframe thead th {\n",
       "        text-align: right;\n",
       "    }\n",
       "</style>\n",
       "<table border=\"1\" class=\"dataframe\">\n",
       "  <thead>\n",
       "    <tr style=\"text-align: right;\">\n",
       "      <th></th>\n",
       "      <th>state</th>\n",
       "      <th>act_participation_19</th>\n",
       "      <th>sat_participation_19</th>\n",
       "    </tr>\n",
       "  </thead>\n",
       "  <tbody>\n",
       "    <tr>\n",
       "      <th>9</th>\n",
       "      <td>Florida</td>\n",
       "      <td>0.54</td>\n",
       "      <td>1.00</td>\n",
       "    </tr>\n",
       "    <tr>\n",
       "      <th>11</th>\n",
       "      <td>Hawaii</td>\n",
       "      <td>0.80</td>\n",
       "      <td>0.54</td>\n",
       "    </tr>\n",
       "    <tr>\n",
       "      <th>33</th>\n",
       "      <td>North Carolina</td>\n",
       "      <td>1.00</td>\n",
       "      <td>0.51</td>\n",
       "    </tr>\n",
       "    <tr>\n",
       "      <th>40</th>\n",
       "      <td>South Carolina</td>\n",
       "      <td>0.78</td>\n",
       "      <td>0.68</td>\n",
       "    </tr>\n",
       "    <tr>\n",
       "      <th>51</th>\n",
       "      <td>National</td>\n",
       "      <td>0.52</td>\n",
       "      <td>0.54</td>\n",
       "    </tr>\n",
       "  </tbody>\n",
       "</table>\n",
       "</div>"
      ],
      "text/plain": [
       "             state  act_participation_19  sat_participation_19\n",
       "9          Florida                  0.54                  1.00\n",
       "11          Hawaii                  0.80                  0.54\n",
       "33  North Carolina                  1.00                  0.51\n",
       "40  South Carolina                  0.78                  0.68\n",
       "51        National                  0.52                  0.54"
      ]
     },
     "execution_count": 171,
     "metadata": {},
     "output_type": "execute_result"
    }
   ],
   "source": [
    "# States with above 50% participation rate for both tests in 2019 using conditional filter\n",
    "states_above_50_pr_2019 = merged_tests_2017_to_2020.loc[(merged_tests_2017_to_2020.act_participation_19>.5) & (merged_tests_2017_to_2020.sat_participation_19>.5)]\n",
    "states_above_50_pr_2019.loc[:,['state','act_participation_19','sat_participation_19']]"
   ]
  },
  {
   "cell_type": "markdown",
   "metadata": {},
   "source": [
    "#### States with above 50% participation for both tests in 2020"
   ]
  },
  {
   "cell_type": "code",
   "execution_count": 172,
   "metadata": {},
   "outputs": [
    {
     "data": {
      "text/html": [
       "<div>\n",
       "<style scoped>\n",
       "    .dataframe tbody tr th:only-of-type {\n",
       "        vertical-align: middle;\n",
       "    }\n",
       "\n",
       "    .dataframe tbody tr th {\n",
       "        vertical-align: top;\n",
       "    }\n",
       "\n",
       "    .dataframe thead th {\n",
       "        text-align: right;\n",
       "    }\n",
       "</style>\n",
       "<table border=\"1\" class=\"dataframe\">\n",
       "  <thead>\n",
       "    <tr style=\"text-align: right;\">\n",
       "      <th></th>\n",
       "      <th>state</th>\n",
       "      <th>act_participation_20</th>\n",
       "      <th>sat_participation_20</th>\n",
       "    </tr>\n",
       "  </thead>\n",
       "  <tbody>\n",
       "    <tr>\n",
       "      <th>11</th>\n",
       "      <td>Hawaii</td>\n",
       "      <td>0.82</td>\n",
       "      <td>0.51</td>\n",
       "    </tr>\n",
       "    <tr>\n",
       "      <th>40</th>\n",
       "      <td>South Carolina</td>\n",
       "      <td>0.76</td>\n",
       "      <td>0.68</td>\n",
       "    </tr>\n",
       "  </tbody>\n",
       "</table>\n",
       "</div>"
      ],
      "text/plain": [
       "             state  act_participation_20  sat_participation_20\n",
       "11          Hawaii                  0.82                  0.51\n",
       "40  South Carolina                  0.76                  0.68"
      ]
     },
     "execution_count": 172,
     "metadata": {},
     "output_type": "execute_result"
    }
   ],
   "source": [
    "# States with above 50% participation rate for both tests in 2020 using conditional filter\n",
    "states_above_50_pr_2020 = merged_tests_2017_to_2020.loc[(merged_tests_2017_to_2020.act_participation_20>.5) & (merged_tests_2017_to_2020.sat_participation_20>.5)]\n",
    "states_above_50_pr_2020.loc[:,['state','act_participation_20','sat_participation_20']]"
   ]
  },
  {
   "cell_type": "markdown",
   "metadata": {},
   "source": [
    "**Highest 10 participation rate:**\n",
    "\n",
    "(Not accounting for states with mandatory requirement to either of the test and no hiarachy among states with 100% participation rate)\n",
    "\n",
    "|Year|Test|State 1|State 2|State 3|State 4|State 5|State 6|State 7|State 8|State 9|State 10|National|\n",
    "|---|---|---|---|---|---|---|---|---|---|---|---|---|\n",
    "|2017|ACT|Minnesota: 100%|Oklahoma: 100%|Colorado: 100%|Tennessee: 100%|Missouri: 100%|South Carolina: 100%|Illinois: 93%|Hawaii: 90%|South Dakota: 80%|Ohio: 75%|60%|\n",
    "|2017|SAT|District of Columbia: 100%|Florida: 83%|Massachusetts: 76%|New Jersey: 70%|Maryland: 69%|New York: 67%|Virginia: 65%|Pennsylvania: 65%|Washington: 64%|Indiana: 63%|38%|\n",
    "|2018|ACT|Missouri: 100%|Ohio: 100%|Oklahoma: 100%|South Carolina: 100%|Tennessee: 100%|Minnesota: 99%|Hawaii: 89%|South Dakota: 77%|Kansas: 71%|Iowa: 68%|66%|\n",
    "|2018|SAT|District of Columbia: 92%|New Jersey: 82%|Massachusetts: 80%|New York: 79%|Maryland: 76%|Georgia: 70%|Pennsylvania: 70%|Washington: 69%|Virginia: 68%|Texas: 68%|52%|\n",
    "|2019|ACT|Ohio: 100%|Oklahoma: 100%|Tennessee: 100%|Minnesota: 95%|Missouri: 82%|Hawaii: 80%|South Carolina: 78%|South Dakota: 75%|Arizona: 73%|Kansas: 72%|52%|\n",
    "|2019|SAT|Florida: 100%|District of Columbia: 94%|Maryland: 82%|New Jersey: 82%|Massachusetts: 81%|New York: 79%|Georgia: 71%|Pennsylvania: 70%|Washington: 70%|South Carolina: 68%|54%|\n",
    "|2020|ACT|Ohio: 100%|Oklahoma: 100%|Tennessee: 100%|Minnesota: 92%|Hawaii: 82%|Kansas: 82%|Missouri: 78%|South Carolina: 76%|Arizona: 71%|South Dakota: 70%|49%|\n",
    "|2020|SAT|District of Columbia: 100%|Florida: 100%|Maryland: 88%|New Jersey: 82%|Massachusetts:\t80%|New York: 79%|Texas: 73%|Washington: 69%|Georgia: 68%|South Carolina: 68%|51%|\n",
    "\n",
    "\n",
    "**Lowest 10 participation rate:**\n",
    "\n",
    "(Not accounting for states with mandatory requirement to either of the test)\n",
    "\n",
    "|Year|Test|State 1|State 2|State 3|State 4|State 5|State 6|State 7|State 8|State 9|State 10|National|\n",
    "|---|---|---|---|---|---|---|---|---|---|---|---|---|\n",
    "|2017|ACT|Maine: 8%|Delaware: 18%|New Hampshire: 18%|Rhode Island: 21%|Pennsylvania: 23%|Maryland: 28%|Michigan: 29%|Vermont: 29%|Virginia: 29%|Washington: 29%|60%|\n",
    "|2017|SAT|Iowa: 2%|Mississippi: 2%|North Dakota: 2%|Wyoming: 3%|Utah: 3%|Arkansas: 3%|Minnesota: 3%|Missouri: 3%|Wisconsin: 3%|Nebraska: 3%|38%|\n",
    "|2018|ACT|Maine: 7%|Rhode Island: 15%|New Hampshire: 16%|Delaware: 17%|Pennsylvania: 20%|Michigan: 22%|Virginia: 24%|Vermont: 24%|Washington: 24%|Massachusetts: 25%|66%|\n",
    "|2018|SAT|North Dakota: 2%|Wyoming: 3%|Iowa: 3%|Mississippi: 3%|Wisconsin: 3%|Nebraska: 3%|South Dakota: 3%|Utah: 4%|Kansas: 4%|Kentucky: 4%|52%|\n",
    "|2019|ACT|Maine: 6%|Rhode Island: 12%|Delaware: 13%|New Hampshire: 14%|Pennsylvania: 17%|Michigan: 19%|Vermont: 20%|Massachusetts: 21%|Virginia: 21%|Connecticut: 22%|52%|\n",
    "|2019|SAT|North Dakota: 2%|Nebraska: 3%|South Dakota: 3%|Wisconsin: 3%|Mississippi: 3%|Wyoming: 3%|Iowa: 3%|Kentucky: 4%|Minnesota: 4%|Missouri: 4%|54%|\n",
    "|2020|ACT|Maine: 5%|Delaware: 11%|Rhode Island: 11%|New Hampshire: 12%|Pennsylvania: 15%|Michigan: 17%|Massachusetts: 18%|Virginia: 19|Connecticut: 19%|Maryland: 19%|49%|\n",
    "|2020|SAT|Wyoming: 2%|North Dakota: 2%|Utah: 3%|South Dakota: 3%|Wisconsin: 3%|Mississippi: 3%|Nebraska: 3%|Iowa: 3%|Minnesota: 4%|Kansas: 4%|51%|\n",
    "\n",
    "**Highest 10 average total scores:**\n",
    "\n",
    "|Year|Test|State 1|State 2|State 3|State 4|State 5|State 6|State 7|State 8|State 9|State 10|National|\n",
    "|---|---|---|---|---|---|---|---|---|---|---|---|---|\n",
    "|2017|ACT|New Hampshire: 25.5|Massachusetts: 25.4|Connecticut: 25.2|Maine: 24.3|District of Columbia: 24.2|New York: 24.2|Michigan: 24.1|Delaware: 24.1|Rhode Island: 24.0|New Jersey: 23.9|21.0\n",
    "|2017|SAT|Minnesota: 1295|Wisconsin: 1291|Iowa: 1275|Missouri: 1271|Kansas: 1260|North Dakota: 1256|Nebraska: 1253|Kentucky: 1247|Mississippi: 1242|Utah: 1238|1107|\n",
    "|2018|ACT|Connecticut: 25.6|Massachusetts: 25.5|New Hampshire: 25.1|New York: 24.5|Rhode Island: 24.2|Michigan: 24.2|Vermont: 24.1|Maine: 24.0|Virginia: 23.9|Illinois: 23.9|21.3|\n",
    "|2018|SAT|Minnesota: 1298|Wisconsin: 1294|North Dakota: 1283|Kansas: 1265|Iowa: 1265|Missouri: 1262|Wyoming: 1257|Nebraska: 1252|Kentucky: 1248|South Dakota: 1240|1098|\n",
    "|2019|ACT|Connecticut: 25.5|Massachusetts: 25.5|New Hampshire: 25.0|Rhode Island: 24.7|New York: 24.5|Michigan: 24.4|Illinois: 24.3|Maine: 24.3|New Jersey: 24.2|Delaware: 24.1|20.7|\n",
    "|2019|SAT|Minnesota: 1284|Wisconsin: 1283|South Dakota: 1268|North Dakota: 1263|Nebraska: 1260|Iowa: 1244|Kansas: 1241|Wyoming: 1238|Mississippi: 1237|Missouri: 1236|1097|\n",
    "|2020|ACT|Massachusetts: 26.0|Connecticut: 25.9|New Hampshire: 25.7|New York: 24.9|Maine: 24.9|Rhode Island: 24.8|Illinois: 24.7|Michigan: 24.6|Virginia: 24.4|New Jersey: 24.4|20.6|\n",
    "|2020|SAT|Minnesota: 1257|Wisconsin: 1243|Kansas: 1237|North Dakota: 1231|Nebraska: 1229|Wyoming: 1220|Iowa: 1220|South Dakota: 1218|Missouri: 1212|Kentucky: 1207|1095|\n",
    "\n",
    "**Lowest 10 average total scores:**\n",
    "\n",
    "|Year|Test|State 1|State 2|State 3|State 4|State 5|State 6|State 7|State 8|State 9|State 10|National|\n",
    "|---|---|---|---|---|---|---|---|---|---|---|---|---|\n",
    "|2017|ACT|Nevada: 17.8|Mississippi: 18.6|South Carolina: 18.7|Hawaii: 19.0|North Carolina: 19.1|Alabama: 19.2|Arkansas: 19.4|Oklahoma: 19.4|Louisiana: 19.5|Arizona: 19.7|21.0|\n",
    "|2017|SAT|District of Columbia: 950|Delaware: 996|Michigan: 1005|Idaho: 1005|Maine: 1012|Florida: 1017|Texas: 1020|Connecticut: 1041|Oklahoma: 1047|Georgia: 1050|1107|\n",
    "|2018|ACT|Nevada: 17.7|South Carolina: 18.3|Mississippi: 18.6|Hawaii: 18.9|North Carolina: 19.1|Alabama: 19.1|Louisiana: 19.2|Arizona: 19.2|Oklahoma: 19.3|Arkansas: 19.4|21.3|\n",
    "|2018|SAT|District of Columbia: 977|Delaware: 998|West Virginia: 999|Idaho: 1001|Utah: 1010|Hawaii: 1010|Michigan: 1011|Maine: 1013|Rhode Island: 1018|Illinois:1019|1098|\n",
    "|2019|ACT|Nevada: 17.9|Mississippi: 18.4|South Carolina: 18.8|Louisiana: 18.8|Oklahoma: 18.9|Alabama: 18.9|Arizona: 19.0|Hawaii: 19.0|North Carolina: 19.0|Arkansas: 19.3|20.7|\n",
    "|2019|SAT|West Virginia: 943|Oklahoma: 963|District of Columbia: 975|Delaware: 985|Idaho: 993|Rhode Island: 995|Florida: 999|Michigan: 1003|Illinois: 1013|Maine: 1013|1097|\n",
    "|2020|ACT|Nevada: 17.9|Mississippi: 18.2|South Carolina: 18.4|Hawaii: 18.5|Oklahoma: 18.7|Louisiana: 18.7|North Carolina: 18.8|Alabama: 18.8|Arkansas: 19.0|Arizona\t19.1|20.6|\n",
    "|2020|SAT|West Virginia: 936|Oklahoma: 971|Delaware: 978|District of Columbia: 979|Idaho: 984|Rhode Island: 990|Florida: 992|Maine: 995|Michigan: 998|Illinois: 1007|1095|\n",
    "\n",
    "\n",
    "**States with 100% participation rate for SAT in either years(2017-2020)** \n",
    "\n",
    "|State|2017 Participation Rate|2018 Participation Rate|2019 Participation Rate|2020 Participation Rate|\n",
    "|---|---|---|---|---|\n",
    "|Colorado|11%|100%|100%|100%|\n",
    "|Connecticut|100%|100%|100%|100%|\n",
    "|Delaware|100%|100%|100%|100%|\n",
    "|District of Columbia|100%|92%|94%|100%|\n",
    "|Florida|83%|56%|100%|100%|\n",
    "|Idaho|93%|100%|100%|100%|\n",
    "|Illinois|9%|99%|100%|98%|\n",
    "|Michigan|100%|100%|100%|100%|\n",
    "|Rhode Island|71%|97%|100%|100%|\n",
    "\n",
    "\n",
    "**States with 100% participation rate for ACT in either years(2017-2020)** \n",
    "\n",
    "|State|2017 Participation Rate|2018 Participation Rate|2019 Participation Rate|2020 Participation Rate|\n",
    "|---|---|---|---|---|\n",
    "|Alabama|100%|100%|100%|100%|\n",
    "|Arkansas|100%|100%|100%|100%|\n",
    "|Colorado|100%|30%|27%|25%|\n",
    "|Kentucky|100%|100%|100%|100%|\n",
    "|Louisiana|100%|100%|100%|100%|\n",
    "|Minnesota|100%|99%|95%|92%|\n",
    "|Mississippi|100%|100%|100%|100%|\n",
    "|Missouri|100%|100%|82%|78%|\n",
    "|Montana|100%|100%|100%|100%|\n",
    "|Nebraska|84%|100%|100%|100%|\n",
    "|Nevada|100%|100%|100%|100%|\n",
    "|North Carolina|100%|100%|100%|100%|\n",
    "|Ohio|75%|100%|100%|100%|\n",
    "|Oklahoma|100%|100%|100%|100%|\n",
    "|South Carolina|100%|100%|78%|76%|\n",
    "|Tennessee|100%|100%|100%|100%|\n",
    "|Utah|100%|100%|100%|100%|\n",
    "|Wisconsin|100%|100%|100%|100%|\n",
    "|Wyoming|100%|100%|100%|100%|\n",
    "\n",
    "**States that have above 50% Participation on both test for 2017**\n",
    "\n",
    "|State|ACT Participation Rate|SAT Participation Rate|\n",
    "|---|---|---|\n",
    "|Florida|73%|83%|\n",
    "|Georgia|55%|61%|\n",
    "|Hawaii|90%|55%|\n",
    "\n",
    "**States that have above 50% Participation on both test for 2018**\n",
    "\n",
    "|State|ACT Participation Rate|SAT Participation Rate|\n",
    "|---|---|---|\n",
    "|Florida|66%|56%|\n",
    "|Georgia|53%|70%|\n",
    "|Hawaii|89%|56%|\n",
    "|North Carolina|100%|52%|\n",
    "|South Carolina|100%|55%|\n",
    "\n",
    "**States that have above 50% Participation on both test for 2019**\n",
    "\n",
    "|State|ACT Participation Rate|SAT Participation Rate|\n",
    "|---|---|---|\n",
    "|Florida|54%|100%|\n",
    "|Hawaii|80%|54%|\n",
    "|North Carolina|100%|51%|\n",
    "|South Carolina|78%|68%|\n",
    "\n",
    "**States that have above 50% Participation on both test for 2020**\n",
    "\n",
    "|State|ACT Participation Rate|SAT Participation Rate|\n",
    "|---|---|---|\n",
    "|Hawaii|82%|51%|\n",
    "|South Carolina|76%|68%|"
   ]
  },
  {
   "cell_type": "markdown",
   "metadata": {},
   "source": [
    "## Data Visualization"
   ]
  },
  {
   "cell_type": "markdown",
   "metadata": {},
   "source": [
    "### 1. SAT Diagrams"
   ]
  },
  {
   "cell_type": "code",
   "execution_count": 173,
   "metadata": {},
   "outputs": [
    {
     "data": {
      "image/png": "[encoded data removed]",
      "text/plain": [
       "<Figure size 720x720 with 1 Axes>"
      ]
     },
     "metadata": {
      "needs_background": "light"
     },
     "output_type": "display_data"
    }
   ],
   "source": [
    "plt.figure(figsize=(10,10))\n",
    "plt.title('SAT Scores throughout 2017 to 2020')\n",
    "plt.ylabel('SAT Score')\n",
    "sns.boxplot(data=merged_tests_2017_to_2020[['sat_total_average_17','sat_total_average_18','sat_total_average_19','sat_total_average_20']]).set_xticklabels(['Y2017','Y2018','Y2019','Y2020']);\n",
    "plt.savefig(\"../picture/SAT_Boxplot\")"
   ]
  },
  {
   "cell_type": "markdown",
   "metadata": {},
   "source": [
    "All four boxplot diagrams are positively skewed. (The median is close to the bottom of the box)\n",
    "\n",
    "The range for Y2018 seems to be tighter as compared to the other two years.\n",
    "\n",
    "There are no outliers for all years\n",
    "\n",
    "The median has dropped over the years which indicates that there are more test scores returns higher thus pushing the median down.\n",
    "\n",
    "The minimum and maximum score has dropped since 2018. "
   ]
  },
  {
   "cell_type": "code",
   "execution_count": 174,
   "metadata": {},
   "outputs": [
    {
     "data": {
      "image/png": "[encoded data removed]",
      "text/plain": [
       "<Figure size 720x360 with 1 Axes>"
      ]
     },
     "metadata": {
      "needs_background": "light"
     },
     "output_type": "display_data"
    }
   ],
   "source": [
    "plt.figure(figsize=(10,5))\n",
    "data = {'Y2017':above_national_sat_2017.state.count(),\n",
    "        'Y2018':above_national_sat_2018.state.count(),\n",
    "        'Y2019':above_national_sat_2019.state.count(),\n",
    "        'Y2020':above_national_act_2020.state.count()\n",
    "       }\n",
    "year = list(data.keys())\n",
    "count = list(data.values())\n",
    "\n",
    "plt.bar(year,count,color='maroon',width=0.4)\n",
    "plt.ylabel('Number of states')\n",
    "plt.title('Count of states that achieve better SAT scores than national average');"
   ]
  },
  {
   "cell_type": "markdown",
   "metadata": {},
   "source": [
    "There was no change number of states that achieve throughout the years from 2017 to 2019.\n",
    "\n",
    "There was an addditional state that did better than national average in Y2020.\n",
    "\n",
    "However if we dig deeper into individual plot's breakdown, we can observed that:\n",
    "\n",
    "1. There is a huge drop in the number of state for scores above 1250 in year 2020.\n",
    "2. However, this was compensated with an increased in the number state between 1150 and 1250.\n",
    "3. As observed in the boxplot, the maximum score has been dropping since year 2018."
   ]
  },
  {
   "cell_type": "code",
   "execution_count": 175,
   "metadata": {
    "scrolled": false
   },
   "outputs": [
    {
     "data": {
      "image/png": "[encoded data removed]",
      "text/plain": [
       "<Figure size 720x360 with 4 Axes>"
      ]
     },
     "metadata": {
      "needs_background": "light"
     },
     "output_type": "display_data"
    }
   ],
   "source": [
    "plt.figure(figsize=(10,5))\n",
    "data1 = above_national_sat_2017.sat_total_average_17\n",
    "data2 = above_national_sat_2018.sat_total_average_18\n",
    "data3 = above_national_sat_2019.sat_total_average_19\n",
    "data4 = above_national_sat_2020.sat_total_average_20\n",
    "plt.suptitle('Number of states above SAT national average score')\n",
    "bins = [1100,1150,1200,1250,1300]\n",
    "ax1=plt.subplot(141)\n",
    "ax1.set_title('Y2017')\n",
    "ax1.hist(data1,color='maroon',bins = bins)\n",
    "\n",
    "ax2 = plt.subplot(142,sharex=ax1,sharey=ax1)\n",
    "ax2.set_title('Y2018')\n",
    "ax2.set_xlabel('SAT Score')\n",
    "ax2.hist(data2,color='darkslateblue',bins = bins)\n",
    "\n",
    "ax3 = plt.subplot(143,sharex = ax1,sharey=ax1)\n",
    "ax3.set_title('Y2019')\n",
    "ax3.hist(data3,color='teal',bins = bins);\n",
    "\n",
    "ax4 = plt.subplot(144,sharex = ax1,sharey=ax1)\n",
    "ax4.set_title('Y2020')\n",
    "ax4.hist(data4,color='goldenrod',bins = bins);\n"
   ]
  },
  {
   "cell_type": "code",
   "execution_count": 176,
   "metadata": {
    "scrolled": true
   },
   "outputs": [
    {
     "data": {
      "image/png": "[encoded data removed]",
      "text/plain": [
       "<Figure size 720x360 with 1 Axes>"
      ]
     },
     "metadata": {
      "needs_background": "light"
     },
     "output_type": "display_data"
    }
   ],
   "source": [
    "plt.figure(figsize=(10,5))\n",
    "data = {'Y2017':above_national_sat_pr_2017.state.count(),\n",
    "        'Y2018':above_national_sat_pr_2018.state.count(),\n",
    "        'Y2019':above_national_sat_pr_2019.state.count(),\n",
    "        'Y2020':above_national_sat_pr_2020.state.count(),\n",
    "       }\n",
    "year = list(data.keys())\n",
    "count = list(data.values())\n",
    "\n",
    "plt.bar(year,count,color='indigo',width=0.4)\n",
    "plt.ylabel('Number of states')\n",
    "plt.title('Number of states that have higher SAT participation rate than national average');\n",
    "plt.savefig(\"../picture/SAT_PR_Above_Barplot\")"
   ]
  },
  {
   "cell_type": "markdown",
   "metadata": {},
   "source": [
    "The number of states that have higher participation rate than national average have been declining over the years.\n",
    "\n",
    "*Note that the result has excluded states with mandatory request to take SAT.\n"
   ]
  },
  {
   "cell_type": "code",
   "execution_count": 177,
   "metadata": {},
   "outputs": [
    {
     "data": {
      "text/html": [
       "<div>\n",
       "<style scoped>\n",
       "    .dataframe tbody tr th:only-of-type {\n",
       "        vertical-align: middle;\n",
       "    }\n",
       "\n",
       "    .dataframe tbody tr th {\n",
       "        vertical-align: top;\n",
       "    }\n",
       "\n",
       "    .dataframe thead th {\n",
       "        text-align: right;\n",
       "    }\n",
       "</style>\n",
       "<table border=\"1\" class=\"dataframe\">\n",
       "  <thead>\n",
       "    <tr style=\"text-align: right;\">\n",
       "      <th></th>\n",
       "      <th>state</th>\n",
       "      <th>sat_participation_17</th>\n",
       "      <th>sat_total_average_17</th>\n",
       "      <th>act_participation_17</th>\n",
       "      <th>act_total_average_17</th>\n",
       "      <th>sat_participation_18</th>\n",
       "      <th>sat_total_average_18</th>\n",
       "      <th>act_participation_18</th>\n",
       "      <th>act_total_average_18</th>\n",
       "      <th>sat_participation_19</th>\n",
       "      <th>sat_total_average_19</th>\n",
       "      <th>act_participation_19</th>\n",
       "      <th>act_total_average_19</th>\n",
       "      <th>sat_participation_20</th>\n",
       "      <th>sat_total_average_20</th>\n",
       "      <th>act_participation_20</th>\n",
       "      <th>act_total_average_20</th>\n",
       "    </tr>\n",
       "  </thead>\n",
       "  <tbody>\n",
       "    <tr>\n",
       "      <th>51</th>\n",
       "      <td>National</td>\n",
       "      <td>0.38</td>\n",
       "      <td>1107</td>\n",
       "      <td>0.6</td>\n",
       "      <td>21.0</td>\n",
       "      <td>0.52</td>\n",
       "      <td>1098</td>\n",
       "      <td>0.66</td>\n",
       "      <td>21.3</td>\n",
       "      <td>0.54</td>\n",
       "      <td>1097</td>\n",
       "      <td>0.52</td>\n",
       "      <td>20.7</td>\n",
       "      <td>0.51</td>\n",
       "      <td>1095.0</td>\n",
       "      <td>0.49</td>\n",
       "      <td>20.6</td>\n",
       "    </tr>\n",
       "  </tbody>\n",
       "</table>\n",
       "</div>"
      ],
      "text/plain": [
       "       state  sat_participation_17  sat_total_average_17  \\\n",
       "51  National                  0.38                  1107   \n",
       "\n",
       "    act_participation_17  act_total_average_17  sat_participation_18  \\\n",
       "51                   0.6                  21.0                  0.52   \n",
       "\n",
       "    sat_total_average_18  act_participation_18  act_total_average_18  \\\n",
       "51                  1098                  0.66                  21.3   \n",
       "\n",
       "    sat_participation_19  sat_total_average_19  act_participation_19  \\\n",
       "51                  0.54                  1097                  0.52   \n",
       "\n",
       "    act_total_average_19  sat_participation_20  sat_total_average_20  \\\n",
       "51                  20.7                  0.51                1095.0   \n",
       "\n",
       "    act_participation_20  act_total_average_20  \n",
       "51                  0.49                  20.6  "
      ]
     },
     "execution_count": 177,
     "metadata": {},
     "output_type": "execute_result"
    }
   ],
   "source": [
    "merged_tests_2017_to_2020.tail(1)"
   ]
  },
  {
   "cell_type": "code",
   "execution_count": 178,
   "metadata": {},
   "outputs": [
    {
     "data": {
      "image/png": "[encoded data removed]",
      "text/plain": [
       "<Figure size 1080x360 with 4 Axes>"
      ]
     },
     "metadata": {
      "needs_background": "light"
     },
     "output_type": "display_data"
    }
   ],
   "source": [
    "plt.figure(figsize=(15,5))\n",
    "data1 = above_national_sat_pr_2017['sat_participation_17']\n",
    "data2 = above_national_sat_pr_2018['sat_participation_18']\n",
    "data3 = above_national_sat_pr_2019['sat_participation_19']\n",
    "data4 = above_national_sat_pr_2020['sat_participation_20']\n",
    "plt.suptitle('Number of states above SAT national participation rate')\n",
    "bins = [0.1,0.2,0.3,0.4,0.5,0.6,0.7,0.8,0.9,1.0]\n",
    "ax1=plt.subplot(141)\n",
    "ax1.set_title('Y2017')\n",
    "ax1.set_ylabel('No. of states')\n",
    "ax1.set_xlabel('Participation rate')\n",
    "ax1.hist(data1,color='maroon',bins = bins)\n",
    "\n",
    "ax2 = plt.subplot(142,sharex=ax1,sharey=ax1)\n",
    "ax2.set_title('Y2018')\n",
    "ax2.set_xlabel('Participation rate')\n",
    "ax2.hist(data2,color='darkslateblue',bins = bins)\n",
    "\n",
    "ax3 = plt.subplot(143,sharex = ax1,sharey=ax1)\n",
    "ax3.set_title('Y2019')\n",
    "ax3.set_xlabel('Participation rate')\n",
    "ax3.hist(data3,color='teal',bins = bins);\n",
    "\n",
    "ax4 = plt.subplot(144,sharex = ax1,sharey=ax1)\n",
    "ax4.set_title('Y2020')\n",
    "ax4.set_xlabel('Participation rate')\n",
    "ax4.hist(data4,color='goldenrod',bins = bins);\n",
    "\n",
    "plt.savefig(\"../picture/SAT_PR_Above_Hist\")"
   ]
  },
  {
   "cell_type": "markdown",
   "metadata": {},
   "source": [
    "The reason for the decline was due to the increase in the national average throughout the years.\n",
    "\n",
    "Initially, the national average for participation rate in 2017 is 38%. However, it has grown to 52% followed by 54% and 51% respectively.\n",
    "\n",
    "This also indicates that there is an increase in the participation as a whole which leads to the growth for national average."
   ]
  },
  {
   "cell_type": "code",
   "execution_count": 179,
   "metadata": {},
   "outputs": [
    {
     "data": {
      "image/png": "[encoded data removed]",
      "text/plain": [
       "<Figure size 864x360 with 4 Axes>"
      ]
     },
     "metadata": {
      "needs_background": "light"
     },
     "output_type": "display_data"
    }
   ],
   "source": [
    "plt.figure(figsize=(12,5))\n",
    "data1 = merged_tests_2017_to_2020['sat_participation_17']\n",
    "data2 = merged_tests_2017_to_2020['sat_participation_18']\n",
    "data3 = merged_tests_2017_to_2020['sat_participation_19']\n",
    "data4 = merged_tests_2017_to_2020['sat_participation_20']\n",
    "plt.suptitle('SAT Participation rate')\n",
    "bins = 11\n",
    "\n",
    "ax1=plt.subplot(141)\n",
    "ax1.set_title('Y2017')\n",
    "ax1.set_ylabel('No. of states')\n",
    "ax1.set_xlabel('Participation Rate')\n",
    "ax1.hist(data1,color='maroon',bins = bins)\n",
    "\n",
    "ax2 = plt.subplot(142,sharex=ax1,sharey=ax1)\n",
    "ax2.set_title('Y2018')\n",
    "ax2.set_xlabel('Participation Rate')\n",
    "ax2.hist(data2,color='darkslateblue',bins = bins)\n",
    "\n",
    "ax3 = plt.subplot(143,sharex = ax1,sharey=ax1)\n",
    "ax3.set_title('Y2019')\n",
    "ax3.set_xlabel('Participation Rate')\n",
    "ax3.hist(data3,color='teal',bins = bins);\n",
    "\n",
    "ax4 = plt.subplot(144,sharex = ax1,sharey=ax1)\n",
    "ax4.set_title('Y2020')\n",
    "ax4.set_xlabel('Participation Rate')\n",
    "ax4.hist(data4,color='goldenrod',bins = bins);\n",
    "plt.xticks([0,0.2,0.4,0.6,0.8,1])\n",
    "plt.yticks([2,4,6,8,10,12,14,16,18,20,22,24]);\n",
    "# plt.savefig(\"../picture/SAT_overall_pr_hist\")"
   ]
  },
  {
   "cell_type": "markdown",
   "metadata": {},
   "source": [
    "Observations:\n",
    "1. Over the span of 4 years, states that have participation rate 10% and less have dropped from 23 to 19. (2017 to 2020)\n",
    "2. Participation rate of 80% and above has also increased from 8 to 15. (2017 to 2020)\n",
    "3. In summary, there is an overall increase in participation rate for SAT over the years."
   ]
  },
  {
   "cell_type": "code",
   "execution_count": 180,
   "metadata": {},
   "outputs": [
    {
     "data": {
      "image/png": "[encoded data removed]",
      "text/plain": [
       "<Figure size 720x720 with 1 Axes>"
      ]
     },
     "metadata": {
      "needs_background": "light"
     },
     "output_type": "display_data"
    }
   ],
   "source": [
    "plt.figure(figsize=(10,10))\n",
    "plt.title('ACT Scores throughout 2017 to 2020')\n",
    "sns.boxplot(data=merged_tests_2017_to_2020[['act_total_average_17','act_total_average_18','act_total_average_19','act_total_average_20']]).set_xticklabels(['Y2017','Y2018','Y2019','Y2020']);\n",
    "plt.ylabel('ACT Scores');\n",
    "plt.savefig(\"../picture/ACT_Boxplot.png\")"
   ]
  },
  {
   "cell_type": "markdown",
   "metadata": {},
   "source": [
    "All four boxplot diagrams are positively skewed. (The median is close to the bottom of the box)\n",
    "\n",
    "The range for Y2019 seems to be tighter but the max score is also lower as compared to the other years.\n",
    "\n",
    "The median has dropped over the years.\n",
    "\n",
    "There are no outliers found for either of the plots.\n",
    "\n",
    "The maximum score is highest for Y2020."
   ]
  },
  {
   "cell_type": "code",
   "execution_count": 181,
   "metadata": {},
   "outputs": [
    {
     "data": {
      "image/png": "[encoded data removed]",
      "text/plain": [
       "<Figure size 720x360 with 1 Axes>"
      ]
     },
     "metadata": {
      "needs_background": "light"
     },
     "output_type": "display_data"
    }
   ],
   "source": [
    "plt.figure(figsize=(10,5))\n",
    "data = {'Y2017':above_national_act_2017.state.count(),\n",
    "        'Y2018':above_national_act_2018.state.count(),\n",
    "        'Y2019':above_national_act_2019.state.count(),\n",
    "        'Y2020':above_national_act_2020.state.count()\n",
    "       }\n",
    "year = list(data.keys())\n",
    "count = list(data.values())\n",
    "\n",
    "plt.bar(year,count,color='lightsalmon',width=0.4)\n",
    "plt.ylabel('Number of states')\n",
    "plt.title('Count of states that achieve better ACT scores than national average');"
   ]
  },
  {
   "cell_type": "code",
   "execution_count": 182,
   "metadata": {},
   "outputs": [
    {
     "data": {
      "image/png": "[encoded data removed]",
      "text/plain": [
       "<Figure size 864x360 with 4 Axes>"
      ]
     },
     "metadata": {
      "needs_background": "light"
     },
     "output_type": "display_data"
    }
   ],
   "source": [
    "plt.figure(figsize=(12,5))\n",
    "data1 = above_national_act_2017.act_total_average_17\n",
    "data2 = above_national_act_2018.act_total_average_18\n",
    "data3 = above_national_act_2019.act_total_average_19\n",
    "data4 = above_national_act_2020.act_total_average_20\n",
    "plt.suptitle('Number of states above ACT national average')\n",
    "bins = [20,21,22,23,24,25,26]\n",
    "\n",
    "ax1=plt.subplot(141)\n",
    "ax1.set_title('Y2017')\n",
    "ax1.set_ylabel('No. of states')\n",
    "ax1.set_xlabel('ACT Scores')\n",
    "ax1.hist(data1,color='maroon',bins = bins)\n",
    "\n",
    "ax2 = plt.subplot(142,sharex=ax1,sharey=ax1)\n",
    "ax2.set_title('Y2018')\n",
    "ax2.set_xlabel('ACT Scores')\n",
    "ax2.hist(data2,color='darkslateblue',bins = bins)\n",
    "\n",
    "ax3 = plt.subplot(143,sharex = ax1,sharey=ax1)\n",
    "ax3.set_title('Y2019')\n",
    "ax3.set_xlabel('ACT Scores')\n",
    "ax3.hist(data3,color='teal',bins = bins);\n",
    "\n",
    "ax4 = plt.subplot(144,sharex = ax1,sharey=ax1)\n",
    "ax4.set_title('Y2020')\n",
    "ax4.set_xlabel('ACT Scores')\n",
    "ax4.hist(data4,color='goldenrod',bins = bins);\n"
   ]
  },
  {
   "cell_type": "markdown",
   "metadata": {},
   "source": [
    "\n",
    "For the year 2019, more states achievered higher ACT scores of 24 and above.\n",
    "\n",
    "There is a huge drop for states that are scoring between 21 to 22 and given that the overall number of state did not move much, this means that most of the drop have been moving towards the right of the diagram which indicates that states are achieve higher ACT scores. \n",
    "\n"
   ]
  },
  {
   "cell_type": "code",
   "execution_count": 183,
   "metadata": {},
   "outputs": [
    {
     "data": {
      "image/png": "[encoded data removed]",
      "text/plain": [
       "<Figure size 720x360 with 1 Axes>"
      ]
     },
     "metadata": {
      "needs_background": "light"
     },
     "output_type": "display_data"
    }
   ],
   "source": [
    "plt.figure(figsize=(10,5))\n",
    "data = {'Y2017':above_national_act_pr_2017.state.count(),\n",
    "        'Y2018':above_national_act_pr_2018.state.count(),\n",
    "        'Y2019':above_national_act_pr_2019.state.count(),\n",
    "        'Y2020':above_national_act_pr_2020.state.count()\n",
    "       }\n",
    "year = list(data.keys())\n",
    "count = list(data.values())\n",
    "\n",
    "plt.bar(year,count,color='powderblue',width=0.4)\n",
    "plt.ylabel('No.of States')\n",
    "plt.title('Number of states that have higher participation rate than ACT national average');"
   ]
  },
  {
   "cell_type": "markdown",
   "metadata": {},
   "source": [
    "There was a huge fall in the number of states that have above the national average participation rate,from 17 to 11 states. However, it seems like the count is picking up at 12 states for 2020.  \n"
   ]
  },
  {
   "cell_type": "code",
   "execution_count": 184,
   "metadata": {},
   "outputs": [
    {
     "data": {
      "image/png": "[encoded data removed]",
      "text/plain": [
       "<Figure size 864x360 with 4 Axes>"
      ]
     },
     "metadata": {
      "needs_background": "light"
     },
     "output_type": "display_data"
    }
   ],
   "source": [
    "plt.figure(figsize=(12,5))\n",
    "data1 = merged_tests_2017_to_2020['act_participation_17']\n",
    "data2 = merged_tests_2017_to_2020['act_participation_18']\n",
    "data3 = merged_tests_2017_to_2020['act_participation_19']\n",
    "data4 = merged_tests_2017_to_2020['act_participation_20']\n",
    "plt.suptitle('ACT Participation rate')\n",
    "bins = [0,0.2,0.4,0.6,0.8,1]\n",
    "\n",
    "ax1=plt.subplot(141)\n",
    "ax1.set_title('Y2017')\n",
    "ax1.set_ylabel('No. of states')\n",
    "ax1.set_xlabel('Participation Rate')\n",
    "ax1.hist(data1,color='maroon',bins = bins)\n",
    "\n",
    "ax2 = plt.subplot(142,sharex=ax1,sharey=ax1)\n",
    "ax2.set_title('Y2018')\n",
    "ax2.set_xlabel('Participation Rate')\n",
    "ax2.hist(data2,color='darkslateblue',bins = bins)\n",
    "\n",
    "ax3 = plt.subplot(143,sharex = ax1,sharey=ax1)\n",
    "ax3.set_title('Y2019')\n",
    "ax3.set_xlabel('Participation Rate')\n",
    "ax3.hist(data3,color='teal',bins = bins);\n",
    "\n",
    "ax4 = plt.subplot(144,sharex = ax1,sharey=ax1)\n",
    "ax4.set_title('Y2020')\n",
    "ax4.set_xlabel('Participation Rate')\n",
    "ax4.hist(data4,color='goldenrod',bins = bins);\n",
    "plt.xticks([0,0.2,0.4,0.6,0.8,1])\n",
    "plt.yticks([2,4,6,8,10,12,14,16,18,20,22,24]);"
   ]
  },
  {
   "cell_type": "markdown",
   "metadata": {},
   "source": [
    "Observations:\n",
    "1. Participation rate between 80% - 100% seem to have dropped over the years from 29 to 25. (2017 to 2020)\n",
    "2. It seems like more states are moving towards the left side of the diagram at 40% and below (2020)\n",
    "3. Overall, there is a dropped in participation rate over the years."
   ]
  },
  {
   "cell_type": "code",
   "execution_count": 191,
   "metadata": {
    "scrolled": false
   },
   "outputs": [
    {
     "data": {
      "image/png": "[encoded data removed]",
      "text/plain": [
       "<Figure size 720x720 with 2 Axes>"
      ]
     },
     "metadata": {
      "needs_background": "light"
     },
     "output_type": "display_data"
    }
   ],
   "source": [
    "mask = np.triu(np.ones(merged_tests_2017_to_2020.corr().shape))\n",
    "\n",
    "plt.figure(figsize=(10,10))\n",
    "sns.heatmap(merged_tests_2017_to_2020.corr(),annot=False,mask=mask)\n",
    "plt.title('Heatmap of correlations between the particpation rate and total average scores during 2017-2020');\n",
    "plt.savefig(\"../picture/heatmap_annot\")"
   ]
  },
  {
   "cell_type": "markdown",
   "metadata": {},
   "source": [
    "Observations:\n",
    "\n",
    "There seem to be  negative correlation(~0.8) between the SAT and ACT participation for each year. We can infer that students only choose to take one test or the other. \n",
    "\n",
    "Both ACT and SAT average scores are negatively correlated (~-0.8) to their respective participation rate. A lower participation rate will result in a higher averge score.\n"
   ]
  },
  {
   "cell_type": "code",
   "execution_count": 186,
   "metadata": {
    "scrolled": false
   },
   "outputs": [
    {
     "data": {
      "image/png": "[encoded data removed]",
      "text/plain": [
       "<Figure size 1440x576 with 4 Axes>"
      ]
     },
     "metadata": {
      "needs_background": "light"
     },
     "output_type": "display_data"
    }
   ],
   "source": [
    "plt.figure(figsize=(20,8))\n",
    "plt.subplots_adjust(hspace=0.6)\n",
    "ax1=plt.subplot(221)\n",
    "plt.suptitle('SAT Participation correlation against SAT Average scores',fontsize= 30)\n",
    "ax1.set_title('SAT 2017 Participation vs SAT 2017 Average scores')\n",
    "sns.regplot(data = merged_tests_2017_to_2020, x = 'sat_participation_17', y = 'sat_total_average_17',marker='*',color='mediumaquamarine')\n",
    "ax1.set_ylabel('SAT Score')\n",
    "ax1.set_xlabel('SAT Participation Rate')\n",
    "\n",
    "ax2 = plt.subplot(222,sharex=ax1,sharey=ax1)\n",
    "ax2.set_title('SAT 2018 Participation vs SAT 2018 Average scores')\n",
    "sns.regplot(data = merged_tests_2017_to_2020, x = 'sat_participation_18', y = 'sat_total_average_18',marker='^',color='lightseagreen')\n",
    "ax2.set_ylabel('SAT Score')\n",
    "ax2.set_xlabel('SAT Participation Rate')\n",
    "\n",
    "ax3 = plt.subplot(223,sharex=ax1,sharey=ax1)\n",
    "ax3.set_title('SAT 2019 Participation vs SAT 2019 Average scores')\n",
    "sns.regplot(data = merged_tests_2017_to_2020, x = 'sat_participation_19', y = 'sat_total_average_19',marker='.',color='teal')\n",
    "ax3.set_ylabel('SAT Score')\n",
    "ax3.set_xlabel('SAT Participation Rate');\n",
    "\n",
    "ax4 = plt.subplot(224,sharex=ax1,sharey=ax1)\n",
    "ax4.set_title('SAT 2020 Participation vs SAT 2020 Average scores')\n",
    "sns.regplot(data = merged_tests_2017_to_2020, x = 'sat_participation_20', y = 'sat_total_average_20',marker='+',color='darkgreen')\n",
    "ax4.set_ylabel('SAT Score')\n",
    "ax4.set_xlabel('SAT Participation Rate');\n",
    "plt.savefig(\"../picture/SAT_Scatter\")"
   ]
  },
  {
   "cell_type": "code",
   "execution_count": 187,
   "metadata": {
    "scrolled": false
   },
   "outputs": [
    {
     "data": {
      "image/png": "[encoded data removed]",
      "text/plain": [
       "<Figure size 1440x576 with 4 Axes>"
      ]
     },
     "metadata": {
      "needs_background": "light"
     },
     "output_type": "display_data"
    }
   ],
   "source": [
    "plt.figure(figsize=(20,8))\n",
    "plt.subplots_adjust(hspace=0.6)\n",
    "ax1=plt.subplot(221)\n",
    "plt.suptitle('SAT Participation correlation against ACT average scores',fontsize= 30)\n",
    "ax1.set_title('SAT 2017 Participation vs ACT 2017 Average scores')\n",
    "sns.regplot(data = merged_tests_2017_to_2020, x = 'sat_participation_18', y = 'act_total_average_17',marker='*',color='lightskyblue')\n",
    "ax1.set_ylabel('ACT Score')\n",
    "ax1.set_xlabel('SAT Participation Rate')\n",
    "\n",
    "ax2 = plt.subplot(222,sharex=ax1,sharey=ax1)\n",
    "ax2.set_title('SAT 2018 Participation vs ACT 2018 Average scores')\n",
    "sns.regplot(data = merged_tests_2017_to_2020, x =\"sat_participation_18\", y = \"act_total_average_18\" ,marker='^',color='deepskyblue')\n",
    "ax2.set_ylabel('ACT Score')\n",
    "ax2.set_xlabel('SAT Participation Rate')\n",
    "\n",
    "ax3 = plt.subplot(223,sharex=ax1,sharey=ax1)\n",
    "ax3.set_title('SAT 2019 Participation vs ACT 2019 Average Score')\n",
    "sns.regplot(data = merged_tests_2017_to_2019,x = 'sat_participation_19', y = 'act_total_average_19',marker='.',color='steelblue')\n",
    "ax3.set_ylabel('ACT Score')\n",
    "ax3.set_xlabel('SAT Participation Rate');\n",
    "\n",
    "ax4 = plt.subplot(224,sharex=ax1,sharey=ax1)\n",
    "ax4.set_title('SAT 2020 Participation vs ACT 2020 Average Score')\n",
    "sns.regplot(data = merged_tests_2017_to_2020,x = 'sat_participation_20', y = 'act_total_average_20',marker='+',color='navy')\n",
    "ax4.set_ylabel('ACT Score')\n",
    "ax4.set_xlabel('SAT Participation Rate');"
   ]
  },
  {
   "cell_type": "code",
   "execution_count": 188,
   "metadata": {},
   "outputs": [
    {
     "data": {
      "image/png": "[encoded data removed]",
      "text/plain": [
       "<Figure size 1440x576 with 4 Axes>"
      ]
     },
     "metadata": {
      "needs_background": "light"
     },
     "output_type": "display_data"
    }
   ],
   "source": [
    "plt.figure(figsize=(20,8))\n",
    "plt.subplots_adjust(hspace=0.6)\n",
    "ax1=plt.subplot(221)\n",
    "plt.suptitle('SAT Participation correlation against ACT Participation',fontsize= 30)\n",
    "ax1.set_title('SAT 2017 Participation vs ACT 2017 Participation')\n",
    "sns.regplot(data = merged_tests_2017_to_2019, x = 'sat_participation_17', y = 'act_participation_17',marker='*',color='lightcoral')\n",
    "ax1.set_ylabel('ACT Participation Rate')\n",
    "ax1.set_xlabel('SAT Participation Rate')\n",
    "\n",
    "ax2 = plt.subplot(222,sharex=ax1,sharey=ax1)\n",
    "ax2.set_title('SAT 2018 Participation vs ACT 2018 Participation')\n",
    "sns.regplot(data = merged_tests_2017_to_2019, x =\"sat_participation_18\", y = \"act_participation_18\" ,marker='^',color='lightsalmon')\n",
    "ax2.set_ylabel('ACT Participation Rate')\n",
    "ax2.set_xlabel('SAT Participation Rate')\n",
    "\n",
    "ax3 = plt.subplot(223,sharex=ax1,sharey=ax1)\n",
    "ax3.set_title('SAT 2019 Participation vs ACT 2019 Participation')\n",
    "sns.regplot(data = merged_tests_2017_to_2019,x = 'sat_participation_19', y = 'act_participation_19',marker='.',color='indianred')\n",
    "ax3.set_ylabel('ACT Participation Rate')\n",
    "ax3.set_xlabel('SAT Participation Rate');\n",
    "\n",
    "ax4 = plt.subplot(224,sharex=ax1,sharey=ax1)\n",
    "ax4.set_title('SAT 2020 Participation vs ACT 2020 Participation')\n",
    "sns.regplot(data = merged_tests_2017_to_2020,x = 'sat_participation_20', y = 'act_participation_20',marker='+',color='maroon')\n",
    "ax4.set_ylabel('ACT Participation Rate')\n",
    "ax4.set_xlabel('SAT Participation Rate');"
   ]
  },
  {
   "cell_type": "markdown",
   "metadata": {},
   "source": [
    "From these scatter plots, we can conclude the following about the relationship between SAT's Participation and the comparisons:\n",
    "\n",
    "1. SAT Average score: \n",
    "        . There is a negative correlation between the participation rate and SAT score.\n",
    "        . There is a small cluster at the upper left portion in all diagrams which indicates that the average scores are \n",
    "          generally lower for states that have high participation rate. \n",
    "          This is be due to the increased number of candidates which dilutes the average score.\n",
    "        . There are some outliers spotted in both of the diagrams but not far from the line.        \n",
    "\n",
    "2. ACT Average score:\n",
    "        . The diagram is showing a positive correlation between the participation rate and ACT score.\n",
    "        . There are some outliers observed in the diagrams\n",
    "        \n",
    "3. ACT Participation:\n",
    "        . The diagram is showing a negative correlation between the participation rate and ACT participation rate.\n",
    "        . There are some outliers observed in the diagrams\n",
    "        . This would mean that students only take either of the test."
   ]
  },
  {
   "cell_type": "markdown",
   "metadata": {},
   "source": [
    "## Conclusions and Recommendations"
   ]
  },
  {
   "cell_type": "markdown",
   "metadata": {},
   "source": [
    "Based on your exploration of the data, what are you key takeaways and recommendations? Make sure to answer your question of interest or address your problem statement here."
   ]
  },
  {
   "cell_type": "markdown",
   "metadata": {},
   "source": [
    "Starting with SAT’s average scores, most of states are scoring above the median score throughout the years. However, both maximum and minimum score for the SAT seems to be moving in a downward trend ending with 1257 and 936 respectively for year 2020. On the other hand, ACT seems to be moving in an upward trend for their maximum and minimum score over the years ending with 26.0 and 17.9.  This may create a wrong impression to students and parents that SAT are getting tougher over the years which may influence their choice on which test to select. \n",
    "\n",
    "SAT Participation rate has been increasing since 2017 with currently 19 states that have participation rate at 20% and below and 15 states with participation rate at 80% and above. Compared to 2017 which was 23 and 8 states respectively, this shows that there are more states taking the SAT over the years.\n",
    "\n",
    "There is a negative correlation of approximate -0.8 between population rate and total average score, what this means is that the lower the population rate, it’s more likely that states will return a high average score. A reason for this would be that states with high participation rate would have their average scores diluted and states that have low participation rate will have majority of the applicants that are ready and confident to take the test.\n",
    "\n",
    "In conclusion, SAT average scores does not have a direct impact to the participation rate and recommend that College board  more resources to be allocated to assist schools with the preparation which can improve the median scores for highly participated state to create an positive image of the test and also to garner confidence to take up the SAT in lower participated states.\n"
   ]
  },
  {
   "cell_type": "code",
   "execution_count": null,
   "metadata": {},
   "outputs": [],
   "source": []
  },
  {
   "cell_type": "code",
   "execution_count": null,
   "metadata": {},
   "outputs": [],
   "source": []
  }
 ],
 "metadata": {
  "anaconda-cloud": {},
  "kernelspec": {
   "display_name": "Python 3",
   "language": "python",
   "name": "python3"
  },
  "language_info": {
   "codemirror_mode": {
    "name": "ipython",
    "version": 3
   },
   "file_extension": ".py",
   "mimetype": "text/x-python",
   "name": "python",
   "nbconvert_exporter": "python",
   "pygments_lexer": "ipython3",
   "version": "3.8.5"
  }
 },
 "nbformat": 4,
 "nbformat_minor": 4
}
